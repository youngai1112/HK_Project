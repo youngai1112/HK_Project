{
 "cells": [
  {
   "cell_type": "markdown",
   "metadata": {},
   "source": [
    "- 참고 : https://excelsior-cjh.tistory.com/entry/06-Newspaper-%EB%AA%A8%EB%93%88%EC%9D%84-%EC%9D%B4%EC%9A%A9%ED%95%98%EC%97%AC-%EB%89%B4%EC%8A%A4-%EA%B8%B0%EC%82%AC-%ED%81%AC%EB%A1%A4%EB%A7%81%ED%95%98%EA%B8%B0"
   ]
  },
  {
   "cell_type": "code",
   "execution_count": 1,
   "metadata": {},
   "outputs": [
    {
     "name": "stdout",
     "output_type": "stream",
     "text": [
      "Collecting newspaper3k\n",
      "  Downloading newspaper3k-0.2.8-py3-none-any.whl (211 kB)\n",
      "Requirement already satisfied: beautifulsoup4>=4.4.1 in c:\\users\\easya\\anaconda3\\lib\\site-packages (from newspaper3k) (4.10.0)\n",
      "Requirement already satisfied: requests>=2.10.0 in c:\\users\\easya\\anaconda3\\lib\\site-packages (from newspaper3k) (2.26.0)\n",
      "Requirement already satisfied: Pillow>=3.3.0 in c:\\users\\easya\\anaconda3\\lib\\site-packages (from newspaper3k) (8.4.0)\n",
      "Requirement already satisfied: lxml>=3.6.0 in c:\\users\\easya\\anaconda3\\lib\\site-packages (from newspaper3k) (4.6.3)\n",
      "Requirement already satisfied: nltk>=3.2.1 in c:\\users\\easya\\anaconda3\\lib\\site-packages (from newspaper3k) (3.6.5)\n",
      "Collecting tinysegmenter==0.3\n",
      "  Downloading tinysegmenter-0.3.tar.gz (16 kB)\n",
      "Requirement already satisfied: python-dateutil>=2.5.3 in c:\\users\\easya\\anaconda3\\lib\\site-packages (from newspaper3k) (2.8.2)\n",
      "Collecting feedfinder2>=0.0.4\n",
      "  Downloading feedfinder2-0.0.4.tar.gz (3.3 kB)\n",
      "Collecting jieba3k>=0.35.1\n",
      "  Downloading jieba3k-0.35.1.zip (7.4 MB)\n",
      "Requirement already satisfied: PyYAML>=3.11 in c:\\users\\easya\\anaconda3\\lib\\site-packages (from newspaper3k) (6.0)\n",
      "Collecting tldextract>=2.0.1\n",
      "  Downloading tldextract-3.2.0-py3-none-any.whl (87 kB)\n",
      "Collecting cssselect>=0.9.2\n",
      "  Downloading cssselect-1.1.0-py2.py3-none-any.whl (16 kB)\n",
      "Collecting feedparser>=5.2.1\n",
      "  Downloading feedparser-6.0.8-py3-none-any.whl (81 kB)\n",
      "Requirement already satisfied: soupsieve>1.2 in c:\\users\\easya\\anaconda3\\lib\\site-packages (from beautifulsoup4>=4.4.1->newspaper3k) (2.2.1)\n",
      "Requirement already satisfied: six in c:\\users\\easya\\anaconda3\\lib\\site-packages (from feedfinder2>=0.0.4->newspaper3k) (1.16.0)\n",
      "Collecting sgmllib3k\n",
      "  Downloading sgmllib3k-1.0.0.tar.gz (5.8 kB)\n",
      "Requirement already satisfied: click in c:\\users\\easya\\anaconda3\\lib\\site-packages (from nltk>=3.2.1->newspaper3k) (8.0.3)\n",
      "Requirement already satisfied: joblib in c:\\users\\easya\\anaconda3\\lib\\site-packages (from nltk>=3.2.1->newspaper3k) (1.1.0)\n",
      "Requirement already satisfied: regex>=2021.8.3 in c:\\users\\easya\\anaconda3\\lib\\site-packages (from nltk>=3.2.1->newspaper3k) (2021.8.3)\n",
      "Requirement already satisfied: tqdm in c:\\users\\easya\\anaconda3\\lib\\site-packages (from nltk>=3.2.1->newspaper3k) (4.62.3)\n",
      "Requirement already satisfied: certifi>=2017.4.17 in c:\\users\\easya\\anaconda3\\lib\\site-packages (from requests>=2.10.0->newspaper3k) (2021.10.8)\n",
      "Requirement already satisfied: charset-normalizer~=2.0.0 in c:\\users\\easya\\anaconda3\\lib\\site-packages (from requests>=2.10.0->newspaper3k) (2.0.4)\n",
      "Requirement already satisfied: idna<4,>=2.5 in c:\\users\\easya\\anaconda3\\lib\\site-packages (from requests>=2.10.0->newspaper3k) (3.2)\n",
      "Requirement already satisfied: urllib3<1.27,>=1.21.1 in c:\\users\\easya\\anaconda3\\lib\\site-packages (from requests>=2.10.0->newspaper3k) (1.26.7)\n",
      "Requirement already satisfied: filelock>=3.0.8 in c:\\users\\easya\\anaconda3\\lib\\site-packages (from tldextract>=2.0.1->newspaper3k) (3.3.1)\n",
      "Collecting requests-file>=1.4\n",
      "  Downloading requests_file-1.5.1-py2.py3-none-any.whl (3.7 kB)\n",
      "Requirement already satisfied: colorama in c:\\users\\easya\\anaconda3\\lib\\site-packages (from click->nltk>=3.2.1->newspaper3k) (0.4.4)\n",
      "Building wheels for collected packages: tinysegmenter, feedfinder2, jieba3k, sgmllib3k\n",
      "  Building wheel for tinysegmenter (setup.py): started\n",
      "  Building wheel for tinysegmenter (setup.py): finished with status 'done'\n",
      "  Created wheel for tinysegmenter: filename=tinysegmenter-0.3-py3-none-any.whl size=13552 sha256=441589fa5f658c8f599d729ddc8c685f91f116c375f785db634bfc5d95a8e861\n",
      "  Stored in directory: c:\\users\\easya\\appdata\\local\\pip\\cache\\wheels\\94\\ad\\df\\a2a01300cea47d5695f242f7e925a805970106fd9e4b151468\n",
      "  Building wheel for feedfinder2 (setup.py): started\n",
      "  Building wheel for feedfinder2 (setup.py): finished with status 'done'\n",
      "  Created wheel for feedfinder2: filename=feedfinder2-0.0.4-py3-none-any.whl size=3356 sha256=37acf51f2d2b6656e1f322cfb54f1ac924f9356252036426e60207204bf35f84\n",
      "  Stored in directory: c:\\users\\easya\\appdata\\local\\pip\\cache\\wheels\\43\\4a\\c2\\61a371b2524ac90805391c660d8dc4505705297f25e2b85a5d\n",
      "  Building wheel for jieba3k (setup.py): started\n",
      "  Building wheel for jieba3k (setup.py): finished with status 'done'\n",
      "  Created wheel for jieba3k: filename=jieba3k-0.35.1-py3-none-any.whl size=7398405 sha256=7c9f6e30844885e3d82526058c34a937f118f72fb7f0711978ee22d8db2d288f\n",
      "  Stored in directory: c:\\users\\easya\\appdata\\local\\pip\\cache\\wheels\\c2\\22\\59\\8214a8d6357e9f540ce1f37f9a4362b6156b4ca81b37f1945f\n",
      "  Building wheel for sgmllib3k (setup.py): started\n",
      "  Building wheel for sgmllib3k (setup.py): finished with status 'done'\n",
      "  Created wheel for sgmllib3k: filename=sgmllib3k-1.0.0-py3-none-any.whl size=6065 sha256=0c78ab9bc1324abc42e94f68d3688c15ee03cdee7d603e4cf2ffb30e06a81e46\n",
      "  Stored in directory: c:\\users\\easya\\appdata\\local\\pip\\cache\\wheels\\65\\7a\\a7\\78c287f64e401255dff4c13fdbc672fed5efbfd21c530114e1\n",
      "Successfully built tinysegmenter feedfinder2 jieba3k sgmllib3k\n",
      "Installing collected packages: sgmllib3k, requests-file, tldextract, tinysegmenter, jieba3k, feedparser, feedfinder2, cssselect, newspaper3k\n",
      "Successfully installed cssselect-1.1.0 feedfinder2-0.0.4 feedparser-6.0.8 jieba3k-0.35.1 newspaper3k-0.2.8 requests-file-1.5.1 sgmllib3k-1.0.0 tinysegmenter-0.3 tldextract-3.2.0\n",
      "Note: you may need to restart the kernel to use updated packages.\n"
     ]
    }
   ],
   "source": [
    "pip install newspaper3k"
   ]
  },
  {
   "cell_type": "code",
   "execution_count": 2,
   "metadata": {},
   "outputs": [
    {
     "name": "stdout",
     "output_type": "stream",
     "text": [
      "정재일 \"'기생충' '오징어 게임' 인기, 음악 작업에 큰 자극\"\n"
     ]
    }
   ],
   "source": [
    "from newspaper import Article\n",
    "\n",
    "# 크롤링할 url 주소 입력\n",
    "url = \"https://news.v.daum.net/v/20220313201104831\"\n",
    "\n",
    "# 언어 설정 : language=\"ko\"\n",
    "a = Article(url, language='ko')\n",
    "a.download()\n",
    "a.parse()\n",
    "\n",
    "# 기사 제목 가져오기\n",
    "print(a.title)"
   ]
  },
  {
   "cell_type": "code",
   "execution_count": 3,
   "metadata": {},
   "outputs": [
    {
     "name": "stdout",
     "output_type": "stream",
     "text": [
      "[이데일리 장병호 기자] “영화 ‘기생충’, 드라마 ‘오징어 게임’이 전 세계적인 현상이 된 걸 보며 저조차도 ‘도대체 무슨 일이 일어난 거지’ 싶었어요. 음악 작업에 있어서는 많은 자극이 됐죠.”\n",
      "\n",
      "작곡가 정재일(40)이 최근 자신이 참여한 작품들의 국제적 인기에 대해 밝힌 소회다. 세계적인 K콘텐츠 열풍의 중심에 선 영화 ‘기생충’과 넷플릭스 시리즈 ‘오징어 게임’의 음악을 작곡한 이가 바로 정재일이다.\n",
      "\n",
      "지난 11일 진행한 화상 인터뷰에서 정재일은 “두 작품 모두 음악 학습의 일환으로 좋은 영향이 됐다”고 털어놨다. 그는 “‘기생충’의 경우 봉준호 감독님이 생각하는 과녁 정중앙을 맞히기 위해 수많은 시행착오를 겪었고, ‘오징어 게임’은 처음으로 9시간 분량의 영상에 음악을 입히는 긴 호흡의 작업을 하는 새로운 경험이었다”고 작업 당시를 떠올렸다.\n",
      "\n",
      "국립창극단 신작 ‘리어’에서 작곡을 맡은 정재일(사진=LMTH)\n",
      "\n",
      "K콘텐츠로 세계의 주목을 받은 정재일의 다음 작업은 바로 창극이다. 오는 17일부터 27일까지 서울 중구 국립극장 달오름극장에서 공연하는 국립창극단 신작 ‘리어’에 작곡으로 참여한다. 정재일의 창극 작업은 2017년 국립창극단 ‘트로이의 여인들’에 이어 이번이 두 번째. 앨범 ‘바리 애번던드(abandoned)’ ‘끝내 바다에’ 등을 같이 작업한 소리꾼 한승석이 작창·음악감독으로 함께 했다.\n",
      "\n",
      "정재일은 “전통음악의 어법은 아름다운데다 제 음악에 유니크함을 더해준다”며 전통음악 작업을 좋아하는 이유를 밝혔다. 특히 판소리에 대해서는 “소리꾼과 연주자 모두가 함께 음악을 창작한다는 점에서 매력적”이라며 애정을 나타냈다. 이번 ‘리어’ 음악의 특징은 전자음향의 활용이다. 그는 “배삼식 극작가, 정영두 연출이 작품 속에 물의 이미지를 많이 차용해 이를 전자음향으로 표현했다”고 설명했다.\n",
      "\n",
      "정재일은 1999년 만 17세 나이에 가수 이적, 기타리스트 한상원 등이 결성한 밴드 긱스의 베이시스트로 데뷔하며 ‘천재 음악가’로 불렸다. 국악 퓨전 그룹 푸리 멤버로도 활동하며 전통음악과 서양음악의 경계를 넘나드는 작업을 이어왔다. 현재는 영화·연극·뮤지컬·무용·전시 등 다양한 장르를 넘나들면서 작곡가·연주자, 음악감독 겸 프로듀서로 왕성하게 활동 중이다.\n",
      "\n",
      "정재일은 자신의 작업 원동력으로 ‘초보자의 마음’을 꼽았다. “음악은 영화·무용·연극·현대미술·게임 등에서 필요로 하는 모든 예술의 친구죠. 음악의 이런 장점이 저에게 주어진 특권이라고 생각해요. 작곡가로서 가장 중요한 것은 함께 작업하는 사람들의 이야기를 듣는 것이에요. 늘 초보자의 마음으로 긴장을 늦추지 않는 게 음악 작업의 원동력입니다.”\n",
      "\n",
      "올 하반기에는 영화·드라마·공연 음악이 아닌 자신만의 오리지널 음악을 새롭게 선보일 계획도 갖고 있다. 정재일은 “작곡가로서 영화·드라마가 아닌 내가 만든 음악이 주인공이 되는 작업을 하고 싶다는 생각도 있어서 지난해부터 이것저것 준비를 하고 있다”며 “올해 가을쯤엔 준비해온 것들이 앨범과 같은 형태로 열매를 맺을 수 있을 것 같다”고 전했다.\n",
      "\n",
      "“음악은 저에게 생계수단이자 노동이에요. 그 속에서 저만의 의미와 철학을 찾으려고 발버둥치고 있습니다. 사실 음악으로 시도할 수 있는 것은 이제 다 해본 것 같아요. 지금 저에게 남겨진 숙제는 그동안의 음악작업으로 얻은 것을 더 단단하게 만들고, 감수성이 닫히지 않도록 저 스스로를 유지하는 것이라고 생각합니다.”\n",
      "\n",
      "장병호 (solanin@edaily.co.kr)\n"
     ]
    }
   ],
   "source": [
    "# 기사 내용 가져오기\n",
    "print(a.text)"
   ]
  },
  {
   "cell_type": "code",
   "execution_count": null,
   "metadata": {},
   "outputs": [],
   "source": []
  }
 ],
 "metadata": {
  "interpreter": {
   "hash": "b4de07979727471d795a93e041e8180caefe45faf2e58134adac0ec04a58112e"
  },
  "kernelspec": {
   "display_name": "Python 3.9.7 ('base')",
   "language": "python",
   "name": "python3"
  },
  "language_info": {
   "codemirror_mode": {
    "name": "ipython",
    "version": 3
   },
   "file_extension": ".py",
   "mimetype": "text/x-python",
   "name": "python",
   "nbconvert_exporter": "python",
   "pygments_lexer": "ipython3",
   "version": "3.9.7"
  },
  "orig_nbformat": 4
 },
 "nbformat": 4,
 "nbformat_minor": 2
}
