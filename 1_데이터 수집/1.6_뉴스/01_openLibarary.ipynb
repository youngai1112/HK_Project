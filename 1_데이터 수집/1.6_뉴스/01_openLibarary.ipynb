{
 "cells": [
  {
   "cell_type": "code",
   "execution_count": 1,
   "metadata": {},
   "outputs": [
    {
     "name": "stdout",
     "output_type": "stream",
     "text": [
      "Collecting KoreaNewsCrawler\n",
      "  Downloading KoreaNewsCrawler-1.50-py3-none-any.whl (11 kB)\n",
      "Requirement already satisfied: beautifulsoup4 in c:\\users\\easya\\anaconda3\\lib\\site-packages (from KoreaNewsCrawler) (4.10.0)\n",
      "Requirement already satisfied: requests in c:\\users\\easya\\anaconda3\\lib\\site-packages (from KoreaNewsCrawler) (2.26.0)\n",
      "Requirement already satisfied: soupsieve>1.2 in c:\\users\\easya\\anaconda3\\lib\\site-packages (from beautifulsoup4->KoreaNewsCrawler) (2.2.1)\n",
      "Requirement already satisfied: certifi>=2017.4.17 in c:\\users\\easya\\anaconda3\\lib\\site-packages (from requests->KoreaNewsCrawler) (2021.10.8)\n",
      "Requirement already satisfied: charset-normalizer~=2.0.0 in c:\\users\\easya\\anaconda3\\lib\\site-packages (from requests->KoreaNewsCrawler) (2.0.4)\n",
      "Requirement already satisfied: idna<4,>=2.5 in c:\\users\\easya\\anaconda3\\lib\\site-packages (from requests->KoreaNewsCrawler) (3.2)\n",
      "Requirement already satisfied: urllib3<1.27,>=1.21.1 in c:\\users\\easya\\anaconda3\\lib\\site-packages (from requests->KoreaNewsCrawler) (1.26.7)\n",
      "Installing collected packages: KoreaNewsCrawler\n",
      "Successfully installed KoreaNewsCrawler-1.50\n",
      "Note: you may need to restart the kernel to use updated packages.\n"
     ]
    }
   ],
   "source": [
    "pip install KoreaNewsCrawler"
   ]
  },
  {
   "cell_type": "code",
   "execution_count": 3,
   "metadata": {},
   "outputs": [
    {
     "name": "stdout",
     "output_type": "stream",
     "text": [
      "{'start_year': 2021, 'start_month': 3, 'end_year': 2022, 'end_month': 3}\n"
     ]
    }
   ],
   "source": [
    "from korea_news_crawler.articlecrawler import ArticleCrawler\n",
    "\n",
    "Crawler = ArticleCrawler()  \n",
    "Crawler.set_category(\"economy\")  \n",
    "Crawler.set_date_range(2021, 3, 2022, 3)  \n",
    "Crawler.start()"
   ]
  },
  {
   "cell_type": "markdown",
   "metadata": {},
   "source": [
    "---"
   ]
  }
 ],
 "metadata": {
  "interpreter": {
   "hash": "b4de07979727471d795a93e041e8180caefe45faf2e58134adac0ec04a58112e"
  },
  "kernelspec": {
   "display_name": "Python 3.9.7 ('base')",
   "language": "python",
   "name": "python3"
  },
  "language_info": {
   "codemirror_mode": {
    "name": "ipython",
    "version": 3
   },
   "file_extension": ".py",
   "mimetype": "text/x-python",
   "name": "python",
   "nbconvert_exporter": "python",
   "pygments_lexer": "ipython3",
   "version": "3.9.7"
  },
  "orig_nbformat": 4
 },
 "nbformat": 4,
 "nbformat_minor": 2
}
