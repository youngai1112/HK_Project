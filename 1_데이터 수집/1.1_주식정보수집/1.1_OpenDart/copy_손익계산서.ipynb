{
 "cells": [
  {
   "cell_type": "code",
   "execution_count": 1,
   "metadata": {},
   "outputs": [],
   "source": [
    "import pandas as pd\n",
    "import numpy as np\n",
    "import warnings\n",
    "warnings.filterwarnings('ignore')"
   ]
  },
  {
   "cell_type": "code",
   "execution_count": 27,
   "metadata": {},
   "outputs": [
    {
     "data": {
      "text/html": [
       "<div>\n",
       "<style scoped>\n",
       "    .dataframe tbody tr th:only-of-type {\n",
       "        vertical-align: middle;\n",
       "    }\n",
       "\n",
       "    .dataframe tbody tr th {\n",
       "        vertical-align: top;\n",
       "    }\n",
       "\n",
       "    .dataframe thead th {\n",
       "        text-align: right;\n",
       "    }\n",
       "</style>\n",
       "<table border=\"1\" class=\"dataframe\">\n",
       "  <thead>\n",
       "    <tr style=\"text-align: right;\">\n",
       "      <th></th>\n",
       "      <th>종목코드</th>\n",
       "      <th>회사명</th>\n",
       "      <th>업종</th>\n",
       "      <th>업종명</th>\n",
       "      <th>항목명</th>\n",
       "      <th>당기 1분기 3개월</th>\n",
       "    </tr>\n",
       "  </thead>\n",
       "  <tbody>\n",
       "    <tr>\n",
       "      <th>0</th>\n",
       "      <td>[001040]</td>\n",
       "      <td>CJ</td>\n",
       "      <td>649</td>\n",
       "      <td>기타 금융업</td>\n",
       "      <td>수익(매출액)</td>\n",
       "      <td>7,840,010,949,000</td>\n",
       "    </tr>\n",
       "    <tr>\n",
       "      <th>1</th>\n",
       "      <td>[001040]</td>\n",
       "      <td>CJ</td>\n",
       "      <td>649</td>\n",
       "      <td>기타 금융업</td>\n",
       "      <td>매출원가</td>\n",
       "      <td>5,769,419,176,000</td>\n",
       "    </tr>\n",
       "    <tr>\n",
       "      <th>2</th>\n",
       "      <td>[001040]</td>\n",
       "      <td>CJ</td>\n",
       "      <td>649</td>\n",
       "      <td>기타 금융업</td>\n",
       "      <td>매출총이익</td>\n",
       "      <td>2,070,591,773,000</td>\n",
       "    </tr>\n",
       "    <tr>\n",
       "      <th>3</th>\n",
       "      <td>[001040]</td>\n",
       "      <td>CJ</td>\n",
       "      <td>649</td>\n",
       "      <td>기타 금융업</td>\n",
       "      <td>판매비와관리비</td>\n",
       "      <td>1,806,327,493,000</td>\n",
       "    </tr>\n",
       "    <tr>\n",
       "      <th>4</th>\n",
       "      <td>[001040]</td>\n",
       "      <td>CJ</td>\n",
       "      <td>649</td>\n",
       "      <td>기타 금융업</td>\n",
       "      <td>영업이익</td>\n",
       "      <td>264,264,280,000</td>\n",
       "    </tr>\n",
       "  </tbody>\n",
       "</table>\n",
       "</div>"
      ],
      "text/plain": [
       "       종목코드 회사명   업종     업종명      항목명         당기 1분기 3개월\n",
       "0  [001040]  CJ  649  기타 금융업  수익(매출액)  7,840,010,949,000\n",
       "1  [001040]  CJ  649  기타 금융업     매출원가  5,769,419,176,000\n",
       "2  [001040]  CJ  649  기타 금융업    매출총이익  2,070,591,773,000\n",
       "3  [001040]  CJ  649  기타 금융업  판매비와관리비  1,806,327,493,000\n",
       "4  [001040]  CJ  649  기타 금융업     영업이익    264,264,280,000"
      ]
     },
     "execution_count": 27,
     "metadata": {},
     "output_type": "execute_result"
    }
   ],
   "source": [
    "df = pd.read_csv(\"2020_1분기보고서_02_손익계산서_연결_20211104.txt\",sep = '\\t', encoding=\"EUC-KR\")\n",
    "df = df[[\"종목코드\", \"회사명\", \"업종\", \"업종명\", \"항목명\", \"당기 1분기 3개월\"]]\n",
    "df.head()"
   ]
  },
  {
   "cell_type": "code",
   "execution_count": 28,
   "metadata": {},
   "outputs": [
    {
     "data": {
      "text/plain": [
       "(3669, 6)"
      ]
     },
     "execution_count": 28,
     "metadata": {},
     "output_type": "execute_result"
    }
   ],
   "source": [
    "df.shape"
   ]
  },
  {
   "cell_type": "code",
   "execution_count": 29,
   "metadata": {},
   "outputs": [],
   "source": [
    "df.dropna(inplace=True)"
   ]
  },
  {
   "cell_type": "code",
   "execution_count": 30,
   "metadata": {},
   "outputs": [],
   "source": [
    "df[\"종목코드\"] = df[\"종목코드\"].apply(lambda x : x.replace(\"[\",\"\"))\n",
    "df[\"종목코드\"] = df[\"종목코드\"].apply(lambda x : x.replace(\"]\",\"\"))\n",
    "df['항목명'] = df['항목명'].str.replace('[^가-힣 ]', '')\n",
    "df['항목명'] = df['항목명'].apply(lambda x : x.strip())"
   ]
  },
  {
   "cell_type": "code",
   "execution_count": 31,
   "metadata": {},
   "outputs": [],
   "source": [
    "df[\"항목명\"] = df[\"항목명\"].apply(lambda x : x.replace(\"수익매출액\",\"매출\"))\n",
    "df[\"항목명\"] = df[\"항목명\"].str.replace(\"매출액\", \"매출\")\n",
    "df[\"항목명\"] = df[\"항목명\"].str.replace(\"영업수익\", \"매출\")\n",
    "df[\"항목명\"] = df[\"항목명\"].str.replace(\"매출 및 지분법 손익\", \"매출\")\n",
    "df[\"항목명\"] = df[\"항목명\"].str.replace(\"매출 및 지분법손익\", \"매출\")\n",
    "df[\"항목명\"] = df[\"항목명\"].str.replace(\"수익순매출\", \"매출\")\n",
    "df[\"항목명\"] = df[\"항목명\"].str.replace(\"영업매출\", \"매출\")"
   ]
  },
  {
   "cell_type": "code",
   "execution_count": 32,
   "metadata": {},
   "outputs": [],
   "source": [
    "df[\"항목명\"] = df[\"항목명\"].str.replace(\"영업이익손실\", \"영업이익\")\n",
    "df[\"항목명\"] = df[\"항목명\"].str.replace(\"영업이익 손실\", \"영업이익\")\n",
    "df[\"항목명\"] = df[\"항목명\"].str.replace(\"영업손실\", \"영업이익\")"
   ]
  },
  {
   "cell_type": "code",
   "execution_count": 33,
   "metadata": {},
   "outputs": [],
   "source": [
    "df[\"항목명\"] = df[\"항목명\"].str.replace(\"분기순이익\", \"당기순이익\")\n",
    "df[\"항목명\"] = df[\"항목명\"].str.replace(\"분기순이익손실\", \"당기순이익\")\n",
    "df[\"항목명\"] = df[\"항목명\"].str.replace(\"분기기순이익손실\", \"당기순이익\")\n",
    "df[\"항목명\"] = df[\"항목명\"].str.replace(\"분기순손익\", \"당기순이익\")\n",
    "df[\"항목명\"] = df[\"항목명\"].str.replace(\"분기순손실\", \"당기순이익\")\n",
    "df[\"항목명\"] = df[\"항목명\"].str.replace(\"연결당기순이익\", \"당기순이익\")\n",
    "df[\"항목명\"] = df[\"항목명\"].str.replace(\"당기순손실\", \"당기순이익\")\n",
    "df[\"항목명\"] = df[\"항목명\"].str.replace(\"당기순이익손실\", \"당기순이익\")\n"
   ]
  },
  {
   "cell_type": "code",
   "execution_count": 34,
   "metadata": {},
   "outputs": [
    {
     "data": {
      "text/html": [
       "<div>\n",
       "<style scoped>\n",
       "    .dataframe tbody tr th:only-of-type {\n",
       "        vertical-align: middle;\n",
       "    }\n",
       "\n",
       "    .dataframe tbody tr th {\n",
       "        vertical-align: top;\n",
       "    }\n",
       "\n",
       "    .dataframe thead th {\n",
       "        text-align: right;\n",
       "    }\n",
       "</style>\n",
       "<table border=\"1\" class=\"dataframe\">\n",
       "  <thead>\n",
       "    <tr style=\"text-align: right;\">\n",
       "      <th></th>\n",
       "      <th>종목코드</th>\n",
       "      <th>회사명</th>\n",
       "      <th>업종</th>\n",
       "      <th>업종명</th>\n",
       "      <th>항목명</th>\n",
       "      <th>당기 1분기 3개월</th>\n",
       "    </tr>\n",
       "  </thead>\n",
       "  <tbody>\n",
       "    <tr>\n",
       "      <th>0</th>\n",
       "      <td>001040</td>\n",
       "      <td>CJ</td>\n",
       "      <td>649</td>\n",
       "      <td>기타 금융업</td>\n",
       "      <td>매출</td>\n",
       "      <td>7,840,010,949,000</td>\n",
       "    </tr>\n",
       "    <tr>\n",
       "      <th>1</th>\n",
       "      <td>001040</td>\n",
       "      <td>CJ</td>\n",
       "      <td>649</td>\n",
       "      <td>기타 금융업</td>\n",
       "      <td>매출원가</td>\n",
       "      <td>5,769,419,176,000</td>\n",
       "    </tr>\n",
       "    <tr>\n",
       "      <th>2</th>\n",
       "      <td>001040</td>\n",
       "      <td>CJ</td>\n",
       "      <td>649</td>\n",
       "      <td>기타 금융업</td>\n",
       "      <td>매출총이익</td>\n",
       "      <td>2,070,591,773,000</td>\n",
       "    </tr>\n",
       "    <tr>\n",
       "      <th>3</th>\n",
       "      <td>001040</td>\n",
       "      <td>CJ</td>\n",
       "      <td>649</td>\n",
       "      <td>기타 금융업</td>\n",
       "      <td>판매비와관리비</td>\n",
       "      <td>1,806,327,493,000</td>\n",
       "    </tr>\n",
       "    <tr>\n",
       "      <th>4</th>\n",
       "      <td>001040</td>\n",
       "      <td>CJ</td>\n",
       "      <td>649</td>\n",
       "      <td>기타 금융업</td>\n",
       "      <td>영업이익</td>\n",
       "      <td>264,264,280,000</td>\n",
       "    </tr>\n",
       "  </tbody>\n",
       "</table>\n",
       "</div>"
      ],
      "text/plain": [
       "     종목코드 회사명   업종     업종명      항목명         당기 1분기 3개월\n",
       "0  001040  CJ  649  기타 금융업       매출  7,840,010,949,000\n",
       "1  001040  CJ  649  기타 금융업     매출원가  5,769,419,176,000\n",
       "2  001040  CJ  649  기타 금융업    매출총이익  2,070,591,773,000\n",
       "3  001040  CJ  649  기타 금융업  판매비와관리비  1,806,327,493,000\n",
       "4  001040  CJ  649  기타 금융업     영업이익    264,264,280,000"
      ]
     },
     "execution_count": 34,
     "metadata": {},
     "output_type": "execute_result"
    }
   ],
   "source": [
    "df.head()"
   ]
  },
  {
   "cell_type": "code",
   "execution_count": 35,
   "metadata": {},
   "outputs": [
    {
     "data": {
      "text/plain": [
       "(3248, 6)"
      ]
     },
     "execution_count": 35,
     "metadata": {},
     "output_type": "execute_result"
    }
   ],
   "source": [
    "df.shape"
   ]
  },
  {
   "cell_type": "code",
   "execution_count": 36,
   "metadata": {},
   "outputs": [
    {
     "data": {
      "text/plain": [
       "163"
      ]
     },
     "execution_count": 36,
     "metadata": {},
     "output_type": "execute_result"
    }
   ],
   "source": [
    "df['종목코드'].nunique()"
   ]
  },
  {
   "cell_type": "code",
   "execution_count": 37,
   "metadata": {},
   "outputs": [],
   "source": [
    "a = [\"매출\",\"영업이익\",\"당기순이익\"]\n",
    "df = df[df[\"항목명\"].isin(a)]"
   ]
  },
  {
   "cell_type": "code",
   "execution_count": 38,
   "metadata": {},
   "outputs": [
    {
     "data": {
      "text/plain": [
       "(490, 6)"
      ]
     },
     "execution_count": 38,
     "metadata": {},
     "output_type": "execute_result"
    }
   ],
   "source": [
    "df.shape"
   ]
  },
  {
   "cell_type": "code",
   "execution_count": 39,
   "metadata": {},
   "outputs": [
    {
     "data": {
      "text/html": [
       "<div>\n",
       "<style scoped>\n",
       "    .dataframe tbody tr th:only-of-type {\n",
       "        vertical-align: middle;\n",
       "    }\n",
       "\n",
       "    .dataframe tbody tr th {\n",
       "        vertical-align: top;\n",
       "    }\n",
       "\n",
       "    .dataframe thead th {\n",
       "        text-align: right;\n",
       "    }\n",
       "</style>\n",
       "<table border=\"1\" class=\"dataframe\">\n",
       "  <thead>\n",
       "    <tr style=\"text-align: right;\">\n",
       "      <th></th>\n",
       "      <th>종목코드</th>\n",
       "      <th>회사명</th>\n",
       "      <th>업종</th>\n",
       "      <th>업종명</th>\n",
       "      <th>항목명</th>\n",
       "      <th>당기 1분기 3개월</th>\n",
       "    </tr>\n",
       "  </thead>\n",
       "  <tbody>\n",
       "    <tr>\n",
       "      <th>0</th>\n",
       "      <td>001040</td>\n",
       "      <td>CJ</td>\n",
       "      <td>649</td>\n",
       "      <td>기타 금융업</td>\n",
       "      <td>매출</td>\n",
       "      <td>7,840,010,949,000</td>\n",
       "    </tr>\n",
       "    <tr>\n",
       "      <th>4</th>\n",
       "      <td>001040</td>\n",
       "      <td>CJ</td>\n",
       "      <td>649</td>\n",
       "      <td>기타 금융업</td>\n",
       "      <td>영업이익</td>\n",
       "      <td>264,264,280,000</td>\n",
       "    </tr>\n",
       "    <tr>\n",
       "      <th>12</th>\n",
       "      <td>001040</td>\n",
       "      <td>CJ</td>\n",
       "      <td>649</td>\n",
       "      <td>기타 금융업</td>\n",
       "      <td>당기순이익</td>\n",
       "      <td>363,294,726,000</td>\n",
       "    </tr>\n",
       "    <tr>\n",
       "      <th>19</th>\n",
       "      <td>000120</td>\n",
       "      <td>CJ대한통운</td>\n",
       "      <td>493</td>\n",
       "      <td>도로 화물 운송업</td>\n",
       "      <td>매출</td>\n",
       "      <td>2,515,360,835,746</td>\n",
       "    </tr>\n",
       "    <tr>\n",
       "      <th>23</th>\n",
       "      <td>000120</td>\n",
       "      <td>CJ대한통운</td>\n",
       "      <td>493</td>\n",
       "      <td>도로 화물 운송업</td>\n",
       "      <td>영업이익</td>\n",
       "      <td>58,188,336,853</td>\n",
       "    </tr>\n",
       "    <tr>\n",
       "      <th>31</th>\n",
       "      <td>000120</td>\n",
       "      <td>CJ대한통운</td>\n",
       "      <td>493</td>\n",
       "      <td>도로 화물 운송업</td>\n",
       "      <td>당기순이익</td>\n",
       "      <td>11,358,457,129</td>\n",
       "    </tr>\n",
       "    <tr>\n",
       "      <th>37</th>\n",
       "      <td>000990</td>\n",
       "      <td>DB하이텍</td>\n",
       "      <td>261</td>\n",
       "      <td>반도체 제조업</td>\n",
       "      <td>매출</td>\n",
       "      <td>225,803,046,210</td>\n",
       "    </tr>\n",
       "    <tr>\n",
       "      <th>41</th>\n",
       "      <td>000990</td>\n",
       "      <td>DB하이텍</td>\n",
       "      <td>261</td>\n",
       "      <td>반도체 제조업</td>\n",
       "      <td>영업이익</td>\n",
       "      <td>64,743,306,581</td>\n",
       "    </tr>\n",
       "    <tr>\n",
       "      <th>52</th>\n",
       "      <td>000990</td>\n",
       "      <td>DB하이텍</td>\n",
       "      <td>261</td>\n",
       "      <td>반도체 제조업</td>\n",
       "      <td>당기순이익</td>\n",
       "      <td>55,064,822,116</td>\n",
       "    </tr>\n",
       "    <tr>\n",
       "      <th>59</th>\n",
       "      <td>155660</td>\n",
       "      <td>DSR</td>\n",
       "      <td>242</td>\n",
       "      <td>1차 비철금속 제조업</td>\n",
       "      <td>매출</td>\n",
       "      <td>58,371,431,230</td>\n",
       "    </tr>\n",
       "  </tbody>\n",
       "</table>\n",
       "</div>"
      ],
      "text/plain": [
       "      종목코드     회사명   업종          업종명    항목명         당기 1분기 3개월\n",
       "0   001040      CJ  649       기타 금융업     매출  7,840,010,949,000\n",
       "4   001040      CJ  649       기타 금융업   영업이익    264,264,280,000\n",
       "12  001040      CJ  649       기타 금융업  당기순이익    363,294,726,000\n",
       "19  000120  CJ대한통운  493    도로 화물 운송업     매출  2,515,360,835,746\n",
       "23  000120  CJ대한통운  493    도로 화물 운송업   영업이익     58,188,336,853\n",
       "31  000120  CJ대한통운  493    도로 화물 운송업  당기순이익     11,358,457,129\n",
       "37  000990   DB하이텍  261      반도체 제조업     매출    225,803,046,210\n",
       "41  000990   DB하이텍  261      반도체 제조업   영업이익     64,743,306,581\n",
       "52  000990   DB하이텍  261      반도체 제조업  당기순이익     55,064,822,116\n",
       "59  155660     DSR  242  1차 비철금속 제조업     매출     58,371,431,230"
      ]
     },
     "execution_count": 39,
     "metadata": {},
     "output_type": "execute_result"
    }
   ],
   "source": [
    "df.head(10)"
   ]
  },
  {
   "cell_type": "code",
   "execution_count": 40,
   "metadata": {},
   "outputs": [],
   "source": [
    "df.to_excel(\"손익계산서01.xlsx\")"
   ]
  },
  {
   "cell_type": "code",
   "execution_count": 41,
   "metadata": {},
   "outputs": [
    {
     "data": {
      "text/plain": [
       "SK텔레콤       4\n",
       "플랜티넷        4\n",
       "한진중공업홀딩스    4\n",
       "영원무역        3\n",
       "에스제이엠       3\n",
       "           ..\n",
       "램테크놀러지      3\n",
       "매일유업        3\n",
       "휘닉스소재       3\n",
       "예림당         2\n",
       "현대백화점       2\n",
       "Name: 회사명, Length: 163, dtype: int64"
      ]
     },
     "execution_count": 41,
     "metadata": {},
     "output_type": "execute_result"
    }
   ],
   "source": [
    "df['회사명'].value_counts()"
   ]
  },
  {
   "cell_type": "code",
   "execution_count": 42,
   "metadata": {},
   "outputs": [
    {
     "data": {
      "text/plain": [
       "종목코드          0\n",
       "회사명           0\n",
       "업종            0\n",
       "업종명           0\n",
       "항목명           0\n",
       "당기 1분기 3개월    0\n",
       "dtype: int64"
      ]
     },
     "execution_count": 42,
     "metadata": {},
     "output_type": "execute_result"
    }
   ],
   "source": [
    "df.isna().sum()"
   ]
  },
  {
   "cell_type": "code",
   "execution_count": null,
   "metadata": {},
   "outputs": [],
   "source": []
  }
 ],
 "metadata": {
  "interpreter": {
   "hash": "802340c24a2910d74bef3f11cbc55df6cb77eb81f11e7f303b5adcfecc592eb6"
  },
  "kernelspec": {
   "display_name": "Python 3.8.12 ('새 폴더')",
   "language": "python",
   "name": "python3"
  },
  "language_info": {
   "name": "python",
   "version": "3.9.7"
  },
  "orig_nbformat": 4
 },
 "nbformat": 4,
 "nbformat_minor": 2
}
