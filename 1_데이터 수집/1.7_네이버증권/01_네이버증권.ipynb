{
 "cells": [
  {
   "cell_type": "code",
   "execution_count": 2,
   "metadata": {},
   "outputs": [
    {
     "name": "stdout",
     "output_type": "stream",
     "text": [
      "Collecting selenium\n",
      "  Downloading selenium-4.1.3-py3-none-any.whl (968 kB)\n",
      "Collecting trio-websocket~=0.9\n",
      "  Downloading trio_websocket-0.9.2-py3-none-any.whl (16 kB)\n",
      "Requirement already satisfied: urllib3[secure,socks]~=1.26 in c:\\users\\easya\\anaconda3\\lib\\site-packages (from selenium) (1.26.7)\n",
      "Collecting trio~=0.17\n",
      "  Downloading trio-0.20.0-py3-none-any.whl (359 kB)\n",
      "Requirement already satisfied: async-generator>=1.9 in c:\\users\\easya\\anaconda3\\lib\\site-packages (from trio~=0.17->selenium) (1.10)\n",
      "Requirement already satisfied: sortedcontainers in c:\\users\\easya\\anaconda3\\lib\\site-packages (from trio~=0.17->selenium) (2.4.0)\n",
      "Requirement already satisfied: sniffio in c:\\users\\easya\\anaconda3\\lib\\site-packages (from trio~=0.17->selenium) (1.2.0)\n",
      "Requirement already satisfied: cffi>=1.14 in c:\\users\\easya\\anaconda3\\lib\\site-packages (from trio~=0.17->selenium) (1.14.6)\n",
      "Collecting outcome\n",
      "  Downloading outcome-1.1.0-py2.py3-none-any.whl (9.7 kB)\n",
      "Requirement already satisfied: idna in c:\\users\\easya\\anaconda3\\lib\\site-packages (from trio~=0.17->selenium) (3.2)\n",
      "Requirement already satisfied: attrs>=19.2.0 in c:\\users\\easya\\anaconda3\\lib\\site-packages (from trio~=0.17->selenium) (21.2.0)\n",
      "Requirement already satisfied: pycparser in c:\\users\\easya\\anaconda3\\lib\\site-packages (from cffi>=1.14->trio~=0.17->selenium) (2.20)\n",
      "Collecting wsproto>=0.14\n",
      "  Downloading wsproto-1.1.0-py3-none-any.whl (24 kB)\n",
      "Requirement already satisfied: pyOpenSSL>=0.14 in c:\\users\\easya\\anaconda3\\lib\\site-packages (from urllib3[secure,socks]~=1.26->selenium) (21.0.0)\n",
      "Requirement already satisfied: cryptography>=1.3.4 in c:\\users\\easya\\anaconda3\\lib\\site-packages (from urllib3[secure,socks]~=1.26->selenium) (3.4.8)\n",
      "Requirement already satisfied: certifi in c:\\users\\easya\\anaconda3\\lib\\site-packages (from urllib3[secure,socks]~=1.26->selenium) (2021.10.8)\n",
      "Requirement already satisfied: PySocks!=1.5.7,<2.0,>=1.5.6 in c:\\users\\easya\\anaconda3\\lib\\site-packages (from urllib3[secure,socks]~=1.26->selenium) (1.7.1)\n",
      "Requirement already satisfied: six>=1.5.2 in c:\\users\\easya\\anaconda3\\lib\\site-packages (from pyOpenSSL>=0.14->urllib3[secure,socks]~=1.26->selenium) (1.16.0)\n",
      "Collecting h11<1,>=0.9.0\n",
      "  Downloading h11-0.13.0-py3-none-any.whl (58 kB)\n",
      "Installing collected packages: outcome, h11, wsproto, trio, trio-websocket, selenium\n",
      "Successfully installed h11-0.13.0 outcome-1.1.0 selenium-4.1.3 trio-0.20.0 trio-websocket-0.9.2 wsproto-1.1.0\n",
      "Note: you may need to restart the kernel to use updated packages.\n"
     ]
    }
   ],
   "source": [
    "# pip install selenium"
   ]
  },
  {
   "cell_type": "code",
   "execution_count": 7,
   "metadata": {},
   "outputs": [
    {
     "name": "stdout",
     "output_type": "stream",
     "text": [
      "Collecting webdriver_manager\n",
      "  Downloading webdriver_manager-3.5.3-py2.py3-none-any.whl (18 kB)\n",
      "Requirement already satisfied: requests in c:\\users\\easya\\anaconda3\\lib\\site-packages (from webdriver_manager) (2.26.0)\n",
      "Requirement already satisfied: configparser in c:\\users\\easya\\anaconda3\\lib\\site-packages (from webdriver_manager) (5.2.0)\n",
      "Collecting crayons\n",
      "  Downloading crayons-0.4.0-py2.py3-none-any.whl (4.6 kB)\n",
      "Requirement already satisfied: colorama in c:\\users\\easya\\anaconda3\\lib\\site-packages (from crayons->webdriver_manager) (0.4.4)\n",
      "Requirement already satisfied: charset-normalizer~=2.0.0 in c:\\users\\easya\\anaconda3\\lib\\site-packages (from requests->webdriver_manager) (2.0.4)\n",
      "Requirement already satisfied: idna<4,>=2.5 in c:\\users\\easya\\anaconda3\\lib\\site-packages (from requests->webdriver_manager) (3.2)\n",
      "Requirement already satisfied: certifi>=2017.4.17 in c:\\users\\easya\\anaconda3\\lib\\site-packages (from requests->webdriver_manager) (2021.10.8)\n",
      "Requirement already satisfied: urllib3<1.27,>=1.21.1 in c:\\users\\easya\\anaconda3\\lib\\site-packages (from requests->webdriver_manager) (1.26.7)\n",
      "Installing collected packages: crayons, webdriver-manager\n",
      "Successfully installed crayons-0.4.0 webdriver-manager-3.5.3Note: you may need to restart the kernel to use updated packages.\n",
      "\n"
     ]
    }
   ],
   "source": [
    "# pip install webdriver_manager"
   ]
  },
  {
   "cell_type": "code",
   "execution_count": 8,
   "metadata": {},
   "outputs": [],
   "source": [
    "import requests\n",
    "from bs4 import BeautifulSoup\n",
    "from selenium import webdriver\n",
    "from selenium.webdriver.common.keys import Keys\n",
    "from selenium.webdriver.chrome.service import Service\n",
    "from webdriver_manager.chrome import ChromeDriverManager\n",
    "from selenium.webdriver.common.by import By\n",
    "import time\n",
    "\n",
    "def get_chrome_driver():\n",
    "    # 1. 크롬 옵션 세팅\n",
    "    chrome_options = webdriver.ChromeOptions()\n",
    "    \n",
    "    # 2. driver 생성하기\n",
    "    driver = webdriver.Chrome(\n",
    "        service=Service(ChromeDriverManager().install()), # 가장 많이 바뀐 부분\n",
    "        options=chrome_options\n",
    "    )\n",
    "    \n",
    "    return driver\n"
   ]
  },
  {
   "cell_type": "code",
   "execution_count": 9,
   "metadata": {},
   "outputs": [
    {
     "name": "stderr",
     "output_type": "stream",
     "text": [
      "\n",
      "\n",
      "====== WebDriver manager ======\n",
      "Current google-chrome version is 99.0.4844\n",
      "Get LATEST chromedriver version for 99.0.4844 google-chrome\n",
      "There is no [win32] chromedriver for browser  in cache\n",
      "Trying to download new driver from https://chromedriver.storage.googleapis.com/99.0.4844.51/chromedriver_win32.zip\n",
      "Driver has been saved in cache [C:\\Users\\easya\\.wdm\\drivers\\chromedriver\\win32\\99.0.4844.51]\n"
     ]
    }
   ],
   "source": [
    "driver = get_chrome_driver()"
   ]
  },
  {
   "cell_type": "code",
   "execution_count": 10,
   "metadata": {},
   "outputs": [],
   "source": [
    "url = \"https://finance.naver.com/news/news_search.naver\"\n",
    "driver.get(url)\n",
    "time.sleep(2)"
   ]
  },
  {
   "cell_type": "code",
   "execution_count": 11,
   "metadata": {},
   "outputs": [],
   "source": [
    "# 검색창 x-path\n",
    "xpath_text = '//*[@id=\"contentarea_left\"]/form/div/div/div/input[1]'\n",
    "# 검색 버튼\n",
    "xpath_btn = '//*[@id=\"contentarea_left\"]/form/div/div/div/input[2]'\n",
    "# 검색할 내용\n",
    "kwd = \"반도체\""
   ]
  },
  {
   "cell_type": "code",
   "execution_count": 12,
   "metadata": {},
   "outputs": [
    {
     "name": "stderr",
     "output_type": "stream",
     "text": [
      "C:\\Users\\easya\\AppData\\Local\\Temp/ipykernel_1580/2169320629.py:2: DeprecationWarning: find_element_by_xpath is deprecated. Please use find_element(by=By.XPATH, value=xpath) instead\n",
      "  driver.find_element_by_xpath(xpath_text).send_keys(kwd)\n"
     ]
    }
   ],
   "source": [
    "# 검색창에 키워드(kwd) 입력\n",
    "driver.find_element_by_xpath(xpath_text).send_keys(kwd)"
   ]
  },
  {
   "cell_type": "code",
   "execution_count": 13,
   "metadata": {},
   "outputs": [
    {
     "name": "stderr",
     "output_type": "stream",
     "text": [
      "C:\\Users\\easya\\AppData\\Local\\Temp/ipykernel_1580/1793401790.py:2: DeprecationWarning: find_element_by_xpath is deprecated. Please use find_element(by=By.XPATH, value=xpath) instead\n",
      "  driver.find_element_by_xpath(xpath_btn).click()\n"
     ]
    }
   ],
   "source": [
    "# 검색버튼 클릭하기\n",
    "driver.find_element_by_xpath(xpath_btn).click()\n",
    "time.sleep(2)"
   ]
  },
  {
   "cell_type": "code",
   "execution_count": 19,
   "metadata": {},
   "outputs": [],
   "source": [
    "# 반복되는 태그\n",
    "xpath_article = '//*[@id=\"contentarea_left\"]/div[2]/dl/dd/a'"
   ]
  },
  {
   "cell_type": "code",
   "execution_count": 21,
   "metadata": {},
   "outputs": [
    {
     "name": "stderr",
     "output_type": "stream",
     "text": [
      "C:\\Users\\easya\\AppData\\Local\\Temp/ipykernel_1580/3598037588.py:2: DeprecationWarning: find_elements_by_xpath is deprecated. Please use find_elements(by=By.XPATH, value=xpath) instead\n",
      "  rticle_subject = driver.find_elements_by_xpath(xpath_article)\n"
     ]
    },
    {
     "name": "stdout",
     "output_type": "stream",
     "text": [
      "['https://finance.naver.com/news/news_read.naver?article_id=0005057654&office_id=277&mode=search&query=%B9%DD%B5%B5%C3%BC&page=1', 'https://finance.naver.com/news/news_read.naver?article_id=0005967004&office_id=421&mode=search&query=%B9%DD%B5%B5%C3%BC&page=1', 'https://finance.naver.com/news/news_read.naver?article_id=0003620050&office_id=079&mode=search&query=%B9%DD%B5%B5%C3%BC&page=1', 'https://finance.naver.com/news/news_read.naver?article_id=0003620053&office_id=079&mode=search&query=%B9%DD%B5%B5%C3%BC&page=1', 'https://finance.naver.com/news/news_read.naver?article_id=0003620051&office_id=079&mode=search&query=%B9%DD%B5%B5%C3%BC&page=1', 'https://finance.naver.com/news/news_read.naver?article_id=0013049197&office_id=001&mode=search&query=%B9%DD%B5%B5%C3%BC&page=1', 'https://finance.naver.com/news/news_read.naver?article_id=0002582716&office_id=028&mode=search&query=%B9%DD%B5%B5%C3%BC&page=1', 'https://finance.naver.com/news/news_read.naver?article_id=0005166111&office_id=018&mode=search&query=%B9%DD%B5%B5%C3%BC&page=1', 'https://finance.naver.com/news/news_read.naver?article_id=0005166105&office_id=018&mode=search&query=%B9%DD%B5%B5%C3%BC&page=1', 'https://finance.naver.com/news/news_read.naver?article_id=0001145723&office_id=082&mode=search&query=%B9%DD%B5%B5%C3%BC&page=1', 'https://finance.naver.com/news/news_read.naver?article_id=0013049201&office_id=001&mode=search&query=%B9%DD%B5%B5%C3%BC&page=1', 'https://finance.naver.com/news/news_read.naver?article_id=0013049199&office_id=001&mode=search&query=%B9%DD%B5%B5%C3%BC&page=1', 'https://finance.naver.com/news/news_read.naver?article_id=0013049189&office_id=001&mode=search&query=%B9%DD%B5%B5%C3%BC&page=1', 'https://finance.naver.com/news/news_read.naver?article_id=0005166104&office_id=018&mode=search&query=%B9%DD%B5%B5%C3%BC&page=1', 'https://finance.naver.com/news/news_read.naver?article_id=0000137394&office_id=629&mode=search&query=%B9%DD%B5%B5%C3%BC&page=1', 'https://finance.naver.com/news/news_read.naver?article_id=0000659147&office_id=031&mode=search&query=%B9%DD%B5%B5%C3%BC&page=1', 'https://finance.naver.com/news/news_read.naver?article_id=0011060488&office_id=003&mode=search&query=%B9%DD%B5%B5%C3%BC&page=1', 'https://finance.naver.com/news/news_read.naver?article_id=0005966970&office_id=421&mode=search&query=%B9%DD%B5%B5%C3%BC&page=1', 'https://finance.naver.com/news/news_read.naver?article_id=0011060495&office_id=003&mode=search&query=%B9%DD%B5%B5%C3%BC&page=1', 'https://finance.naver.com/news/news_read.naver?article_id=0002584807&office_id=119&mode=search&query=%B9%DD%B5%B5%C3%BC&page=1']\n"
     ]
    }
   ],
   "source": [
    "# 1 페이지 뉴스 링크 추출\n",
    "rticle_subject = driver.find_elements_by_xpath(xpath_article)\n",
    "links = [link.get_attribute('href') for link in article_subject]\n",
    "print(links)"
   ]
  },
  {
   "cell_type": "code",
   "execution_count": null,
   "metadata": {},
   "outputs": [],
   "source": []
  }
 ],
 "metadata": {
  "interpreter": {
   "hash": "b4de07979727471d795a93e041e8180caefe45faf2e58134adac0ec04a58112e"
  },
  "kernelspec": {
   "display_name": "Python 3.9.7 ('base')",
   "language": "python",
   "name": "python3"
  },
  "language_info": {
   "codemirror_mode": {
    "name": "ipython",
    "version": 3
   },
   "file_extension": ".py",
   "mimetype": "text/x-python",
   "name": "python",
   "nbconvert_exporter": "python",
   "pygments_lexer": "ipython3",
   "version": "3.9.7"
  },
  "orig_nbformat": 4
 },
 "nbformat": 4,
 "nbformat_minor": 2
}
