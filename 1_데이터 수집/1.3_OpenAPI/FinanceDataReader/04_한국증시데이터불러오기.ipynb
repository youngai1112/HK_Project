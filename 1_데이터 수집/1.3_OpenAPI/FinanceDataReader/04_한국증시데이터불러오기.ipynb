{
 "cells": [
  {
   "cell_type": "markdown",
   "metadata": {},
   "source": [
    "- 참고 : https://m.blog.naver.com/freed0om/221981429329"
   ]
  },
  {
   "cell_type": "code",
   "execution_count": 2,
   "metadata": {},
   "outputs": [],
   "source": [
    "import FinanceDataReader as fdr"
   ]
  },
  {
   "cell_type": "markdown",
   "metadata": {},
   "source": [
    "- 기간은 연(YYYY), 연월(YYYY-MM), 연월일(YYYY-MM-DD)\n",
    "- 종료일을 따로 넣지 않으면, 전일까지의 값이 산출"
   ]
  },
  {
   "cell_type": "code",
   "execution_count": 3,
   "metadata": {},
   "outputs": [
    {
     "data": {
      "text/html": [
       "<div>\n",
       "<style scoped>\n",
       "    .dataframe tbody tr th:only-of-type {\n",
       "        vertical-align: middle;\n",
       "    }\n",
       "\n",
       "    .dataframe tbody tr th {\n",
       "        vertical-align: top;\n",
       "    }\n",
       "\n",
       "    .dataframe thead th {\n",
       "        text-align: right;\n",
       "    }\n",
       "</style>\n",
       "<table border=\"1\" class=\"dataframe\">\n",
       "  <thead>\n",
       "    <tr style=\"text-align: right;\">\n",
       "      <th></th>\n",
       "      <th>Open</th>\n",
       "      <th>High</th>\n",
       "      <th>Low</th>\n",
       "      <th>Close</th>\n",
       "      <th>Volume</th>\n",
       "      <th>Change</th>\n",
       "    </tr>\n",
       "    <tr>\n",
       "      <th>Date</th>\n",
       "      <th></th>\n",
       "      <th></th>\n",
       "      <th></th>\n",
       "      <th></th>\n",
       "      <th></th>\n",
       "      <th></th>\n",
       "    </tr>\n",
       "  </thead>\n",
       "  <tbody>\n",
       "    <tr>\n",
       "      <th>2020-01-02</th>\n",
       "      <td>55500</td>\n",
       "      <td>56000</td>\n",
       "      <td>55000</td>\n",
       "      <td>55200</td>\n",
       "      <td>12993228</td>\n",
       "      <td>-0.010753</td>\n",
       "    </tr>\n",
       "    <tr>\n",
       "      <th>2020-01-03</th>\n",
       "      <td>56000</td>\n",
       "      <td>56600</td>\n",
       "      <td>54900</td>\n",
       "      <td>55500</td>\n",
       "      <td>15422255</td>\n",
       "      <td>0.005435</td>\n",
       "    </tr>\n",
       "    <tr>\n",
       "      <th>2020-01-06</th>\n",
       "      <td>54900</td>\n",
       "      <td>55600</td>\n",
       "      <td>54600</td>\n",
       "      <td>55500</td>\n",
       "      <td>10278951</td>\n",
       "      <td>0.000000</td>\n",
       "    </tr>\n",
       "    <tr>\n",
       "      <th>2020-01-07</th>\n",
       "      <td>55700</td>\n",
       "      <td>56400</td>\n",
       "      <td>55600</td>\n",
       "      <td>55800</td>\n",
       "      <td>10009778</td>\n",
       "      <td>0.005405</td>\n",
       "    </tr>\n",
       "    <tr>\n",
       "      <th>2020-01-08</th>\n",
       "      <td>56200</td>\n",
       "      <td>57400</td>\n",
       "      <td>55900</td>\n",
       "      <td>56800</td>\n",
       "      <td>23501171</td>\n",
       "      <td>0.017921</td>\n",
       "    </tr>\n",
       "  </tbody>\n",
       "</table>\n",
       "</div>"
      ],
      "text/plain": [
       "             Open   High    Low  Close    Volume    Change\n",
       "Date                                                      \n",
       "2020-01-02  55500  56000  55000  55200  12993228 -0.010753\n",
       "2020-01-03  56000  56600  54900  55500  15422255  0.005435\n",
       "2020-01-06  54900  55600  54600  55500  10278951  0.000000\n",
       "2020-01-07  55700  56400  55600  55800  10009778  0.005405\n",
       "2020-01-08  56200  57400  55900  56800  23501171  0.017921"
      ]
     },
     "execution_count": 3,
     "metadata": {},
     "output_type": "execute_result"
    }
   ],
   "source": [
    "# 삼성전자, 2020년\n",
    "df = fdr.DataReader(\"005930\", \"2020\")   # 종목코드, 기간\n",
    "df.head()"
   ]
  },
  {
   "cell_type": "code",
   "execution_count": 5,
   "metadata": {},
   "outputs": [
    {
     "data": {
      "text/html": [
       "<div>\n",
       "<style scoped>\n",
       "    .dataframe tbody tr th:only-of-type {\n",
       "        vertical-align: middle;\n",
       "    }\n",
       "\n",
       "    .dataframe tbody tr th {\n",
       "        vertical-align: top;\n",
       "    }\n",
       "\n",
       "    .dataframe thead th {\n",
       "        text-align: right;\n",
       "    }\n",
       "</style>\n",
       "<table border=\"1\" class=\"dataframe\">\n",
       "  <thead>\n",
       "    <tr style=\"text-align: right;\">\n",
       "      <th></th>\n",
       "      <th>Open</th>\n",
       "      <th>High</th>\n",
       "      <th>Low</th>\n",
       "      <th>Close</th>\n",
       "      <th>Volume</th>\n",
       "      <th>Change</th>\n",
       "    </tr>\n",
       "    <tr>\n",
       "      <th>Date</th>\n",
       "      <th></th>\n",
       "      <th></th>\n",
       "      <th></th>\n",
       "      <th></th>\n",
       "      <th></th>\n",
       "      <th></th>\n",
       "    </tr>\n",
       "  </thead>\n",
       "  <tbody>\n",
       "    <tr>\n",
       "      <th>2022-01-03</th>\n",
       "      <td>79400</td>\n",
       "      <td>79800</td>\n",
       "      <td>78200</td>\n",
       "      <td>78600</td>\n",
       "      <td>13502112</td>\n",
       "      <td>0.003831</td>\n",
       "    </tr>\n",
       "    <tr>\n",
       "      <th>2022-01-04</th>\n",
       "      <td>78800</td>\n",
       "      <td>79200</td>\n",
       "      <td>78300</td>\n",
       "      <td>78700</td>\n",
       "      <td>12427416</td>\n",
       "      <td>0.001272</td>\n",
       "    </tr>\n",
       "    <tr>\n",
       "      <th>2022-01-05</th>\n",
       "      <td>78800</td>\n",
       "      <td>79000</td>\n",
       "      <td>76400</td>\n",
       "      <td>77400</td>\n",
       "      <td>25470640</td>\n",
       "      <td>-0.016518</td>\n",
       "    </tr>\n",
       "    <tr>\n",
       "      <th>2022-01-06</th>\n",
       "      <td>76700</td>\n",
       "      <td>77600</td>\n",
       "      <td>76600</td>\n",
       "      <td>76900</td>\n",
       "      <td>12931954</td>\n",
       "      <td>-0.006460</td>\n",
       "    </tr>\n",
       "    <tr>\n",
       "      <th>2022-01-07</th>\n",
       "      <td>78100</td>\n",
       "      <td>78400</td>\n",
       "      <td>77400</td>\n",
       "      <td>78300</td>\n",
       "      <td>15163757</td>\n",
       "      <td>0.018205</td>\n",
       "    </tr>\n",
       "  </tbody>\n",
       "</table>\n",
       "</div>"
      ],
      "text/plain": [
       "             Open   High    Low  Close    Volume    Change\n",
       "Date                                                      \n",
       "2022-01-03  79400  79800  78200  78600  13502112  0.003831\n",
       "2022-01-04  78800  79200  78300  78700  12427416  0.001272\n",
       "2022-01-05  78800  79000  76400  77400  25470640 -0.016518\n",
       "2022-01-06  76700  77600  76600  76900  12931954 -0.006460\n",
       "2022-01-07  78100  78400  77400  78300  15163757  0.018205"
      ]
     },
     "execution_count": 5,
     "metadata": {},
     "output_type": "execute_result"
    }
   ],
   "source": [
    "df = fdr.DataReader(\"005930\", \"2022-01-01\")\n",
    "df.head()"
   ]
  },
  {
   "cell_type": "code",
   "execution_count": 7,
   "metadata": {},
   "outputs": [],
   "source": [
    "# 차트 그리기\n",
    "%matplotlib inline\n",
    "import matplotlib.pyplot as plt\n",
    "\n",
    "plt.rcParams[\"font.family\"] = 'nanummyeongjo'\n",
    "plt.rcParams[\"figure.figsize\"] = (14,4)\n",
    "plt.rcParams[\"lines.linewidth\"] = 2\n",
    "plt.rcParams[\"axes.grid\"] = True"
   ]
  },
  {
   "cell_type": "code",
   "execution_count": 8,
   "metadata": {},
   "outputs": [
    {
     "data": {
      "text/plain": [
       "<AxesSubplot:xlabel='Date'>"
      ]
     },
     "execution_count": 8,
     "metadata": {},
     "output_type": "execute_result"
    },
    {
     "name": "stderr",
     "output_type": "stream",
     "text": [
      "findfont: Font family ['nanummyeongjo'] not found. Falling back to DejaVu Sans.\n"
     ]
    },
    {
     "data": {
      "image/png": "[encoded data removed]",
      "text/plain": [
       "<Figure size 1008x288 with 1 Axes>"
      ]
     },
     "metadata": {
      "needs_background": "light"
     },
     "output_type": "display_data"
    }
   ],
   "source": [
    "# 삼성전자의 상장 후 전일까지 주가 그래프\n",
    "df = fdr.DataReader(\"005930\")\n",
    "df[\"Close\"].plot()"
   ]
  },
  {
   "cell_type": "code",
   "execution_count": 9,
   "metadata": {},
   "outputs": [],
   "source": [
    "# 기업명을 넣으면 종목코드를 출력하는 간단한 함수\n",
    "def stock_code(val):\n",
    "    df_krx = fdr.StockListing(\"KRX\")\n",
    "    name = df_krx[df_krx[\"Name\"] == val]\n",
    "    symbol = name.iloc[0,0]\n",
    "    return symbol"
   ]
  },
  {
   "cell_type": "code",
   "execution_count": 10,
   "metadata": {},
   "outputs": [
    {
     "data": {
      "text/plain": [
       "'005930'"
      ]
     },
     "execution_count": 10,
     "metadata": {},
     "output_type": "execute_result"
    }
   ],
   "source": [
    "stock_code(\"삼성전자\")"
   ]
  },
  {
   "cell_type": "code",
   "execution_count": 13,
   "metadata": {},
   "outputs": [
    {
     "data": {
      "text/html": [
       "<div>\n",
       "<style scoped>\n",
       "    .dataframe tbody tr th:only-of-type {\n",
       "        vertical-align: middle;\n",
       "    }\n",
       "\n",
       "    .dataframe tbody tr th {\n",
       "        vertical-align: top;\n",
       "    }\n",
       "\n",
       "    .dataframe thead th {\n",
       "        text-align: right;\n",
       "    }\n",
       "</style>\n",
       "<table border=\"1\" class=\"dataframe\">\n",
       "  <thead>\n",
       "    <tr style=\"text-align: right;\">\n",
       "      <th></th>\n",
       "      <th>Open</th>\n",
       "      <th>High</th>\n",
       "      <th>Low</th>\n",
       "      <th>Close</th>\n",
       "      <th>Volume</th>\n",
       "      <th>Change</th>\n",
       "    </tr>\n",
       "    <tr>\n",
       "      <th>Date</th>\n",
       "      <th></th>\n",
       "      <th></th>\n",
       "      <th></th>\n",
       "      <th></th>\n",
       "      <th></th>\n",
       "      <th></th>\n",
       "    </tr>\n",
       "  </thead>\n",
       "  <tbody>\n",
       "    <tr>\n",
       "      <th>2022-02-21</th>\n",
       "      <td>73200</td>\n",
       "      <td>74300</td>\n",
       "      <td>72600</td>\n",
       "      <td>74200</td>\n",
       "      <td>10489717</td>\n",
       "      <td>-0.001346</td>\n",
       "    </tr>\n",
       "    <tr>\n",
       "      <th>2022-02-22</th>\n",
       "      <td>73000</td>\n",
       "      <td>73400</td>\n",
       "      <td>72800</td>\n",
       "      <td>73400</td>\n",
       "      <td>11692469</td>\n",
       "      <td>-0.010782</td>\n",
       "    </tr>\n",
       "    <tr>\n",
       "      <th>2022-02-23</th>\n",
       "      <td>73800</td>\n",
       "      <td>73800</td>\n",
       "      <td>72800</td>\n",
       "      <td>73000</td>\n",
       "      <td>10397964</td>\n",
       "      <td>-0.005450</td>\n",
       "    </tr>\n",
       "    <tr>\n",
       "      <th>2022-02-24</th>\n",
       "      <td>72300</td>\n",
       "      <td>72300</td>\n",
       "      <td>71300</td>\n",
       "      <td>71500</td>\n",
       "      <td>15759283</td>\n",
       "      <td>-0.020548</td>\n",
       "    </tr>\n",
       "    <tr>\n",
       "      <th>2022-02-25</th>\n",
       "      <td>72100</td>\n",
       "      <td>72600</td>\n",
       "      <td>71900</td>\n",
       "      <td>71900</td>\n",
       "      <td>13062251</td>\n",
       "      <td>0.005594</td>\n",
       "    </tr>\n",
       "  </tbody>\n",
       "</table>\n",
       "</div>"
      ],
      "text/plain": [
       "             Open   High    Low  Close    Volume    Change\n",
       "Date                                                      \n",
       "2022-02-21  73200  74300  72600  74200  10489717 -0.001346\n",
       "2022-02-22  73000  73400  72800  73400  11692469 -0.010782\n",
       "2022-02-23  73800  73800  72800  73000  10397964 -0.005450\n",
       "2022-02-24  72300  72300  71300  71500  15759283 -0.020548\n",
       "2022-02-25  72100  72600  71900  71900  13062251  0.005594"
      ]
     },
     "execution_count": 13,
     "metadata": {},
     "output_type": "execute_result"
    }
   ],
   "source": [
    "# 삼성전자, 2020년\n",
    "df = fdr.DataReader(stock_code(\"삼성전자\"), \"2020\")\n",
    "df.tail()"
   ]
  },
  {
   "cell_type": "code",
   "execution_count": null,
   "metadata": {},
   "outputs": [],
   "source": []
  }
 ],
 "metadata": {
  "interpreter": {
   "hash": "b3ba2566441a7c06988d0923437866b63cedc61552a5af99d1f4fb67d367b25f"
  },
  "kernelspec": {
   "display_name": "Python 3.8.8 ('base')",
   "language": "python",
   "name": "python3"
  },
  "language_info": {
   "codemirror_mode": {
    "name": "ipython",
    "version": 3
   },
   "file_extension": ".py",
   "mimetype": "text/x-python",
   "name": "python",
   "nbconvert_exporter": "python",
   "pygments_lexer": "ipython3",
   "version": "3.8.8"
  },
  "orig_nbformat": 4
 },
 "nbformat": 4,
 "nbformat_minor": 2
}
