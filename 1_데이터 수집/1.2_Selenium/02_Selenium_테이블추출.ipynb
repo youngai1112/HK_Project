{
 "cells": [
  {
   "cell_type": "code",
   "execution_count": 24,
   "metadata": {},
   "outputs": [],
   "source": [
    "from selenium import webdriver\n",
    "from selenium.webdriver.chrome.service import Service\n",
    "from webdriver_manager.chrome import ChromeDriverManager\n",
    "from selenium.webdriver.common.by import By"
   ]
  },
  {
   "cell_type": "code",
   "execution_count": 25,
   "metadata": {},
   "outputs": [],
   "source": [
    "def get_chrome_driver():\n",
    "    # 1. 크롬 옵션 세팅\n",
    "    chrome_options = webdriver.ChromeOptions()\n",
    "    \n",
    "    # 2. driver 생성하기\n",
    "    driver = webdriver.Chrome(\n",
    "        service=Service(ChromeDriverManager().install()), # 가장 많이 바뀐 부분\n",
    "        options=chrome_options\n",
    "    )\n",
    "    \n",
    "    return driver"
   ]
  },
  {
   "cell_type": "code",
   "execution_count": 26,
   "metadata": {},
   "outputs": [
    {
     "name": "stderr",
     "output_type": "stream",
     "text": [
      "\n",
      "\n",
      "====== WebDriver manager ======\n",
      "Current google-chrome version is 98.0.4758\n",
      "Get LATEST chromedriver version for 98.0.4758 google-chrome\n",
      "Driver [C:\\Users\\hkedu\\.wdm\\drivers\\chromedriver\\win32\\98.0.4758.102\\chromedriver.exe] found in cache\n"
     ]
    }
   ],
   "source": [
    "driver = get_chrome_driver()"
   ]
  },
  {
   "cell_type": "code",
   "execution_count": 27,
   "metadata": {},
   "outputs": [],
   "source": [
    "url = \"https://finance.naver.com/sise/sise_market_sum.naver\"\n",
    "driver.get(url)\n",
    "time.sleep(2)"
   ]
  },
  {
   "cell_type": "code",
   "execution_count": 28,
   "metadata": {},
   "outputs": [
    {
     "name": "stderr",
     "output_type": "stream",
     "text": [
      "<ipython-input-28-0d62eb48a271>:2: DeprecationWarning: find_element_by_* commands are deprecated. Please use find_element() instead\n",
      "  button = driver.find_element_by_xpath(\"//*[@id='contentarea_left']/div[2]/form/div/div/div/a[2]/img\")\n"
     ]
    }
   ],
   "source": [
    "# 초기항목 설정\n",
    "button = driver.find_element_by_xpath(\"//*[@id='contentarea_left']/div[2]/form/div/div/div/a[2]/img\")\n",
    "button.click()"
   ]
  },
  {
   "cell_type": "code",
   "execution_count": 29,
   "metadata": {},
   "outputs": [
    {
     "name": "stderr",
     "output_type": "stream",
     "text": [
      "<ipython-input-29-d10fcbbcd6e9>:2: DeprecationWarning: find_element_by_* commands are deprecated. Please use find_element() instead\n",
      "  checkbox = driver.find_element_by_id(\"option1\")\n",
      "<ipython-input-29-d10fcbbcd6e9>:4: DeprecationWarning: find_element_by_* commands are deprecated. Please use find_element() instead\n",
      "  checkbox = driver.find_element_by_id(\"option15\")\n",
      "<ipython-input-29-d10fcbbcd6e9>:6: DeprecationWarning: find_element_by_* commands are deprecated. Please use find_element() instead\n",
      "  checkbox = driver.find_element_by_id(\"option21\")\n",
      "<ipython-input-29-d10fcbbcd6e9>:8: DeprecationWarning: find_element_by_* commands are deprecated. Please use find_element() instead\n",
      "  checkbox = driver.find_element_by_id(\"option5\")\n",
      "<ipython-input-29-d10fcbbcd6e9>:10: DeprecationWarning: find_element_by_* commands are deprecated. Please use find_element() instead\n",
      "  checkbox = driver.find_element_by_id(\"option18\")\n",
      "<ipython-input-29-d10fcbbcd6e9>:12: DeprecationWarning: find_element_by_* commands are deprecated. Please use find_element() instead\n",
      "  checkbox = driver.find_element_by_id(\"option24\")\n"
     ]
    }
   ],
   "source": [
    "# 체크박스 : 시가총액, 영업이익, PER, ROE, ROA, PBR 체크\n",
    "checkbox = driver.find_element_by_id(\"option1\")\n",
    "checkbox.click()\n",
    "checkbox = driver.find_element_by_id(\"option15\")\n",
    "checkbox.click()\n",
    "checkbox = driver.find_element_by_id(\"option21\")\n",
    "checkbox.click()\n",
    "checkbox = driver.find_element_by_id(\"option5\")\n",
    "checkbox.click()\n",
    "checkbox = driver.find_element_by_id(\"option18\")\n",
    "checkbox.click()\n",
    "checkbox = driver.find_element_by_id(\"option24\")\n",
    "checkbox.click()"
   ]
  },
  {
   "cell_type": "code",
   "execution_count": 30,
   "metadata": {},
   "outputs": [
    {
     "name": "stderr",
     "output_type": "stream",
     "text": [
      "<ipython-input-30-380030848a48>:2: DeprecationWarning: find_element_by_* commands are deprecated. Please use find_element() instead\n",
      "  apply_button = driver.find_element_by_xpath(\"//*[@id='contentarea_left']/div[2]/form/div/div/div/a[1]/img\")\n"
     ]
    }
   ],
   "source": [
    "# 적용하기 클릭\n",
    "apply_button = driver.find_element_by_xpath(\"//*[@id='contentarea_left']/div[2]/form/div/div/div/a[1]/img\")\n",
    "apply_button.click()"
   ]
  },
  {
   "cell_type": "code",
   "execution_count": 31,
   "metadata": {},
   "outputs": [
    {
     "name": "stderr",
     "output_type": "stream",
     "text": [
      "<ipython-input-31-16951209f916>:2: DeprecationWarning: find_element_by_* commands are deprecated. Please use find_element() instead\n",
      "  kosdaq_btn = driver.find_element_by_xpath(\"//*[@id='contentarea']/div[3]/div/div[2]/a\")\n"
     ]
    }
   ],
   "source": [
    "# 코스닥 설정\n",
    "kosdaq_btn = driver.find_element_by_xpath(\"//*[@id='contentarea']/div[3]/div/div[2]/a\")\n",
    "kosdaq_btn.click()"
   ]
  },
  {
   "cell_type": "markdown",
   "metadata": {},
   "source": [
    "- Selenium으로 테이블 추출"
   ]
  },
  {
   "cell_type": "code",
   "execution_count": null,
   "metadata": {},
   "outputs": [],
   "source": []
  }
 ],
 "metadata": {
  "interpreter": {
   "hash": "b3ba2566441a7c06988d0923437866b63cedc61552a5af99d1f4fb67d367b25f"
  },
  "kernelspec": {
   "display_name": "Python 3.8.8 ('base')",
   "language": "python",
   "name": "python3"
  },
  "language_info": {
   "codemirror_mode": {
    "name": "ipython",
    "version": 3
   },
   "file_extension": ".py",
   "mimetype": "text/x-python",
   "name": "python",
   "nbconvert_exporter": "python",
   "pygments_lexer": "ipython3",
   "version": "3.8.8"
  },
  "orig_nbformat": 4
 },
 "nbformat": 4,
 "nbformat_minor": 2
}
