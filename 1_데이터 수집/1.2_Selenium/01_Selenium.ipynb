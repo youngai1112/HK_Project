{
 "cells": [
  {
   "cell_type": "code",
   "execution_count": 3,
   "metadata": {},
   "outputs": [],
   "source": [
    "# pip install selenium"
   ]
  },
  {
   "cell_type": "code",
   "execution_count": 16,
   "metadata": {},
   "outputs": [
    {
     "name": "stderr",
     "output_type": "stream",
     "text": [
      "<ipython-input-16-40d738c4ec6d>:5: DeprecationWarning: executable_path has been deprecated, please pass in a Service object\n",
      "  browser = webdriver.Chrome(\"data/chromedriver_win32/chromedriver.exe\")\n"
     ]
    }
   ],
   "source": [
    "from selenium import webdriver\n",
    "import time\n",
    "\n",
    "url = \"https://finance.naver.com/sise/sise_market_sum.naver\"\n",
    "browser = webdriver.Chrome(\"data/chromedriver_win32/chromedriver.exe\")    \n",
    "browser.get(url)\n",
    "time.sleep(2)"
   ]
  },
  {
   "cell_type": "code",
   "execution_count": 17,
   "metadata": {},
   "outputs": [
    {
     "name": "stderr",
     "output_type": "stream",
     "text": [
      "<ipython-input-17-f267bf3ee4db>:2: DeprecationWarning: find_element_by_* commands are deprecated. Please use find_element() instead\n",
      "  button = browser.find_element_by_xpath(\"//*[@id='contentarea_left']/div[2]/form/div/div/div/a[2]/img\")\n"
     ]
    }
   ],
   "source": [
    "# 초기항목 설정\n",
    "button = browser.find_element_by_xpath(\"//*[@id='contentarea_left']/div[2]/form/div/div/div/a[2]/img\")\n",
    "button.click()"
   ]
  },
  {
   "cell_type": "code",
   "execution_count": 18,
   "metadata": {},
   "outputs": [
    {
     "name": "stderr",
     "output_type": "stream",
     "text": [
      "<ipython-input-18-dd0f73822a87>:2: DeprecationWarning: find_element_by_* commands are deprecated. Please use find_element() instead\n",
      "  checkbox = browser.find_element_by_id(\"option1\")\n",
      "<ipython-input-18-dd0f73822a87>:4: DeprecationWarning: find_element_by_* commands are deprecated. Please use find_element() instead\n",
      "  checkbox = browser.find_element_by_id(\"option15\")\n",
      "<ipython-input-18-dd0f73822a87>:6: DeprecationWarning: find_element_by_* commands are deprecated. Please use find_element() instead\n",
      "  checkbox = browser.find_element_by_id(\"option21\")\n",
      "<ipython-input-18-dd0f73822a87>:8: DeprecationWarning: find_element_by_* commands are deprecated. Please use find_element() instead\n",
      "  checkbox = browser.find_element_by_id(\"option5\")\n",
      "<ipython-input-18-dd0f73822a87>:10: DeprecationWarning: find_element_by_* commands are deprecated. Please use find_element() instead\n",
      "  checkbox = browser.find_element_by_id(\"option18\")\n",
      "<ipython-input-18-dd0f73822a87>:12: DeprecationWarning: find_element_by_* commands are deprecated. Please use find_element() instead\n",
      "  checkbox = browser.find_element_by_id(\"option24\")\n"
     ]
    }
   ],
   "source": [
    "# 체크박스 : 시가총액, 영업이익, PER, ROE, ROA, PBR 체크\n",
    "checkbox = browser.find_element_by_id(\"option1\")\n",
    "checkbox.click()\n",
    "checkbox = browser.find_element_by_id(\"option15\")\n",
    "checkbox.click()\n",
    "checkbox = browser.find_element_by_id(\"option21\")\n",
    "checkbox.click()\n",
    "checkbox = browser.find_element_by_id(\"option5\")\n",
    "checkbox.click()\n",
    "checkbox = browser.find_element_by_id(\"option18\")\n",
    "checkbox.click()\n",
    "checkbox = browser.find_element_by_id(\"option24\")\n",
    "checkbox.click()"
   ]
  },
  {
   "cell_type": "code",
   "execution_count": 19,
   "metadata": {},
   "outputs": [
    {
     "name": "stderr",
     "output_type": "stream",
     "text": [
      "<ipython-input-19-b250150e68bd>:2: DeprecationWarning: find_element_by_* commands are deprecated. Please use find_element() instead\n",
      "  apply_button = browser.find_element_by_xpath(\"//*[@id='contentarea_left']/div[2]/form/div/div/div/a[1]/img\")\n"
     ]
    }
   ],
   "source": [
    "# 적용하기 클릭\n",
    "apply_button = browser.find_element_by_xpath(\"//*[@id='contentarea_left']/div[2]/form/div/div/div/a[1]/img\")\n",
    "apply_button.click()"
   ]
  },
  {
   "cell_type": "code",
   "execution_count": 20,
   "metadata": {},
   "outputs": [
    {
     "name": "stderr",
     "output_type": "stream",
     "text": [
      "<ipython-input-20-720841956351>:2: DeprecationWarning: find_element_by_* commands are deprecated. Please use find_element() instead\n",
      "  kosdaq_btn = browser.find_element_by_xpath(\"//*[@id='contentarea']/div[3]/div/div[2]/a\")\n"
     ]
    }
   ],
   "source": [
    "# 코스닥 설정\n",
    "kosdaq_btn = browser.find_element_by_xpath(\"//*[@id='contentarea']/div[3]/div/div[2]/a\")\n",
    "kosdaq_btn.click()"
   ]
  },
  {
   "cell_type": "code",
   "execution_count": 21,
   "metadata": {},
   "outputs": [],
   "source": [
    "# browser.quit()"
   ]
  },
  {
   "cell_type": "markdown",
   "metadata": {},
   "source": [
    "- html.parser 사용 -> datatable 만들기\n",
    "    - 기존에 import 된 BeautifulSoup은 4.6.0으로 html_table_parser 패키지의 parser_functions 사용 불가\n",
    "    - 해당 기능을 사용하기 위해 4.4.1로 downgrade함"
   ]
  },
  {
   "cell_type": "markdown",
   "metadata": {},
   "source": [
    "- 참고 : https://tariat.tistory.com/793"
   ]
  },
  {
   "cell_type": "code",
   "execution_count": 9,
   "metadata": {},
   "outputs": [],
   "source": [
    "# pip install beautifulsoup4==4.4.1"
   ]
  },
  {
   "cell_type": "code",
   "execution_count": 10,
   "metadata": {},
   "outputs": [],
   "source": [
    "# pip install html_table_parser"
   ]
  },
  {
   "cell_type": "code",
   "execution_count": 11,
   "metadata": {},
   "outputs": [],
   "source": [
    "# pip install bs4"
   ]
  },
  {
   "cell_type": "code",
   "execution_count": 12,
   "metadata": {},
   "outputs": [],
   "source": [
    "# pip install --upgrade html5lib"
   ]
  },
  {
   "cell_type": "code",
   "execution_count": 13,
   "metadata": {},
   "outputs": [],
   "source": [
    "# pip install html5lib"
   ]
  },
  {
   "cell_type": "code",
   "execution_count": 15,
   "metadata": {},
   "outputs": [
    {
     "ename": "WebDriverException",
     "evalue": "Message: chrome not reachable\n  (Session info: chrome=98.0.4758.102)\nStacktrace:\nBacktrace:\n\tOrdinal0 [0x002869A3+2582947]\n\tOrdinal0 [0x0021A6D1+2139857]\n\tOrdinal0 [0x00113960+1063264]\n\tOrdinal0 [0x00108092+1015954]\n\tOrdinal0 [0x001088C8+1018056]\n\tOrdinal0 [0x0010A102+1024258]\n\tOrdinal0 [0x00103DE9+998889]\n\tOrdinal0 [0x00114DD0+1068496]\n\tOrdinal0 [0x00167B12+1407762]\n\tOrdinal0 [0x00158366+1344358]\n\tOrdinal0 [0x00135176+1200502]\n\tOrdinal0 [0x00136066+1204326]\n\tGetHandleVerifier [0x0042BE02+1675858]\n\tGetHandleVerifier [0x004E036C+2414524]\n\tGetHandleVerifier [0x0031BB01+560977]\n\tGetHandleVerifier [0x0031A8D3+556323]\n\tOrdinal0 [0x0022020E+2163214]\n\tOrdinal0 [0x00225078+2183288]\n\tOrdinal0 [0x002251C0+2183616]\n\tOrdinal0 [0x0022EE1C+2223644]\n\tBaseThreadInitThunk [0x769FFA29+25]\n\tRtlGetAppContainerNamedObjectPath [0x770E7A9E+286]\n\tRtlGetAppContainerNamedObjectPath [0x770E7A6E+238]\n\t(No symbol) [0x00000000]\n",
     "output_type": "error",
     "traceback": [
      "\u001b[1;31m---------------------------------------------------------------------------\u001b[0m",
      "\u001b[1;31mWebDriverException\u001b[0m                        Traceback (most recent call last)",
      "\u001b[1;32m<ipython-input-15-4c03a9ee06e3>\u001b[0m in \u001b[0;36m<module>\u001b[1;34m\u001b[0m\n\u001b[0;32m      1\u001b[0m \u001b[1;32mimport\u001b[0m \u001b[0mhtml5lib\u001b[0m\u001b[1;33m\u001b[0m\u001b[1;33m\u001b[0m\u001b[0m\n\u001b[0;32m      2\u001b[0m \u001b[1;33m\u001b[0m\u001b[0m\n\u001b[1;32m----> 3\u001b[1;33m \u001b[0mresult_html\u001b[0m \u001b[1;33m=\u001b[0m \u001b[0mbrowser\u001b[0m\u001b[1;33m.\u001b[0m\u001b[0mpage_source\u001b[0m\u001b[1;33m\u001b[0m\u001b[1;33m\u001b[0m\u001b[0m\n\u001b[0m\u001b[0;32m      4\u001b[0m \u001b[0mresult_soup\u001b[0m \u001b[1;33m=\u001b[0m \u001b[0mBeautifulSoup\u001b[0m\u001b[1;33m(\u001b[0m\u001b[0mresult_html\u001b[0m\u001b[1;33m,\u001b[0m \u001b[1;34m\"html.parser\"\u001b[0m\u001b[1;33m)\u001b[0m\u001b[1;33m\u001b[0m\u001b[1;33m\u001b[0m\u001b[0m\n\u001b[0;32m      5\u001b[0m \u001b[0mtags\u001b[0m \u001b[1;33m=\u001b[0m \u001b[0mresult_soup\u001b[0m\u001b[1;33m.\u001b[0m\u001b[0mfind_all\u001b[0m\u001b[1;33m(\u001b[0m\u001b[1;34m\"table\"\u001b[0m\u001b[1;33m,\u001b[0m \u001b[0mattrs\u001b[0m\u001b[1;33m=\u001b[0m\u001b[1;33m{\u001b[0m\u001b[1;34m\"class\"\u001b[0m\u001b[1;33m:\u001b[0m\u001b[1;34m\"type_2\"\u001b[0m\u001b[1;33m}\u001b[0m\u001b[1;33m)\u001b[0m\u001b[1;33m[\u001b[0m\u001b[1;36m0\u001b[0m\u001b[1;33m]\u001b[0m\u001b[1;33m\u001b[0m\u001b[1;33m\u001b[0m\u001b[0m\n",
      "\u001b[1;32mC:\\ProgramData\\Anaconda3\\lib\\site-packages\\selenium\\webdriver\\remote\\webdriver.py\u001b[0m in \u001b[0;36mpage_source\u001b[1;34m(self)\u001b[0m\n\u001b[0;32m    924\u001b[0m                 \u001b[0mdriver\u001b[0m\u001b[1;33m.\u001b[0m\u001b[0mpage_source\u001b[0m\u001b[1;33m\u001b[0m\u001b[1;33m\u001b[0m\u001b[0m\n\u001b[0;32m    925\u001b[0m         \"\"\"\n\u001b[1;32m--> 926\u001b[1;33m         \u001b[1;32mreturn\u001b[0m \u001b[0mself\u001b[0m\u001b[1;33m.\u001b[0m\u001b[0mexecute\u001b[0m\u001b[1;33m(\u001b[0m\u001b[0mCommand\u001b[0m\u001b[1;33m.\u001b[0m\u001b[0mGET_PAGE_SOURCE\u001b[0m\u001b[1;33m)\u001b[0m\u001b[1;33m[\u001b[0m\u001b[1;34m'value'\u001b[0m\u001b[1;33m]\u001b[0m\u001b[1;33m\u001b[0m\u001b[1;33m\u001b[0m\u001b[0m\n\u001b[0m\u001b[0;32m    927\u001b[0m \u001b[1;33m\u001b[0m\u001b[0m\n\u001b[0;32m    928\u001b[0m     \u001b[1;32mdef\u001b[0m \u001b[0mclose\u001b[0m\u001b[1;33m(\u001b[0m\u001b[0mself\u001b[0m\u001b[1;33m)\u001b[0m \u001b[1;33m->\u001b[0m \u001b[1;32mNone\u001b[0m\u001b[1;33m:\u001b[0m\u001b[1;33m\u001b[0m\u001b[1;33m\u001b[0m\u001b[0m\n",
      "\u001b[1;32mC:\\ProgramData\\Anaconda3\\lib\\site-packages\\selenium\\webdriver\\remote\\webdriver.py\u001b[0m in \u001b[0;36mexecute\u001b[1;34m(self, driver_command, params)\u001b[0m\n\u001b[0;32m    422\u001b[0m         \u001b[0mresponse\u001b[0m \u001b[1;33m=\u001b[0m \u001b[0mself\u001b[0m\u001b[1;33m.\u001b[0m\u001b[0mcommand_executor\u001b[0m\u001b[1;33m.\u001b[0m\u001b[0mexecute\u001b[0m\u001b[1;33m(\u001b[0m\u001b[0mdriver_command\u001b[0m\u001b[1;33m,\u001b[0m \u001b[0mparams\u001b[0m\u001b[1;33m)\u001b[0m\u001b[1;33m\u001b[0m\u001b[1;33m\u001b[0m\u001b[0m\n\u001b[0;32m    423\u001b[0m         \u001b[1;32mif\u001b[0m \u001b[0mresponse\u001b[0m\u001b[1;33m:\u001b[0m\u001b[1;33m\u001b[0m\u001b[1;33m\u001b[0m\u001b[0m\n\u001b[1;32m--> 424\u001b[1;33m             \u001b[0mself\u001b[0m\u001b[1;33m.\u001b[0m\u001b[0merror_handler\u001b[0m\u001b[1;33m.\u001b[0m\u001b[0mcheck_response\u001b[0m\u001b[1;33m(\u001b[0m\u001b[0mresponse\u001b[0m\u001b[1;33m)\u001b[0m\u001b[1;33m\u001b[0m\u001b[1;33m\u001b[0m\u001b[0m\n\u001b[0m\u001b[0;32m    425\u001b[0m             response['value'] = self._unwrap_value(\n\u001b[0;32m    426\u001b[0m                 response.get('value', None))\n",
      "\u001b[1;32mC:\\ProgramData\\Anaconda3\\lib\\site-packages\\selenium\\webdriver\\remote\\errorhandler.py\u001b[0m in \u001b[0;36mcheck_response\u001b[1;34m(self, response)\u001b[0m\n\u001b[0;32m    245\u001b[0m                 \u001b[0malert_text\u001b[0m \u001b[1;33m=\u001b[0m \u001b[0mvalue\u001b[0m\u001b[1;33m[\u001b[0m\u001b[1;34m'alert'\u001b[0m\u001b[1;33m]\u001b[0m\u001b[1;33m.\u001b[0m\u001b[0mget\u001b[0m\u001b[1;33m(\u001b[0m\u001b[1;34m'text'\u001b[0m\u001b[1;33m)\u001b[0m\u001b[1;33m\u001b[0m\u001b[1;33m\u001b[0m\u001b[0m\n\u001b[0;32m    246\u001b[0m             \u001b[1;32mraise\u001b[0m \u001b[0mexception_class\u001b[0m\u001b[1;33m(\u001b[0m\u001b[0mmessage\u001b[0m\u001b[1;33m,\u001b[0m \u001b[0mscreen\u001b[0m\u001b[1;33m,\u001b[0m \u001b[0mstacktrace\u001b[0m\u001b[1;33m,\u001b[0m \u001b[0malert_text\u001b[0m\u001b[1;33m)\u001b[0m  \u001b[1;31m# type: ignore[call-arg]  # mypy is not smart enough here\u001b[0m\u001b[1;33m\u001b[0m\u001b[1;33m\u001b[0m\u001b[0m\n\u001b[1;32m--> 247\u001b[1;33m         \u001b[1;32mraise\u001b[0m \u001b[0mexception_class\u001b[0m\u001b[1;33m(\u001b[0m\u001b[0mmessage\u001b[0m\u001b[1;33m,\u001b[0m \u001b[0mscreen\u001b[0m\u001b[1;33m,\u001b[0m \u001b[0mstacktrace\u001b[0m\u001b[1;33m)\u001b[0m\u001b[1;33m\u001b[0m\u001b[1;33m\u001b[0m\u001b[0m\n\u001b[0m\u001b[0;32m    248\u001b[0m \u001b[1;33m\u001b[0m\u001b[0m\n\u001b[0;32m    249\u001b[0m     \u001b[1;32mdef\u001b[0m \u001b[0m_value_or_default\u001b[0m\u001b[1;33m(\u001b[0m\u001b[0mself\u001b[0m\u001b[1;33m,\u001b[0m \u001b[0mobj\u001b[0m\u001b[1;33m:\u001b[0m \u001b[0mMapping\u001b[0m\u001b[1;33m[\u001b[0m\u001b[0m_KT\u001b[0m\u001b[1;33m,\u001b[0m \u001b[0m_VT\u001b[0m\u001b[1;33m]\u001b[0m\u001b[1;33m,\u001b[0m \u001b[0mkey\u001b[0m\u001b[1;33m:\u001b[0m \u001b[0m_KT\u001b[0m\u001b[1;33m,\u001b[0m \u001b[0mdefault\u001b[0m\u001b[1;33m:\u001b[0m \u001b[0m_VT\u001b[0m\u001b[1;33m)\u001b[0m \u001b[1;33m->\u001b[0m \u001b[0m_VT\u001b[0m\u001b[1;33m:\u001b[0m\u001b[1;33m\u001b[0m\u001b[1;33m\u001b[0m\u001b[0m\n",
      "\u001b[1;31mWebDriverException\u001b[0m: Message: chrome not reachable\n  (Session info: chrome=98.0.4758.102)\nStacktrace:\nBacktrace:\n\tOrdinal0 [0x002869A3+2582947]\n\tOrdinal0 [0x0021A6D1+2139857]\n\tOrdinal0 [0x00113960+1063264]\n\tOrdinal0 [0x00108092+1015954]\n\tOrdinal0 [0x001088C8+1018056]\n\tOrdinal0 [0x0010A102+1024258]\n\tOrdinal0 [0x00103DE9+998889]\n\tOrdinal0 [0x00114DD0+1068496]\n\tOrdinal0 [0x00167B12+1407762]\n\tOrdinal0 [0x00158366+1344358]\n\tOrdinal0 [0x00135176+1200502]\n\tOrdinal0 [0x00136066+1204326]\n\tGetHandleVerifier [0x0042BE02+1675858]\n\tGetHandleVerifier [0x004E036C+2414524]\n\tGetHandleVerifier [0x0031BB01+560977]\n\tGetHandleVerifier [0x0031A8D3+556323]\n\tOrdinal0 [0x0022020E+2163214]\n\tOrdinal0 [0x00225078+2183288]\n\tOrdinal0 [0x002251C0+2183616]\n\tOrdinal0 [0x0022EE1C+2223644]\n\tBaseThreadInitThunk [0x769FFA29+25]\n\tRtlGetAppContainerNamedObjectPath [0x770E7A9E+286]\n\tRtlGetAppContainerNamedObjectPath [0x770E7A6E+238]\n\t(No symbol) [0x00000000]\n"
     ]
    }
   ],
   "source": [
    "import html5lib\n",
    "\n",
    "result_html = browser.page_source\n",
    "result_soup = BeautifulSoup(result_html, \"html.parser\")\n",
    "tags = result_soup.find_all(\"table\", attrs={\"class\":\"type_2\"})[0]"
   ]
  },
  {
   "cell_type": "code",
   "execution_count": null,
   "metadata": {},
   "outputs": [],
   "source": [
    "# result_soup 변수에 저장된 html 정보 확인\n",
    "result_soup"
   ]
  },
  {
   "cell_type": "code",
   "execution_count": null,
   "metadata": {},
   "outputs": [],
   "source": [
    "# tags 확인\n",
    "tags.text.split()"
   ]
  },
  {
   "cell_type": "code",
   "execution_count": null,
   "metadata": {},
   "outputs": [],
   "source": [
    "# html_parser 패키지 이용해서 변환\n",
    "from html_table_parser import parser_functions as parser\n",
    "html_table = parser.make2d(tags)"
   ]
  },
  {
   "cell_type": "code",
   "execution_count": null,
   "metadata": {},
   "outputs": [],
   "source": [
    "# 컬럼 기준 데이터 변환, 컬럼 제목 지정하고 데이터 프레임으로 변환\n",
    "import pandas as pd\n",
    "df = pd.DataFrame(html_table[1:], columns=html_table[0])\n",
    "df.head()"
   ]
  },
  {
   "cell_type": "code",
   "execution_count": null,
   "metadata": {},
   "outputs": [],
   "source": [
    "df.info()"
   ]
  },
  {
   "cell_type": "code",
   "execution_count": null,
   "metadata": {},
   "outputs": [],
   "source": [
    "df.dropna(inplace=True)\n",
    "df.head()"
   ]
  },
  {
   "cell_type": "code",
   "execution_count": null,
   "metadata": {},
   "outputs": [],
   "source": [
    "df2 = df.copy()"
   ]
  },
  {
   "cell_type": "code",
   "execution_count": null,
   "metadata": {},
   "outputs": [],
   "source": [
    "df2 = df.drop([\"토론실\"], axis=1)\n",
    "df2.head() "
   ]
  },
  {
   "cell_type": "code",
   "execution_count": null,
   "metadata": {},
   "outputs": [],
   "source": [
    "df2.dropna(axis=0)\n",
    "df2.info()"
   ]
  },
  {
   "cell_type": "markdown",
   "metadata": {},
   "source": [
    "- 참고 : https://codesample-factory.tistory.com/1081\n",
    "    - pandas는 값이 np.nan 객체인 경우 null로 인식하며 dataframe에서 `NaN`으로 인쇄\n",
    "    - 누락된 값은 pandas가 null로 인식하지 못하는 빈 문자열일 수도 있다.\n",
    "    - 해결방법 : replace()를 사용하여 빈 셀에 있는 모든 것을 np.nan 객체로 변환한 다음, dropna()를 호출"
   ]
  },
  {
   "cell_type": "code",
   "execution_count": null,
   "metadata": {},
   "outputs": [],
   "source": [
    "import numpy as np\n",
    "df2[:].replace(\"\", np.nan, inplace=True)\n",
    "df2"
   ]
  },
  {
   "cell_type": "code",
   "execution_count": null,
   "metadata": {},
   "outputs": [],
   "source": [
    "df2.dropna(inplace=True)\n",
    "df2.head()"
   ]
  },
  {
   "cell_type": "code",
   "execution_count": null,
   "metadata": {},
   "outputs": [],
   "source": [
    "df2.info()"
   ]
  },
  {
   "cell_type": "code",
   "execution_count": null,
   "metadata": {},
   "outputs": [],
   "source": [
    "df2.to_csv(\"selenium_text.xlsx\")"
   ]
  },
  {
   "cell_type": "code",
   "execution_count": null,
   "metadata": {},
   "outputs": [],
   "source": []
  },
  {
   "cell_type": "markdown",
   "metadata": {},
   "source": [
    "- 전체 페이지에 있는 표 크롤링"
   ]
  },
  {
   "cell_type": "code",
   "execution_count": null,
   "metadata": {},
   "outputs": [],
   "source": [
    "# 현재 페이지\n",
    "curPage = 1\n",
    "\n",
    "# 크롤링할 전체 페이지 수\n",
    "totalPage = 31\n",
    "\n",
    "# url\n",
    "url = \"https://finance.naver.com/sise/sise_market_sum.naver?&page={}\".format(page)\"\n",
    "\n",
    "# table tag 확인\n",
    "result_html = browser.page_source\n",
    "result_soup = BeautifulSoup(result_html, \"html.parser\")\n",
    "tags = result_soup.find_all(\"table\", attrs={\"class\":\"type_2\"})[0]\n",
    "\n",
    "# 컬럼 기준 데이터 변환, 컬럼 제목 지정하고 데이터 프레임으로 변환\n",
    "pd.DataFrame(html_table[1:], columns=html_table[0])"
   ]
  },
  {
   "cell_type": "code",
   "execution_count": null,
   "metadata": {},
   "outputs": [],
   "source": [
    "# # 1 페이지에서 31 페이지가 될 때까지 계속 실행되는 코드 생성\n",
    "# while curPage <= totalPage:\n",
    "#     # 페이지에 있는 내용 저장\n",
    "#     result_html = browser.page_source\n",
    "#     # 각 페이지에 해당하는 내용을 가져오기 위해 BeautifulSoup 생성\n",
    "#     soup = BeautifulSoup(browser.page_source, \"html.parser\")\n",
    "#     # "
   ]
  },
  {
   "cell_type": "code",
   "execution_count": null,
   "metadata": {},
   "outputs": [],
   "source": [
    "from selenium import webdriver\n",
    "from bs4 import BeautifulSoup\n",
    "from html_table_parser import parser_functions as parser\n",
    "import time\n",
    "import pandas as pd\n",
    "import numpy as np\n",
    "\n",
    "def get_tables(page):\n",
    "    url = \"https://finance.naver.com/sise/sise_market_sum.naver\"\n",
    "    browser = webdriver.Chrome(\"data/chromedriver_win32/chromedriver.exe\")    \n",
    "    browser.get(url)\n",
    "    time.sleep(2)\n",
    "\n",
    "    # 초기항목 설정\n",
    "    button = browser.find_element_by_xpath(\"//*[@id='contentarea_left']/div[2]/form/div/div/div/a[2]/img\")\n",
    "    button.click()\n",
    "\n",
    "    # 체크박스 : 시가총액, 영업이익, PER, ROE, ROA, PBR 체크\n",
    "    checkbox = browser.find_element_by_id(\"option1\")\n",
    "    checkbox.click()\n",
    "    checkbox = browser.find_element_by_id(\"option15\")\n",
    "    checkbox.click()\n",
    "    checkbox = browser.find_element_by_id(\"option21\")\n",
    "    checkbox.click()\n",
    "    checkbox = browser.find_element_by_id(\"option5\")\n",
    "    checkbox.click()\n",
    "    checkbox = browser.find_element_by_id(\"option18\")\n",
    "    checkbox.click()\n",
    "    checkbox = browser.find_element_by_id(\"option24\")\n",
    "    checkbox.click()\n",
    "\n",
    "\n",
    "    # 적용하기 클릭\n",
    "    apply_button = browser.find_element_by_xpath(\"//*[@id='contentarea_left']/div[2]/form/div/div/div/a[1]/img\")\n",
    "    apply_button.click()\n",
    "\n",
    "    # 코스닥 설정\n",
    "    kosdaq_btn = browser.find_element_by_xpath(\"//*[@id='contentarea']/div[3]/div/div[2]/a\")\n",
    "    kosdaq_btn.click()\n",
    "\n",
    "    print(f\"    페이지 : {page}\")"
   ]
  },
  {
   "cell_type": "code",
   "execution_count": null,
   "metadata": {},
   "outputs": [],
   "source": [
    "for page in range(1, 32):\n",
    "    # # 현재 페이지\n",
    "    # curPage = 1\n",
    "    # # 크롤링할 전체 페이지 수\n",
    "    # totalPage = 31\n",
    "    \n",
    "    url = \"https://finance.naver.com/sise/sise_market_sum.naver?sosok=1&page={}\".format(page)\n",
    "    browser.get(url)\n",
    "\n",
    "    # html 페이지 소스 확인 \n",
    "    result_html = browser.page_source\n",
    "    # BeautifulSoup으로 페이지 소스 파싱\n",
    "    result_soup = BeautifulSoup(result_soup, \"html.parser\")\n",
    "    # html에서 table tag 확인\n",
    "    tags = result_soup.find_all(\"table\", attrs={\"class\":\"type_2\"})[0]\n",
    "    # html_parser 패키지 이용해서 변환\n",
    "    html_table = parser.make2d(tags)\n",
    "    # 컬럼 기준 데이터 변환, 컬럼 제목 지정하고 데이터 프레임으로 변환\n",
    "    df[page] = pd.DataFrame(html_table[1:], columns=html_table[0])\n",
    "    # 데이터 프레임 concat, 행을 기준으로 이어붙이기\n",
    "    result = pd.concat([df[page], df[page+1]], axis=0, ignore_index=True)\n",
    "    # time.sleep 설정\n",
    "    time.sleep(2)\n",
    "print(result)"
   ]
  },
  {
   "cell_type": "code",
   "execution_count": null,
   "metadata": {},
   "outputs": [],
   "source": []
  }
 ],
 "metadata": {
  "interpreter": {
   "hash": "b3ba2566441a7c06988d0923437866b63cedc61552a5af99d1f4fb67d367b25f"
  },
  "kernelspec": {
   "display_name": "Python 3.8.8 ('base')",
   "language": "python",
   "name": "python3"
  },
  "language_info": {
   "codemirror_mode": {
    "name": "ipython",
    "version": 3
   },
   "file_extension": ".py",
   "mimetype": "text/x-python",
   "name": "python",
   "nbconvert_exporter": "python",
   "pygments_lexer": "ipython3",
   "version": "3.8.8"
  },
  "orig_nbformat": 4
 },
 "nbformat": 4,
 "nbformat_minor": 2
}
