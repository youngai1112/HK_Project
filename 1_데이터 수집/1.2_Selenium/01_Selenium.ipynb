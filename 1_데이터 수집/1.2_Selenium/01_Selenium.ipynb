{
 "cells": [
  {
   "cell_type": "code",
   "execution_count": 15,
   "metadata": {},
   "outputs": [
    {
     "name": "stdout",
     "output_type": "stream",
     "text": [
      "Requirement already satisfied: selenium in c:\\programdata\\anaconda3\\lib\\site-packages (4.1.0)\n",
      "Requirement already satisfied: trio~=0.17 in c:\\programdata\\anaconda3\\lib\\site-packages (from selenium) (0.20.0)\n",
      "Requirement already satisfied: urllib3[secure]~=1.26 in c:\\programdata\\anaconda3\\lib\\site-packages (from selenium) (1.26.4)\n",
      "Requirement already satisfied: trio-websocket~=0.9 in c:\\programdata\\anaconda3\\lib\\site-packages (from selenium) (0.9.2)\n",
      "Requirement already satisfied: sortedcontainers in c:\\programdata\\anaconda3\\lib\\site-packages (from trio~=0.17->selenium) (2.3.0)\n",
      "Requirement already satisfied: cffi>=1.14 in c:\\programdata\\anaconda3\\lib\\site-packages (from trio~=0.17->selenium) (1.14.5)\n",
      "Requirement already satisfied: attrs>=19.2.0 in c:\\programdata\\anaconda3\\lib\\site-packages (from trio~=0.17->selenium) (20.3.0)\n",
      "Requirement already satisfied: idna in c:\\programdata\\anaconda3\\lib\\site-packages (from trio~=0.17->selenium) (2.10)\n",
      "Requirement already satisfied: outcome in c:\\programdata\\anaconda3\\lib\\site-packages (from trio~=0.17->selenium) (1.1.0)\n",
      "Requirement already satisfied: sniffio in c:\\programdata\\anaconda3\\lib\\site-packages (from trio~=0.17->selenium) (1.2.0)\n",
      "Requirement already satisfied: async-generator>=1.9 in c:\\programdata\\anaconda3\\lib\\site-packages (from trio~=0.17->selenium) (1.10)\n",
      "Requirement already satisfied: pycparser in c:\\programdata\\anaconda3\\lib\\site-packages (from cffi>=1.14->trio~=0.17->selenium) (2.20)\n",
      "Requirement already satisfied: wsproto>=0.14 in c:\\programdata\\anaconda3\\lib\\site-packages (from trio-websocket~=0.9->selenium) (1.0.0)\n",
      "Requirement already satisfied: cryptography>=1.3.4 in c:\\programdata\\anaconda3\\lib\\site-packages (from urllib3[secure]~=1.26->selenium) (3.4.7)\n",
      "Requirement already satisfied: pyOpenSSL>=0.14 in c:\\programdata\\anaconda3\\lib\\site-packages (from urllib3[secure]~=1.26->selenium) (20.0.1)\n",
      "Requirement already satisfied: certifi in c:\\programdata\\anaconda3\\lib\\site-packages (from urllib3[secure]~=1.26->selenium) (2020.12.5)\n",
      "Requirement already satisfied: six>=1.5.2 in c:\\programdata\\anaconda3\\lib\\site-packages (from pyOpenSSL>=0.14->urllib3[secure]~=1.26->selenium) (1.15.0)\n",
      "Requirement already satisfied: h11<1,>=0.9.0 in c:\\programdata\\anaconda3\\lib\\site-packages (from wsproto>=0.14->trio-websocket~=0.9->selenium) (0.13.0)\n",
      "Note: you may need to restart the kernel to use updated packages.\n"
     ]
    }
   ],
   "source": [
    "pip install selenium"
   ]
  },
  {
   "cell_type": "code",
   "execution_count": 22,
   "metadata": {},
   "outputs": [
    {
     "name": "stderr",
     "output_type": "stream",
     "text": [
      "<ipython-input-22-1f3a3d409b4f>:4: DeprecationWarning: executable_path has been deprecated, please pass in a Service object\n",
      "  browser = webdriver.Chrome(\"data/chromedriver_win32/chromedriver.exe\")\n"
     ]
    }
   ],
   "source": [
    "from selenium import webdriver\n",
    "\n",
    "url = \"https://finance.naver.com/sise/sise_market_sum.naver\"\n",
    "browser = webdriver.Chrome(\"data/chromedriver_win32/chromedriver.exe\")    \n",
    "browser.get(url)"
   ]
  },
  {
   "cell_type": "markdown",
   "metadata": {},
   "source": [
    "- table > tbody > tr > td 로 표를 추출하는 방법 O\n",
    "- html_parser 패키지를 이용해서 표를 추출"
   ]
  },
  {
   "cell_type": "code",
   "execution_count": 38,
   "metadata": {},
   "outputs": [],
   "source": [
    "from bs4 import BeautifulSoup\n",
    "\n",
    "result_html = browser.page_source\n",
    "result_soup = BeautifulSoup(result_html, \"html.parser\")\n",
    "tags = result_soup.find_all(\"table\", attrs={\"class\":\"type_2\"})"
   ]
  },
  {
   "cell_type": "code",
   "execution_count": 27,
   "metadata": {},
   "outputs": [
    {
     "name": "stderr",
     "output_type": "stream",
     "text": [
      "<ipython-input-27-c75548d0c04f>:1: DeprecationWarning: find_element_by_* commands are deprecated. Please use find_element() instead\n",
      "  button = browser.find_element_by_xpath(\"//*[@id='contentarea_left']/div[2]/form/div/div/div/a[2]/img\")\n"
     ]
    }
   ],
   "source": [
    "# 초기항목 설정\n",
    "button = browser.find_element_by_xpath(\"//*[@id='contentarea_left']/div[2]/form/div/div/div/a[2]/img\")\n",
    "button.click()"
   ]
  },
  {
   "cell_type": "code",
   "execution_count": 31,
   "metadata": {},
   "outputs": [
    {
     "name": "stderr",
     "output_type": "stream",
     "text": [
      "<ipython-input-31-dd0f73822a87>:2: DeprecationWarning: find_element_by_* commands are deprecated. Please use find_element() instead\n",
      "  checkbox = browser.find_element_by_id(\"option1\")\n",
      "<ipython-input-31-dd0f73822a87>:4: DeprecationWarning: find_element_by_* commands are deprecated. Please use find_element() instead\n",
      "  checkbox = browser.find_element_by_id(\"option15\")\n",
      "<ipython-input-31-dd0f73822a87>:6: DeprecationWarning: find_element_by_* commands are deprecated. Please use find_element() instead\n",
      "  checkbox = browser.find_element_by_id(\"option21\")\n",
      "<ipython-input-31-dd0f73822a87>:8: DeprecationWarning: find_element_by_* commands are deprecated. Please use find_element() instead\n",
      "  checkbox = browser.find_element_by_id(\"option5\")\n",
      "<ipython-input-31-dd0f73822a87>:10: DeprecationWarning: find_element_by_* commands are deprecated. Please use find_element() instead\n",
      "  checkbox = browser.find_element_by_id(\"option18\")\n",
      "<ipython-input-31-dd0f73822a87>:12: DeprecationWarning: find_element_by_* commands are deprecated. Please use find_element() instead\n",
      "  checkbox = browser.find_element_by_id(\"option24\")\n"
     ]
    }
   ],
   "source": [
    "# 체크박스 : 시가총액, 영업이익, PER, ROE, ROA, PBR 체크\n",
    "checkbox = browser.find_element_by_id(\"option1\")\n",
    "checkbox.click()\n",
    "checkbox = browser.find_element_by_id(\"option15\")\n",
    "checkbox.click()\n",
    "checkbox = browser.find_element_by_id(\"option21\")\n",
    "checkbox.click()\n",
    "checkbox = browser.find_element_by_id(\"option5\")\n",
    "checkbox.click()\n",
    "checkbox = browser.find_element_by_id(\"option18\")\n",
    "checkbox.click()\n",
    "checkbox = browser.find_element_by_id(\"option24\")\n",
    "checkbox.click()"
   ]
  },
  {
   "cell_type": "code",
   "execution_count": 33,
   "metadata": {},
   "outputs": [
    {
     "name": "stderr",
     "output_type": "stream",
     "text": [
      "<ipython-input-33-b250150e68bd>:2: DeprecationWarning: find_element_by_* commands are deprecated. Please use find_element() instead\n",
      "  apply_button = browser.find_element_by_xpath(\"//*[@id='contentarea_left']/div[2]/form/div/div/div/a[1]/img\")\n"
     ]
    }
   ],
   "source": [
    "# 적용하기 클릭\n",
    "apply_button = browser.find_element_by_xpath(\"//*[@id='contentarea_left']/div[2]/form/div/div/div/a[1]/img\")\n",
    "apply_button.click()"
   ]
  },
  {
   "cell_type": "code",
   "execution_count": 37,
   "metadata": {},
   "outputs": [
    {
     "name": "stderr",
     "output_type": "stream",
     "text": [
      "<ipython-input-37-720841956351>:2: DeprecationWarning: find_element_by_* commands are deprecated. Please use find_element() instead\n",
      "  kosdaq_btn = browser.find_element_by_xpath(\"//*[@id='contentarea']/div[3]/div/div[2]/a\")\n"
     ]
    }
   ],
   "source": [
    "# 코스닥 설정\n",
    "kosdaq_btn = browser.find_element_by_xpath(\"//*[@id='contentarea']/div[3]/div/div[2]/a\")\n",
    "kosdaq_btn.click()"
   ]
  },
  {
   "cell_type": "code",
   "execution_count": 40,
   "metadata": {},
   "outputs": [
    {
     "ename": "AttributeError",
     "evalue": "type object 'HTMLTableParser' has no attribute 'make2d'",
     "output_type": "error",
     "traceback": [
      "\u001b[1;31m---------------------------------------------------------------------------\u001b[0m",
      "\u001b[1;31mAttributeError\u001b[0m                            Traceback (most recent call last)",
      "\u001b[1;32m<ipython-input-40-861240a7bfe3>\u001b[0m in \u001b[0;36m<module>\u001b[1;34m\u001b[0m\n\u001b[0;32m      1\u001b[0m \u001b[1;31m# html_parser 패키지 이용해서 변환\u001b[0m\u001b[1;33m\u001b[0m\u001b[1;33m\u001b[0m\u001b[1;33m\u001b[0m\u001b[0m\n\u001b[0;32m      2\u001b[0m \u001b[1;32mfrom\u001b[0m \u001b[0mhtml_table_parser\u001b[0m \u001b[1;32mimport\u001b[0m \u001b[0mHTMLTableParser\u001b[0m \u001b[1;32mas\u001b[0m \u001b[0mparser\u001b[0m\u001b[1;33m\u001b[0m\u001b[1;33m\u001b[0m\u001b[0m\n\u001b[1;32m----> 3\u001b[1;33m \u001b[0mhtml_table\u001b[0m \u001b[1;33m=\u001b[0m \u001b[0mparser\u001b[0m\u001b[1;33m.\u001b[0m\u001b[0mmake2d\u001b[0m\u001b[1;33m(\u001b[0m\u001b[0mtags\u001b[0m\u001b[1;33m)\u001b[0m\u001b[1;33m\u001b[0m\u001b[1;33m\u001b[0m\u001b[0m\n\u001b[0m",
      "\u001b[1;31mAttributeError\u001b[0m: type object 'HTMLTableParser' has no attribute 'make2d'"
     ]
    }
   ],
   "source": [
    "# html_parser 패키지 이용해서 변환\n",
    "from html_table_parser import HTMLTableParser as parser\n",
    "html_table = parser."
   ]
  },
  {
   "cell_type": "code",
   "execution_count": null,
   "metadata": {},
   "outputs": [],
   "source": []
  }
 ],
 "metadata": {
  "interpreter": {
   "hash": "b3ba2566441a7c06988d0923437866b63cedc61552a5af99d1f4fb67d367b25f"
  },
  "kernelspec": {
   "display_name": "Python 3.8.8 ('base')",
   "language": "python",
   "name": "python3"
  },
  "language_info": {
   "codemirror_mode": {
    "name": "ipython",
    "version": 3
   },
   "file_extension": ".py",
   "mimetype": "text/x-python",
   "name": "python",
   "nbconvert_exporter": "python",
   "pygments_lexer": "ipython3",
   "version": "3.8.8"
  },
  "orig_nbformat": 4
 },
 "nbformat": 4,
 "nbformat_minor": 2
}
