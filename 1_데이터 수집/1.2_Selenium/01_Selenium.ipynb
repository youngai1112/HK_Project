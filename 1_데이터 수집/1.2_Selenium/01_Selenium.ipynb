{
 "cells": [
  {
   "cell_type": "code",
   "execution_count": 15,
   "metadata": {},
   "outputs": [
    {
     "name": "stdout",
     "output_type": "stream",
     "text": [
      "Requirement already satisfied: selenium in c:\\programdata\\anaconda3\\lib\\site-packages (4.1.0)\n",
      "Requirement already satisfied: trio~=0.17 in c:\\programdata\\anaconda3\\lib\\site-packages (from selenium) (0.20.0)\n",
      "Requirement already satisfied: urllib3[secure]~=1.26 in c:\\programdata\\anaconda3\\lib\\site-packages (from selenium) (1.26.4)\n",
      "Requirement already satisfied: trio-websocket~=0.9 in c:\\programdata\\anaconda3\\lib\\site-packages (from selenium) (0.9.2)\n",
      "Requirement already satisfied: sortedcontainers in c:\\programdata\\anaconda3\\lib\\site-packages (from trio~=0.17->selenium) (2.3.0)\n",
      "Requirement already satisfied: cffi>=1.14 in c:\\programdata\\anaconda3\\lib\\site-packages (from trio~=0.17->selenium) (1.14.5)\n",
      "Requirement already satisfied: attrs>=19.2.0 in c:\\programdata\\anaconda3\\lib\\site-packages (from trio~=0.17->selenium) (20.3.0)\n",
      "Requirement already satisfied: idna in c:\\programdata\\anaconda3\\lib\\site-packages (from trio~=0.17->selenium) (2.10)\n",
      "Requirement already satisfied: outcome in c:\\programdata\\anaconda3\\lib\\site-packages (from trio~=0.17->selenium) (1.1.0)\n",
      "Requirement already satisfied: sniffio in c:\\programdata\\anaconda3\\lib\\site-packages (from trio~=0.17->selenium) (1.2.0)\n",
      "Requirement already satisfied: async-generator>=1.9 in c:\\programdata\\anaconda3\\lib\\site-packages (from trio~=0.17->selenium) (1.10)\n",
      "Requirement already satisfied: pycparser in c:\\programdata\\anaconda3\\lib\\site-packages (from cffi>=1.14->trio~=0.17->selenium) (2.20)\n",
      "Requirement already satisfied: wsproto>=0.14 in c:\\programdata\\anaconda3\\lib\\site-packages (from trio-websocket~=0.9->selenium) (1.0.0)\n",
      "Requirement already satisfied: cryptography>=1.3.4 in c:\\programdata\\anaconda3\\lib\\site-packages (from urllib3[secure]~=1.26->selenium) (3.4.7)\n",
      "Requirement already satisfied: pyOpenSSL>=0.14 in c:\\programdata\\anaconda3\\lib\\site-packages (from urllib3[secure]~=1.26->selenium) (20.0.1)\n",
      "Requirement already satisfied: certifi in c:\\programdata\\anaconda3\\lib\\site-packages (from urllib3[secure]~=1.26->selenium) (2020.12.5)\n",
      "Requirement already satisfied: six>=1.5.2 in c:\\programdata\\anaconda3\\lib\\site-packages (from pyOpenSSL>=0.14->urllib3[secure]~=1.26->selenium) (1.15.0)\n",
      "Requirement already satisfied: h11<1,>=0.9.0 in c:\\programdata\\anaconda3\\lib\\site-packages (from wsproto>=0.14->trio-websocket~=0.9->selenium) (0.13.0)\n",
      "Note: you may need to restart the kernel to use updated packages.\n"
     ]
    }
   ],
   "source": [
    "pip install selenium"
   ]
  },
  {
   "cell_type": "code",
   "execution_count": 22,
   "metadata": {},
   "outputs": [
    {
     "name": "stderr",
     "output_type": "stream",
     "text": [
      "<ipython-input-22-1f3a3d409b4f>:4: DeprecationWarning: executable_path has been deprecated, please pass in a Service object\n",
      "  browser = webdriver.Chrome(\"data/chromedriver_win32/chromedriver.exe\")\n"
     ]
    }
   ],
   "source": [
    "from selenium import webdriver\n",
    "\n",
    "url = \"https://finance.naver.com/sise/sise_market_sum.naver\"\n",
    "browser = webdriver.Chrome(\"data/chromedriver_win32/chromedriver.exe\")    \n",
    "browser.get(url)"
   ]
  },
  {
   "cell_type": "code",
   "execution_count": 27,
   "metadata": {},
   "outputs": [
    {
     "name": "stderr",
     "output_type": "stream",
     "text": [
      "<ipython-input-27-c75548d0c04f>:1: DeprecationWarning: find_element_by_* commands are deprecated. Please use find_element() instead\n",
      "  button = browser.find_element_by_xpath(\"//*[@id='contentarea_left']/div[2]/form/div/div/div/a[2]/img\")\n"
     ]
    }
   ],
   "source": [
    "# 초기항목 설정\n",
    "button = browser.find_element_by_xpath(\"//*[@id='contentarea_left']/div[2]/form/div/div/div/a[2]/img\")\n",
    "button.click()"
   ]
  },
  {
   "cell_type": "code",
   "execution_count": 31,
   "metadata": {},
   "outputs": [
    {
     "name": "stderr",
     "output_type": "stream",
     "text": [
      "<ipython-input-31-dd0f73822a87>:2: DeprecationWarning: find_element_by_* commands are deprecated. Please use find_element() instead\n",
      "  checkbox = browser.find_element_by_id(\"option1\")\n",
      "<ipython-input-31-dd0f73822a87>:4: DeprecationWarning: find_element_by_* commands are deprecated. Please use find_element() instead\n",
      "  checkbox = browser.find_element_by_id(\"option15\")\n",
      "<ipython-input-31-dd0f73822a87>:6: DeprecationWarning: find_element_by_* commands are deprecated. Please use find_element() instead\n",
      "  checkbox = browser.find_element_by_id(\"option21\")\n",
      "<ipython-input-31-dd0f73822a87>:8: DeprecationWarning: find_element_by_* commands are deprecated. Please use find_element() instead\n",
      "  checkbox = browser.find_element_by_id(\"option5\")\n",
      "<ipython-input-31-dd0f73822a87>:10: DeprecationWarning: find_element_by_* commands are deprecated. Please use find_element() instead\n",
      "  checkbox = browser.find_element_by_id(\"option18\")\n",
      "<ipython-input-31-dd0f73822a87>:12: DeprecationWarning: find_element_by_* commands are deprecated. Please use find_element() instead\n",
      "  checkbox = browser.find_element_by_id(\"option24\")\n"
     ]
    }
   ],
   "source": [
    "# 체크박스 : 시가총액, 영업이익, PER, ROE, ROA, PBR 체크\n",
    "checkbox = browser.find_element_by_id(\"option1\")\n",
    "checkbox.click()\n",
    "checkbox = browser.find_element_by_id(\"option15\")\n",
    "checkbox.click()\n",
    "checkbox = browser.find_element_by_id(\"option21\")\n",
    "checkbox.click()\n",
    "checkbox = browser.find_element_by_id(\"option5\")\n",
    "checkbox.click()\n",
    "checkbox = browser.find_element_by_id(\"option18\")\n",
    "checkbox.click()\n",
    "checkbox = browser.find_element_by_id(\"option24\")\n",
    "checkbox.click()"
   ]
  },
  {
   "cell_type": "code",
   "execution_count": 33,
   "metadata": {},
   "outputs": [
    {
     "name": "stderr",
     "output_type": "stream",
     "text": [
      "<ipython-input-33-b250150e68bd>:2: DeprecationWarning: find_element_by_* commands are deprecated. Please use find_element() instead\n",
      "  apply_button = browser.find_element_by_xpath(\"//*[@id='contentarea_left']/div[2]/form/div/div/div/a[1]/img\")\n"
     ]
    }
   ],
   "source": [
    "# 적용하기 클릭\n",
    "apply_button = browser.find_element_by_xpath(\"//*[@id='contentarea_left']/div[2]/form/div/div/div/a[1]/img\")\n",
    "apply_button.click()"
   ]
  },
  {
   "cell_type": "code",
   "execution_count": 37,
   "metadata": {},
   "outputs": [
    {
     "name": "stderr",
     "output_type": "stream",
     "text": [
      "<ipython-input-37-720841956351>:2: DeprecationWarning: find_element_by_* commands are deprecated. Please use find_element() instead\n",
      "  kosdaq_btn = browser.find_element_by_xpath(\"//*[@id='contentarea']/div[3]/div/div[2]/a\")\n"
     ]
    }
   ],
   "source": [
    "# 코스닥 설정\n",
    "kosdaq_btn = browser.find_element_by_xpath(\"//*[@id='contentarea']/div[3]/div/div[2]/a\")\n",
    "kosdaq_btn.click()"
   ]
  },
  {
   "cell_type": "markdown",
   "metadata": {},
   "source": [
    "- html.parser 사용 -> datatable 만들기\n",
    "    - 기존에 import 된 BeautifulSoup은 4.6.0으로 html_table_parser 패키지의 parser_functions 사용 불가\n",
    "    - 해당 기능을 사용하기 위해 4.4.1로 downgrade함"
   ]
  },
  {
   "cell_type": "markdown",
   "metadata": {},
   "source": [
    "- 참고 : https://tariat.tistory.com/793"
   ]
  },
  {
   "cell_type": "code",
   "execution_count": 55,
   "metadata": {},
   "outputs": [
    {
     "name": "stdout",
     "output_type": "stream",
     "text": [
      "Requirement already satisfied: beautifulsoup4==4.4.1 in c:\\programdata\\anaconda3\\lib\\site-packages (4.4.1)\n",
      "Note: you may need to restart the kernel to use updated packages.\n"
     ]
    }
   ],
   "source": [
    "pip install beautifulsoup4==4.4.1"
   ]
  },
  {
   "cell_type": "code",
   "execution_count": 50,
   "metadata": {},
   "outputs": [
    {
     "name": "stdout",
     "output_type": "stream",
     "text": [
      "Collecting html_table_parser\n",
      "  Using cached html_table_parser-0.1.0-py3-none-any.whl\n",
      "Collecting beautifulsoup4==4.4.1\n",
      "  Using cached beautifulsoup4-4.4.1-py3-none-any.whl (81 kB)\n",
      "Installing collected packages: beautifulsoup4, html-table-parser\n",
      "  Attempting uninstall: beautifulsoup4\n",
      "    Found existing installation: beautifulsoup4 4.10.0\n",
      "    Uninstalling beautifulsoup4-4.10.0:\n",
      "Note: you may need to restart the kernel to use updated packages.\n"
     ]
    },
    {
     "name": "stderr",
     "output_type": "stream",
     "text": [
      "ERROR: Could not install packages due to an OSError: [WinError 5] 액세스가 거부되었습니다: 'c:\\\\programdata\\\\anaconda3\\\\lib\\\\site-packages\\\\beautifulsoup4-4.10.0.dist-info\\\\AUTHORS'\n",
      "Consider using the `--user` option or check the permissions.\n",
      "\n"
     ]
    }
   ],
   "source": [
    "pip install html_table_parser"
   ]
  },
  {
   "cell_type": "code",
   "execution_count": 59,
   "metadata": {},
   "outputs": [],
   "source": [
    "# from bs4 import BeautifulSoup\n",
    "\n",
    "result_html = browser.page_source\n",
    "result_soup = BeautifulSoup(result_html, \"html.parser\")\n",
    "tags = result_soup.find_all(\"table\", attrs={\"class\":\"type_2\"})[0]"
   ]
  },
  {
   "cell_type": "code",
   "execution_count": 60,
   "metadata": {},
   "outputs": [],
   "source": [
    "# html_parser 패키지 이용해서 변환\n",
    "from html_table_parser import parser_functions as parser\n",
    "html_table = parser.make2d(tags)"
   ]
  },
  {
   "cell_type": "code",
   "execution_count": 62,
   "metadata": {},
   "outputs": [
    {
     "data": {
      "text/html": [
       "<div>\n",
       "<style scoped>\n",
       "    .dataframe tbody tr th:only-of-type {\n",
       "        vertical-align: middle;\n",
       "    }\n",
       "\n",
       "    .dataframe tbody tr th {\n",
       "        vertical-align: top;\n",
       "    }\n",
       "\n",
       "    .dataframe thead th {\n",
       "        text-align: right;\n",
       "    }\n",
       "</style>\n",
       "<table border=\"1\" class=\"dataframe\">\n",
       "  <thead>\n",
       "    <tr style=\"text-align: right;\">\n",
       "      <th></th>\n",
       "      <th>N</th>\n",
       "      <th>종목명</th>\n",
       "      <th>현재가</th>\n",
       "      <th>전일비</th>\n",
       "      <th>등락률</th>\n",
       "      <th>액면가</th>\n",
       "      <th>시가총액</th>\n",
       "      <th>영업이익</th>\n",
       "      <th>PER</th>\n",
       "      <th>ROE</th>\n",
       "      <th>ROA</th>\n",
       "      <th>PBR</th>\n",
       "      <th>토론실</th>\n",
       "    </tr>\n",
       "  </thead>\n",
       "  <tbody>\n",
       "    <tr>\n",
       "      <th>0</th>\n",
       "      <td></td>\n",
       "      <td></td>\n",
       "      <td></td>\n",
       "      <td></td>\n",
       "      <td></td>\n",
       "      <td></td>\n",
       "      <td></td>\n",
       "      <td></td>\n",
       "      <td></td>\n",
       "      <td></td>\n",
       "      <td>None</td>\n",
       "      <td>None</td>\n",
       "      <td>None</td>\n",
       "    </tr>\n",
       "    <tr>\n",
       "      <th>1</th>\n",
       "      <td>1</td>\n",
       "      <td>셀트리온헬스케어</td>\n",
       "      <td>62,900</td>\n",
       "      <td>600</td>\n",
       "      <td>-0.94%</td>\n",
       "      <td>1,000</td>\n",
       "      <td>97,533</td>\n",
       "      <td>3,621</td>\n",
       "      <td>59.34</td>\n",
       "      <td>13.36</td>\n",
       "      <td>7.30</td>\n",
       "      <td>4.85</td>\n",
       "      <td></td>\n",
       "    </tr>\n",
       "    <tr>\n",
       "      <th>2</th>\n",
       "      <td>2</td>\n",
       "      <td>에코프로비엠</td>\n",
       "      <td>393,500</td>\n",
       "      <td>18,300</td>\n",
       "      <td>+4.88%</td>\n",
       "      <td>500</td>\n",
       "      <td>90,188</td>\n",
       "      <td>548</td>\n",
       "      <td>105.84</td>\n",
       "      <td>N/A</td>\n",
       "      <td>N/A</td>\n",
       "      <td>16.75</td>\n",
       "      <td></td>\n",
       "    </tr>\n",
       "    <tr>\n",
       "      <th>3</th>\n",
       "      <td>3</td>\n",
       "      <td>엘앤에프</td>\n",
       "      <td>202,500</td>\n",
       "      <td>7,500</td>\n",
       "      <td>+3.85%</td>\n",
       "      <td>500</td>\n",
       "      <td>70,491</td>\n",
       "      <td>15</td>\n",
       "      <td>-179.68</td>\n",
       "      <td>-9.39</td>\n",
       "      <td>-3.40</td>\n",
       "      <td>8.97</td>\n",
       "      <td></td>\n",
       "    </tr>\n",
       "    <tr>\n",
       "      <th>4</th>\n",
       "      <td>4</td>\n",
       "      <td>펄어비스</td>\n",
       "      <td>100,600</td>\n",
       "      <td>5,500</td>\n",
       "      <td>+5.78%</td>\n",
       "      <td>100</td>\n",
       "      <td>66,619</td>\n",
       "      <td>1,573</td>\n",
       "      <td>128.97</td>\n",
       "      <td>16.45</td>\n",
       "      <td>11.43</td>\n",
       "      <td>8.59</td>\n",
       "      <td></td>\n",
       "    </tr>\n",
       "  </tbody>\n",
       "</table>\n",
       "</div>"
      ],
      "text/plain": [
       "   N       종목명      현재가     전일비     등락률    액면가    시가총액   영업이익      PER    ROE  \\\n",
       "0                                                                               \n",
       "1  1  셀트리온헬스케어   62,900     600  -0.94%  1,000  97,533  3,621    59.34  13.36   \n",
       "2  2    에코프로비엠  393,500  18,300  +4.88%    500  90,188    548   105.84    N/A   \n",
       "3  3      엘앤에프  202,500   7,500  +3.85%    500  70,491     15  -179.68  -9.39   \n",
       "4  4      펄어비스  100,600   5,500  +5.78%    100  66,619  1,573   128.97  16.45   \n",
       "\n",
       "     ROA    PBR   토론실  \n",
       "0   None   None  None  \n",
       "1   7.30   4.85        \n",
       "2    N/A  16.75        \n",
       "3  -3.40   8.97        \n",
       "4  11.43   8.59        "
      ]
     },
     "execution_count": 62,
     "metadata": {},
     "output_type": "execute_result"
    }
   ],
   "source": [
    "# 컬럼 기준 데이터 변환, 컬럼 제목 지정하고 데이터 프레임으로 변환\n",
    "import pandas as pd\n",
    "df = pd.DataFrame(html_table[1:], columns=html_table[0])\n",
    "df.head()"
   ]
  },
  {
   "cell_type": "code",
   "execution_count": 65,
   "metadata": {},
   "outputs": [
    {
     "name": "stdout",
     "output_type": "stream",
     "text": [
      "<class 'pandas.core.frame.DataFrame'>\n",
      "RangeIndex: 81 entries, 0 to 80\n",
      "Data columns (total 13 columns):\n",
      " #   Column  Non-Null Count  Dtype \n",
      "---  ------  --------------  ----- \n",
      " 0   N       81 non-null     object\n",
      " 1   종목명     81 non-null     object\n",
      " 2   현재가     81 non-null     object\n",
      " 3   전일비     81 non-null     object\n",
      " 4   등락률     81 non-null     object\n",
      " 5   액면가     81 non-null     object\n",
      " 6   시가총액    81 non-null     object\n",
      " 7   영업이익    81 non-null     object\n",
      " 8   PER     81 non-null     object\n",
      " 9   ROE     81 non-null     object\n",
      " 10  ROA     80 non-null     object\n",
      " 11  PBR     80 non-null     object\n",
      " 12  토론실     80 non-null     object\n",
      "dtypes: object(13)\n",
      "memory usage: 8.4+ KB\n"
     ]
    }
   ],
   "source": [
    "df.info()"
   ]
  },
  {
   "cell_type": "code",
   "execution_count": 66,
   "metadata": {},
   "outputs": [
    {
     "data": {
      "text/html": [
       "<div>\n",
       "<style scoped>\n",
       "    .dataframe tbody tr th:only-of-type {\n",
       "        vertical-align: middle;\n",
       "    }\n",
       "\n",
       "    .dataframe tbody tr th {\n",
       "        vertical-align: top;\n",
       "    }\n",
       "\n",
       "    .dataframe thead th {\n",
       "        text-align: right;\n",
       "    }\n",
       "</style>\n",
       "<table border=\"1\" class=\"dataframe\">\n",
       "  <thead>\n",
       "    <tr style=\"text-align: right;\">\n",
       "      <th></th>\n",
       "      <th>N</th>\n",
       "      <th>종목명</th>\n",
       "      <th>현재가</th>\n",
       "      <th>전일비</th>\n",
       "      <th>등락률</th>\n",
       "      <th>액면가</th>\n",
       "      <th>시가총액</th>\n",
       "      <th>영업이익</th>\n",
       "      <th>PER</th>\n",
       "      <th>ROE</th>\n",
       "      <th>ROA</th>\n",
       "      <th>PBR</th>\n",
       "      <th>토론실</th>\n",
       "    </tr>\n",
       "  </thead>\n",
       "  <tbody>\n",
       "    <tr>\n",
       "      <th>1</th>\n",
       "      <td>1</td>\n",
       "      <td>셀트리온헬스케어</td>\n",
       "      <td>62,900</td>\n",
       "      <td>600</td>\n",
       "      <td>-0.94%</td>\n",
       "      <td>1,000</td>\n",
       "      <td>97,533</td>\n",
       "      <td>3,621</td>\n",
       "      <td>59.34</td>\n",
       "      <td>13.36</td>\n",
       "      <td>7.30</td>\n",
       "      <td>4.85</td>\n",
       "      <td></td>\n",
       "    </tr>\n",
       "    <tr>\n",
       "      <th>2</th>\n",
       "      <td>2</td>\n",
       "      <td>에코프로비엠</td>\n",
       "      <td>393,500</td>\n",
       "      <td>18,300</td>\n",
       "      <td>+4.88%</td>\n",
       "      <td>500</td>\n",
       "      <td>90,188</td>\n",
       "      <td>548</td>\n",
       "      <td>105.84</td>\n",
       "      <td>N/A</td>\n",
       "      <td>N/A</td>\n",
       "      <td>16.75</td>\n",
       "      <td></td>\n",
       "    </tr>\n",
       "    <tr>\n",
       "      <th>3</th>\n",
       "      <td>3</td>\n",
       "      <td>엘앤에프</td>\n",
       "      <td>202,500</td>\n",
       "      <td>7,500</td>\n",
       "      <td>+3.85%</td>\n",
       "      <td>500</td>\n",
       "      <td>70,491</td>\n",
       "      <td>15</td>\n",
       "      <td>-179.68</td>\n",
       "      <td>-9.39</td>\n",
       "      <td>-3.40</td>\n",
       "      <td>8.97</td>\n",
       "      <td></td>\n",
       "    </tr>\n",
       "    <tr>\n",
       "      <th>4</th>\n",
       "      <td>4</td>\n",
       "      <td>펄어비스</td>\n",
       "      <td>100,600</td>\n",
       "      <td>5,500</td>\n",
       "      <td>+5.78%</td>\n",
       "      <td>100</td>\n",
       "      <td>66,619</td>\n",
       "      <td>1,573</td>\n",
       "      <td>128.97</td>\n",
       "      <td>16.45</td>\n",
       "      <td>11.43</td>\n",
       "      <td>8.59</td>\n",
       "      <td></td>\n",
       "    </tr>\n",
       "    <tr>\n",
       "      <th>5</th>\n",
       "      <td>5</td>\n",
       "      <td>카카오게임즈</td>\n",
       "      <td>75,500</td>\n",
       "      <td>2,000</td>\n",
       "      <td>+2.72%</td>\n",
       "      <td>100</td>\n",
       "      <td>58,661</td>\n",
       "      <td>665</td>\n",
       "      <td>57.99</td>\n",
       "      <td>12.12</td>\n",
       "      <td>7.10</td>\n",
       "      <td>3.97</td>\n",
       "      <td></td>\n",
       "    </tr>\n",
       "  </tbody>\n",
       "</table>\n",
       "</div>"
      ],
      "text/plain": [
       "   N       종목명      현재가     전일비     등락률    액면가    시가총액   영업이익      PER    ROE  \\\n",
       "1  1  셀트리온헬스케어   62,900     600  -0.94%  1,000  97,533  3,621    59.34  13.36   \n",
       "2  2    에코프로비엠  393,500  18,300  +4.88%    500  90,188    548   105.84    N/A   \n",
       "3  3      엘앤에프  202,500   7,500  +3.85%    500  70,491     15  -179.68  -9.39   \n",
       "4  4      펄어비스  100,600   5,500  +5.78%    100  66,619  1,573   128.97  16.45   \n",
       "5  5    카카오게임즈   75,500   2,000  +2.72%    100  58,661    665    57.99  12.12   \n",
       "\n",
       "     ROA    PBR 토론실  \n",
       "1   7.30   4.85      \n",
       "2    N/A  16.75      \n",
       "3  -3.40   8.97      \n",
       "4  11.43   8.59      \n",
       "5   7.10   3.97      "
      ]
     },
     "execution_count": 66,
     "metadata": {},
     "output_type": "execute_result"
    }
   ],
   "source": [
    "df.dropna(inplace=True)\n",
    "df.head()"
   ]
  },
  {
   "cell_type": "code",
   "execution_count": 70,
   "metadata": {},
   "outputs": [],
   "source": [
    "df2 = df.copy()"
   ]
  },
  {
   "cell_type": "code",
   "execution_count": 72,
   "metadata": {},
   "outputs": [
    {
     "data": {
      "text/html": [
       "<div>\n",
       "<style scoped>\n",
       "    .dataframe tbody tr th:only-of-type {\n",
       "        vertical-align: middle;\n",
       "    }\n",
       "\n",
       "    .dataframe tbody tr th {\n",
       "        vertical-align: top;\n",
       "    }\n",
       "\n",
       "    .dataframe thead th {\n",
       "        text-align: right;\n",
       "    }\n",
       "</style>\n",
       "<table border=\"1\" class=\"dataframe\">\n",
       "  <thead>\n",
       "    <tr style=\"text-align: right;\">\n",
       "      <th></th>\n",
       "      <th>N</th>\n",
       "      <th>종목명</th>\n",
       "      <th>현재가</th>\n",
       "      <th>전일비</th>\n",
       "      <th>등락률</th>\n",
       "      <th>액면가</th>\n",
       "      <th>시가총액</th>\n",
       "      <th>영업이익</th>\n",
       "      <th>PER</th>\n",
       "      <th>ROE</th>\n",
       "      <th>ROA</th>\n",
       "      <th>PBR</th>\n",
       "    </tr>\n",
       "  </thead>\n",
       "  <tbody>\n",
       "    <tr>\n",
       "      <th>1</th>\n",
       "      <td>1</td>\n",
       "      <td>셀트리온헬스케어</td>\n",
       "      <td>62,900</td>\n",
       "      <td>600</td>\n",
       "      <td>-0.94%</td>\n",
       "      <td>1,000</td>\n",
       "      <td>97,533</td>\n",
       "      <td>3,621</td>\n",
       "      <td>59.34</td>\n",
       "      <td>13.36</td>\n",
       "      <td>7.30</td>\n",
       "      <td>4.85</td>\n",
       "    </tr>\n",
       "    <tr>\n",
       "      <th>2</th>\n",
       "      <td>2</td>\n",
       "      <td>에코프로비엠</td>\n",
       "      <td>393,500</td>\n",
       "      <td>18,300</td>\n",
       "      <td>+4.88%</td>\n",
       "      <td>500</td>\n",
       "      <td>90,188</td>\n",
       "      <td>548</td>\n",
       "      <td>105.84</td>\n",
       "      <td>N/A</td>\n",
       "      <td>N/A</td>\n",
       "      <td>16.75</td>\n",
       "    </tr>\n",
       "    <tr>\n",
       "      <th>3</th>\n",
       "      <td>3</td>\n",
       "      <td>엘앤에프</td>\n",
       "      <td>202,500</td>\n",
       "      <td>7,500</td>\n",
       "      <td>+3.85%</td>\n",
       "      <td>500</td>\n",
       "      <td>70,491</td>\n",
       "      <td>15</td>\n",
       "      <td>-179.68</td>\n",
       "      <td>-9.39</td>\n",
       "      <td>-3.40</td>\n",
       "      <td>8.97</td>\n",
       "    </tr>\n",
       "    <tr>\n",
       "      <th>4</th>\n",
       "      <td>4</td>\n",
       "      <td>펄어비스</td>\n",
       "      <td>100,600</td>\n",
       "      <td>5,500</td>\n",
       "      <td>+5.78%</td>\n",
       "      <td>100</td>\n",
       "      <td>66,619</td>\n",
       "      <td>1,573</td>\n",
       "      <td>128.97</td>\n",
       "      <td>16.45</td>\n",
       "      <td>11.43</td>\n",
       "      <td>8.59</td>\n",
       "    </tr>\n",
       "    <tr>\n",
       "      <th>5</th>\n",
       "      <td>5</td>\n",
       "      <td>카카오게임즈</td>\n",
       "      <td>75,500</td>\n",
       "      <td>2,000</td>\n",
       "      <td>+2.72%</td>\n",
       "      <td>100</td>\n",
       "      <td>58,661</td>\n",
       "      <td>665</td>\n",
       "      <td>57.99</td>\n",
       "      <td>12.12</td>\n",
       "      <td>7.10</td>\n",
       "      <td>3.97</td>\n",
       "    </tr>\n",
       "  </tbody>\n",
       "</table>\n",
       "</div>"
      ],
      "text/plain": [
       "   N       종목명      현재가     전일비     등락률    액면가    시가총액   영업이익      PER    ROE  \\\n",
       "1  1  셀트리온헬스케어   62,900     600  -0.94%  1,000  97,533  3,621    59.34  13.36   \n",
       "2  2    에코프로비엠  393,500  18,300  +4.88%    500  90,188    548   105.84    N/A   \n",
       "3  3      엘앤에프  202,500   7,500  +3.85%    500  70,491     15  -179.68  -9.39   \n",
       "4  4      펄어비스  100,600   5,500  +5.78%    100  66,619  1,573   128.97  16.45   \n",
       "5  5    카카오게임즈   75,500   2,000  +2.72%    100  58,661    665    57.99  12.12   \n",
       "\n",
       "     ROA    PBR  \n",
       "1   7.30   4.85  \n",
       "2    N/A  16.75  \n",
       "3  -3.40   8.97  \n",
       "4  11.43   8.59  \n",
       "5   7.10   3.97  "
      ]
     },
     "execution_count": 72,
     "metadata": {},
     "output_type": "execute_result"
    }
   ],
   "source": [
    "df2 = df.drop([\"토론실\"], axis=1)\n",
    "df2.head() "
   ]
  },
  {
   "cell_type": "code",
   "execution_count": null,
   "metadata": {},
   "outputs": [],
   "source": [
    "df2"
   ]
  },
  {
   "cell_type": "code",
   "execution_count": 68,
   "metadata": {},
   "outputs": [],
   "source": [
    "df.to_csv(\"selenium_text.xlsx\")"
   ]
  },
  {
   "cell_type": "code",
   "execution_count": null,
   "metadata": {},
   "outputs": [],
   "source": []
  }
 ],
 "metadata": {
  "interpreter": {
   "hash": "b3ba2566441a7c06988d0923437866b63cedc61552a5af99d1f4fb67d367b25f"
  },
  "kernelspec": {
   "display_name": "Python 3.8.8 ('base')",
   "language": "python",
   "name": "python3"
  },
  "language_info": {
   "codemirror_mode": {
    "name": "ipython",
    "version": 3
   },
   "file_extension": ".py",
   "mimetype": "text/x-python",
   "name": "python",
   "nbconvert_exporter": "python",
   "pygments_lexer": "ipython3",
   "version": "3.8.8"
  },
  "orig_nbformat": 4
 },
 "nbformat": 4,
 "nbformat_minor": 2
}
