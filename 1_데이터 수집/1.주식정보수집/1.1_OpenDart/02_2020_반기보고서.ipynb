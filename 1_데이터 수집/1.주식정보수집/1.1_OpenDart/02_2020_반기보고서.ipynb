{
 "cells": [
  {
   "cell_type": "code",
   "execution_count": 1,
   "metadata": {},
   "outputs": [],
   "source": [
    "import pandas as pd\n",
    "import warnings\n",
    "warnings.filterwarnings(\"ignore\")"
   ]
  },
  {
   "cell_type": "code",
   "execution_count": 3,
   "metadata": {},
   "outputs": [
    {
     "data": {
      "text/html": [
       "<div>\n",
       "<style scoped>\n",
       "    .dataframe tbody tr th:only-of-type {\n",
       "        vertical-align: middle;\n",
       "    }\n",
       "\n",
       "    .dataframe tbody tr th {\n",
       "        vertical-align: top;\n",
       "    }\n",
       "\n",
       "    .dataframe thead th {\n",
       "        text-align: right;\n",
       "    }\n",
       "</style>\n",
       "<table border=\"1\" class=\"dataframe\">\n",
       "  <thead>\n",
       "    <tr style=\"text-align: right;\">\n",
       "      <th></th>\n",
       "      <th>재무제표종류</th>\n",
       "      <th>종목코드</th>\n",
       "      <th>회사명</th>\n",
       "      <th>시장구분</th>\n",
       "      <th>업종</th>\n",
       "      <th>업종명</th>\n",
       "      <th>결산월</th>\n",
       "      <th>결산기준일</th>\n",
       "      <th>보고서종류</th>\n",
       "      <th>통화</th>\n",
       "      <th>항목코드</th>\n",
       "      <th>항목명</th>\n",
       "      <th>당기 반기말</th>\n",
       "      <th>전기말</th>\n",
       "      <th>전전기말</th>\n",
       "      <th>Unnamed: 15</th>\n",
       "    </tr>\n",
       "  </thead>\n",
       "  <tbody>\n",
       "    <tr>\n",
       "      <th>0</th>\n",
       "      <td>재무상태표, 유동/비유동법-별도재무제표</td>\n",
       "      <td>[060310]</td>\n",
       "      <td>3S</td>\n",
       "      <td>코스닥시장상장법인</td>\n",
       "      <td>292</td>\n",
       "      <td>특수 목적용 기계 제조업</td>\n",
       "      <td>3</td>\n",
       "      <td>2020-09-30</td>\n",
       "      <td>반기보고서</td>\n",
       "      <td>KRW</td>\n",
       "      <td>ifrs-full_AssetsAbstract</td>\n",
       "      <td>자산 [abstract]</td>\n",
       "      <td>NaN</td>\n",
       "      <td>NaN</td>\n",
       "      <td>NaN</td>\n",
       "      <td>NaN</td>\n",
       "    </tr>\n",
       "    <tr>\n",
       "      <th>1</th>\n",
       "      <td>재무상태표, 유동/비유동법-별도재무제표</td>\n",
       "      <td>[060310]</td>\n",
       "      <td>3S</td>\n",
       "      <td>코스닥시장상장법인</td>\n",
       "      <td>292</td>\n",
       "      <td>특수 목적용 기계 제조업</td>\n",
       "      <td>3</td>\n",
       "      <td>2020-09-30</td>\n",
       "      <td>반기보고서</td>\n",
       "      <td>KRW</td>\n",
       "      <td>ifrs-full_CurrentAssets</td>\n",
       "      <td>유동자산</td>\n",
       "      <td>17,849,787,349</td>\n",
       "      <td>18,023,023,716</td>\n",
       "      <td>NaN</td>\n",
       "      <td>NaN</td>\n",
       "    </tr>\n",
       "  </tbody>\n",
       "</table>\n",
       "</div>"
      ],
      "text/plain": [
       "                  재무제표종류      종목코드 회사명       시장구분   업종            업종명  결산월  \\\n",
       "0  재무상태표, 유동/비유동법-별도재무제표  [060310]  3S  코스닥시장상장법인  292  특수 목적용 기계 제조업    3   \n",
       "1  재무상태표, 유동/비유동법-별도재무제표  [060310]  3S  코스닥시장상장법인  292  특수 목적용 기계 제조업    3   \n",
       "\n",
       "        결산기준일  보고서종류   통화                      항목코드            항목명  \\\n",
       "0  2020-09-30  반기보고서  KRW  ifrs-full_AssetsAbstract  자산 [abstract]   \n",
       "1  2020-09-30  반기보고서  KRW   ifrs-full_CurrentAssets           유동자산   \n",
       "\n",
       "           당기 반기말             전기말  전전기말  Unnamed: 15  \n",
       "0             NaN             NaN   NaN          NaN  \n",
       "1  17,849,787,349  18,023,023,716   NaN          NaN  "
      ]
     },
     "execution_count": 3,
     "metadata": {},
     "output_type": "execute_result"
    }
   ],
   "source": [
    "df = pd.read_csv(\"../data/2020_반기보고서_01_재무상태표_20211102.txt\", encoding=\"euc-kr\", sep=\"\\t\")\n",
    "df.head(2)"
   ]
  },
  {
   "cell_type": "code",
   "execution_count": 4,
   "metadata": {},
   "outputs": [
    {
     "name": "stdout",
     "output_type": "stream",
     "text": [
      "<class 'pandas.core.frame.DataFrame'>\n",
      "RangeIndex: 89464 entries, 0 to 89463\n",
      "Data columns (total 16 columns):\n",
      " #   Column       Non-Null Count  Dtype  \n",
      "---  ------       --------------  -----  \n",
      " 0   재무제표종류       89464 non-null  object \n",
      " 1   종목코드         89464 non-null  object \n",
      " 2   회사명          89464 non-null  object \n",
      " 3   시장구분         89464 non-null  object \n",
      " 4   업종           89464 non-null  int64  \n",
      " 5   업종명          89464 non-null  object \n",
      " 6   결산월          89464 non-null  int64  \n",
      " 7   결산기준일        89464 non-null  object \n",
      " 8   보고서종류        89464 non-null  object \n",
      " 9   통화           89464 non-null  object \n",
      " 10  항목코드         89464 non-null  object \n",
      " 11  항목명          89464 non-null  object \n",
      " 12  당기 반기말       81741 non-null  object \n",
      " 13  전기말          81475 non-null  object \n",
      " 14  전전기말         0 non-null      float64\n",
      " 15  Unnamed: 15  0 non-null      float64\n",
      "dtypes: float64(2), int64(2), object(12)\n",
      "memory usage: 10.9+ MB\n"
     ]
    }
   ],
   "source": [
    "df.info()"
   ]
  },
  {
   "cell_type": "code",
   "execution_count": 5,
   "metadata": {},
   "outputs": [
    {
     "data": {
      "text/plain": [
       "(89464, 16)"
      ]
     },
     "execution_count": 5,
     "metadata": {},
     "output_type": "execute_result"
    }
   ],
   "source": [
    "df.shape"
   ]
  },
  {
   "cell_type": "code",
   "execution_count": 6,
   "metadata": {},
   "outputs": [
    {
     "data": {
      "text/html": [
       "<div>\n",
       "<style scoped>\n",
       "    .dataframe tbody tr th:only-of-type {\n",
       "        vertical-align: middle;\n",
       "    }\n",
       "\n",
       "    .dataframe tbody tr th {\n",
       "        vertical-align: top;\n",
       "    }\n",
       "\n",
       "    .dataframe thead th {\n",
       "        text-align: right;\n",
       "    }\n",
       "</style>\n",
       "<table border=\"1\" class=\"dataframe\">\n",
       "  <thead>\n",
       "    <tr style=\"text-align: right;\">\n",
       "      <th></th>\n",
       "      <th>종목코드</th>\n",
       "      <th>회사명</th>\n",
       "      <th>업종</th>\n",
       "      <th>업종명</th>\n",
       "      <th>항목명</th>\n",
       "      <th>당기 반기말</th>\n",
       "    </tr>\n",
       "  </thead>\n",
       "  <tbody>\n",
       "    <tr>\n",
       "      <th>0</th>\n",
       "      <td>[060310]</td>\n",
       "      <td>3S</td>\n",
       "      <td>292</td>\n",
       "      <td>특수 목적용 기계 제조업</td>\n",
       "      <td>자산 [abstract]</td>\n",
       "      <td>NaN</td>\n",
       "    </tr>\n",
       "    <tr>\n",
       "      <th>1</th>\n",
       "      <td>[060310]</td>\n",
       "      <td>3S</td>\n",
       "      <td>292</td>\n",
       "      <td>특수 목적용 기계 제조업</td>\n",
       "      <td>유동자산</td>\n",
       "      <td>17,849,787,349</td>\n",
       "    </tr>\n",
       "  </tbody>\n",
       "</table>\n",
       "</div>"
      ],
      "text/plain": [
       "       종목코드 회사명   업종            업종명            항목명          당기 반기말\n",
       "0  [060310]  3S  292  특수 목적용 기계 제조업  자산 [abstract]             NaN\n",
       "1  [060310]  3S  292  특수 목적용 기계 제조업           유동자산  17,849,787,349"
      ]
     },
     "execution_count": 6,
     "metadata": {},
     "output_type": "execute_result"
    }
   ],
   "source": [
    "df = df[[\"종목코드\", \"회사명\", \"업종\", \"업종명\", \"항목명\", \"당기 반기말\"]]\n",
    "df.head(2)"
   ]
  },
  {
   "cell_type": "markdown",
   "metadata": {},
   "source": [
    "- 전처리"
   ]
  },
  {
   "cell_type": "code",
   "execution_count": null,
   "metadata": {},
   "outputs": [],
   "source": []
  }
 ],
 "metadata": {
  "interpreter": {
   "hash": "b3ba2566441a7c06988d0923437866b63cedc61552a5af99d1f4fb67d367b25f"
  },
  "kernelspec": {
   "display_name": "Python 3.8.8 ('base')",
   "language": "python",
   "name": "python3"
  },
  "language_info": {
   "codemirror_mode": {
    "name": "ipython",
    "version": 3
   },
   "file_extension": ".py",
   "mimetype": "text/x-python",
   "name": "python",
   "nbconvert_exporter": "python",
   "pygments_lexer": "ipython3",
   "version": "3.8.8"
  },
  "orig_nbformat": 4
 },
 "nbformat": 4,
 "nbformat_minor": 2
}
