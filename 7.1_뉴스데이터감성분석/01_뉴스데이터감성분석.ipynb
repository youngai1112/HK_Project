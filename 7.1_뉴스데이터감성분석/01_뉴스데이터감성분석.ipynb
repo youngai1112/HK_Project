{
 "cells": [
  {
   "cell_type": "markdown",
   "metadata": {},
   "source": [
    "- 참고 : https://sieon-dev.tistory.com/15"
   ]
  },
  {
   "cell_type": "markdown",
   "metadata": {},
   "source": [
    "## 1. 모듈 import (필요없는 모듈 삭제, 필요한 모듈 추가하면서 진행)\n",
    "- pandas\n",
    "- numpy\n",
    "- matplotlib\n",
    "- re\n",
    "- konlpy\n",
    "- tensorflow\n",
    "- seaborn\n",
    "- pandas_profiling"
   ]
  },
  {
   "cell_type": "code",
   "execution_count": 21,
   "metadata": {},
   "outputs": [],
   "source": [
    "import sys\n",
    "import pandas as pd\n",
    "import numpy as np\n",
    "import matplotlib.pyplot as plt\n",
    "import re\n",
    "from konlpy.tag import Okt\n",
    "from tqdm import tqdm\n",
    "import tensorflow\n",
    "from tensorflow.keras.preprocessing.text import Tokenizer\n",
    "from tensorflow.keras.preprocessing.sequence import pad_sequences\n",
    "import warnings\n",
    "warnings.filterwarnings(\"ignore\")\n",
    "import seaborn as sns\n",
    "import pandas_profiling"
   ]
  },
  {
   "cell_type": "code",
   "execution_count": 41,
   "metadata": {},
   "outputs": [],
   "source": [
    "import sklearn\n",
    "from sklearn.model_selection import train_test_split"
   ]
  },
  {
   "cell_type": "code",
   "execution_count": 52,
   "metadata": {},
   "outputs": [],
   "source": [
    "import collections\n",
    "from collections import Counter"
   ]
  },
  {
   "cell_type": "code",
   "execution_count": 71,
   "metadata": {},
   "outputs": [],
   "source": [
    "import exchange_calendars as ecals\n",
    "import datetime\n",
    "import time"
   ]
  },
  {
   "cell_type": "markdown",
   "metadata": {},
   "source": [
    "### 1-1. 파이썬 & 모듈 버전 확인 (필요없는 모듈 삭제, 필요한 모듈 추가하면서 진행)"
   ]
  },
  {
   "cell_type": "code",
   "execution_count": 74,
   "metadata": {},
   "outputs": [
    {
     "name": "stdout",
     "output_type": "stream",
     "text": [
      " python version :  3.8.8 (default, Apr 13 2021, 15:08:03) [MSC v.1916 64 bit (AMD64)] \n",
      " ----------------------------------------------------------------------------------------------------\n",
      " pandas version :  1.2.4 \n",
      " ----------------------------------------------------------------------------------------------------\n",
      " numpy version :  1.20.1 \n",
      " ----------------------------------------------------------------------------------------------------\n",
      " re version :  2.2.1 \n",
      " ----------------------------------------------------------------------------------------------------\n",
      " tensorflow version :  2.3.0 \n",
      " ----------------------------------------------------------------------------------------------------\n",
      " seaborn version :  0.11.1 \n",
      " ----------------------------------------------------------------------------------------------------\n",
      " pandas_profiling version :  2.9.0 \n",
      " ----------------------------------------------------------------------------------------------------\n",
      " sklearn version :  0.24.1 \n",
      " ----------------------------------------------------------------------------------------------------\n",
      " exhange_calendars version :  3.6.1 \n",
      " ----------------------------------------------------------------------------------------------------\n"
     ]
    }
   ],
   "source": [
    "print(\" python version : \", sys.version, \"\\n\", \"-\" * 100)\n",
    "print(\" pandas version : \", pd.__version__, \"\\n\", \"-\" * 100)\n",
    "print(\" numpy version : \", np.__version__, \"\\n\", \"-\" * 100)\n",
    "print(\" re version : \", re.__version__, \"\\n\", \"-\" * 100)\n",
    "print(\" tensorflow version : \", tensorflow.__version__, \"\\n\", \"-\" * 100)\n",
    "print(\" seaborn version : \", sns.__version__, \"\\n\", \"-\" * 100)\n",
    "print(\" pandas_profiling version : \", pandas_profiling.__version__, \"\\n\", \"-\" * 100)\n",
    "print(\" sklearn version : \", sklearn.__version__, \"\\n\", \"-\" * 100)\n",
    "print(\" exhange_calendars version : \", ecals.__version__, \"\\n\", \"-\" * 100)"
   ]
  },
  {
   "cell_type": "markdown",
   "metadata": {},
   "source": [
    "### 1-2. 컴퓨터 사양 확인"
   ]
  },
  {
   "cell_type": "markdown",
   "metadata": {},
   "source": [
    "![](2022-03-24-13-31-45.png)"
   ]
  },
  {
   "cell_type": "markdown",
   "metadata": {},
   "source": [
    "## 2. 데이터 불러오기"
   ]
  },
  {
   "cell_type": "code",
   "execution_count": 91,
   "metadata": {},
   "outputs": [
    {
     "data": {
      "text/html": [
       "<div>\n",
       "<style scoped>\n",
       "    .dataframe tbody tr th:only-of-type {\n",
       "        vertical-align: middle;\n",
       "    }\n",
       "\n",
       "    .dataframe tbody tr th {\n",
       "        vertical-align: top;\n",
       "    }\n",
       "\n",
       "    .dataframe thead th {\n",
       "        text-align: right;\n",
       "    }\n",
       "</style>\n",
       "<table border=\"1\" class=\"dataframe\">\n",
       "  <thead>\n",
       "    <tr style=\"text-align: right;\">\n",
       "      <th></th>\n",
       "      <th>date</th>\n",
       "      <th>title</th>\n",
       "    </tr>\n",
       "  </thead>\n",
       "  <tbody>\n",
       "    <tr>\n",
       "      <th>58439</th>\n",
       "      <td>20151019</td>\n",
       "      <td>[특징주]제주반도체, 美·中 대규모 투자유치에 '上'</td>\n",
       "    </tr>\n",
       "    <tr>\n",
       "      <th>58440</th>\n",
       "      <td>20151019</td>\n",
       "      <td>[반도체] 2016 반도체 투자 감소 예상 - 미래</td>\n",
       "    </tr>\n",
       "    <tr>\n",
       "      <th>58441</th>\n",
       "      <td>20151019</td>\n",
       "      <td>제주반도체, '해외투자유치설' 조회공시 요구</td>\n",
       "    </tr>\n",
       "  </tbody>\n",
       "</table>\n",
       "</div>"
      ],
      "text/plain": [
       "           date                          title\n",
       "58439  20151019  [특징주]제주반도체, 美·中 대규모 투자유치에 '上'\n",
       "58440  20151019   [반도체] 2016 반도체 투자 감소 예상 - 미래\n",
       "58441  20151019       제주반도체, '해외투자유치설' 조회공시 요구"
      ]
     },
     "execution_count": 91,
     "metadata": {},
     "output_type": "execute_result"
    }
   ],
   "source": [
    "# 뉴스데이터 불러오기\n",
    "newsdata = pd.read_csv(\"../data/Newsfile3.csv\", encoding='euc-kr')\n",
    "newsdata.tail(3)"
   ]
  },
  {
   "cell_type": "markdown",
   "metadata": {},
   "source": [
    "### 2-1. 휴장일 데이터 매칭"
   ]
  },
  {
   "cell_type": "code",
   "execution_count": 93,
   "metadata": {},
   "outputs": [
    {
     "name": "stdout",
     "output_type": "stream",
     "text": [
      "<class 'pandas.core.frame.DataFrame'>\n",
      "RangeIndex: 58442 entries, 0 to 58441\n",
      "Data columns (total 2 columns):\n",
      " #   Column  Non-Null Count  Dtype \n",
      "---  ------  --------------  ----- \n",
      " 0   date    58442 non-null  int64 \n",
      " 1   title   58442 non-null  object\n",
      "dtypes: int64(1), object(1)\n",
      "memory usage: 913.3+ KB\n"
     ]
    }
   ],
   "source": [
    "# newsdata의 datatype 확인\n",
    "newsdata.info()"
   ]
  },
  {
   "cell_type": "markdown",
   "metadata": {},
   "source": [
    "- type 변환"
   ]
  },
  {
   "cell_type": "code",
   "execution_count": 94,
   "metadata": {},
   "outputs": [
    {
     "name": "stdout",
     "output_type": "stream",
     "text": [
      "<class 'pandas.core.frame.DataFrame'>\n",
      "RangeIndex: 58442 entries, 0 to 58441\n",
      "Data columns (total 2 columns):\n",
      " #   Column  Non-Null Count  Dtype \n",
      "---  ------  --------------  ----- \n",
      " 0   date    58442 non-null  string\n",
      " 1   title   58442 non-null  object\n",
      "dtypes: object(1), string(1)\n",
      "memory usage: 913.3+ KB\n"
     ]
    }
   ],
   "source": [
    "# datatype : int -> string\n",
    "newsdata = newsdata.astype({'date':'string'})\n",
    "newsdata.info()"
   ]
  },
  {
   "cell_type": "code",
   "execution_count": 95,
   "metadata": {},
   "outputs": [
    {
     "name": "stdout",
     "output_type": "stream",
     "text": [
      "<class 'pandas.core.frame.DataFrame'>\n",
      "RangeIndex: 58442 entries, 0 to 58441\n",
      "Data columns (total 2 columns):\n",
      " #   Column  Non-Null Count  Dtype         \n",
      "---  ------  --------------  -----         \n",
      " 0   date    58442 non-null  datetime64[ns]\n",
      " 1   title   58442 non-null  object        \n",
      "dtypes: datetime64[ns](1), object(1)\n",
      "memory usage: 913.3+ KB\n"
     ]
    }
   ],
   "source": [
    "# datatype : string -> datetime\n",
    "newsdata['date'] = pd.to_datetime(newsdata['date'])\n",
    "newsdata.info()"
   ]
  },
  {
   "cell_type": "markdown",
   "metadata": {},
   "source": [
    "- 뉴스데이터의 처음 날짜와 마지막 날짜 확인"
   ]
  },
  {
   "cell_type": "code",
   "execution_count": 96,
   "metadata": {},
   "outputs": [
    {
     "name": "stdout",
     "output_type": "stream",
     "text": [
      "2022-03-16 00:00:00 58441   2015-10-19\n",
      "Name: date, dtype: datetime64[ns]\n"
     ]
    }
   ],
   "source": [
    "first_date = newsdata['date'][0]\n",
    "last_date = newsdata['date'][-1:]\n",
    "print(first_date, last_date)"
   ]
  },
  {
   "cell_type": "code",
   "execution_count": 97,
   "metadata": {},
   "outputs": [
    {
     "data": {
      "text/html": [
       "<div>\n",
       "<style scoped>\n",
       "    .dataframe tbody tr th:only-of-type {\n",
       "        vertical-align: middle;\n",
       "    }\n",
       "\n",
       "    .dataframe tbody tr th {\n",
       "        vertical-align: top;\n",
       "    }\n",
       "\n",
       "    .dataframe thead th {\n",
       "        text-align: right;\n",
       "    }\n",
       "</style>\n",
       "<table border=\"1\" class=\"dataframe\">\n",
       "  <thead>\n",
       "    <tr style=\"text-align: right;\">\n",
       "      <th></th>\n",
       "      <th>date</th>\n",
       "      <th>title</th>\n",
       "    </tr>\n",
       "  </thead>\n",
       "  <tbody>\n",
       "    <tr>\n",
       "      <th>0</th>\n",
       "      <td>2022-03-16</td>\n",
       "      <td>유럽 반도체 공급망 지원 호응… 인텔, 10년간 110조 통큰 투자</td>\n",
       "    </tr>\n",
       "    <tr>\n",
       "      <th>1</th>\n",
       "      <td>2022-03-16</td>\n",
       "      <td>반도체 또다시 ‘쩐의 전쟁‘…인텔 “유럽 전역에 110조 투자”</td>\n",
       "    </tr>\n",
       "    <tr>\n",
       "      <th>2</th>\n",
       "      <td>2022-03-16</td>\n",
       "      <td>“韓, 세계 2위 中수입시장 비중 줄어…반도체 외 돌파구 필요”</td>\n",
       "    </tr>\n",
       "    <tr>\n",
       "      <th>3</th>\n",
       "      <td>2022-03-16</td>\n",
       "      <td>[특징주] 코리아써키트, 반도체 패키지기판 성장 기대감에 5%↑</td>\n",
       "    </tr>\n",
       "    <tr>\n",
       "      <th>4</th>\n",
       "      <td>2022-03-16</td>\n",
       "      <td>[특징주] 반도체 대장주 강세…SK하이닉스, 2% 넘게 상승</td>\n",
       "    </tr>\n",
       "    <tr>\n",
       "      <th>...</th>\n",
       "      <td>...</td>\n",
       "      <td>...</td>\n",
       "    </tr>\n",
       "    <tr>\n",
       "      <th>58437</th>\n",
       "      <td>2015-10-19</td>\n",
       "      <td>세계 반도체 M&amp;A 1006억달러</td>\n",
       "    </tr>\n",
       "    <tr>\n",
       "      <th>58438</th>\n",
       "      <td>2015-10-19</td>\n",
       "      <td>반도체社 인수·합병 봇물…올 들어 1000억달러 돌파</td>\n",
       "    </tr>\n",
       "    <tr>\n",
       "      <th>58439</th>\n",
       "      <td>2015-10-19</td>\n",
       "      <td>[특징주]제주반도체, 美·中 대규모 투자유치에 '上'</td>\n",
       "    </tr>\n",
       "    <tr>\n",
       "      <th>58440</th>\n",
       "      <td>2015-10-19</td>\n",
       "      <td>[반도체] 2016 반도체 투자 감소 예상 - 미래</td>\n",
       "    </tr>\n",
       "    <tr>\n",
       "      <th>58441</th>\n",
       "      <td>2015-10-19</td>\n",
       "      <td>제주반도체, '해외투자유치설' 조회공시 요구</td>\n",
       "    </tr>\n",
       "  </tbody>\n",
       "</table>\n",
       "<p>58442 rows × 2 columns</p>\n",
       "</div>"
      ],
      "text/plain": [
       "            date                                  title\n",
       "0     2022-03-16  유럽 반도체 공급망 지원 호응… 인텔, 10년간 110조 통큰 투자\n",
       "1     2022-03-16    반도체 또다시 ‘쩐의 전쟁‘…인텔 “유럽 전역에 110조 투자”\n",
       "2     2022-03-16    “韓, 세계 2위 中수입시장 비중 줄어…반도체 외 돌파구 필요”\n",
       "3     2022-03-16    [특징주] 코리아써키트, 반도체 패키지기판 성장 기대감에 5%↑\n",
       "4     2022-03-16      [특징주] 반도체 대장주 강세…SK하이닉스, 2% 넘게 상승\n",
       "...          ...                                    ...\n",
       "58437 2015-10-19                     세계 반도체 M&A 1006억달러\n",
       "58438 2015-10-19          반도체社 인수·합병 봇물…올 들어 1000억달러 돌파\n",
       "58439 2015-10-19          [특징주]제주반도체, 美·中 대규모 투자유치에 '上'\n",
       "58440 2015-10-19           [반도체] 2016 반도체 투자 감소 예상 - 미래\n",
       "58441 2015-10-19               제주반도체, '해외투자유치설' 조회공시 요구\n",
       "\n",
       "[58442 rows x 2 columns]"
      ]
     },
     "execution_count": 97,
     "metadata": {},
     "output_type": "execute_result"
    }
   ],
   "source": [
    "# newsdata -> newsdata_all : 처음 날짜와 마지막 날짜가 포함된 데이터로 이름 변결\n",
    "newsdata_all = newsdata[newsdata['date'].between('2015-10-19', '2022-03-16')]\n",
    "newsdata_all"
   ]
  },
  {
   "cell_type": "markdown",
   "metadata": {},
   "source": [
    "- 리스트로 변환"
   ]
  },
  {
   "cell_type": "code",
   "execution_count": 98,
   "metadata": {},
   "outputs": [
    {
     "data": {
      "text/plain": [
       "[Timestamp('2022-03-16 00:00:00'),\n",
       " Timestamp('2022-03-16 00:00:00'),\n",
       " Timestamp('2022-03-16 00:00:00'),\n",
       " Timestamp('2022-03-16 00:00:00'),\n",
       " Timestamp('2022-03-16 00:00:00')]"
      ]
     },
     "execution_count": 98,
     "metadata": {},
     "output_type": "execute_result"
    }
   ],
   "source": [
    "# 'date' 컬럼 리스트로 변경\n",
    "news = newsdata_all['date'].to_list()\n",
    "news[:5]"
   ]
  },
  {
   "cell_type": "markdown",
   "metadata": {},
   "source": [
    "### 2-2. 한국 거래소 개장일 확인"
   ]
  },
  {
   "cell_type": "code",
   "execution_count": 99,
   "metadata": {},
   "outputs": [
    {
     "name": "stdout",
     "output_type": "stream",
     "text": [
      "2021-01-01 개장 확인:  False\n",
      "오늘날짜 개장일 확인:  True\n",
      "다음 개장일 날짜 확인:  2022-03-25 00:00:00+00:00\n"
     ]
    }
   ],
   "source": [
    "# 한국코드\n",
    "XKRX = ecals.get_calendar(\"XKRX\")       \n",
    "# 2021-01-01은 개장일인지 확인 : 'False' -> 휴장일 , 'True' -> 개장일\n",
    "print(\"2021-01-01 개장 확인: \", XKRX.is_session('2021-01-01'))    \n",
    "# 오늘(22-03-24)은 개장일인지 확인 :'False' -> 휴장일 , 'True' -> 개장일\n",
    "print(\"오늘날짜 개장일 확인: \", XKRX.is_session(datetime.date.today().strftime('%Y-%m-%d')))  \n",
    "# 다음 개장일은 언제인지 확인\n",
    "print(\"다음 개장일 날짜 확인: \", XKRX.next_open(pd.Timestamp.today().strftime('%Y-%m-%d')))"
   ]
  },
  {
   "cell_type": "code",
   "execution_count": 100,
   "metadata": {},
   "outputs": [],
   "source": [
    "# 뉴스데이터 날짜 다음날에 해당하는 개장일 날짜 확인\n",
    "next_open_list = []\n",
    "\n",
    "for day in news:\n",
    "    next_open_date = XKRX.next_open(day)\n",
    "    next_open_list.append(next_open_date)"
   ]
  },
  {
   "cell_type": "code",
   "execution_count": 101,
   "metadata": {},
   "outputs": [
    {
     "data": {
      "text/plain": [
       "[Timestamp('2022-03-17 00:00:00+0000', tz='UTC'),\n",
       " Timestamp('2022-03-17 00:00:00+0000', tz='UTC'),\n",
       " Timestamp('2022-03-17 00:00:00+0000', tz='UTC'),\n",
       " Timestamp('2022-03-17 00:00:00+0000', tz='UTC'),\n",
       " Timestamp('2022-03-17 00:00:00+0000', tz='UTC')]"
      ]
     },
     "execution_count": 101,
     "metadata": {},
     "output_type": "execute_result"
    }
   ],
   "source": [
    "next_open_list[:5]"
   ]
  },
  {
   "cell_type": "code",
   "execution_count": 103,
   "metadata": {},
   "outputs": [
    {
     "data": {
      "text/html": [
       "<div>\n",
       "<style scoped>\n",
       "    .dataframe tbody tr th:only-of-type {\n",
       "        vertical-align: middle;\n",
       "    }\n",
       "\n",
       "    .dataframe tbody tr th {\n",
       "        vertical-align: top;\n",
       "    }\n",
       "\n",
       "    .dataframe thead th {\n",
       "        text-align: right;\n",
       "    }\n",
       "</style>\n",
       "<table border=\"1\" class=\"dataframe\">\n",
       "  <thead>\n",
       "    <tr style=\"text-align: right;\">\n",
       "      <th></th>\n",
       "      <th>date</th>\n",
       "      <th>title</th>\n",
       "      <th>NextOpenDate</th>\n",
       "    </tr>\n",
       "  </thead>\n",
       "  <tbody>\n",
       "    <tr>\n",
       "      <th>0</th>\n",
       "      <td>2022-03-16</td>\n",
       "      <td>유럽 반도체 공급망 지원 호응… 인텔, 10년간 110조 통큰 투자</td>\n",
       "      <td>2022-03-17 00:00:00+00:00</td>\n",
       "    </tr>\n",
       "    <tr>\n",
       "      <th>1</th>\n",
       "      <td>2022-03-16</td>\n",
       "      <td>반도체 또다시 ‘쩐의 전쟁‘…인텔 “유럽 전역에 110조 투자”</td>\n",
       "      <td>2022-03-17 00:00:00+00:00</td>\n",
       "    </tr>\n",
       "    <tr>\n",
       "      <th>2</th>\n",
       "      <td>2022-03-16</td>\n",
       "      <td>“韓, 세계 2위 中수입시장 비중 줄어…반도체 외 돌파구 필요”</td>\n",
       "      <td>2022-03-17 00:00:00+00:00</td>\n",
       "    </tr>\n",
       "  </tbody>\n",
       "</table>\n",
       "</div>"
      ],
      "text/plain": [
       "        date                                  title              NextOpenDate\n",
       "0 2022-03-16  유럽 반도체 공급망 지원 호응… 인텔, 10년간 110조 통큰 투자 2022-03-17 00:00:00+00:00\n",
       "1 2022-03-16    반도체 또다시 ‘쩐의 전쟁‘…인텔 “유럽 전역에 110조 투자” 2022-03-17 00:00:00+00:00\n",
       "2 2022-03-16    “韓, 세계 2위 中수입시장 비중 줄어…반도체 외 돌파구 필요” 2022-03-17 00:00:00+00:00"
      ]
     },
     "execution_count": 103,
     "metadata": {},
     "output_type": "execute_result"
    }
   ],
   "source": [
    "# 뉴스나온 날짜 다음 개장일 컬럼 추가\n",
    "newsdata_all['NextOpenDate'] = next_open_list\n",
    "newsdata_all.head(3)"
   ]
  },
  {
   "cell_type": "code",
   "execution_count": 104,
   "metadata": {},
   "outputs": [
    {
     "name": "stdout",
     "output_type": "stream",
     "text": [
      "<class 'pandas.core.frame.DataFrame'>\n",
      "Int64Index: 58442 entries, 0 to 58441\n",
      "Data columns (total 3 columns):\n",
      " #   Column        Non-Null Count  Dtype              \n",
      "---  ------        --------------  -----              \n",
      " 0   date          58442 non-null  datetime64[ns]     \n",
      " 1   title         58442 non-null  object             \n",
      " 2   NextOpenDate  58442 non-null  datetime64[ns, UTC]\n",
      "dtypes: datetime64[ns, UTC](1), datetime64[ns](1), object(1)\n",
      "memory usage: 1.8+ MB\n"
     ]
    }
   ],
   "source": [
    "newsdata_all.info()"
   ]
  },
  {
   "cell_type": "markdown",
   "metadata": {},
   "source": [
    "- type 변환"
   ]
  },
  {
   "cell_type": "code",
   "execution_count": 105,
   "metadata": {},
   "outputs": [
    {
     "name": "stdout",
     "output_type": "stream",
     "text": [
      "<class 'pandas.core.frame.DataFrame'>\n",
      "Int64Index: 58442 entries, 0 to 58441\n",
      "Data columns (total 3 columns):\n",
      " #   Column        Non-Null Count  Dtype         \n",
      "---  ------        --------------  -----         \n",
      " 0   date          58442 non-null  datetime64[ns]\n",
      " 1   title         58442 non-null  object        \n",
      " 2   NextOpenDate  58442 non-null  string        \n",
      "dtypes: datetime64[ns](1), object(1), string(1)\n",
      "memory usage: 1.8+ MB\n"
     ]
    }
   ],
   "source": [
    "newsdata_all = newsdata_all.astype({'NextOpenDate':'string'})\n",
    "newsdata_all.info()"
   ]
  },
  {
   "cell_type": "code",
   "execution_count": 106,
   "metadata": {},
   "outputs": [
    {
     "data": {
      "text/plain": [
       "'2022-03-17'"
      ]
     },
     "execution_count": 106,
     "metadata": {},
     "output_type": "execute_result"
    }
   ],
   "source": [
    "a = newsdata_all['NextOpenDate'][0]\n",
    "b = a.split(' ')[0]\n",
    "b"
   ]
  },
  {
   "cell_type": "code",
   "execution_count": 108,
   "metadata": {},
   "outputs": [
    {
     "data": {
      "text/html": [
       "<div>\n",
       "<style scoped>\n",
       "    .dataframe tbody tr th:only-of-type {\n",
       "        vertical-align: middle;\n",
       "    }\n",
       "\n",
       "    .dataframe tbody tr th {\n",
       "        vertical-align: top;\n",
       "    }\n",
       "\n",
       "    .dataframe thead th {\n",
       "        text-align: right;\n",
       "    }\n",
       "</style>\n",
       "<table border=\"1\" class=\"dataframe\">\n",
       "  <thead>\n",
       "    <tr style=\"text-align: right;\">\n",
       "      <th></th>\n",
       "      <th>date</th>\n",
       "      <th>title</th>\n",
       "      <th>NextOpenDate</th>\n",
       "    </tr>\n",
       "  </thead>\n",
       "  <tbody>\n",
       "    <tr>\n",
       "      <th>0</th>\n",
       "      <td>2022-03-16</td>\n",
       "      <td>유럽 반도체 공급망 지원 호응… 인텔, 10년간 110조 통큰 투자</td>\n",
       "      <td>2022-03-17</td>\n",
       "    </tr>\n",
       "    <tr>\n",
       "      <th>1</th>\n",
       "      <td>2022-03-16</td>\n",
       "      <td>반도체 또다시 ‘쩐의 전쟁‘…인텔 “유럽 전역에 110조 투자”</td>\n",
       "      <td>2022-03-17</td>\n",
       "    </tr>\n",
       "    <tr>\n",
       "      <th>2</th>\n",
       "      <td>2022-03-16</td>\n",
       "      <td>“韓, 세계 2위 中수입시장 비중 줄어…반도체 외 돌파구 필요”</td>\n",
       "      <td>2022-03-17</td>\n",
       "    </tr>\n",
       "  </tbody>\n",
       "</table>\n",
       "</div>"
      ],
      "text/plain": [
       "        date                                  title NextOpenDate\n",
       "0 2022-03-16  유럽 반도체 공급망 지원 호응… 인텔, 10년간 110조 통큰 투자   2022-03-17\n",
       "1 2022-03-16    반도체 또다시 ‘쩐의 전쟁‘…인텔 “유럽 전역에 110조 투자”   2022-03-17\n",
       "2 2022-03-16    “韓, 세계 2위 中수입시장 비중 줄어…반도체 외 돌파구 필요”   2022-03-17"
      ]
     },
     "execution_count": 108,
     "metadata": {},
     "output_type": "execute_result"
    }
   ],
   "source": [
    "newsdata_all['NextOpenDate'] = newsdata_all['NextOpenDate'].apply(lambda x: x.split(' ')[0])\n",
    "newsdata_all.head(3)"
   ]
  },
  {
   "cell_type": "code",
   "execution_count": 109,
   "metadata": {},
   "outputs": [
    {
     "name": "stdout",
     "output_type": "stream",
     "text": [
      "<class 'pandas.core.frame.DataFrame'>\n",
      "Int64Index: 58442 entries, 0 to 58441\n",
      "Data columns (total 3 columns):\n",
      " #   Column        Non-Null Count  Dtype         \n",
      "---  ------        --------------  -----         \n",
      " 0   date          58442 non-null  datetime64[ns]\n",
      " 1   title         58442 non-null  object        \n",
      " 2   NextOpenDate  58442 non-null  datetime64[ns]\n",
      "dtypes: datetime64[ns](2), object(1)\n",
      "memory usage: 3.8+ MB\n"
     ]
    }
   ],
   "source": [
    "newsdata_all['NextOpenDate'] = pd.to_datetime(newsdata_all['NextOpenDate'])\n",
    "newsdata_all.info()"
   ]
  },
  {
   "cell_type": "code",
   "execution_count": 135,
   "metadata": {},
   "outputs": [
    {
     "data": {
      "text/html": [
       "<div>\n",
       "<style scoped>\n",
       "    .dataframe tbody tr th:only-of-type {\n",
       "        vertical-align: middle;\n",
       "    }\n",
       "\n",
       "    .dataframe tbody tr th {\n",
       "        vertical-align: top;\n",
       "    }\n",
       "\n",
       "    .dataframe thead th {\n",
       "        text-align: right;\n",
       "    }\n",
       "</style>\n",
       "<table border=\"1\" class=\"dataframe\">\n",
       "  <thead>\n",
       "    <tr style=\"text-align: right;\">\n",
       "      <th></th>\n",
       "      <th>date</th>\n",
       "      <th>NextOpenDate</th>\n",
       "      <th>title</th>\n",
       "      <th>NextOpenDateYear</th>\n",
       "    </tr>\n",
       "  </thead>\n",
       "  <tbody>\n",
       "    <tr>\n",
       "      <th>0</th>\n",
       "      <td>2022-03-16</td>\n",
       "      <td>2022-03-17</td>\n",
       "      <td>유럽 반도체 공급망 지원 호응… 인텔, 10년간 110조 통큰 투자</td>\n",
       "      <td>2022</td>\n",
       "    </tr>\n",
       "    <tr>\n",
       "      <th>1</th>\n",
       "      <td>2022-03-16</td>\n",
       "      <td>2022-03-17</td>\n",
       "      <td>반도체 또다시 ‘쩐의 전쟁‘…인텔 “유럽 전역에 110조 투자”</td>\n",
       "      <td>2022</td>\n",
       "    </tr>\n",
       "    <tr>\n",
       "      <th>2</th>\n",
       "      <td>2022-03-16</td>\n",
       "      <td>2022-03-17</td>\n",
       "      <td>“韓, 세계 2위 中수입시장 비중 줄어…반도체 외 돌파구 필요”</td>\n",
       "      <td>2022</td>\n",
       "    </tr>\n",
       "  </tbody>\n",
       "</table>\n",
       "</div>"
      ],
      "text/plain": [
       "        date NextOpenDate                                  title  \\\n",
       "0 2022-03-16   2022-03-17  유럽 반도체 공급망 지원 호응… 인텔, 10년간 110조 통큰 투자   \n",
       "1 2022-03-16   2022-03-17    반도체 또다시 ‘쩐의 전쟁‘…인텔 “유럽 전역에 110조 투자”   \n",
       "2 2022-03-16   2022-03-17    “韓, 세계 2위 中수입시장 비중 줄어…반도체 외 돌파구 필요”   \n",
       "\n",
       "   NextOpenDateYear  \n",
       "0              2022  \n",
       "1              2022  \n",
       "2              2022  "
      ]
     },
     "execution_count": 135,
     "metadata": {},
     "output_type": "execute_result"
    }
   ],
   "source": [
    "# 개장일 기준 'Year' 컬럼 추가\n",
    "newsdata_all['NextOpenDateYear'] = newsdata_all['NextOpenDate'].dt.year\n",
    "newsdata_all.head(3)"
   ]
  },
  {
   "cell_type": "code",
   "execution_count": 136,
   "metadata": {},
   "outputs": [
    {
     "data": {
      "text/plain": [
       "array(['date', 'NextOpenDate', 'title', 'NextOpenDateYear'], dtype=object)"
      ]
     },
     "execution_count": 136,
     "metadata": {},
     "output_type": "execute_result"
    }
   ],
   "source": [
    "# col의 인덱스 변경\n",
    "col = newsdata_all.columns.to_numpy()\n",
    "col"
   ]
  },
  {
   "cell_type": "code",
   "execution_count": 137,
   "metadata": {},
   "outputs": [
    {
     "data": {
      "text/plain": [
       "array(['date', 'NextOpenDate', 'NextOpenDateYear', 'title'], dtype=object)"
      ]
     },
     "execution_count": 137,
     "metadata": {},
     "output_type": "execute_result"
    }
   ],
   "source": [
    "col = col[[0,1,3,2]]\n",
    "col"
   ]
  },
  {
   "cell_type": "code",
   "execution_count": 138,
   "metadata": {},
   "outputs": [
    {
     "data": {
      "text/html": [
       "<div>\n",
       "<style scoped>\n",
       "    .dataframe tbody tr th:only-of-type {\n",
       "        vertical-align: middle;\n",
       "    }\n",
       "\n",
       "    .dataframe tbody tr th {\n",
       "        vertical-align: top;\n",
       "    }\n",
       "\n",
       "    .dataframe thead th {\n",
       "        text-align: right;\n",
       "    }\n",
       "</style>\n",
       "<table border=\"1\" class=\"dataframe\">\n",
       "  <thead>\n",
       "    <tr style=\"text-align: right;\">\n",
       "      <th></th>\n",
       "      <th>date</th>\n",
       "      <th>NextOpenDate</th>\n",
       "      <th>NextOpenDateYear</th>\n",
       "      <th>title</th>\n",
       "    </tr>\n",
       "  </thead>\n",
       "  <tbody>\n",
       "    <tr>\n",
       "      <th>0</th>\n",
       "      <td>2022-03-16</td>\n",
       "      <td>2022-03-17</td>\n",
       "      <td>2022</td>\n",
       "      <td>유럽 반도체 공급망 지원 호응… 인텔, 10년간 110조 통큰 투자</td>\n",
       "    </tr>\n",
       "    <tr>\n",
       "      <th>1</th>\n",
       "      <td>2022-03-16</td>\n",
       "      <td>2022-03-17</td>\n",
       "      <td>2022</td>\n",
       "      <td>반도체 또다시 ‘쩐의 전쟁‘…인텔 “유럽 전역에 110조 투자”</td>\n",
       "    </tr>\n",
       "    <tr>\n",
       "      <th>2</th>\n",
       "      <td>2022-03-16</td>\n",
       "      <td>2022-03-17</td>\n",
       "      <td>2022</td>\n",
       "      <td>“韓, 세계 2위 中수입시장 비중 줄어…반도체 외 돌파구 필요”</td>\n",
       "    </tr>\n",
       "  </tbody>\n",
       "</table>\n",
       "</div>"
      ],
      "text/plain": [
       "        date NextOpenDate  NextOpenDateYear  \\\n",
       "0 2022-03-16   2022-03-17              2022   \n",
       "1 2022-03-16   2022-03-17              2022   \n",
       "2 2022-03-16   2022-03-17              2022   \n",
       "\n",
       "                                   title  \n",
       "0  유럽 반도체 공급망 지원 호응… 인텔, 10년간 110조 통큰 투자  \n",
       "1    반도체 또다시 ‘쩐의 전쟁‘…인텔 “유럽 전역에 110조 투자”  \n",
       "2    “韓, 세계 2위 中수입시장 비중 줄어…반도체 외 돌파구 필요”  "
      ]
     },
     "execution_count": 138,
     "metadata": {},
     "output_type": "execute_result"
    }
   ],
   "source": [
    "newsdata_all = newsdata_all[col]\n",
    "newsdata_all.head(3)"
   ]
  },
  {
   "cell_type": "markdown",
   "metadata": {},
   "source": [
    "## 3. 데이터 확인"
   ]
  },
  {
   "cell_type": "code",
   "execution_count": 141,
   "metadata": {},
   "outputs": [
    {
     "name": "stdout",
     "output_type": "stream",
     "text": [
      "<class 'pandas.core.frame.DataFrame'>\n",
      "Int64Index: 58442 entries, 0 to 58441\n",
      "Data columns (total 4 columns):\n",
      " #   Column            Non-Null Count  Dtype         \n",
      "---  ------            --------------  -----         \n",
      " 0   date              58442 non-null  datetime64[ns]\n",
      " 1   NextOpenDate      58442 non-null  datetime64[ns]\n",
      " 2   NextOpenDateYear  58442 non-null  int64         \n",
      " 3   title             58442 non-null  object        \n",
      "dtypes: datetime64[ns](2), int64(1), object(1)\n",
      "memory usage: 4.2+ MB\n"
     ]
    }
   ],
   "source": [
    "# 데이터 갯수 : 58442개\n",
    "# 컬럼 갯수 : 2개\n",
    "newsdata_all.info()"
   ]
  },
  {
   "cell_type": "code",
   "execution_count": 142,
   "metadata": {},
   "outputs": [
    {
     "data": {
      "text/plain": [
       "date                0\n",
       "NextOpenDate        0\n",
       "NextOpenDateYear    0\n",
       "title               0\n",
       "dtype: int64"
      ]
     },
     "execution_count": 142,
     "metadata": {},
     "output_type": "execute_result"
    }
   ],
   "source": [
    "# 결측치 확인\n",
    "newsdata_all.isnull().sum()"
   ]
  },
  {
   "cell_type": "markdown",
   "metadata": {},
   "source": [
    "## 4. 기업별 '현재가', '당일종가-어제종가', '상승률', 'label' 데이터와 뉴스데이터 병합"
   ]
  },
  {
   "cell_type": "markdown",
   "metadata": {},
   "source": [
    "## 5. train, test dataset 생성"
   ]
  },
  {
   "cell_type": "code",
   "execution_count": 143,
   "metadata": {},
   "outputs": [],
   "source": [
    "# train, test set 분리\n",
    "train_data, test_data = train_test_split(newsdata_all)"
   ]
  },
  {
   "cell_type": "markdown",
   "metadata": {},
   "source": [
    "### 5-1. train_data"
   ]
  },
  {
   "cell_type": "code",
   "execution_count": 144,
   "metadata": {},
   "outputs": [
    {
     "data": {
      "text/html": [
       "<div>\n",
       "<style scoped>\n",
       "    .dataframe tbody tr th:only-of-type {\n",
       "        vertical-align: middle;\n",
       "    }\n",
       "\n",
       "    .dataframe tbody tr th {\n",
       "        vertical-align: top;\n",
       "    }\n",
       "\n",
       "    .dataframe thead th {\n",
       "        text-align: right;\n",
       "    }\n",
       "</style>\n",
       "<table border=\"1\" class=\"dataframe\">\n",
       "  <thead>\n",
       "    <tr style=\"text-align: right;\">\n",
       "      <th></th>\n",
       "      <th>date</th>\n",
       "      <th>NextOpenDate</th>\n",
       "      <th>NextOpenDateYear</th>\n",
       "      <th>title</th>\n",
       "    </tr>\n",
       "  </thead>\n",
       "  <tbody>\n",
       "    <tr>\n",
       "      <th>45709</th>\n",
       "      <td>2018-01-23</td>\n",
       "      <td>2018-01-24</td>\n",
       "      <td>2018</td>\n",
       "      <td>\"반도체 사이클, 상반기에 꺾인다\" vs \"올해까진 괜찮아\"</td>\n",
       "    </tr>\n",
       "    <tr>\n",
       "      <th>36038</th>\n",
       "      <td>2019-02-21</td>\n",
       "      <td>2019-02-22</td>\n",
       "      <td>2019</td>\n",
       "      <td>120조 반도체 클러스터 부지 용인으로 가닥</td>\n",
       "    </tr>\n",
       "  </tbody>\n",
       "</table>\n",
       "</div>"
      ],
      "text/plain": [
       "            date NextOpenDate  NextOpenDateYear  \\\n",
       "45709 2018-01-23   2018-01-24              2018   \n",
       "36038 2019-02-21   2019-02-22              2019   \n",
       "\n",
       "                                   title  \n",
       "45709  \"반도체 사이클, 상반기에 꺾인다\" vs \"올해까진 괜찮아\"  \n",
       "36038           120조 반도체 클러스터 부지 용인으로 가닥  "
      ]
     },
     "execution_count": 144,
     "metadata": {},
     "output_type": "execute_result"
    }
   ],
   "source": [
    "train_data.head(2)"
   ]
  },
  {
   "cell_type": "code",
   "execution_count": 145,
   "metadata": {},
   "outputs": [
    {
     "data": {
      "text/plain": [
       "(43831, 4)"
      ]
     },
     "execution_count": 145,
     "metadata": {},
     "output_type": "execute_result"
    }
   ],
   "source": [
    "# train_data shape 확인\n",
    "train_data.shape"
   ]
  },
  {
   "cell_type": "markdown",
   "metadata": {},
   "source": [
    "### 5-2. test_data"
   ]
  },
  {
   "cell_type": "code",
   "execution_count": 146,
   "metadata": {},
   "outputs": [
    {
     "data": {
      "text/html": [
       "<div>\n",
       "<style scoped>\n",
       "    .dataframe tbody tr th:only-of-type {\n",
       "        vertical-align: middle;\n",
       "    }\n",
       "\n",
       "    .dataframe tbody tr th {\n",
       "        vertical-align: top;\n",
       "    }\n",
       "\n",
       "    .dataframe thead th {\n",
       "        text-align: right;\n",
       "    }\n",
       "</style>\n",
       "<table border=\"1\" class=\"dataframe\">\n",
       "  <thead>\n",
       "    <tr style=\"text-align: right;\">\n",
       "      <th></th>\n",
       "      <th>date</th>\n",
       "      <th>NextOpenDate</th>\n",
       "      <th>NextOpenDateYear</th>\n",
       "      <th>title</th>\n",
       "    </tr>\n",
       "  </thead>\n",
       "  <tbody>\n",
       "    <tr>\n",
       "      <th>22575</th>\n",
       "      <td>2020-06-15</td>\n",
       "      <td>2020-06-16</td>\n",
       "      <td>2020</td>\n",
       "      <td>美 中은 펄펄 나는데 고군분투하는 한국 반도체 산업</td>\n",
       "    </tr>\n",
       "    <tr>\n",
       "      <th>40375</th>\n",
       "      <td>2018-09-17</td>\n",
       "      <td>2018-09-18</td>\n",
       "      <td>2018</td>\n",
       "      <td>반도체 수출 호조로 ICT 수출액 사상 첫 200억달러 돌파</td>\n",
       "    </tr>\n",
       "  </tbody>\n",
       "</table>\n",
       "</div>"
      ],
      "text/plain": [
       "            date NextOpenDate  NextOpenDateYear  \\\n",
       "22575 2020-06-15   2020-06-16              2020   \n",
       "40375 2018-09-17   2018-09-18              2018   \n",
       "\n",
       "                                   title  \n",
       "22575       美 中은 펄펄 나는데 고군분투하는 한국 반도체 산업  \n",
       "40375  반도체 수출 호조로 ICT 수출액 사상 첫 200억달러 돌파  "
      ]
     },
     "execution_count": 146,
     "metadata": {},
     "output_type": "execute_result"
    }
   ],
   "source": [
    "# test_data 확인\n",
    "test_data.head(2)"
   ]
  },
  {
   "cell_type": "code",
   "execution_count": 147,
   "metadata": {},
   "outputs": [
    {
     "data": {
      "text/plain": [
       "(14611, 4)"
      ]
     },
     "execution_count": 147,
     "metadata": {},
     "output_type": "execute_result"
    }
   ],
   "source": [
    "# test_data shape 확인\n",
    "test_data.shape"
   ]
  },
  {
   "cell_type": "markdown",
   "metadata": {},
   "source": [
    "### 5-3. countplot"
   ]
  },
  {
   "cell_type": "markdown",
   "metadata": {},
   "source": [
    "- train_data"
   ]
  },
  {
   "cell_type": "code",
   "execution_count": 148,
   "metadata": {},
   "outputs": [
    {
     "data": {
      "image/png": "[encoded data removed]",
      "text/plain": [
       "<Figure size 432x288 with 1 Axes>"
      ]
     },
     "metadata": {
      "needs_background": "light"
     },
     "output_type": "display_data"
    }
   ],
   "source": [
    "sns.countplot(x='NextOpenDateYear', data=train_data)\n",
    "plt.show()"
   ]
  },
  {
   "cell_type": "markdown",
   "metadata": {},
   "source": [
    "- test_data"
   ]
  },
  {
   "cell_type": "code",
   "execution_count": 149,
   "metadata": {},
   "outputs": [
    {
     "data": {
      "image/png": "[encoded data removed]",
      "text/plain": [
       "<Figure size 432x288 with 1 Axes>"
      ]
     },
     "metadata": {
      "needs_background": "light"
     },
     "output_type": "display_data"
    }
   ],
   "source": [
    "sns.countplot(x='NextOpenDateYear', data=test_data)\n",
    "plt.show()"
   ]
  },
  {
   "cell_type": "markdown",
   "metadata": {},
   "source": [
    "## 6. 데이터 전처리"
   ]
  },
  {
   "cell_type": "markdown",
   "metadata": {},
   "source": [
    "### 6-1. train_data"
   ]
  },
  {
   "cell_type": "code",
   "execution_count": 125,
   "metadata": {},
   "outputs": [],
   "source": [
    "# 한글과 띄어쓰기 이외의 문자열 제거\n",
    "train_data['title'] = train_data['title'].str.replace('[^ㄱ-ㅎㅏ-ㅣ가-힣 ]', '')"
   ]
  },
  {
   "cell_type": "code",
   "execution_count": 126,
   "metadata": {},
   "outputs": [
    {
     "data": {
      "text/plain": [
       "0"
      ]
     },
     "execution_count": 126,
     "metadata": {},
     "output_type": "execute_result"
    }
   ],
   "source": [
    "# '' 만 남은 데이터 --> np.nan으로 변경시킨 후 제거\n",
    "train_data['title'].replace('', np.nan, inplace=True)\n",
    "train_data['title'].isna().sum()"
   ]
  },
  {
   "cell_type": "code",
   "execution_count": 128,
   "metadata": {},
   "outputs": [
    {
     "data": {
      "text/plain": [
       "(43831, 3)"
      ]
     },
     "execution_count": 128,
     "metadata": {},
     "output_type": "execute_result"
    }
   ],
   "source": [
    "# Null 데이터 제거\n",
    "train_data.dropna(how='any', inplace=True)\n",
    "train_data.shape"
   ]
  },
  {
   "cell_type": "markdown",
   "metadata": {},
   "source": [
    "### 6-2. test_data"
   ]
  },
  {
   "cell_type": "code",
   "execution_count": 150,
   "metadata": {},
   "outputs": [],
   "source": [
    "# 한글과 띄어쓰기 이외의 문자열 제거\n",
    "test_data['title'] = test_data['title'].str.replace('[^ㄱ-ㅎㅏ-ㅣ가-힣 ]', '')"
   ]
  },
  {
   "cell_type": "code",
   "execution_count": 151,
   "metadata": {},
   "outputs": [
    {
     "data": {
      "text/plain": [
       "0"
      ]
     },
     "execution_count": 151,
     "metadata": {},
     "output_type": "execute_result"
    }
   ],
   "source": [
    "# '' 만 남은 데이터 --> np.nan으로 변경시킨 후 제거\n",
    "test_data['title'].replace('', np.nan, inplace=True)\n",
    "test_data['title'].isna().sum()"
   ]
  },
  {
   "cell_type": "code",
   "execution_count": 152,
   "metadata": {},
   "outputs": [
    {
     "data": {
      "text/plain": [
       "(14611, 4)"
      ]
     },
     "execution_count": 152,
     "metadata": {},
     "output_type": "execute_result"
    }
   ],
   "source": [
    "# Null 데이터 제거\n",
    "test_data.dropna(how='any', inplace=True)\n",
    "test_data.shape"
   ]
  },
  {
   "cell_type": "code",
   "execution_count": null,
   "metadata": {},
   "outputs": [],
   "source": []
  }
 ],
 "metadata": {
  "interpreter": {
   "hash": "237dfbe96289c26a34bb3817ed9a5dda5a1f28f78dcc25894f58473fa7732fcf"
  },
  "kernelspec": {
   "display_name": "Python 3.8.8 64-bit",
   "language": "python",
   "name": "python3"
  },
  "language_info": {
   "codemirror_mode": {
    "name": "ipython",
    "version": 3
   },
   "file_extension": ".py",
   "mimetype": "text/x-python",
   "name": "python",
   "nbconvert_exporter": "python",
   "pygments_lexer": "ipython3",
   "version": "3.8.8"
  },
  "orig_nbformat": 4
 },
 "nbformat": 4,
 "nbformat_minor": 2
}
