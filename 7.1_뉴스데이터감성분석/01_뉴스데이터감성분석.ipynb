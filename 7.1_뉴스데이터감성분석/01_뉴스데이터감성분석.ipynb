{
 "cells": [
  {
   "cell_type": "markdown",
   "metadata": {},
   "source": [
    "- 참고 : https://sieon-dev.tistory.com/15"
   ]
  },
  {
   "cell_type": "markdown",
   "metadata": {},
   "source": [
    "## 1. 모듈 import (필요없는 모듈 삭제, 필요한 모듈 추가하면서 진행)\n",
    "- pandas\n",
    "- numpy\n",
    "- matplotlib\n",
    "- re\n",
    "- konlpy\n",
    "- tensorflow\n",
    "- seaborn\n",
    "- pandas_profiling"
   ]
  },
  {
   "cell_type": "code",
   "execution_count": 1,
   "metadata": {},
   "outputs": [],
   "source": [
    "import sys\n",
    "import pandas as pd\n",
    "import numpy as np\n",
    "import matplotlib.pyplot as plt\n",
    "import re\n",
    "from konlpy.tag import Okt\n",
    "from tqdm import tqdm\n",
    "import tensorflow\n",
    "from tensorflow.keras.preprocessing.text import Tokenizer\n",
    "from tensorflow.keras.preprocessing.sequence import pad_sequences\n",
    "import warnings\n",
    "warnings.filterwarnings(\"ignore\")\n",
    "import seaborn as sns\n",
    "import pandas_profiling"
   ]
  },
  {
   "cell_type": "code",
   "execution_count": 2,
   "metadata": {},
   "outputs": [],
   "source": [
    "import sklearn\n",
    "from sklearn.model_selection import train_test_split"
   ]
  },
  {
   "cell_type": "code",
   "execution_count": 3,
   "metadata": {},
   "outputs": [],
   "source": [
    "import collections\n",
    "from collections import Counter"
   ]
  },
  {
   "cell_type": "code",
   "execution_count": 4,
   "metadata": {},
   "outputs": [],
   "source": [
    "import exchange_calendars as ecals\n",
    "import datetime\n",
    "import time"
   ]
  },
  {
   "cell_type": "markdown",
   "metadata": {},
   "source": [
    "### 1-1. 파이썬 & 모듈 버전 확인 (필요없는 모듈 삭제, 필요한 모듈 추가하면서 진행)"
   ]
  },
  {
   "cell_type": "code",
   "execution_count": 5,
   "metadata": {},
   "outputs": [
    {
     "name": "stdout",
     "output_type": "stream",
     "text": [
      " python version :  3.8.8 (default, Apr 13 2021, 15:08:03) [MSC v.1916 64 bit (AMD64)] \n",
      " ----------------------------------------------------------------------------------------------------\n",
      " pandas version :  1.2.4 \n",
      " ----------------------------------------------------------------------------------------------------\n",
      " numpy version :  1.20.1 \n",
      " ----------------------------------------------------------------------------------------------------\n",
      " re version :  2.2.1 \n",
      " ----------------------------------------------------------------------------------------------------\n",
      " tensorflow version :  2.3.0 \n",
      " ----------------------------------------------------------------------------------------------------\n",
      " seaborn version :  0.11.1 \n",
      " ----------------------------------------------------------------------------------------------------\n",
      " pandas_profiling version :  2.9.0 \n",
      " ----------------------------------------------------------------------------------------------------\n",
      " sklearn version :  0.24.1 \n",
      " ----------------------------------------------------------------------------------------------------\n",
      " exhange_calendars version :  3.6.1 \n",
      " ----------------------------------------------------------------------------------------------------\n"
     ]
    }
   ],
   "source": [
    "print(\" python version : \", sys.version, \"\\n\", \"-\" * 100)\n",
    "print(\" pandas version : \", pd.__version__, \"\\n\", \"-\" * 100)\n",
    "print(\" numpy version : \", np.__version__, \"\\n\", \"-\" * 100)\n",
    "print(\" re version : \", re.__version__, \"\\n\", \"-\" * 100)\n",
    "print(\" tensorflow version : \", tensorflow.__version__, \"\\n\", \"-\" * 100)\n",
    "print(\" seaborn version : \", sns.__version__, \"\\n\", \"-\" * 100)\n",
    "print(\" pandas_profiling version : \", pandas_profiling.__version__, \"\\n\", \"-\" * 100)\n",
    "print(\" sklearn version : \", sklearn.__version__, \"\\n\", \"-\" * 100)\n",
    "print(\" exhange_calendars version : \", ecals.__version__, \"\\n\", \"-\" * 100)"
   ]
  },
  {
   "cell_type": "markdown",
   "metadata": {},
   "source": [
    "### 1-2. 컴퓨터 사양 확인"
   ]
  },
  {
   "cell_type": "markdown",
   "metadata": {},
   "source": [
    "![](2022-03-24-13-31-45.png)"
   ]
  },
  {
   "cell_type": "markdown",
   "metadata": {},
   "source": [
    "## 2. 데이터 불러오기"
   ]
  },
  {
   "cell_type": "code",
   "execution_count": 6,
   "metadata": {},
   "outputs": [
    {
     "data": {
      "text/html": [
       "<div>\n",
       "<style scoped>\n",
       "    .dataframe tbody tr th:only-of-type {\n",
       "        vertical-align: middle;\n",
       "    }\n",
       "\n",
       "    .dataframe tbody tr th {\n",
       "        vertical-align: top;\n",
       "    }\n",
       "\n",
       "    .dataframe thead th {\n",
       "        text-align: right;\n",
       "    }\n",
       "</style>\n",
       "<table border=\"1\" class=\"dataframe\">\n",
       "  <thead>\n",
       "    <tr style=\"text-align: right;\">\n",
       "      <th></th>\n",
       "      <th>date</th>\n",
       "      <th>title</th>\n",
       "    </tr>\n",
       "  </thead>\n",
       "  <tbody>\n",
       "    <tr>\n",
       "      <th>58439</th>\n",
       "      <td>20151019</td>\n",
       "      <td>[특징주]제주반도체, 美·中 대규모 투자유치에 '上'</td>\n",
       "    </tr>\n",
       "    <tr>\n",
       "      <th>58440</th>\n",
       "      <td>20151019</td>\n",
       "      <td>[반도체] 2016 반도체 투자 감소 예상 - 미래</td>\n",
       "    </tr>\n",
       "    <tr>\n",
       "      <th>58441</th>\n",
       "      <td>20151019</td>\n",
       "      <td>제주반도체, '해외투자유치설' 조회공시 요구</td>\n",
       "    </tr>\n",
       "  </tbody>\n",
       "</table>\n",
       "</div>"
      ],
      "text/plain": [
       "           date                          title\n",
       "58439  20151019  [특징주]제주반도체, 美·中 대규모 투자유치에 '上'\n",
       "58440  20151019   [반도체] 2016 반도체 투자 감소 예상 - 미래\n",
       "58441  20151019       제주반도체, '해외투자유치설' 조회공시 요구"
      ]
     },
     "execution_count": 6,
     "metadata": {},
     "output_type": "execute_result"
    }
   ],
   "source": [
    "# 뉴스데이터 불러오기\n",
    "newsdata = pd.read_csv(\"../data/Newsfile3.csv\", encoding='euc-kr')\n",
    "newsdata.tail(3)"
   ]
  },
  {
   "cell_type": "markdown",
   "metadata": {},
   "source": [
    "### 2-1. 휴장일 데이터 매칭"
   ]
  },
  {
   "cell_type": "code",
   "execution_count": 7,
   "metadata": {},
   "outputs": [
    {
     "name": "stdout",
     "output_type": "stream",
     "text": [
      "<class 'pandas.core.frame.DataFrame'>\n",
      "RangeIndex: 58442 entries, 0 to 58441\n",
      "Data columns (total 2 columns):\n",
      " #   Column  Non-Null Count  Dtype \n",
      "---  ------  --------------  ----- \n",
      " 0   date    58442 non-null  int64 \n",
      " 1   title   58442 non-null  object\n",
      "dtypes: int64(1), object(1)\n",
      "memory usage: 913.3+ KB\n"
     ]
    }
   ],
   "source": [
    "# newsdata의 datatype 확인\n",
    "newsdata.info()"
   ]
  },
  {
   "cell_type": "markdown",
   "metadata": {},
   "source": [
    "- type 변환"
   ]
  },
  {
   "cell_type": "code",
   "execution_count": 8,
   "metadata": {},
   "outputs": [
    {
     "name": "stdout",
     "output_type": "stream",
     "text": [
      "<class 'pandas.core.frame.DataFrame'>\n",
      "RangeIndex: 58442 entries, 0 to 58441\n",
      "Data columns (total 2 columns):\n",
      " #   Column  Non-Null Count  Dtype \n",
      "---  ------  --------------  ----- \n",
      " 0   date    58442 non-null  string\n",
      " 1   title   58442 non-null  object\n",
      "dtypes: object(1), string(1)\n",
      "memory usage: 913.3+ KB\n"
     ]
    }
   ],
   "source": [
    "# datatype : int -> string\n",
    "newsdata = newsdata.astype({'date':'string'})\n",
    "newsdata.info()"
   ]
  },
  {
   "cell_type": "code",
   "execution_count": 9,
   "metadata": {},
   "outputs": [
    {
     "name": "stdout",
     "output_type": "stream",
     "text": [
      "<class 'pandas.core.frame.DataFrame'>\n",
      "RangeIndex: 58442 entries, 0 to 58441\n",
      "Data columns (total 2 columns):\n",
      " #   Column  Non-Null Count  Dtype         \n",
      "---  ------  --------------  -----         \n",
      " 0   date    58442 non-null  datetime64[ns]\n",
      " 1   title   58442 non-null  object        \n",
      "dtypes: datetime64[ns](1), object(1)\n",
      "memory usage: 913.3+ KB\n"
     ]
    }
   ],
   "source": [
    "# datatype : string -> datetime\n",
    "newsdata['date'] = pd.to_datetime(newsdata['date'])\n",
    "newsdata.info()"
   ]
  },
  {
   "cell_type": "markdown",
   "metadata": {},
   "source": [
    "- 뉴스데이터의 처음 날짜와 마지막 날짜 확인"
   ]
  },
  {
   "cell_type": "code",
   "execution_count": 10,
   "metadata": {},
   "outputs": [
    {
     "name": "stdout",
     "output_type": "stream",
     "text": [
      "2022-03-16 00:00:00 58441   2015-10-19\n",
      "Name: date, dtype: datetime64[ns]\n"
     ]
    }
   ],
   "source": [
    "first_date = newsdata['date'][0]\n",
    "last_date = newsdata['date'][-1:]\n",
    "print(first_date, last_date)"
   ]
  },
  {
   "cell_type": "code",
   "execution_count": 11,
   "metadata": {},
   "outputs": [
    {
     "data": {
      "text/html": [
       "<div>\n",
       "<style scoped>\n",
       "    .dataframe tbody tr th:only-of-type {\n",
       "        vertical-align: middle;\n",
       "    }\n",
       "\n",
       "    .dataframe tbody tr th {\n",
       "        vertical-align: top;\n",
       "    }\n",
       "\n",
       "    .dataframe thead th {\n",
       "        text-align: right;\n",
       "    }\n",
       "</style>\n",
       "<table border=\"1\" class=\"dataframe\">\n",
       "  <thead>\n",
       "    <tr style=\"text-align: right;\">\n",
       "      <th></th>\n",
       "      <th>date</th>\n",
       "      <th>title</th>\n",
       "    </tr>\n",
       "  </thead>\n",
       "  <tbody>\n",
       "    <tr>\n",
       "      <th>0</th>\n",
       "      <td>2022-03-16</td>\n",
       "      <td>유럽 반도체 공급망 지원 호응… 인텔, 10년간 110조 통큰 투자</td>\n",
       "    </tr>\n",
       "    <tr>\n",
       "      <th>1</th>\n",
       "      <td>2022-03-16</td>\n",
       "      <td>반도체 또다시 ‘쩐의 전쟁‘…인텔 “유럽 전역에 110조 투자”</td>\n",
       "    </tr>\n",
       "    <tr>\n",
       "      <th>2</th>\n",
       "      <td>2022-03-16</td>\n",
       "      <td>“韓, 세계 2위 中수입시장 비중 줄어…반도체 외 돌파구 필요”</td>\n",
       "    </tr>\n",
       "    <tr>\n",
       "      <th>3</th>\n",
       "      <td>2022-03-16</td>\n",
       "      <td>[특징주] 코리아써키트, 반도체 패키지기판 성장 기대감에 5%↑</td>\n",
       "    </tr>\n",
       "    <tr>\n",
       "      <th>4</th>\n",
       "      <td>2022-03-16</td>\n",
       "      <td>[특징주] 반도체 대장주 강세…SK하이닉스, 2% 넘게 상승</td>\n",
       "    </tr>\n",
       "    <tr>\n",
       "      <th>...</th>\n",
       "      <td>...</td>\n",
       "      <td>...</td>\n",
       "    </tr>\n",
       "    <tr>\n",
       "      <th>58437</th>\n",
       "      <td>2015-10-19</td>\n",
       "      <td>세계 반도체 M&amp;A 1006억달러</td>\n",
       "    </tr>\n",
       "    <tr>\n",
       "      <th>58438</th>\n",
       "      <td>2015-10-19</td>\n",
       "      <td>반도체社 인수·합병 봇물…올 들어 1000억달러 돌파</td>\n",
       "    </tr>\n",
       "    <tr>\n",
       "      <th>58439</th>\n",
       "      <td>2015-10-19</td>\n",
       "      <td>[특징주]제주반도체, 美·中 대규모 투자유치에 '上'</td>\n",
       "    </tr>\n",
       "    <tr>\n",
       "      <th>58440</th>\n",
       "      <td>2015-10-19</td>\n",
       "      <td>[반도체] 2016 반도체 투자 감소 예상 - 미래</td>\n",
       "    </tr>\n",
       "    <tr>\n",
       "      <th>58441</th>\n",
       "      <td>2015-10-19</td>\n",
       "      <td>제주반도체, '해외투자유치설' 조회공시 요구</td>\n",
       "    </tr>\n",
       "  </tbody>\n",
       "</table>\n",
       "<p>58442 rows × 2 columns</p>\n",
       "</div>"
      ],
      "text/plain": [
       "            date                                  title\n",
       "0     2022-03-16  유럽 반도체 공급망 지원 호응… 인텔, 10년간 110조 통큰 투자\n",
       "1     2022-03-16    반도체 또다시 ‘쩐의 전쟁‘…인텔 “유럽 전역에 110조 투자”\n",
       "2     2022-03-16    “韓, 세계 2위 中수입시장 비중 줄어…반도체 외 돌파구 필요”\n",
       "3     2022-03-16    [특징주] 코리아써키트, 반도체 패키지기판 성장 기대감에 5%↑\n",
       "4     2022-03-16      [특징주] 반도체 대장주 강세…SK하이닉스, 2% 넘게 상승\n",
       "...          ...                                    ...\n",
       "58437 2015-10-19                     세계 반도체 M&A 1006억달러\n",
       "58438 2015-10-19          반도체社 인수·합병 봇물…올 들어 1000억달러 돌파\n",
       "58439 2015-10-19          [특징주]제주반도체, 美·中 대규모 투자유치에 '上'\n",
       "58440 2015-10-19           [반도체] 2016 반도체 투자 감소 예상 - 미래\n",
       "58441 2015-10-19               제주반도체, '해외투자유치설' 조회공시 요구\n",
       "\n",
       "[58442 rows x 2 columns]"
      ]
     },
     "execution_count": 11,
     "metadata": {},
     "output_type": "execute_result"
    }
   ],
   "source": [
    "# newsdata -> newsdata_all : 처음 날짜와 마지막 날짜가 포함된 데이터로 이름 변결\n",
    "newsdata_all = newsdata[newsdata['date'].between('2015-10-19', '2022-03-16')]\n",
    "newsdata_all"
   ]
  },
  {
   "cell_type": "markdown",
   "metadata": {},
   "source": [
    "- 리스트로 변환"
   ]
  },
  {
   "cell_type": "code",
   "execution_count": 12,
   "metadata": {},
   "outputs": [
    {
     "data": {
      "text/plain": [
       "[Timestamp('2022-03-16 00:00:00'),\n",
       " Timestamp('2022-03-16 00:00:00'),\n",
       " Timestamp('2022-03-16 00:00:00'),\n",
       " Timestamp('2022-03-16 00:00:00'),\n",
       " Timestamp('2022-03-16 00:00:00')]"
      ]
     },
     "execution_count": 12,
     "metadata": {},
     "output_type": "execute_result"
    }
   ],
   "source": [
    "# 'date' 컬럼 리스트로 변경\n",
    "news = newsdata_all['date'].to_list()\n",
    "news[:5]"
   ]
  },
  {
   "cell_type": "markdown",
   "metadata": {},
   "source": [
    "### 2-2. 한국 거래소 개장일 확인"
   ]
  },
  {
   "cell_type": "code",
   "execution_count": 13,
   "metadata": {},
   "outputs": [
    {
     "name": "stdout",
     "output_type": "stream",
     "text": [
      "2021-01-01 개장 확인:  False\n",
      "오늘날짜 개장일 확인:  True\n",
      "다음 개장일 날짜 확인:  2022-03-28 00:00:00+00:00\n"
     ]
    }
   ],
   "source": [
    "# 한국코드\n",
    "XKRX = ecals.get_calendar(\"XKRX\")       \n",
    "# 2021-01-01은 개장일인지 확인 : 'False' -> 휴장일 , 'True' -> 개장일\n",
    "print(\"2021-01-01 개장 확인: \", XKRX.is_session('2021-01-01'))    \n",
    "# 오늘(22-03-24)은 개장일인지 확인 :'False' -> 휴장일 , 'True' -> 개장일\n",
    "print(\"오늘날짜 개장일 확인: \", XKRX.is_session(datetime.date.today().strftime('%Y-%m-%d')))  \n",
    "# 다음 개장일은 언제인지 확인\n",
    "print(\"다음 개장일 날짜 확인: \", XKRX.next_open(pd.Timestamp.today().strftime('%Y-%m-%d')))"
   ]
  },
  {
   "cell_type": "code",
   "execution_count": 14,
   "metadata": {},
   "outputs": [],
   "source": [
    "# 뉴스데이터 날짜 다음날에 해당하는 개장일 날짜 확인\n",
    "next_open_list = []\n",
    "\n",
    "for day in news:\n",
    "    next_open_date = XKRX.next_open(day)\n",
    "    next_open_list.append(next_open_date)"
   ]
  },
  {
   "cell_type": "code",
   "execution_count": 15,
   "metadata": {},
   "outputs": [
    {
     "data": {
      "text/plain": [
       "[Timestamp('2022-03-17 00:00:00+0000', tz='UTC'),\n",
       " Timestamp('2022-03-17 00:00:00+0000', tz='UTC'),\n",
       " Timestamp('2022-03-17 00:00:00+0000', tz='UTC'),\n",
       " Timestamp('2022-03-17 00:00:00+0000', tz='UTC'),\n",
       " Timestamp('2022-03-17 00:00:00+0000', tz='UTC')]"
      ]
     },
     "execution_count": 15,
     "metadata": {},
     "output_type": "execute_result"
    }
   ],
   "source": [
    "next_open_list[:5]"
   ]
  },
  {
   "cell_type": "code",
   "execution_count": 16,
   "metadata": {},
   "outputs": [
    {
     "data": {
      "text/html": [
       "<div>\n",
       "<style scoped>\n",
       "    .dataframe tbody tr th:only-of-type {\n",
       "        vertical-align: middle;\n",
       "    }\n",
       "\n",
       "    .dataframe tbody tr th {\n",
       "        vertical-align: top;\n",
       "    }\n",
       "\n",
       "    .dataframe thead th {\n",
       "        text-align: right;\n",
       "    }\n",
       "</style>\n",
       "<table border=\"1\" class=\"dataframe\">\n",
       "  <thead>\n",
       "    <tr style=\"text-align: right;\">\n",
       "      <th></th>\n",
       "      <th>date</th>\n",
       "      <th>title</th>\n",
       "      <th>NextOpenDate</th>\n",
       "    </tr>\n",
       "  </thead>\n",
       "  <tbody>\n",
       "    <tr>\n",
       "      <th>0</th>\n",
       "      <td>2022-03-16</td>\n",
       "      <td>유럽 반도체 공급망 지원 호응… 인텔, 10년간 110조 통큰 투자</td>\n",
       "      <td>2022-03-17 00:00:00+00:00</td>\n",
       "    </tr>\n",
       "    <tr>\n",
       "      <th>1</th>\n",
       "      <td>2022-03-16</td>\n",
       "      <td>반도체 또다시 ‘쩐의 전쟁‘…인텔 “유럽 전역에 110조 투자”</td>\n",
       "      <td>2022-03-17 00:00:00+00:00</td>\n",
       "    </tr>\n",
       "    <tr>\n",
       "      <th>2</th>\n",
       "      <td>2022-03-16</td>\n",
       "      <td>“韓, 세계 2위 中수입시장 비중 줄어…반도체 외 돌파구 필요”</td>\n",
       "      <td>2022-03-17 00:00:00+00:00</td>\n",
       "    </tr>\n",
       "  </tbody>\n",
       "</table>\n",
       "</div>"
      ],
      "text/plain": [
       "        date                                  title              NextOpenDate\n",
       "0 2022-03-16  유럽 반도체 공급망 지원 호응… 인텔, 10년간 110조 통큰 투자 2022-03-17 00:00:00+00:00\n",
       "1 2022-03-16    반도체 또다시 ‘쩐의 전쟁‘…인텔 “유럽 전역에 110조 투자” 2022-03-17 00:00:00+00:00\n",
       "2 2022-03-16    “韓, 세계 2위 中수입시장 비중 줄어…반도체 외 돌파구 필요” 2022-03-17 00:00:00+00:00"
      ]
     },
     "execution_count": 16,
     "metadata": {},
     "output_type": "execute_result"
    }
   ],
   "source": [
    "# 뉴스나온 날짜 다음 개장일 컬럼 추가\n",
    "newsdata_all['NextOpenDate'] = next_open_list\n",
    "newsdata_all.head(3)"
   ]
  },
  {
   "cell_type": "code",
   "execution_count": 17,
   "metadata": {},
   "outputs": [
    {
     "name": "stdout",
     "output_type": "stream",
     "text": [
      "<class 'pandas.core.frame.DataFrame'>\n",
      "Int64Index: 58442 entries, 0 to 58441\n",
      "Data columns (total 3 columns):\n",
      " #   Column        Non-Null Count  Dtype              \n",
      "---  ------        --------------  -----              \n",
      " 0   date          58442 non-null  datetime64[ns]     \n",
      " 1   title         58442 non-null  object             \n",
      " 2   NextOpenDate  58442 non-null  datetime64[ns, UTC]\n",
      "dtypes: datetime64[ns, UTC](1), datetime64[ns](1), object(1)\n",
      "memory usage: 1.8+ MB\n"
     ]
    }
   ],
   "source": [
    "newsdata_all.info()"
   ]
  },
  {
   "cell_type": "markdown",
   "metadata": {},
   "source": [
    "- type 변환"
   ]
  },
  {
   "cell_type": "code",
   "execution_count": 18,
   "metadata": {},
   "outputs": [
    {
     "name": "stdout",
     "output_type": "stream",
     "text": [
      "<class 'pandas.core.frame.DataFrame'>\n",
      "Int64Index: 58442 entries, 0 to 58441\n",
      "Data columns (total 3 columns):\n",
      " #   Column        Non-Null Count  Dtype         \n",
      "---  ------        --------------  -----         \n",
      " 0   date          58442 non-null  datetime64[ns]\n",
      " 1   title         58442 non-null  object        \n",
      " 2   NextOpenDate  58442 non-null  string        \n",
      "dtypes: datetime64[ns](1), object(1), string(1)\n",
      "memory usage: 1.8+ MB\n"
     ]
    }
   ],
   "source": [
    "newsdata_all = newsdata_all.astype({'NextOpenDate':'string'})\n",
    "newsdata_all.info()"
   ]
  },
  {
   "cell_type": "code",
   "execution_count": 19,
   "metadata": {},
   "outputs": [
    {
     "data": {
      "text/plain": [
       "'2022-03-17'"
      ]
     },
     "execution_count": 19,
     "metadata": {},
     "output_type": "execute_result"
    }
   ],
   "source": [
    "a = newsdata_all['NextOpenDate'][0]\n",
    "b = a.split(' ')[0]\n",
    "b"
   ]
  },
  {
   "cell_type": "code",
   "execution_count": 20,
   "metadata": {},
   "outputs": [
    {
     "data": {
      "text/html": [
       "<div>\n",
       "<style scoped>\n",
       "    .dataframe tbody tr th:only-of-type {\n",
       "        vertical-align: middle;\n",
       "    }\n",
       "\n",
       "    .dataframe tbody tr th {\n",
       "        vertical-align: top;\n",
       "    }\n",
       "\n",
       "    .dataframe thead th {\n",
       "        text-align: right;\n",
       "    }\n",
       "</style>\n",
       "<table border=\"1\" class=\"dataframe\">\n",
       "  <thead>\n",
       "    <tr style=\"text-align: right;\">\n",
       "      <th></th>\n",
       "      <th>date</th>\n",
       "      <th>title</th>\n",
       "      <th>NextOpenDate</th>\n",
       "    </tr>\n",
       "  </thead>\n",
       "  <tbody>\n",
       "    <tr>\n",
       "      <th>0</th>\n",
       "      <td>2022-03-16</td>\n",
       "      <td>유럽 반도체 공급망 지원 호응… 인텔, 10년간 110조 통큰 투자</td>\n",
       "      <td>2022-03-17</td>\n",
       "    </tr>\n",
       "    <tr>\n",
       "      <th>1</th>\n",
       "      <td>2022-03-16</td>\n",
       "      <td>반도체 또다시 ‘쩐의 전쟁‘…인텔 “유럽 전역에 110조 투자”</td>\n",
       "      <td>2022-03-17</td>\n",
       "    </tr>\n",
       "    <tr>\n",
       "      <th>2</th>\n",
       "      <td>2022-03-16</td>\n",
       "      <td>“韓, 세계 2위 中수입시장 비중 줄어…반도체 외 돌파구 필요”</td>\n",
       "      <td>2022-03-17</td>\n",
       "    </tr>\n",
       "  </tbody>\n",
       "</table>\n",
       "</div>"
      ],
      "text/plain": [
       "        date                                  title NextOpenDate\n",
       "0 2022-03-16  유럽 반도체 공급망 지원 호응… 인텔, 10년간 110조 통큰 투자   2022-03-17\n",
       "1 2022-03-16    반도체 또다시 ‘쩐의 전쟁‘…인텔 “유럽 전역에 110조 투자”   2022-03-17\n",
       "2 2022-03-16    “韓, 세계 2위 中수입시장 비중 줄어…반도체 외 돌파구 필요”   2022-03-17"
      ]
     },
     "execution_count": 20,
     "metadata": {},
     "output_type": "execute_result"
    }
   ],
   "source": [
    "newsdata_all['NextOpenDate'] = newsdata_all['NextOpenDate'].apply(lambda x: x.split(' ')[0])\n",
    "newsdata_all.head(3)"
   ]
  },
  {
   "cell_type": "code",
   "execution_count": 21,
   "metadata": {},
   "outputs": [
    {
     "name": "stdout",
     "output_type": "stream",
     "text": [
      "<class 'pandas.core.frame.DataFrame'>\n",
      "Int64Index: 58442 entries, 0 to 58441\n",
      "Data columns (total 3 columns):\n",
      " #   Column        Non-Null Count  Dtype         \n",
      "---  ------        --------------  -----         \n",
      " 0   date          58442 non-null  datetime64[ns]\n",
      " 1   title         58442 non-null  object        \n",
      " 2   NextOpenDate  58442 non-null  datetime64[ns]\n",
      "dtypes: datetime64[ns](2), object(1)\n",
      "memory usage: 3.8+ MB\n"
     ]
    }
   ],
   "source": [
    "newsdata_all['NextOpenDate'] = pd.to_datetime(newsdata_all['NextOpenDate'])\n",
    "newsdata_all.info()"
   ]
  },
  {
   "cell_type": "code",
   "execution_count": 22,
   "metadata": {},
   "outputs": [
    {
     "data": {
      "text/html": [
       "<div>\n",
       "<style scoped>\n",
       "    .dataframe tbody tr th:only-of-type {\n",
       "        vertical-align: middle;\n",
       "    }\n",
       "\n",
       "    .dataframe tbody tr th {\n",
       "        vertical-align: top;\n",
       "    }\n",
       "\n",
       "    .dataframe thead th {\n",
       "        text-align: right;\n",
       "    }\n",
       "</style>\n",
       "<table border=\"1\" class=\"dataframe\">\n",
       "  <thead>\n",
       "    <tr style=\"text-align: right;\">\n",
       "      <th></th>\n",
       "      <th>date</th>\n",
       "      <th>title</th>\n",
       "      <th>NextOpenDate</th>\n",
       "      <th>NextOpenDateYear</th>\n",
       "    </tr>\n",
       "  </thead>\n",
       "  <tbody>\n",
       "    <tr>\n",
       "      <th>0</th>\n",
       "      <td>2022-03-16</td>\n",
       "      <td>유럽 반도체 공급망 지원 호응… 인텔, 10년간 110조 통큰 투자</td>\n",
       "      <td>2022-03-17</td>\n",
       "      <td>2022</td>\n",
       "    </tr>\n",
       "    <tr>\n",
       "      <th>1</th>\n",
       "      <td>2022-03-16</td>\n",
       "      <td>반도체 또다시 ‘쩐의 전쟁‘…인텔 “유럽 전역에 110조 투자”</td>\n",
       "      <td>2022-03-17</td>\n",
       "      <td>2022</td>\n",
       "    </tr>\n",
       "    <tr>\n",
       "      <th>2</th>\n",
       "      <td>2022-03-16</td>\n",
       "      <td>“韓, 세계 2위 中수입시장 비중 줄어…반도체 외 돌파구 필요”</td>\n",
       "      <td>2022-03-17</td>\n",
       "      <td>2022</td>\n",
       "    </tr>\n",
       "  </tbody>\n",
       "</table>\n",
       "</div>"
      ],
      "text/plain": [
       "        date                                  title NextOpenDate  \\\n",
       "0 2022-03-16  유럽 반도체 공급망 지원 호응… 인텔, 10년간 110조 통큰 투자   2022-03-17   \n",
       "1 2022-03-16    반도체 또다시 ‘쩐의 전쟁‘…인텔 “유럽 전역에 110조 투자”   2022-03-17   \n",
       "2 2022-03-16    “韓, 세계 2위 中수입시장 비중 줄어…반도체 외 돌파구 필요”   2022-03-17   \n",
       "\n",
       "   NextOpenDateYear  \n",
       "0              2022  \n",
       "1              2022  \n",
       "2              2022  "
      ]
     },
     "execution_count": 22,
     "metadata": {},
     "output_type": "execute_result"
    }
   ],
   "source": [
    "# 개장일 기준 'Year' 컬럼 추가\n",
    "newsdata_all['NextOpenDateYear'] = newsdata_all['NextOpenDate'].dt.year\n",
    "newsdata_all.head(3)"
   ]
  },
  {
   "cell_type": "code",
   "execution_count": 23,
   "metadata": {},
   "outputs": [
    {
     "data": {
      "text/plain": [
       "array(['date', 'title', 'NextOpenDate', 'NextOpenDateYear'], dtype=object)"
      ]
     },
     "execution_count": 23,
     "metadata": {},
     "output_type": "execute_result"
    }
   ],
   "source": [
    "# col의 인덱스 변경\n",
    "col = newsdata_all.columns.to_numpy()\n",
    "col"
   ]
  },
  {
   "cell_type": "code",
   "execution_count": 24,
   "metadata": {},
   "outputs": [
    {
     "data": {
      "text/plain": [
       "array(['date', 'NextOpenDateYear', 'NextOpenDate', 'title'], dtype=object)"
      ]
     },
     "execution_count": 24,
     "metadata": {},
     "output_type": "execute_result"
    }
   ],
   "source": [
    "col = col[[0,3,2,1]]\n",
    "col"
   ]
  },
  {
   "cell_type": "code",
   "execution_count": 25,
   "metadata": {},
   "outputs": [
    {
     "data": {
      "text/html": [
       "<div>\n",
       "<style scoped>\n",
       "    .dataframe tbody tr th:only-of-type {\n",
       "        vertical-align: middle;\n",
       "    }\n",
       "\n",
       "    .dataframe tbody tr th {\n",
       "        vertical-align: top;\n",
       "    }\n",
       "\n",
       "    .dataframe thead th {\n",
       "        text-align: right;\n",
       "    }\n",
       "</style>\n",
       "<table border=\"1\" class=\"dataframe\">\n",
       "  <thead>\n",
       "    <tr style=\"text-align: right;\">\n",
       "      <th></th>\n",
       "      <th>date</th>\n",
       "      <th>NextOpenDateYear</th>\n",
       "      <th>NextOpenDate</th>\n",
       "      <th>title</th>\n",
       "    </tr>\n",
       "  </thead>\n",
       "  <tbody>\n",
       "    <tr>\n",
       "      <th>0</th>\n",
       "      <td>2022-03-16</td>\n",
       "      <td>2022</td>\n",
       "      <td>2022-03-17</td>\n",
       "      <td>유럽 반도체 공급망 지원 호응… 인텔, 10년간 110조 통큰 투자</td>\n",
       "    </tr>\n",
       "    <tr>\n",
       "      <th>1</th>\n",
       "      <td>2022-03-16</td>\n",
       "      <td>2022</td>\n",
       "      <td>2022-03-17</td>\n",
       "      <td>반도체 또다시 ‘쩐의 전쟁‘…인텔 “유럽 전역에 110조 투자”</td>\n",
       "    </tr>\n",
       "    <tr>\n",
       "      <th>2</th>\n",
       "      <td>2022-03-16</td>\n",
       "      <td>2022</td>\n",
       "      <td>2022-03-17</td>\n",
       "      <td>“韓, 세계 2위 中수입시장 비중 줄어…반도체 외 돌파구 필요”</td>\n",
       "    </tr>\n",
       "  </tbody>\n",
       "</table>\n",
       "</div>"
      ],
      "text/plain": [
       "        date  NextOpenDateYear NextOpenDate  \\\n",
       "0 2022-03-16              2022   2022-03-17   \n",
       "1 2022-03-16              2022   2022-03-17   \n",
       "2 2022-03-16              2022   2022-03-17   \n",
       "\n",
       "                                   title  \n",
       "0  유럽 반도체 공급망 지원 호응… 인텔, 10년간 110조 통큰 투자  \n",
       "1    반도체 또다시 ‘쩐의 전쟁‘…인텔 “유럽 전역에 110조 투자”  \n",
       "2    “韓, 세계 2위 中수입시장 비중 줄어…반도체 외 돌파구 필요”  "
      ]
     },
     "execution_count": 25,
     "metadata": {},
     "output_type": "execute_result"
    }
   ],
   "source": [
    "newsdata_all = newsdata_all[col]\n",
    "newsdata_all.head(3)"
   ]
  },
  {
   "cell_type": "markdown",
   "metadata": {},
   "source": [
    "## 3. 데이터 확인"
   ]
  },
  {
   "cell_type": "code",
   "execution_count": 26,
   "metadata": {},
   "outputs": [
    {
     "name": "stdout",
     "output_type": "stream",
     "text": [
      "<class 'pandas.core.frame.DataFrame'>\n",
      "Int64Index: 58442 entries, 0 to 58441\n",
      "Data columns (total 4 columns):\n",
      " #   Column            Non-Null Count  Dtype         \n",
      "---  ------            --------------  -----         \n",
      " 0   date              58442 non-null  datetime64[ns]\n",
      " 1   NextOpenDateYear  58442 non-null  int64         \n",
      " 2   NextOpenDate      58442 non-null  datetime64[ns]\n",
      " 3   title             58442 non-null  object        \n",
      "dtypes: datetime64[ns](2), int64(1), object(1)\n",
      "memory usage: 4.2+ MB\n"
     ]
    }
   ],
   "source": [
    "# 데이터 갯수 : 58442개\n",
    "# 컬럼 갯수 : 4개\n",
    "newsdata_all.info()"
   ]
  },
  {
   "cell_type": "markdown",
   "metadata": {},
   "source": [
    "- 결측치 확인"
   ]
  },
  {
   "cell_type": "code",
   "execution_count": 27,
   "metadata": {},
   "outputs": [
    {
     "data": {
      "text/plain": [
       "date                0\n",
       "NextOpenDateYear    0\n",
       "NextOpenDate        0\n",
       "title               0\n",
       "dtype: int64"
      ]
     },
     "execution_count": 27,
     "metadata": {},
     "output_type": "execute_result"
    }
   ],
   "source": [
    "# 결측치 확인\n",
    "newsdata_all.isnull().sum()"
   ]
  },
  {
   "cell_type": "markdown",
   "metadata": {},
   "source": [
    "## 4. 기업별 '현재가', '당일종가-어제종가', '상승률', 'label' 데이터와 뉴스데이터 병합"
   ]
  },
  {
   "cell_type": "markdown",
   "metadata": {},
   "source": [
    "### 4-1. 반도체 기업 데이터 불러오기 : 005290"
   ]
  },
  {
   "cell_type": "code",
   "execution_count": 28,
   "metadata": {},
   "outputs": [
    {
     "data": {
      "text/html": [
       "<div>\n",
       "<style scoped>\n",
       "    .dataframe tbody tr th:only-of-type {\n",
       "        vertical-align: middle;\n",
       "    }\n",
       "\n",
       "    .dataframe tbody tr th {\n",
       "        vertical-align: top;\n",
       "    }\n",
       "\n",
       "    .dataframe thead th {\n",
       "        text-align: right;\n",
       "    }\n",
       "</style>\n",
       "<table border=\"1\" class=\"dataframe\">\n",
       "  <thead>\n",
       "    <tr style=\"text-align: right;\">\n",
       "      <th></th>\n",
       "      <th>Unnamed: 0</th>\n",
       "      <th>일자</th>\n",
       "      <th>현재가</th>\n",
       "      <th>당일종가-어제종가</th>\n",
       "      <th>상승률</th>\n",
       "    </tr>\n",
       "  </thead>\n",
       "  <tbody>\n",
       "    <tr>\n",
       "      <th>0</th>\n",
       "      <td>0</td>\n",
       "      <td>20220314</td>\n",
       "      <td>31900</td>\n",
       "      <td>-1500</td>\n",
       "      <td>-0.047022</td>\n",
       "    </tr>\n",
       "    <tr>\n",
       "      <th>1</th>\n",
       "      <td>1</td>\n",
       "      <td>20220311</td>\n",
       "      <td>33400</td>\n",
       "      <td>-300</td>\n",
       "      <td>-0.008982</td>\n",
       "    </tr>\n",
       "  </tbody>\n",
       "</table>\n",
       "</div>"
      ],
      "text/plain": [
       "   Unnamed: 0        일자    현재가  당일종가-어제종가       상승률\n",
       "0           0  20220314  31900      -1500 -0.047022\n",
       "1           1  20220311  33400       -300 -0.008982"
      ]
     },
     "execution_count": 28,
     "metadata": {},
     "output_type": "execute_result"
    }
   ],
   "source": [
    "df1 = pd.read_excel('../data/날짜현재가/005290.xlsx')\n",
    "df1.head(2)"
   ]
  },
  {
   "cell_type": "code",
   "execution_count": 29,
   "metadata": {},
   "outputs": [
    {
     "data": {
      "text/html": [
       "<div>\n",
       "<style scoped>\n",
       "    .dataframe tbody tr th:only-of-type {\n",
       "        vertical-align: middle;\n",
       "    }\n",
       "\n",
       "    .dataframe tbody tr th {\n",
       "        vertical-align: top;\n",
       "    }\n",
       "\n",
       "    .dataframe thead th {\n",
       "        text-align: right;\n",
       "    }\n",
       "</style>\n",
       "<table border=\"1\" class=\"dataframe\">\n",
       "  <thead>\n",
       "    <tr style=\"text-align: right;\">\n",
       "      <th></th>\n",
       "      <th>일자</th>\n",
       "      <th>현재가</th>\n",
       "      <th>당일종가-어제종가</th>\n",
       "      <th>상승률</th>\n",
       "    </tr>\n",
       "  </thead>\n",
       "  <tbody>\n",
       "    <tr>\n",
       "      <th>0</th>\n",
       "      <td>20220314</td>\n",
       "      <td>31900</td>\n",
       "      <td>-1500</td>\n",
       "      <td>-0.047022</td>\n",
       "    </tr>\n",
       "    <tr>\n",
       "      <th>1</th>\n",
       "      <td>20220311</td>\n",
       "      <td>33400</td>\n",
       "      <td>-300</td>\n",
       "      <td>-0.008982</td>\n",
       "    </tr>\n",
       "  </tbody>\n",
       "</table>\n",
       "</div>"
      ],
      "text/plain": [
       "         일자    현재가  당일종가-어제종가       상승률\n",
       "0  20220314  31900      -1500 -0.047022\n",
       "1  20220311  33400       -300 -0.008982"
      ]
     },
     "execution_count": 29,
     "metadata": {},
     "output_type": "execute_result"
    }
   ],
   "source": [
    "df1.drop(columns=['Unnamed: 0'], inplace=True)\n",
    "df1.head(2)"
   ]
  },
  {
   "cell_type": "markdown",
   "metadata": {},
   "source": [
    "- 긍정 & 부정 라벨링\n",
    "    - 상승률이 0보다 크면 `1`로 매칭\n",
    "    - 상승률이 0보다 작으면 `0`으로 매칭"
   ]
  },
  {
   "cell_type": "code",
   "execution_count": 30,
   "metadata": {},
   "outputs": [
    {
     "data": {
      "text/html": [
       "<div>\n",
       "<style scoped>\n",
       "    .dataframe tbody tr th:only-of-type {\n",
       "        vertical-align: middle;\n",
       "    }\n",
       "\n",
       "    .dataframe tbody tr th {\n",
       "        vertical-align: top;\n",
       "    }\n",
       "\n",
       "    .dataframe thead th {\n",
       "        text-align: right;\n",
       "    }\n",
       "</style>\n",
       "<table border=\"1\" class=\"dataframe\">\n",
       "  <thead>\n",
       "    <tr style=\"text-align: right;\">\n",
       "      <th></th>\n",
       "      <th>일자</th>\n",
       "      <th>현재가</th>\n",
       "      <th>당일종가-어제종가</th>\n",
       "      <th>상승률</th>\n",
       "      <th>label</th>\n",
       "    </tr>\n",
       "  </thead>\n",
       "  <tbody>\n",
       "    <tr>\n",
       "      <th>0</th>\n",
       "      <td>20220314</td>\n",
       "      <td>31900</td>\n",
       "      <td>-1500</td>\n",
       "      <td>-0.047022</td>\n",
       "      <td>0</td>\n",
       "    </tr>\n",
       "    <tr>\n",
       "      <th>1</th>\n",
       "      <td>20220311</td>\n",
       "      <td>33400</td>\n",
       "      <td>-300</td>\n",
       "      <td>-0.008982</td>\n",
       "      <td>0</td>\n",
       "    </tr>\n",
       "    <tr>\n",
       "      <th>2</th>\n",
       "      <td>20220310</td>\n",
       "      <td>33700</td>\n",
       "      <td>550</td>\n",
       "      <td>0.016320</td>\n",
       "      <td>1</td>\n",
       "    </tr>\n",
       "    <tr>\n",
       "      <th>3</th>\n",
       "      <td>20220308</td>\n",
       "      <td>33150</td>\n",
       "      <td>-800</td>\n",
       "      <td>-0.024133</td>\n",
       "      <td>0</td>\n",
       "    </tr>\n",
       "    <tr>\n",
       "      <th>4</th>\n",
       "      <td>20220307</td>\n",
       "      <td>33950</td>\n",
       "      <td>-1700</td>\n",
       "      <td>-0.050074</td>\n",
       "      <td>0</td>\n",
       "    </tr>\n",
       "    <tr>\n",
       "      <th>...</th>\n",
       "      <td>...</td>\n",
       "      <td>...</td>\n",
       "      <td>...</td>\n",
       "      <td>...</td>\n",
       "      <td>...</td>\n",
       "    </tr>\n",
       "    <tr>\n",
       "      <th>5479</th>\n",
       "      <td>19991227</td>\n",
       "      <td>8800</td>\n",
       "      <td>940</td>\n",
       "      <td>0.106818</td>\n",
       "      <td>1</td>\n",
       "    </tr>\n",
       "    <tr>\n",
       "      <th>5480</th>\n",
       "      <td>19991224</td>\n",
       "      <td>7860</td>\n",
       "      <td>840</td>\n",
       "      <td>0.106870</td>\n",
       "      <td>1</td>\n",
       "    </tr>\n",
       "    <tr>\n",
       "      <th>5481</th>\n",
       "      <td>19991223</td>\n",
       "      <td>7020</td>\n",
       "      <td>750</td>\n",
       "      <td>0.106838</td>\n",
       "      <td>1</td>\n",
       "    </tr>\n",
       "    <tr>\n",
       "      <th>5482</th>\n",
       "      <td>19991222</td>\n",
       "      <td>6270</td>\n",
       "      <td>670</td>\n",
       "      <td>0.106858</td>\n",
       "      <td>1</td>\n",
       "    </tr>\n",
       "    <tr>\n",
       "      <th>5483</th>\n",
       "      <td>19991221</td>\n",
       "      <td>5600</td>\n",
       "      <td>5600</td>\n",
       "      <td>1.000000</td>\n",
       "      <td>1</td>\n",
       "    </tr>\n",
       "  </tbody>\n",
       "</table>\n",
       "<p>5484 rows × 5 columns</p>\n",
       "</div>"
      ],
      "text/plain": [
       "            일자    현재가  당일종가-어제종가       상승률  label\n",
       "0     20220314  31900      -1500 -0.047022      0\n",
       "1     20220311  33400       -300 -0.008982      0\n",
       "2     20220310  33700        550  0.016320      1\n",
       "3     20220308  33150       -800 -0.024133      0\n",
       "4     20220307  33950      -1700 -0.050074      0\n",
       "...        ...    ...        ...       ...    ...\n",
       "5479  19991227   8800        940  0.106818      1\n",
       "5480  19991224   7860        840  0.106870      1\n",
       "5481  19991223   7020        750  0.106838      1\n",
       "5482  19991222   6270        670  0.106858      1\n",
       "5483  19991221   5600       5600  1.000000      1\n",
       "\n",
       "[5484 rows x 5 columns]"
      ]
     },
     "execution_count": 30,
     "metadata": {},
     "output_type": "execute_result"
    }
   ],
   "source": [
    "df1['label'] = df1.apply(lambda x: 1 if x['상승률'] >= 0 else 0, axis=1)\n",
    "df1"
   ]
  },
  {
   "cell_type": "markdown",
   "metadata": {},
   "source": [
    "- 라벨링 분포 확인"
   ]
  },
  {
   "cell_type": "code",
   "execution_count": 31,
   "metadata": {},
   "outputs": [
    {
     "data": {
      "text/plain": [
       "<AxesSubplot:xlabel='label', ylabel='count'>"
      ]
     },
     "execution_count": 31,
     "metadata": {},
     "output_type": "execute_result"
    },
    {
     "data": {
      "image/png": "[encoded data removed]",
      "text/plain": [
       "<Figure size 432x288 with 1 Axes>"
      ]
     },
     "metadata": {
      "needs_background": "light"
     },
     "output_type": "display_data"
    }
   ],
   "source": [
    "sns.countplot(x='label', data=df1)"
   ]
  },
  {
   "cell_type": "markdown",
   "metadata": {},
   "source": [
    "- data type 변경"
   ]
  },
  {
   "cell_type": "code",
   "execution_count": 32,
   "metadata": {},
   "outputs": [
    {
     "name": "stdout",
     "output_type": "stream",
     "text": [
      "<class 'pandas.core.frame.DataFrame'>\n",
      "RangeIndex: 5484 entries, 0 to 5483\n",
      "Data columns (total 5 columns):\n",
      " #   Column     Non-Null Count  Dtype  \n",
      "---  ------     --------------  -----  \n",
      " 0   일자         5484 non-null   string \n",
      " 1   현재가        5484 non-null   int64  \n",
      " 2   당일종가-어제종가  5484 non-null   int64  \n",
      " 3   상승률        5484 non-null   float64\n",
      " 4   label      5484 non-null   int64  \n",
      "dtypes: float64(1), int64(3), string(1)\n",
      "memory usage: 214.3 KB\n"
     ]
    }
   ],
   "source": [
    "# data type : int -> string\n",
    "df1 = df1.astype({'일자':'string'})\n",
    "df1.info()"
   ]
  },
  {
   "cell_type": "code",
   "execution_count": 33,
   "metadata": {},
   "outputs": [
    {
     "name": "stdout",
     "output_type": "stream",
     "text": [
      "<class 'pandas.core.frame.DataFrame'>\n",
      "RangeIndex: 5484 entries, 0 to 5483\n",
      "Data columns (total 5 columns):\n",
      " #   Column     Non-Null Count  Dtype         \n",
      "---  ------     --------------  -----         \n",
      " 0   일자         5484 non-null   datetime64[ns]\n",
      " 1   현재가        5484 non-null   int64         \n",
      " 2   당일종가-어제종가  5484 non-null   int64         \n",
      " 3   상승률        5484 non-null   float64       \n",
      " 4   label      5484 non-null   int64         \n",
      "dtypes: datetime64[ns](1), float64(1), int64(3)\n",
      "memory usage: 214.3 KB\n"
     ]
    }
   ],
   "source": [
    "# data type : string -> datetime\n",
    "df1['일자'] = pd.to_datetime(df1['일자'])\n",
    "df1.info()"
   ]
  },
  {
   "cell_type": "markdown",
   "metadata": {},
   "source": [
    "### 4-2. 뉴스데이터 컬럼명 변경"
   ]
  },
  {
   "cell_type": "code",
   "execution_count": 34,
   "metadata": {},
   "outputs": [
    {
     "data": {
      "text/html": [
       "<div>\n",
       "<style scoped>\n",
       "    .dataframe tbody tr th:only-of-type {\n",
       "        vertical-align: middle;\n",
       "    }\n",
       "\n",
       "    .dataframe tbody tr th {\n",
       "        vertical-align: top;\n",
       "    }\n",
       "\n",
       "    .dataframe thead th {\n",
       "        text-align: right;\n",
       "    }\n",
       "</style>\n",
       "<table border=\"1\" class=\"dataframe\">\n",
       "  <thead>\n",
       "    <tr style=\"text-align: right;\">\n",
       "      <th></th>\n",
       "      <th>date</th>\n",
       "      <th>NextOpenDateYear</th>\n",
       "      <th>일자</th>\n",
       "      <th>title</th>\n",
       "    </tr>\n",
       "  </thead>\n",
       "  <tbody>\n",
       "    <tr>\n",
       "      <th>0</th>\n",
       "      <td>2022-03-16</td>\n",
       "      <td>2022</td>\n",
       "      <td>2022-03-17</td>\n",
       "      <td>유럽 반도체 공급망 지원 호응… 인텔, 10년간 110조 통큰 투자</td>\n",
       "    </tr>\n",
       "    <tr>\n",
       "      <th>1</th>\n",
       "      <td>2022-03-16</td>\n",
       "      <td>2022</td>\n",
       "      <td>2022-03-17</td>\n",
       "      <td>반도체 또다시 ‘쩐의 전쟁‘…인텔 “유럽 전역에 110조 투자”</td>\n",
       "    </tr>\n",
       "  </tbody>\n",
       "</table>\n",
       "</div>"
      ],
      "text/plain": [
       "        date  NextOpenDateYear         일자  \\\n",
       "0 2022-03-16              2022 2022-03-17   \n",
       "1 2022-03-16              2022 2022-03-17   \n",
       "\n",
       "                                   title  \n",
       "0  유럽 반도체 공급망 지원 호응… 인텔, 10년간 110조 통큰 투자  \n",
       "1    반도체 또다시 ‘쩐의 전쟁‘…인텔 “유럽 전역에 110조 투자”  "
      ]
     },
     "execution_count": 34,
     "metadata": {},
     "output_type": "execute_result"
    }
   ],
   "source": [
    "# 덕산네오룩스의 데이터프레임과 병합하기 위해 컬럼명 변경\n",
    "newsdata_all.rename(columns={'NextOpenDate':'일자'}, inplace=True)\n",
    "newsdata_all.head(2)"
   ]
  },
  {
   "cell_type": "markdown",
   "metadata": {},
   "source": [
    "### 4-3. 뉴스데이터와 덕산네오룩스 주가데이터 병합"
   ]
  },
  {
   "cell_type": "code",
   "execution_count": 35,
   "metadata": {},
   "outputs": [
    {
     "data": {
      "text/html": [
       "<div>\n",
       "<style scoped>\n",
       "    .dataframe tbody tr th:only-of-type {\n",
       "        vertical-align: middle;\n",
       "    }\n",
       "\n",
       "    .dataframe tbody tr th {\n",
       "        vertical-align: top;\n",
       "    }\n",
       "\n",
       "    .dataframe thead th {\n",
       "        text-align: right;\n",
       "    }\n",
       "</style>\n",
       "<table border=\"1\" class=\"dataframe\">\n",
       "  <thead>\n",
       "    <tr style=\"text-align: right;\">\n",
       "      <th></th>\n",
       "      <th>date</th>\n",
       "      <th>NextOpenDateYear</th>\n",
       "      <th>일자</th>\n",
       "      <th>title</th>\n",
       "      <th>현재가</th>\n",
       "      <th>당일종가-어제종가</th>\n",
       "      <th>상승률</th>\n",
       "      <th>label</th>\n",
       "    </tr>\n",
       "  </thead>\n",
       "  <tbody>\n",
       "    <tr>\n",
       "      <th>0</th>\n",
       "      <td>2022-03-13</td>\n",
       "      <td>2022</td>\n",
       "      <td>2022-03-14</td>\n",
       "      <td>전함 포템킨·오데사·네온사인…반도체는 왜 또 위기일까[인더독]</td>\n",
       "      <td>31900</td>\n",
       "      <td>-1500</td>\n",
       "      <td>-0.047022</td>\n",
       "      <td>0</td>\n",
       "    </tr>\n",
       "    <tr>\n",
       "      <th>1</th>\n",
       "      <td>2022-03-13</td>\n",
       "      <td>2022</td>\n",
       "      <td>2022-03-14</td>\n",
       "      <td>한국기업, 반도체·전자 부품 조달 ‘빨간불’</td>\n",
       "      <td>31900</td>\n",
       "      <td>-1500</td>\n",
       "      <td>-0.047022</td>\n",
       "      <td>0</td>\n",
       "    </tr>\n",
       "  </tbody>\n",
       "</table>\n",
       "</div>"
      ],
      "text/plain": [
       "        date  NextOpenDateYear         일자                               title  \\\n",
       "0 2022-03-13              2022 2022-03-14  전함 포템킨·오데사·네온사인…반도체는 왜 또 위기일까[인더독]   \n",
       "1 2022-03-13              2022 2022-03-14            한국기업, 반도체·전자 부품 조달 ‘빨간불’   \n",
       "\n",
       "     현재가  당일종가-어제종가       상승률  label  \n",
       "0  31900      -1500 -0.047022      0  \n",
       "1  31900      -1500 -0.047022      0  "
      ]
     },
     "execution_count": 35,
     "metadata": {},
     "output_type": "execute_result"
    }
   ],
   "source": [
    "merge_data = pd.merge(newsdata_all, df1, on='일자', how='inner')\n",
    "merge_data.head(2)"
   ]
  },
  {
   "cell_type": "markdown",
   "metadata": {},
   "source": [
    "- '일자', 'title', 'label'만 남긴 나머지 컬럼 삭제"
   ]
  },
  {
   "cell_type": "code",
   "execution_count": 36,
   "metadata": {},
   "outputs": [
    {
     "data": {
      "text/html": [
       "<div>\n",
       "<style scoped>\n",
       "    .dataframe tbody tr th:only-of-type {\n",
       "        vertical-align: middle;\n",
       "    }\n",
       "\n",
       "    .dataframe tbody tr th {\n",
       "        vertical-align: top;\n",
       "    }\n",
       "\n",
       "    .dataframe thead th {\n",
       "        text-align: right;\n",
       "    }\n",
       "</style>\n",
       "<table border=\"1\" class=\"dataframe\">\n",
       "  <thead>\n",
       "    <tr style=\"text-align: right;\">\n",
       "      <th></th>\n",
       "      <th>일자</th>\n",
       "      <th>title</th>\n",
       "      <th>label</th>\n",
       "    </tr>\n",
       "  </thead>\n",
       "  <tbody>\n",
       "    <tr>\n",
       "      <th>0</th>\n",
       "      <td>2022-03-14</td>\n",
       "      <td>전함 포템킨·오데사·네온사인…반도체는 왜 또 위기일까[인더독]</td>\n",
       "      <td>0</td>\n",
       "    </tr>\n",
       "    <tr>\n",
       "      <th>1</th>\n",
       "      <td>2022-03-14</td>\n",
       "      <td>한국기업, 반도체·전자 부품 조달 ‘빨간불’</td>\n",
       "      <td>0</td>\n",
       "    </tr>\n",
       "    <tr>\n",
       "      <th>2</th>\n",
       "      <td>2022-03-14</td>\n",
       "      <td>“삼성·SK만 잘하면 뭐해?” 한국 반도체 진짜 ‘약점’이 바로 [비즈360]</td>\n",
       "      <td>0</td>\n",
       "    </tr>\n",
       "    <tr>\n",
       "      <th>3</th>\n",
       "      <td>2022-03-14</td>\n",
       "      <td>\"반도체 일본꼴 날 수도…수도권 대학 반도체학과 정원 풀어야\" [당선인에 바란다]</td>\n",
       "      <td>0</td>\n",
       "    </tr>\n",
       "    <tr>\n",
       "      <th>4</th>\n",
       "      <td>2022-03-14</td>\n",
       "      <td>[우크라 침공] 러시아, 반도체소자 등 500개 품목 대외수출 금지·제한</td>\n",
       "      <td>0</td>\n",
       "    </tr>\n",
       "  </tbody>\n",
       "</table>\n",
       "</div>"
      ],
      "text/plain": [
       "          일자                                          title  label\n",
       "0 2022-03-14             전함 포템킨·오데사·네온사인…반도체는 왜 또 위기일까[인더독]      0\n",
       "1 2022-03-14                       한국기업, 반도체·전자 부품 조달 ‘빨간불’      0\n",
       "2 2022-03-14    “삼성·SK만 잘하면 뭐해?” 한국 반도체 진짜 ‘약점’이 바로 [비즈360]      0\n",
       "3 2022-03-14  \"반도체 일본꼴 날 수도…수도권 대학 반도체학과 정원 풀어야\" [당선인에 바란다]      0\n",
       "4 2022-03-14       [우크라 침공] 러시아, 반도체소자 등 500개 품목 대외수출 금지·제한      0"
      ]
     },
     "execution_count": 36,
     "metadata": {},
     "output_type": "execute_result"
    }
   ],
   "source": [
    "merge_data = merge_data[['일자', 'title', 'label']]\n",
    "merge_data.head(5)"
   ]
  },
  {
   "cell_type": "markdown",
   "metadata": {},
   "source": [
    "## 5. 데이터 전처리\n",
    "    - 한글 이외의 문자열은 빈칸(`''`)처리\n",
    "    - 품사 중 명사만 추출하여 'nouns' 컬럼에 삽입"
   ]
  },
  {
   "cell_type": "code",
   "execution_count": 37,
   "metadata": {},
   "outputs": [
    {
     "name": "stdout",
     "output_type": "stream",
     "text": [
      "0 단계 완료\n",
      "10000 단계 완료\n",
      "20000 단계 완료\n",
      "30000 단계 완료\n",
      "40000 단계 완료\n",
      "50000 단계 완료\n"
     ]
    }
   ],
   "source": [
    "okt = Okt()\n",
    "n_ = []\n",
    "\n",
    "for i in range(len(merge_data)):\n",
    "    if (i % 10000 == 0):\n",
    "        print(i, \"단계 완료\")\n",
    "    n_.append(okt.nouns(merge_data.iloc[i]['title']))\n",
    "merge_data['nouns'] = n_\n",
    "merge_data = merge_data[merge_data['nouns'] != '']\n",
    "\n",
    "# 2차 불용어 제거\n",
    "merge_data['title'] = merge_data['title'].str.replace('[^ㄱ-ㅎㅏ-ㅣ가-힣]','')\n",
    "merge_data['title'].replace('', np.nan, inplace=True)\n",
    "merge_data = merge_data.dropna(how='any')"
   ]
  },
  {
   "cell_type": "code",
   "execution_count": 40,
   "metadata": {},
   "outputs": [],
   "source": [
    "news_labeling = merge_data.copy()"
   ]
  },
  {
   "cell_type": "markdown",
   "metadata": {},
   "source": [
    "- label 분포 확인"
   ]
  },
  {
   "cell_type": "code",
   "execution_count": 39,
   "metadata": {},
   "outputs": [
    {
     "data": {
      "text/plain": [
       "<AxesSubplot:xlabel='label', ylabel='count'>"
      ]
     },
     "execution_count": 39,
     "metadata": {},
     "output_type": "execute_result"
    },
    {
     "data": {
      "image/png": "[encoded data removed]",
      "text/plain": [
       "<Figure size 432x288 with 1 Axes>"
      ]
     },
     "metadata": {
      "needs_background": "light"
     },
     "output_type": "display_data"
    }
   ],
   "source": [
    "sns.countplot(x='label', data=merge_data)"
   ]
  },
  {
   "cell_type": "code",
   "execution_count": null,
   "metadata": {},
   "outputs": [],
   "source": []
  }
 ],
 "metadata": {
  "interpreter": {
   "hash": "237dfbe96289c26a34bb3817ed9a5dda5a1f28f78dcc25894f58473fa7732fcf"
  },
  "kernelspec": {
   "display_name": "Python 3.8.8 64-bit",
   "language": "python",
   "name": "python3"
  },
  "language_info": {
   "codemirror_mode": {
    "name": "ipython",
    "version": 3
   },
   "file_extension": ".py",
   "mimetype": "text/x-python",
   "name": "python",
   "nbconvert_exporter": "python",
   "pygments_lexer": "ipython3",
   "version": "3.8.8"
  },
  "orig_nbformat": 4
 },
 "nbformat": 4,
 "nbformat_minor": 2
}
