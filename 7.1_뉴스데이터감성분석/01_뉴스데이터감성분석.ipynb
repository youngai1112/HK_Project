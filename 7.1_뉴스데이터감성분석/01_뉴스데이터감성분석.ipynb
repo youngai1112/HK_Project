{
 "cells": [
  {
   "cell_type": "markdown",
   "metadata": {},
   "source": [
    "- 참고 : https://sieon-dev.tistory.com/15"
   ]
  },
  {
   "cell_type": "markdown",
   "metadata": {},
   "source": [
    "## 1. 모듈 import (필요없는 모듈 삭제, 필요한 모듈 추가하면서 진행)\n",
    "- pandas\n",
    "- numpy\n",
    "- matplotlib\n",
    "- re\n",
    "- konlpy\n",
    "- tensorflow\n",
    "- seaborn\n",
    "- pandas_profiling"
   ]
  },
  {
   "cell_type": "code",
   "execution_count": 1,
   "metadata": {},
   "outputs": [],
   "source": [
    "import sys\n",
    "import pandas as pd\n",
    "import numpy as np\n",
    "import matplotlib.pyplot as plt\n",
    "import re\n",
    "from konlpy.tag import Okt\n",
    "from tqdm import tqdm\n",
    "import tensorflow\n",
    "from tensorflow.keras.preprocessing.text import Tokenizer\n",
    "from tensorflow.keras.preprocessing.sequence import pad_sequences\n",
    "import warnings\n",
    "warnings.filterwarnings(\"ignore\")\n",
    "import seaborn as sns\n",
    "import pandas_profiling"
   ]
  },
  {
   "cell_type": "code",
   "execution_count": 2,
   "metadata": {},
   "outputs": [],
   "source": [
    "import sklearn\n",
    "from sklearn.model_selection import train_test_split"
   ]
  },
  {
   "cell_type": "code",
   "execution_count": 3,
   "metadata": {},
   "outputs": [],
   "source": [
    "import collections\n",
    "from collections import Counter"
   ]
  },
  {
   "cell_type": "code",
   "execution_count": 4,
   "metadata": {},
   "outputs": [],
   "source": [
    "import exchange_calendars as ecals\n",
    "import datetime\n",
    "import time"
   ]
  },
  {
   "cell_type": "markdown",
   "metadata": {},
   "source": [
    "### 1-1. 파이썬 & 모듈 버전 확인 (필요없는 모듈 삭제, 필요한 모듈 추가하면서 진행)"
   ]
  },
  {
   "cell_type": "code",
   "execution_count": 5,
   "metadata": {},
   "outputs": [
    {
     "name": "stdout",
     "output_type": "stream",
     "text": [
      " python version :  3.8.8 (default, Apr 13 2021, 15:08:03) [MSC v.1916 64 bit (AMD64)] \n",
      " ----------------------------------------------------------------------------------------------------\n",
      " pandas version :  1.2.4 \n",
      " ----------------------------------------------------------------------------------------------------\n",
      " numpy version :  1.20.1 \n",
      " ----------------------------------------------------------------------------------------------------\n",
      " re version :  2.2.1 \n",
      " ----------------------------------------------------------------------------------------------------\n",
      " tensorflow version :  2.3.0 \n",
      " ----------------------------------------------------------------------------------------------------\n",
      " seaborn version :  0.11.1 \n",
      " ----------------------------------------------------------------------------------------------------\n",
      " pandas_profiling version :  2.9.0 \n",
      " ----------------------------------------------------------------------------------------------------\n",
      " sklearn version :  0.24.1 \n",
      " ----------------------------------------------------------------------------------------------------\n",
      " exhange_calendars version :  3.6.1 \n",
      " ----------------------------------------------------------------------------------------------------\n"
     ]
    }
   ],
   "source": [
    "print(\" python version : \", sys.version, \"\\n\", \"-\" * 100)\n",
    "print(\" pandas version : \", pd.__version__, \"\\n\", \"-\" * 100)\n",
    "print(\" numpy version : \", np.__version__, \"\\n\", \"-\" * 100)\n",
    "print(\" re version : \", re.__version__, \"\\n\", \"-\" * 100)\n",
    "print(\" tensorflow version : \", tensorflow.__version__, \"\\n\", \"-\" * 100)\n",
    "print(\" seaborn version : \", sns.__version__, \"\\n\", \"-\" * 100)\n",
    "print(\" pandas_profiling version : \", pandas_profiling.__version__, \"\\n\", \"-\" * 100)\n",
    "print(\" sklearn version : \", sklearn.__version__, \"\\n\", \"-\" * 100)\n",
    "print(\" exhange_calendars version : \", ecals.__version__, \"\\n\", \"-\" * 100)"
   ]
  },
  {
   "cell_type": "markdown",
   "metadata": {},
   "source": [
    "### 1-2. 컴퓨터 사양 확인"
   ]
  },
  {
   "cell_type": "markdown",
   "metadata": {},
   "source": [
    "![](2022-03-24-13-31-45.png)"
   ]
  },
  {
   "cell_type": "markdown",
   "metadata": {},
   "source": [
    "## 2. 데이터 불러오기"
   ]
  },
  {
   "cell_type": "code",
   "execution_count": 6,
   "metadata": {},
   "outputs": [
    {
     "data": {
      "text/html": [
       "<div>\n",
       "<style scoped>\n",
       "    .dataframe tbody tr th:only-of-type {\n",
       "        vertical-align: middle;\n",
       "    }\n",
       "\n",
       "    .dataframe tbody tr th {\n",
       "        vertical-align: top;\n",
       "    }\n",
       "\n",
       "    .dataframe thead th {\n",
       "        text-align: right;\n",
       "    }\n",
       "</style>\n",
       "<table border=\"1\" class=\"dataframe\">\n",
       "  <thead>\n",
       "    <tr style=\"text-align: right;\">\n",
       "      <th></th>\n",
       "      <th>date</th>\n",
       "      <th>title</th>\n",
       "    </tr>\n",
       "  </thead>\n",
       "  <tbody>\n",
       "    <tr>\n",
       "      <th>58439</th>\n",
       "      <td>20151019</td>\n",
       "      <td>[특징주]제주반도체, 美·中 대규모 투자유치에 '上'</td>\n",
       "    </tr>\n",
       "    <tr>\n",
       "      <th>58440</th>\n",
       "      <td>20151019</td>\n",
       "      <td>[반도체] 2016 반도체 투자 감소 예상 - 미래</td>\n",
       "    </tr>\n",
       "    <tr>\n",
       "      <th>58441</th>\n",
       "      <td>20151019</td>\n",
       "      <td>제주반도체, '해외투자유치설' 조회공시 요구</td>\n",
       "    </tr>\n",
       "  </tbody>\n",
       "</table>\n",
       "</div>"
      ],
      "text/plain": [
       "           date                          title\n",
       "58439  20151019  [특징주]제주반도체, 美·中 대규모 투자유치에 '上'\n",
       "58440  20151019   [반도체] 2016 반도체 투자 감소 예상 - 미래\n",
       "58441  20151019       제주반도체, '해외투자유치설' 조회공시 요구"
      ]
     },
     "execution_count": 6,
     "metadata": {},
     "output_type": "execute_result"
    }
   ],
   "source": [
    "# 뉴스데이터 불러오기\n",
    "newsdata = pd.read_csv(\"../data/Newsfile3.csv\", encoding='euc-kr')\n",
    "newsdata.tail(3)"
   ]
  },
  {
   "cell_type": "markdown",
   "metadata": {},
   "source": [
    "### 2-1. 휴장일 데이터 매칭"
   ]
  },
  {
   "cell_type": "code",
   "execution_count": 7,
   "metadata": {},
   "outputs": [
    {
     "name": "stdout",
     "output_type": "stream",
     "text": [
      "<class 'pandas.core.frame.DataFrame'>\n",
      "RangeIndex: 58442 entries, 0 to 58441\n",
      "Data columns (total 2 columns):\n",
      " #   Column  Non-Null Count  Dtype \n",
      "---  ------  --------------  ----- \n",
      " 0   date    58442 non-null  int64 \n",
      " 1   title   58442 non-null  object\n",
      "dtypes: int64(1), object(1)\n",
      "memory usage: 913.3+ KB\n"
     ]
    }
   ],
   "source": [
    "# newsdata의 datatype 확인\n",
    "newsdata.info()"
   ]
  },
  {
   "cell_type": "markdown",
   "metadata": {},
   "source": [
    "- type 변환"
   ]
  },
  {
   "cell_type": "code",
   "execution_count": 8,
   "metadata": {},
   "outputs": [
    {
     "name": "stdout",
     "output_type": "stream",
     "text": [
      "<class 'pandas.core.frame.DataFrame'>\n",
      "RangeIndex: 58442 entries, 0 to 58441\n",
      "Data columns (total 2 columns):\n",
      " #   Column  Non-Null Count  Dtype \n",
      "---  ------  --------------  ----- \n",
      " 0   date    58442 non-null  string\n",
      " 1   title   58442 non-null  object\n",
      "dtypes: object(1), string(1)\n",
      "memory usage: 913.3+ KB\n"
     ]
    }
   ],
   "source": [
    "# datatype : int -> string\n",
    "newsdata = newsdata.astype({'date':'string'})\n",
    "newsdata.info()"
   ]
  },
  {
   "cell_type": "code",
   "execution_count": 9,
   "metadata": {},
   "outputs": [
    {
     "name": "stdout",
     "output_type": "stream",
     "text": [
      "<class 'pandas.core.frame.DataFrame'>\n",
      "RangeIndex: 58442 entries, 0 to 58441\n",
      "Data columns (total 2 columns):\n",
      " #   Column  Non-Null Count  Dtype         \n",
      "---  ------  --------------  -----         \n",
      " 0   date    58442 non-null  datetime64[ns]\n",
      " 1   title   58442 non-null  object        \n",
      "dtypes: datetime64[ns](1), object(1)\n",
      "memory usage: 913.3+ KB\n"
     ]
    }
   ],
   "source": [
    "# datatype : string -> datetime\n",
    "newsdata['date'] = pd.to_datetime(newsdata['date'])\n",
    "newsdata.info()"
   ]
  },
  {
   "cell_type": "markdown",
   "metadata": {},
   "source": [
    "- 뉴스데이터의 처음 날짜와 마지막 날짜 확인"
   ]
  },
  {
   "cell_type": "code",
   "execution_count": 10,
   "metadata": {},
   "outputs": [
    {
     "name": "stdout",
     "output_type": "stream",
     "text": [
      "2022-03-16 00:00:00 58441   2015-10-19\n",
      "Name: date, dtype: datetime64[ns]\n"
     ]
    }
   ],
   "source": [
    "first_date = newsdata['date'][0]\n",
    "last_date = newsdata['date'][-1:]\n",
    "print(first_date, last_date)"
   ]
  },
  {
   "cell_type": "code",
   "execution_count": 11,
   "metadata": {},
   "outputs": [
    {
     "data": {
      "text/html": [
       "<div>\n",
       "<style scoped>\n",
       "    .dataframe tbody tr th:only-of-type {\n",
       "        vertical-align: middle;\n",
       "    }\n",
       "\n",
       "    .dataframe tbody tr th {\n",
       "        vertical-align: top;\n",
       "    }\n",
       "\n",
       "    .dataframe thead th {\n",
       "        text-align: right;\n",
       "    }\n",
       "</style>\n",
       "<table border=\"1\" class=\"dataframe\">\n",
       "  <thead>\n",
       "    <tr style=\"text-align: right;\">\n",
       "      <th></th>\n",
       "      <th>date</th>\n",
       "      <th>title</th>\n",
       "    </tr>\n",
       "  </thead>\n",
       "  <tbody>\n",
       "    <tr>\n",
       "      <th>0</th>\n",
       "      <td>2022-03-16</td>\n",
       "      <td>유럽 반도체 공급망 지원 호응… 인텔, 10년간 110조 통큰 투자</td>\n",
       "    </tr>\n",
       "    <tr>\n",
       "      <th>1</th>\n",
       "      <td>2022-03-16</td>\n",
       "      <td>반도체 또다시 ‘쩐의 전쟁‘…인텔 “유럽 전역에 110조 투자”</td>\n",
       "    </tr>\n",
       "    <tr>\n",
       "      <th>2</th>\n",
       "      <td>2022-03-16</td>\n",
       "      <td>“韓, 세계 2위 中수입시장 비중 줄어…반도체 외 돌파구 필요”</td>\n",
       "    </tr>\n",
       "    <tr>\n",
       "      <th>3</th>\n",
       "      <td>2022-03-16</td>\n",
       "      <td>[특징주] 코리아써키트, 반도체 패키지기판 성장 기대감에 5%↑</td>\n",
       "    </tr>\n",
       "    <tr>\n",
       "      <th>4</th>\n",
       "      <td>2022-03-16</td>\n",
       "      <td>[특징주] 반도체 대장주 강세…SK하이닉스, 2% 넘게 상승</td>\n",
       "    </tr>\n",
       "    <tr>\n",
       "      <th>...</th>\n",
       "      <td>...</td>\n",
       "      <td>...</td>\n",
       "    </tr>\n",
       "    <tr>\n",
       "      <th>58437</th>\n",
       "      <td>2015-10-19</td>\n",
       "      <td>세계 반도체 M&amp;A 1006억달러</td>\n",
       "    </tr>\n",
       "    <tr>\n",
       "      <th>58438</th>\n",
       "      <td>2015-10-19</td>\n",
       "      <td>반도체社 인수·합병 봇물…올 들어 1000억달러 돌파</td>\n",
       "    </tr>\n",
       "    <tr>\n",
       "      <th>58439</th>\n",
       "      <td>2015-10-19</td>\n",
       "      <td>[특징주]제주반도체, 美·中 대규모 투자유치에 '上'</td>\n",
       "    </tr>\n",
       "    <tr>\n",
       "      <th>58440</th>\n",
       "      <td>2015-10-19</td>\n",
       "      <td>[반도체] 2016 반도체 투자 감소 예상 - 미래</td>\n",
       "    </tr>\n",
       "    <tr>\n",
       "      <th>58441</th>\n",
       "      <td>2015-10-19</td>\n",
       "      <td>제주반도체, '해외투자유치설' 조회공시 요구</td>\n",
       "    </tr>\n",
       "  </tbody>\n",
       "</table>\n",
       "<p>58442 rows × 2 columns</p>\n",
       "</div>"
      ],
      "text/plain": [
       "            date                                  title\n",
       "0     2022-03-16  유럽 반도체 공급망 지원 호응… 인텔, 10년간 110조 통큰 투자\n",
       "1     2022-03-16    반도체 또다시 ‘쩐의 전쟁‘…인텔 “유럽 전역에 110조 투자”\n",
       "2     2022-03-16    “韓, 세계 2위 中수입시장 비중 줄어…반도체 외 돌파구 필요”\n",
       "3     2022-03-16    [특징주] 코리아써키트, 반도체 패키지기판 성장 기대감에 5%↑\n",
       "4     2022-03-16      [특징주] 반도체 대장주 강세…SK하이닉스, 2% 넘게 상승\n",
       "...          ...                                    ...\n",
       "58437 2015-10-19                     세계 반도체 M&A 1006억달러\n",
       "58438 2015-10-19          반도체社 인수·합병 봇물…올 들어 1000억달러 돌파\n",
       "58439 2015-10-19          [특징주]제주반도체, 美·中 대규모 투자유치에 '上'\n",
       "58440 2015-10-19           [반도체] 2016 반도체 투자 감소 예상 - 미래\n",
       "58441 2015-10-19               제주반도체, '해외투자유치설' 조회공시 요구\n",
       "\n",
       "[58442 rows x 2 columns]"
      ]
     },
     "execution_count": 11,
     "metadata": {},
     "output_type": "execute_result"
    }
   ],
   "source": [
    "# newsdata -> newsdata_all : 처음 날짜와 마지막 날짜가 포함된 데이터로 이름 변결\n",
    "newsdata_all = newsdata[newsdata['date'].between('2015-10-19', '2022-03-16')]\n",
    "newsdata_all"
   ]
  },
  {
   "cell_type": "markdown",
   "metadata": {},
   "source": [
    "- 리스트로 변환"
   ]
  },
  {
   "cell_type": "code",
   "execution_count": 12,
   "metadata": {},
   "outputs": [
    {
     "data": {
      "text/plain": [
       "[Timestamp('2022-03-16 00:00:00'),\n",
       " Timestamp('2022-03-16 00:00:00'),\n",
       " Timestamp('2022-03-16 00:00:00'),\n",
       " Timestamp('2022-03-16 00:00:00'),\n",
       " Timestamp('2022-03-16 00:00:00')]"
      ]
     },
     "execution_count": 12,
     "metadata": {},
     "output_type": "execute_result"
    }
   ],
   "source": [
    "# 'date' 컬럼 리스트로 변경\n",
    "news = newsdata_all['date'].to_list()\n",
    "news[:5]"
   ]
  },
  {
   "cell_type": "markdown",
   "metadata": {},
   "source": [
    "### 2-2. 한국 거래소 개장일 확인"
   ]
  },
  {
   "cell_type": "code",
   "execution_count": 13,
   "metadata": {},
   "outputs": [
    {
     "name": "stdout",
     "output_type": "stream",
     "text": [
      "2021-01-01 개장 확인:  False\n",
      "오늘날짜 개장일 확인:  True\n",
      "다음 개장일 날짜 확인:  2022-03-28 00:00:00+00:00\n"
     ]
    }
   ],
   "source": [
    "# 한국코드\n",
    "XKRX = ecals.get_calendar(\"XKRX\")       \n",
    "# 2021-01-01은 개장일인지 확인 : 'False' -> 휴장일 , 'True' -> 개장일\n",
    "print(\"2021-01-01 개장 확인: \", XKRX.is_session('2021-01-01'))    \n",
    "# 오늘(22-03-24)은 개장일인지 확인 :'False' -> 휴장일 , 'True' -> 개장일\n",
    "print(\"오늘날짜 개장일 확인: \", XKRX.is_session(datetime.date.today().strftime('%Y-%m-%d')))  \n",
    "# 다음 개장일은 언제인지 확인\n",
    "print(\"다음 개장일 날짜 확인: \", XKRX.next_open(pd.Timestamp.today().strftime('%Y-%m-%d')))"
   ]
  },
  {
   "cell_type": "code",
   "execution_count": 14,
   "metadata": {},
   "outputs": [],
   "source": [
    "# 뉴스데이터 날짜 다음날에 해당하는 개장일 날짜 확인\n",
    "next_open_list = []\n",
    "\n",
    "for day in news:\n",
    "    next_open_date = XKRX.next_open(day)\n",
    "    next_open_list.append(next_open_date)"
   ]
  },
  {
   "cell_type": "code",
   "execution_count": 15,
   "metadata": {},
   "outputs": [
    {
     "data": {
      "text/plain": [
       "[Timestamp('2022-03-17 00:00:00+0000', tz='UTC'),\n",
       " Timestamp('2022-03-17 00:00:00+0000', tz='UTC'),\n",
       " Timestamp('2022-03-17 00:00:00+0000', tz='UTC'),\n",
       " Timestamp('2022-03-17 00:00:00+0000', tz='UTC'),\n",
       " Timestamp('2022-03-17 00:00:00+0000', tz='UTC')]"
      ]
     },
     "execution_count": 15,
     "metadata": {},
     "output_type": "execute_result"
    }
   ],
   "source": [
    "next_open_list[:5]"
   ]
  },
  {
   "cell_type": "code",
   "execution_count": 16,
   "metadata": {},
   "outputs": [
    {
     "data": {
      "text/html": [
       "<div>\n",
       "<style scoped>\n",
       "    .dataframe tbody tr th:only-of-type {\n",
       "        vertical-align: middle;\n",
       "    }\n",
       "\n",
       "    .dataframe tbody tr th {\n",
       "        vertical-align: top;\n",
       "    }\n",
       "\n",
       "    .dataframe thead th {\n",
       "        text-align: right;\n",
       "    }\n",
       "</style>\n",
       "<table border=\"1\" class=\"dataframe\">\n",
       "  <thead>\n",
       "    <tr style=\"text-align: right;\">\n",
       "      <th></th>\n",
       "      <th>date</th>\n",
       "      <th>title</th>\n",
       "      <th>NextOpenDate</th>\n",
       "    </tr>\n",
       "  </thead>\n",
       "  <tbody>\n",
       "    <tr>\n",
       "      <th>0</th>\n",
       "      <td>2022-03-16</td>\n",
       "      <td>유럽 반도체 공급망 지원 호응… 인텔, 10년간 110조 통큰 투자</td>\n",
       "      <td>2022-03-17 00:00:00+00:00</td>\n",
       "    </tr>\n",
       "    <tr>\n",
       "      <th>1</th>\n",
       "      <td>2022-03-16</td>\n",
       "      <td>반도체 또다시 ‘쩐의 전쟁‘…인텔 “유럽 전역에 110조 투자”</td>\n",
       "      <td>2022-03-17 00:00:00+00:00</td>\n",
       "    </tr>\n",
       "    <tr>\n",
       "      <th>2</th>\n",
       "      <td>2022-03-16</td>\n",
       "      <td>“韓, 세계 2위 中수입시장 비중 줄어…반도체 외 돌파구 필요”</td>\n",
       "      <td>2022-03-17 00:00:00+00:00</td>\n",
       "    </tr>\n",
       "  </tbody>\n",
       "</table>\n",
       "</div>"
      ],
      "text/plain": [
       "        date                                  title              NextOpenDate\n",
       "0 2022-03-16  유럽 반도체 공급망 지원 호응… 인텔, 10년간 110조 통큰 투자 2022-03-17 00:00:00+00:00\n",
       "1 2022-03-16    반도체 또다시 ‘쩐의 전쟁‘…인텔 “유럽 전역에 110조 투자” 2022-03-17 00:00:00+00:00\n",
       "2 2022-03-16    “韓, 세계 2위 中수입시장 비중 줄어…반도체 외 돌파구 필요” 2022-03-17 00:00:00+00:00"
      ]
     },
     "execution_count": 16,
     "metadata": {},
     "output_type": "execute_result"
    }
   ],
   "source": [
    "# 뉴스나온 날짜 다음 개장일 컬럼 추가\n",
    "newsdata_all['NextOpenDate'] = next_open_list\n",
    "newsdata_all.head(3)"
   ]
  },
  {
   "cell_type": "code",
   "execution_count": 17,
   "metadata": {},
   "outputs": [
    {
     "name": "stdout",
     "output_type": "stream",
     "text": [
      "<class 'pandas.core.frame.DataFrame'>\n",
      "Int64Index: 58442 entries, 0 to 58441\n",
      "Data columns (total 3 columns):\n",
      " #   Column        Non-Null Count  Dtype              \n",
      "---  ------        --------------  -----              \n",
      " 0   date          58442 non-null  datetime64[ns]     \n",
      " 1   title         58442 non-null  object             \n",
      " 2   NextOpenDate  58442 non-null  datetime64[ns, UTC]\n",
      "dtypes: datetime64[ns, UTC](1), datetime64[ns](1), object(1)\n",
      "memory usage: 1.8+ MB\n"
     ]
    }
   ],
   "source": [
    "newsdata_all.info()"
   ]
  },
  {
   "cell_type": "markdown",
   "metadata": {},
   "source": [
    "- type 변환"
   ]
  },
  {
   "cell_type": "code",
   "execution_count": 18,
   "metadata": {},
   "outputs": [
    {
     "name": "stdout",
     "output_type": "stream",
     "text": [
      "<class 'pandas.core.frame.DataFrame'>\n",
      "Int64Index: 58442 entries, 0 to 58441\n",
      "Data columns (total 3 columns):\n",
      " #   Column        Non-Null Count  Dtype         \n",
      "---  ------        --------------  -----         \n",
      " 0   date          58442 non-null  datetime64[ns]\n",
      " 1   title         58442 non-null  object        \n",
      " 2   NextOpenDate  58442 non-null  string        \n",
      "dtypes: datetime64[ns](1), object(1), string(1)\n",
      "memory usage: 1.8+ MB\n"
     ]
    }
   ],
   "source": [
    "newsdata_all = newsdata_all.astype({'NextOpenDate':'string'})\n",
    "newsdata_all.info()"
   ]
  },
  {
   "cell_type": "code",
   "execution_count": 19,
   "metadata": {},
   "outputs": [
    {
     "data": {
      "text/plain": [
       "'2022-03-17'"
      ]
     },
     "execution_count": 19,
     "metadata": {},
     "output_type": "execute_result"
    }
   ],
   "source": [
    "a = newsdata_all['NextOpenDate'][0]\n",
    "b = a.split(' ')[0]\n",
    "b"
   ]
  },
  {
   "cell_type": "code",
   "execution_count": 20,
   "metadata": {},
   "outputs": [
    {
     "data": {
      "text/html": [
       "<div>\n",
       "<style scoped>\n",
       "    .dataframe tbody tr th:only-of-type {\n",
       "        vertical-align: middle;\n",
       "    }\n",
       "\n",
       "    .dataframe tbody tr th {\n",
       "        vertical-align: top;\n",
       "    }\n",
       "\n",
       "    .dataframe thead th {\n",
       "        text-align: right;\n",
       "    }\n",
       "</style>\n",
       "<table border=\"1\" class=\"dataframe\">\n",
       "  <thead>\n",
       "    <tr style=\"text-align: right;\">\n",
       "      <th></th>\n",
       "      <th>date</th>\n",
       "      <th>title</th>\n",
       "      <th>NextOpenDate</th>\n",
       "    </tr>\n",
       "  </thead>\n",
       "  <tbody>\n",
       "    <tr>\n",
       "      <th>0</th>\n",
       "      <td>2022-03-16</td>\n",
       "      <td>유럽 반도체 공급망 지원 호응… 인텔, 10년간 110조 통큰 투자</td>\n",
       "      <td>2022-03-17</td>\n",
       "    </tr>\n",
       "    <tr>\n",
       "      <th>1</th>\n",
       "      <td>2022-03-16</td>\n",
       "      <td>반도체 또다시 ‘쩐의 전쟁‘…인텔 “유럽 전역에 110조 투자”</td>\n",
       "      <td>2022-03-17</td>\n",
       "    </tr>\n",
       "    <tr>\n",
       "      <th>2</th>\n",
       "      <td>2022-03-16</td>\n",
       "      <td>“韓, 세계 2위 中수입시장 비중 줄어…반도체 외 돌파구 필요”</td>\n",
       "      <td>2022-03-17</td>\n",
       "    </tr>\n",
       "  </tbody>\n",
       "</table>\n",
       "</div>"
      ],
      "text/plain": [
       "        date                                  title NextOpenDate\n",
       "0 2022-03-16  유럽 반도체 공급망 지원 호응… 인텔, 10년간 110조 통큰 투자   2022-03-17\n",
       "1 2022-03-16    반도체 또다시 ‘쩐의 전쟁‘…인텔 “유럽 전역에 110조 투자”   2022-03-17\n",
       "2 2022-03-16    “韓, 세계 2위 中수입시장 비중 줄어…반도체 외 돌파구 필요”   2022-03-17"
      ]
     },
     "execution_count": 20,
     "metadata": {},
     "output_type": "execute_result"
    }
   ],
   "source": [
    "newsdata_all['NextOpenDate'] = newsdata_all['NextOpenDate'].apply(lambda x: x.split(' ')[0])\n",
    "newsdata_all.head(3)"
   ]
  },
  {
   "cell_type": "code",
   "execution_count": 21,
   "metadata": {},
   "outputs": [
    {
     "name": "stdout",
     "output_type": "stream",
     "text": [
      "<class 'pandas.core.frame.DataFrame'>\n",
      "Int64Index: 58442 entries, 0 to 58441\n",
      "Data columns (total 3 columns):\n",
      " #   Column        Non-Null Count  Dtype         \n",
      "---  ------        --------------  -----         \n",
      " 0   date          58442 non-null  datetime64[ns]\n",
      " 1   title         58442 non-null  object        \n",
      " 2   NextOpenDate  58442 non-null  datetime64[ns]\n",
      "dtypes: datetime64[ns](2), object(1)\n",
      "memory usage: 3.8+ MB\n"
     ]
    }
   ],
   "source": [
    "newsdata_all['NextOpenDate'] = pd.to_datetime(newsdata_all['NextOpenDate'])\n",
    "newsdata_all.info()"
   ]
  },
  {
   "cell_type": "code",
   "execution_count": 22,
   "metadata": {},
   "outputs": [
    {
     "data": {
      "text/html": [
       "<div>\n",
       "<style scoped>\n",
       "    .dataframe tbody tr th:only-of-type {\n",
       "        vertical-align: middle;\n",
       "    }\n",
       "\n",
       "    .dataframe tbody tr th {\n",
       "        vertical-align: top;\n",
       "    }\n",
       "\n",
       "    .dataframe thead th {\n",
       "        text-align: right;\n",
       "    }\n",
       "</style>\n",
       "<table border=\"1\" class=\"dataframe\">\n",
       "  <thead>\n",
       "    <tr style=\"text-align: right;\">\n",
       "      <th></th>\n",
       "      <th>date</th>\n",
       "      <th>title</th>\n",
       "      <th>NextOpenDate</th>\n",
       "      <th>NextOpenDateYear</th>\n",
       "    </tr>\n",
       "  </thead>\n",
       "  <tbody>\n",
       "    <tr>\n",
       "      <th>0</th>\n",
       "      <td>2022-03-16</td>\n",
       "      <td>유럽 반도체 공급망 지원 호응… 인텔, 10년간 110조 통큰 투자</td>\n",
       "      <td>2022-03-17</td>\n",
       "      <td>2022</td>\n",
       "    </tr>\n",
       "    <tr>\n",
       "      <th>1</th>\n",
       "      <td>2022-03-16</td>\n",
       "      <td>반도체 또다시 ‘쩐의 전쟁‘…인텔 “유럽 전역에 110조 투자”</td>\n",
       "      <td>2022-03-17</td>\n",
       "      <td>2022</td>\n",
       "    </tr>\n",
       "    <tr>\n",
       "      <th>2</th>\n",
       "      <td>2022-03-16</td>\n",
       "      <td>“韓, 세계 2위 中수입시장 비중 줄어…반도체 외 돌파구 필요”</td>\n",
       "      <td>2022-03-17</td>\n",
       "      <td>2022</td>\n",
       "    </tr>\n",
       "  </tbody>\n",
       "</table>\n",
       "</div>"
      ],
      "text/plain": [
       "        date                                  title NextOpenDate  \\\n",
       "0 2022-03-16  유럽 반도체 공급망 지원 호응… 인텔, 10년간 110조 통큰 투자   2022-03-17   \n",
       "1 2022-03-16    반도체 또다시 ‘쩐의 전쟁‘…인텔 “유럽 전역에 110조 투자”   2022-03-17   \n",
       "2 2022-03-16    “韓, 세계 2위 中수입시장 비중 줄어…반도체 외 돌파구 필요”   2022-03-17   \n",
       "\n",
       "   NextOpenDateYear  \n",
       "0              2022  \n",
       "1              2022  \n",
       "2              2022  "
      ]
     },
     "execution_count": 22,
     "metadata": {},
     "output_type": "execute_result"
    }
   ],
   "source": [
    "# 개장일 기준 'Year' 컬럼 추가\n",
    "newsdata_all['NextOpenDateYear'] = newsdata_all['NextOpenDate'].dt.year\n",
    "newsdata_all.head(3)"
   ]
  },
  {
   "cell_type": "code",
   "execution_count": 23,
   "metadata": {},
   "outputs": [
    {
     "data": {
      "text/plain": [
       "array(['date', 'title', 'NextOpenDate', 'NextOpenDateYear'], dtype=object)"
      ]
     },
     "execution_count": 23,
     "metadata": {},
     "output_type": "execute_result"
    }
   ],
   "source": [
    "# col의 인덱스 변경\n",
    "col = newsdata_all.columns.to_numpy()\n",
    "col"
   ]
  },
  {
   "cell_type": "code",
   "execution_count": 24,
   "metadata": {},
   "outputs": [
    {
     "data": {
      "text/plain": [
       "array(['date', 'NextOpenDateYear', 'NextOpenDate', 'title'], dtype=object)"
      ]
     },
     "execution_count": 24,
     "metadata": {},
     "output_type": "execute_result"
    }
   ],
   "source": [
    "col = col[[0,3,2,1]]\n",
    "col"
   ]
  },
  {
   "cell_type": "code",
   "execution_count": 25,
   "metadata": {},
   "outputs": [
    {
     "data": {
      "text/html": [
       "<div>\n",
       "<style scoped>\n",
       "    .dataframe tbody tr th:only-of-type {\n",
       "        vertical-align: middle;\n",
       "    }\n",
       "\n",
       "    .dataframe tbody tr th {\n",
       "        vertical-align: top;\n",
       "    }\n",
       "\n",
       "    .dataframe thead th {\n",
       "        text-align: right;\n",
       "    }\n",
       "</style>\n",
       "<table border=\"1\" class=\"dataframe\">\n",
       "  <thead>\n",
       "    <tr style=\"text-align: right;\">\n",
       "      <th></th>\n",
       "      <th>date</th>\n",
       "      <th>NextOpenDateYear</th>\n",
       "      <th>NextOpenDate</th>\n",
       "      <th>title</th>\n",
       "    </tr>\n",
       "  </thead>\n",
       "  <tbody>\n",
       "    <tr>\n",
       "      <th>0</th>\n",
       "      <td>2022-03-16</td>\n",
       "      <td>2022</td>\n",
       "      <td>2022-03-17</td>\n",
       "      <td>유럽 반도체 공급망 지원 호응… 인텔, 10년간 110조 통큰 투자</td>\n",
       "    </tr>\n",
       "    <tr>\n",
       "      <th>1</th>\n",
       "      <td>2022-03-16</td>\n",
       "      <td>2022</td>\n",
       "      <td>2022-03-17</td>\n",
       "      <td>반도체 또다시 ‘쩐의 전쟁‘…인텔 “유럽 전역에 110조 투자”</td>\n",
       "    </tr>\n",
       "    <tr>\n",
       "      <th>2</th>\n",
       "      <td>2022-03-16</td>\n",
       "      <td>2022</td>\n",
       "      <td>2022-03-17</td>\n",
       "      <td>“韓, 세계 2위 中수입시장 비중 줄어…반도체 외 돌파구 필요”</td>\n",
       "    </tr>\n",
       "  </tbody>\n",
       "</table>\n",
       "</div>"
      ],
      "text/plain": [
       "        date  NextOpenDateYear NextOpenDate  \\\n",
       "0 2022-03-16              2022   2022-03-17   \n",
       "1 2022-03-16              2022   2022-03-17   \n",
       "2 2022-03-16              2022   2022-03-17   \n",
       "\n",
       "                                   title  \n",
       "0  유럽 반도체 공급망 지원 호응… 인텔, 10년간 110조 통큰 투자  \n",
       "1    반도체 또다시 ‘쩐의 전쟁‘…인텔 “유럽 전역에 110조 투자”  \n",
       "2    “韓, 세계 2위 中수입시장 비중 줄어…반도체 외 돌파구 필요”  "
      ]
     },
     "execution_count": 25,
     "metadata": {},
     "output_type": "execute_result"
    }
   ],
   "source": [
    "newsdata_all = newsdata_all[col]\n",
    "newsdata_all.head(3)"
   ]
  },
  {
   "cell_type": "markdown",
   "metadata": {},
   "source": [
    "## 3. 데이터 확인"
   ]
  },
  {
   "cell_type": "code",
   "execution_count": 26,
   "metadata": {},
   "outputs": [
    {
     "name": "stdout",
     "output_type": "stream",
     "text": [
      "<class 'pandas.core.frame.DataFrame'>\n",
      "Int64Index: 58442 entries, 0 to 58441\n",
      "Data columns (total 4 columns):\n",
      " #   Column            Non-Null Count  Dtype         \n",
      "---  ------            --------------  -----         \n",
      " 0   date              58442 non-null  datetime64[ns]\n",
      " 1   NextOpenDateYear  58442 non-null  int64         \n",
      " 2   NextOpenDate      58442 non-null  datetime64[ns]\n",
      " 3   title             58442 non-null  object        \n",
      "dtypes: datetime64[ns](2), int64(1), object(1)\n",
      "memory usage: 4.2+ MB\n"
     ]
    }
   ],
   "source": [
    "# 데이터 갯수 : 58442개\n",
    "# 컬럼 갯수 : 4개\n",
    "newsdata_all.info()"
   ]
  },
  {
   "cell_type": "markdown",
   "metadata": {},
   "source": [
    "- 결측치 확인"
   ]
  },
  {
   "cell_type": "code",
   "execution_count": 27,
   "metadata": {},
   "outputs": [
    {
     "data": {
      "text/plain": [
       "date                0\n",
       "NextOpenDateYear    0\n",
       "NextOpenDate        0\n",
       "title               0\n",
       "dtype: int64"
      ]
     },
     "execution_count": 27,
     "metadata": {},
     "output_type": "execute_result"
    }
   ],
   "source": [
    "# 결측치 확인\n",
    "newsdata_all.isnull().sum()"
   ]
  },
  {
   "cell_type": "markdown",
   "metadata": {},
   "source": [
    "## 4. 기업별 '현재가', '당일종가-어제종가', '상승률', 'label' 데이터와 뉴스데이터 병합"
   ]
  },
  {
   "cell_type": "markdown",
   "metadata": {},
   "source": [
    "### 4-1. 반도체 기업 데이터 불러오기 : 005290"
   ]
  },
  {
   "cell_type": "code",
   "execution_count": 28,
   "metadata": {},
   "outputs": [
    {
     "data": {
      "text/html": [
       "<div>\n",
       "<style scoped>\n",
       "    .dataframe tbody tr th:only-of-type {\n",
       "        vertical-align: middle;\n",
       "    }\n",
       "\n",
       "    .dataframe tbody tr th {\n",
       "        vertical-align: top;\n",
       "    }\n",
       "\n",
       "    .dataframe thead th {\n",
       "        text-align: right;\n",
       "    }\n",
       "</style>\n",
       "<table border=\"1\" class=\"dataframe\">\n",
       "  <thead>\n",
       "    <tr style=\"text-align: right;\">\n",
       "      <th></th>\n",
       "      <th>Unnamed: 0</th>\n",
       "      <th>일자</th>\n",
       "      <th>현재가</th>\n",
       "      <th>당일종가-어제종가</th>\n",
       "      <th>상승률</th>\n",
       "    </tr>\n",
       "  </thead>\n",
       "  <tbody>\n",
       "    <tr>\n",
       "      <th>0</th>\n",
       "      <td>0</td>\n",
       "      <td>20220314</td>\n",
       "      <td>31900</td>\n",
       "      <td>-1500</td>\n",
       "      <td>-0.047022</td>\n",
       "    </tr>\n",
       "    <tr>\n",
       "      <th>1</th>\n",
       "      <td>1</td>\n",
       "      <td>20220311</td>\n",
       "      <td>33400</td>\n",
       "      <td>-300</td>\n",
       "      <td>-0.008982</td>\n",
       "    </tr>\n",
       "  </tbody>\n",
       "</table>\n",
       "</div>"
      ],
      "text/plain": [
       "   Unnamed: 0        일자    현재가  당일종가-어제종가       상승률\n",
       "0           0  20220314  31900      -1500 -0.047022\n",
       "1           1  20220311  33400       -300 -0.008982"
      ]
     },
     "execution_count": 28,
     "metadata": {},
     "output_type": "execute_result"
    }
   ],
   "source": [
    "df1 = pd.read_excel('../data/날짜현재가/005290.xlsx')\n",
    "df1.head(2)"
   ]
  },
  {
   "cell_type": "code",
   "execution_count": 29,
   "metadata": {},
   "outputs": [
    {
     "data": {
      "text/html": [
       "<div>\n",
       "<style scoped>\n",
       "    .dataframe tbody tr th:only-of-type {\n",
       "        vertical-align: middle;\n",
       "    }\n",
       "\n",
       "    .dataframe tbody tr th {\n",
       "        vertical-align: top;\n",
       "    }\n",
       "\n",
       "    .dataframe thead th {\n",
       "        text-align: right;\n",
       "    }\n",
       "</style>\n",
       "<table border=\"1\" class=\"dataframe\">\n",
       "  <thead>\n",
       "    <tr style=\"text-align: right;\">\n",
       "      <th></th>\n",
       "      <th>일자</th>\n",
       "      <th>현재가</th>\n",
       "      <th>당일종가-어제종가</th>\n",
       "      <th>상승률</th>\n",
       "    </tr>\n",
       "  </thead>\n",
       "  <tbody>\n",
       "    <tr>\n",
       "      <th>0</th>\n",
       "      <td>20220314</td>\n",
       "      <td>31900</td>\n",
       "      <td>-1500</td>\n",
       "      <td>-0.047022</td>\n",
       "    </tr>\n",
       "    <tr>\n",
       "      <th>1</th>\n",
       "      <td>20220311</td>\n",
       "      <td>33400</td>\n",
       "      <td>-300</td>\n",
       "      <td>-0.008982</td>\n",
       "    </tr>\n",
       "  </tbody>\n",
       "</table>\n",
       "</div>"
      ],
      "text/plain": [
       "         일자    현재가  당일종가-어제종가       상승률\n",
       "0  20220314  31900      -1500 -0.047022\n",
       "1  20220311  33400       -300 -0.008982"
      ]
     },
     "execution_count": 29,
     "metadata": {},
     "output_type": "execute_result"
    }
   ],
   "source": [
    "df1.drop(columns=['Unnamed: 0'], inplace=True)\n",
    "df1.head(2)"
   ]
  },
  {
   "cell_type": "markdown",
   "metadata": {},
   "source": [
    "- 긍정 & 부정 라벨링\n",
    "    - 상승률이 0보다 크면 `1`로 매칭\n",
    "    - 상승률이 0보다 작으면 `0`으로 매칭"
   ]
  },
  {
   "cell_type": "code",
   "execution_count": 30,
   "metadata": {},
   "outputs": [
    {
     "data": {
      "text/html": [
       "<div>\n",
       "<style scoped>\n",
       "    .dataframe tbody tr th:only-of-type {\n",
       "        vertical-align: middle;\n",
       "    }\n",
       "\n",
       "    .dataframe tbody tr th {\n",
       "        vertical-align: top;\n",
       "    }\n",
       "\n",
       "    .dataframe thead th {\n",
       "        text-align: right;\n",
       "    }\n",
       "</style>\n",
       "<table border=\"1\" class=\"dataframe\">\n",
       "  <thead>\n",
       "    <tr style=\"text-align: right;\">\n",
       "      <th></th>\n",
       "      <th>일자</th>\n",
       "      <th>현재가</th>\n",
       "      <th>당일종가-어제종가</th>\n",
       "      <th>상승률</th>\n",
       "      <th>label</th>\n",
       "    </tr>\n",
       "  </thead>\n",
       "  <tbody>\n",
       "    <tr>\n",
       "      <th>0</th>\n",
       "      <td>20220314</td>\n",
       "      <td>31900</td>\n",
       "      <td>-1500</td>\n",
       "      <td>-0.047022</td>\n",
       "      <td>0</td>\n",
       "    </tr>\n",
       "    <tr>\n",
       "      <th>1</th>\n",
       "      <td>20220311</td>\n",
       "      <td>33400</td>\n",
       "      <td>-300</td>\n",
       "      <td>-0.008982</td>\n",
       "      <td>0</td>\n",
       "    </tr>\n",
       "    <tr>\n",
       "      <th>2</th>\n",
       "      <td>20220310</td>\n",
       "      <td>33700</td>\n",
       "      <td>550</td>\n",
       "      <td>0.016320</td>\n",
       "      <td>1</td>\n",
       "    </tr>\n",
       "    <tr>\n",
       "      <th>3</th>\n",
       "      <td>20220308</td>\n",
       "      <td>33150</td>\n",
       "      <td>-800</td>\n",
       "      <td>-0.024133</td>\n",
       "      <td>0</td>\n",
       "    </tr>\n",
       "    <tr>\n",
       "      <th>4</th>\n",
       "      <td>20220307</td>\n",
       "      <td>33950</td>\n",
       "      <td>-1700</td>\n",
       "      <td>-0.050074</td>\n",
       "      <td>0</td>\n",
       "    </tr>\n",
       "    <tr>\n",
       "      <th>...</th>\n",
       "      <td>...</td>\n",
       "      <td>...</td>\n",
       "      <td>...</td>\n",
       "      <td>...</td>\n",
       "      <td>...</td>\n",
       "    </tr>\n",
       "    <tr>\n",
       "      <th>5479</th>\n",
       "      <td>19991227</td>\n",
       "      <td>8800</td>\n",
       "      <td>940</td>\n",
       "      <td>0.106818</td>\n",
       "      <td>1</td>\n",
       "    </tr>\n",
       "    <tr>\n",
       "      <th>5480</th>\n",
       "      <td>19991224</td>\n",
       "      <td>7860</td>\n",
       "      <td>840</td>\n",
       "      <td>0.106870</td>\n",
       "      <td>1</td>\n",
       "    </tr>\n",
       "    <tr>\n",
       "      <th>5481</th>\n",
       "      <td>19991223</td>\n",
       "      <td>7020</td>\n",
       "      <td>750</td>\n",
       "      <td>0.106838</td>\n",
       "      <td>1</td>\n",
       "    </tr>\n",
       "    <tr>\n",
       "      <th>5482</th>\n",
       "      <td>19991222</td>\n",
       "      <td>6270</td>\n",
       "      <td>670</td>\n",
       "      <td>0.106858</td>\n",
       "      <td>1</td>\n",
       "    </tr>\n",
       "    <tr>\n",
       "      <th>5483</th>\n",
       "      <td>19991221</td>\n",
       "      <td>5600</td>\n",
       "      <td>5600</td>\n",
       "      <td>1.000000</td>\n",
       "      <td>1</td>\n",
       "    </tr>\n",
       "  </tbody>\n",
       "</table>\n",
       "<p>5484 rows × 5 columns</p>\n",
       "</div>"
      ],
      "text/plain": [
       "            일자    현재가  당일종가-어제종가       상승률  label\n",
       "0     20220314  31900      -1500 -0.047022      0\n",
       "1     20220311  33400       -300 -0.008982      0\n",
       "2     20220310  33700        550  0.016320      1\n",
       "3     20220308  33150       -800 -0.024133      0\n",
       "4     20220307  33950      -1700 -0.050074      0\n",
       "...        ...    ...        ...       ...    ...\n",
       "5479  19991227   8800        940  0.106818      1\n",
       "5480  19991224   7860        840  0.106870      1\n",
       "5481  19991223   7020        750  0.106838      1\n",
       "5482  19991222   6270        670  0.106858      1\n",
       "5483  19991221   5600       5600  1.000000      1\n",
       "\n",
       "[5484 rows x 5 columns]"
      ]
     },
     "execution_count": 30,
     "metadata": {},
     "output_type": "execute_result"
    }
   ],
   "source": [
    "df1['label'] = df1.apply(lambda x: 1 if x['상승률'] >= 0 else 0, axis=1)\n",
    "df1"
   ]
  },
  {
   "cell_type": "markdown",
   "metadata": {},
   "source": [
    "- 라벨링 분포 확인"
   ]
  },
  {
   "cell_type": "code",
   "execution_count": 31,
   "metadata": {},
   "outputs": [
    {
     "data": {
      "text/plain": [
       "<AxesSubplot:xlabel='label', ylabel='count'>"
      ]
     },
     "execution_count": 31,
     "metadata": {},
     "output_type": "execute_result"
    },
    {
     "data": {
      "image/png": "[encoded data removed]",
      "text/plain": [
       "<Figure size 432x288 with 1 Axes>"
      ]
     },
     "metadata": {
      "needs_background": "light"
     },
     "output_type": "display_data"
    }
   ],
   "source": [
    "sns.countplot(x='label', data=df1)"
   ]
  },
  {
   "cell_type": "markdown",
   "metadata": {},
   "source": [
    "- data type 변경"
   ]
  },
  {
   "cell_type": "code",
   "execution_count": 32,
   "metadata": {},
   "outputs": [
    {
     "name": "stdout",
     "output_type": "stream",
     "text": [
      "<class 'pandas.core.frame.DataFrame'>\n",
      "RangeIndex: 5484 entries, 0 to 5483\n",
      "Data columns (total 5 columns):\n",
      " #   Column     Non-Null Count  Dtype  \n",
      "---  ------     --------------  -----  \n",
      " 0   일자         5484 non-null   string \n",
      " 1   현재가        5484 non-null   int64  \n",
      " 2   당일종가-어제종가  5484 non-null   int64  \n",
      " 3   상승률        5484 non-null   float64\n",
      " 4   label      5484 non-null   int64  \n",
      "dtypes: float64(1), int64(3), string(1)\n",
      "memory usage: 214.3 KB\n"
     ]
    }
   ],
   "source": [
    "# data type : int -> string\n",
    "df1 = df1.astype({'일자':'string'})\n",
    "df1.info()"
   ]
  },
  {
   "cell_type": "code",
   "execution_count": 33,
   "metadata": {},
   "outputs": [
    {
     "name": "stdout",
     "output_type": "stream",
     "text": [
      "<class 'pandas.core.frame.DataFrame'>\n",
      "RangeIndex: 5484 entries, 0 to 5483\n",
      "Data columns (total 5 columns):\n",
      " #   Column     Non-Null Count  Dtype         \n",
      "---  ------     --------------  -----         \n",
      " 0   일자         5484 non-null   datetime64[ns]\n",
      " 1   현재가        5484 non-null   int64         \n",
      " 2   당일종가-어제종가  5484 non-null   int64         \n",
      " 3   상승률        5484 non-null   float64       \n",
      " 4   label      5484 non-null   int64         \n",
      "dtypes: datetime64[ns](1), float64(1), int64(3)\n",
      "memory usage: 214.3 KB\n"
     ]
    }
   ],
   "source": [
    "# data type : string -> datetime\n",
    "df1['일자'] = pd.to_datetime(df1['일자'])\n",
    "df1.info()"
   ]
  },
  {
   "cell_type": "markdown",
   "metadata": {},
   "source": [
    "### 4-2. 뉴스데이터 컬럼명 변경"
   ]
  },
  {
   "cell_type": "code",
   "execution_count": 34,
   "metadata": {},
   "outputs": [
    {
     "data": {
      "text/html": [
       "<div>\n",
       "<style scoped>\n",
       "    .dataframe tbody tr th:only-of-type {\n",
       "        vertical-align: middle;\n",
       "    }\n",
       "\n",
       "    .dataframe tbody tr th {\n",
       "        vertical-align: top;\n",
       "    }\n",
       "\n",
       "    .dataframe thead th {\n",
       "        text-align: right;\n",
       "    }\n",
       "</style>\n",
       "<table border=\"1\" class=\"dataframe\">\n",
       "  <thead>\n",
       "    <tr style=\"text-align: right;\">\n",
       "      <th></th>\n",
       "      <th>date</th>\n",
       "      <th>NextOpenDateYear</th>\n",
       "      <th>일자</th>\n",
       "      <th>title</th>\n",
       "    </tr>\n",
       "  </thead>\n",
       "  <tbody>\n",
       "    <tr>\n",
       "      <th>0</th>\n",
       "      <td>2022-03-16</td>\n",
       "      <td>2022</td>\n",
       "      <td>2022-03-17</td>\n",
       "      <td>유럽 반도체 공급망 지원 호응… 인텔, 10년간 110조 통큰 투자</td>\n",
       "    </tr>\n",
       "    <tr>\n",
       "      <th>1</th>\n",
       "      <td>2022-03-16</td>\n",
       "      <td>2022</td>\n",
       "      <td>2022-03-17</td>\n",
       "      <td>반도체 또다시 ‘쩐의 전쟁‘…인텔 “유럽 전역에 110조 투자”</td>\n",
       "    </tr>\n",
       "  </tbody>\n",
       "</table>\n",
       "</div>"
      ],
      "text/plain": [
       "        date  NextOpenDateYear         일자  \\\n",
       "0 2022-03-16              2022 2022-03-17   \n",
       "1 2022-03-16              2022 2022-03-17   \n",
       "\n",
       "                                   title  \n",
       "0  유럽 반도체 공급망 지원 호응… 인텔, 10년간 110조 통큰 투자  \n",
       "1    반도체 또다시 ‘쩐의 전쟁‘…인텔 “유럽 전역에 110조 투자”  "
      ]
     },
     "execution_count": 34,
     "metadata": {},
     "output_type": "execute_result"
    }
   ],
   "source": [
    "# 덕산네오룩스의 데이터프레임과 병합하기 위해 컬럼명 변경\n",
    "newsdata_all.rename(columns={'NextOpenDate':'일자'}, inplace=True)\n",
    "newsdata_all.head(2)"
   ]
  },
  {
   "cell_type": "markdown",
   "metadata": {},
   "source": [
    "### 4-3. 뉴스데이터와 덕산네오룩스 주가데이터 병합"
   ]
  },
  {
   "cell_type": "code",
   "execution_count": 35,
   "metadata": {},
   "outputs": [
    {
     "data": {
      "text/html": [
       "<div>\n",
       "<style scoped>\n",
       "    .dataframe tbody tr th:only-of-type {\n",
       "        vertical-align: middle;\n",
       "    }\n",
       "\n",
       "    .dataframe tbody tr th {\n",
       "        vertical-align: top;\n",
       "    }\n",
       "\n",
       "    .dataframe thead th {\n",
       "        text-align: right;\n",
       "    }\n",
       "</style>\n",
       "<table border=\"1\" class=\"dataframe\">\n",
       "  <thead>\n",
       "    <tr style=\"text-align: right;\">\n",
       "      <th></th>\n",
       "      <th>date</th>\n",
       "      <th>NextOpenDateYear</th>\n",
       "      <th>일자</th>\n",
       "      <th>title</th>\n",
       "      <th>현재가</th>\n",
       "      <th>당일종가-어제종가</th>\n",
       "      <th>상승률</th>\n",
       "      <th>label</th>\n",
       "    </tr>\n",
       "  </thead>\n",
       "  <tbody>\n",
       "    <tr>\n",
       "      <th>0</th>\n",
       "      <td>2022-03-13</td>\n",
       "      <td>2022</td>\n",
       "      <td>2022-03-14</td>\n",
       "      <td>전함 포템킨·오데사·네온사인…반도체는 왜 또 위기일까[인더독]</td>\n",
       "      <td>31900</td>\n",
       "      <td>-1500</td>\n",
       "      <td>-0.047022</td>\n",
       "      <td>0</td>\n",
       "    </tr>\n",
       "    <tr>\n",
       "      <th>1</th>\n",
       "      <td>2022-03-13</td>\n",
       "      <td>2022</td>\n",
       "      <td>2022-03-14</td>\n",
       "      <td>한국기업, 반도체·전자 부품 조달 ‘빨간불’</td>\n",
       "      <td>31900</td>\n",
       "      <td>-1500</td>\n",
       "      <td>-0.047022</td>\n",
       "      <td>0</td>\n",
       "    </tr>\n",
       "  </tbody>\n",
       "</table>\n",
       "</div>"
      ],
      "text/plain": [
       "        date  NextOpenDateYear         일자                               title  \\\n",
       "0 2022-03-13              2022 2022-03-14  전함 포템킨·오데사·네온사인…반도체는 왜 또 위기일까[인더독]   \n",
       "1 2022-03-13              2022 2022-03-14            한국기업, 반도체·전자 부품 조달 ‘빨간불’   \n",
       "\n",
       "     현재가  당일종가-어제종가       상승률  label  \n",
       "0  31900      -1500 -0.047022      0  \n",
       "1  31900      -1500 -0.047022      0  "
      ]
     },
     "execution_count": 35,
     "metadata": {},
     "output_type": "execute_result"
    }
   ],
   "source": [
    "merge_data = pd.merge(newsdata_all, df1, on='일자', how='inner')\n",
    "merge_data.head(2)"
   ]
  },
  {
   "cell_type": "markdown",
   "metadata": {},
   "source": [
    "- '일자', 'title', 'label'만 남긴 나머지 컬럼 삭제"
   ]
  },
  {
   "cell_type": "code",
   "execution_count": 36,
   "metadata": {},
   "outputs": [
    {
     "data": {
      "text/html": [
       "<div>\n",
       "<style scoped>\n",
       "    .dataframe tbody tr th:only-of-type {\n",
       "        vertical-align: middle;\n",
       "    }\n",
       "\n",
       "    .dataframe tbody tr th {\n",
       "        vertical-align: top;\n",
       "    }\n",
       "\n",
       "    .dataframe thead th {\n",
       "        text-align: right;\n",
       "    }\n",
       "</style>\n",
       "<table border=\"1\" class=\"dataframe\">\n",
       "  <thead>\n",
       "    <tr style=\"text-align: right;\">\n",
       "      <th></th>\n",
       "      <th>일자</th>\n",
       "      <th>title</th>\n",
       "      <th>label</th>\n",
       "    </tr>\n",
       "  </thead>\n",
       "  <tbody>\n",
       "    <tr>\n",
       "      <th>0</th>\n",
       "      <td>2022-03-14</td>\n",
       "      <td>전함 포템킨·오데사·네온사인…반도체는 왜 또 위기일까[인더독]</td>\n",
       "      <td>0</td>\n",
       "    </tr>\n",
       "    <tr>\n",
       "      <th>1</th>\n",
       "      <td>2022-03-14</td>\n",
       "      <td>한국기업, 반도체·전자 부품 조달 ‘빨간불’</td>\n",
       "      <td>0</td>\n",
       "    </tr>\n",
       "    <tr>\n",
       "      <th>2</th>\n",
       "      <td>2022-03-14</td>\n",
       "      <td>“삼성·SK만 잘하면 뭐해?” 한국 반도체 진짜 ‘약점’이 바로 [비즈360]</td>\n",
       "      <td>0</td>\n",
       "    </tr>\n",
       "    <tr>\n",
       "      <th>3</th>\n",
       "      <td>2022-03-14</td>\n",
       "      <td>\"반도체 일본꼴 날 수도…수도권 대학 반도체학과 정원 풀어야\" [당선인에 바란다]</td>\n",
       "      <td>0</td>\n",
       "    </tr>\n",
       "    <tr>\n",
       "      <th>4</th>\n",
       "      <td>2022-03-14</td>\n",
       "      <td>[우크라 침공] 러시아, 반도체소자 등 500개 품목 대외수출 금지·제한</td>\n",
       "      <td>0</td>\n",
       "    </tr>\n",
       "  </tbody>\n",
       "</table>\n",
       "</div>"
      ],
      "text/plain": [
       "          일자                                          title  label\n",
       "0 2022-03-14             전함 포템킨·오데사·네온사인…반도체는 왜 또 위기일까[인더독]      0\n",
       "1 2022-03-14                       한국기업, 반도체·전자 부품 조달 ‘빨간불’      0\n",
       "2 2022-03-14    “삼성·SK만 잘하면 뭐해?” 한국 반도체 진짜 ‘약점’이 바로 [비즈360]      0\n",
       "3 2022-03-14  \"반도체 일본꼴 날 수도…수도권 대학 반도체학과 정원 풀어야\" [당선인에 바란다]      0\n",
       "4 2022-03-14       [우크라 침공] 러시아, 반도체소자 등 500개 품목 대외수출 금지·제한      0"
      ]
     },
     "execution_count": 36,
     "metadata": {},
     "output_type": "execute_result"
    }
   ],
   "source": [
    "merge_data = merge_data[['일자', 'title', 'label']]\n",
    "merge_data.head(5)"
   ]
  },
  {
   "cell_type": "markdown",
   "metadata": {},
   "source": [
    "## 5. 데이터 전처리\n",
    "    - 한글 이외의 문자열은 빈칸(`''`)처리\n",
    "    - 품사 중 명사만 추출하여 'nouns' 컬럼에 삽입"
   ]
  },
  {
   "cell_type": "code",
   "execution_count": 37,
   "metadata": {},
   "outputs": [
    {
     "name": "stdout",
     "output_type": "stream",
     "text": [
      "0 단계 완료\n",
      "10000 단계 완료\n",
      "20000 단계 완료\n",
      "30000 단계 완료\n",
      "40000 단계 완료\n",
      "50000 단계 완료\n"
     ]
    }
   ],
   "source": [
    "okt = Okt()\n",
    "n_ = []\n",
    "\n",
    "for i in range(len(merge_data)):\n",
    "    if (i % 10000 == 0):\n",
    "        print(i, \"단계 완료\")\n",
    "    n_.append(okt.nouns(merge_data.iloc[i]['title']))\n",
    "merge_data['nouns'] = n_\n",
    "merge_data = merge_data[merge_data['nouns'] != '']\n",
    "\n",
    "# 2차 불용어 제거\n",
    "merge_data['title'] = merge_data['title'].str.replace('[^ㄱ-ㅎㅏ-ㅣ가-힣]','')\n",
    "merge_data['title'].replace('', np.nan, inplace=True)\n",
    "merge_data = merge_data.dropna(how='any')"
   ]
  },
  {
   "cell_type": "code",
   "execution_count": 49,
   "metadata": {},
   "outputs": [],
   "source": [
    "news_labeling = merge_data.copy()"
   ]
  },
  {
   "cell_type": "code",
   "execution_count": 50,
   "metadata": {},
   "outputs": [
    {
     "data": {
      "text/plain": [
       "(58343, 4)"
      ]
     },
     "execution_count": 50,
     "metadata": {},
     "output_type": "execute_result"
    }
   ],
   "source": [
    "# 결측치 확인\n",
    "news_labeling.dropna(how='any', inplace=True)\n",
    "news_labeling.shape"
   ]
  },
  {
   "cell_type": "markdown",
   "metadata": {},
   "source": [
    "- label 분포 확인"
   ]
  },
  {
   "cell_type": "code",
   "execution_count": 39,
   "metadata": {},
   "outputs": [
    {
     "data": {
      "text/plain": [
       "<AxesSubplot:xlabel='label', ylabel='count'>"
      ]
     },
     "execution_count": 39,
     "metadata": {},
     "output_type": "execute_result"
    },
    {
     "data": {
      "image/png": "[encoded data removed]",
      "text/plain": [
       "<Figure size 432x288 with 1 Axes>"
      ]
     },
     "metadata": {
      "needs_background": "light"
     },
     "output_type": "display_data"
    }
   ],
   "source": [
    "sns.countplot(x='label', data=merge_data)"
   ]
  },
  {
   "cell_type": "markdown",
   "metadata": {},
   "source": [
    "## 6. train_data, test_data 분할"
   ]
  },
  {
   "cell_type": "code",
   "execution_count": 42,
   "metadata": {},
   "outputs": [],
   "source": [
    "# train, test set 분리\n",
    "train_data, test_data = train_test_split(news_labeling)"
   ]
  },
  {
   "cell_type": "markdown",
   "metadata": {},
   "source": [
    "### 6-1. train_data"
   ]
  },
  {
   "cell_type": "code",
   "execution_count": 43,
   "metadata": {},
   "outputs": [
    {
     "data": {
      "text/html": [
       "<div>\n",
       "<style scoped>\n",
       "    .dataframe tbody tr th:only-of-type {\n",
       "        vertical-align: middle;\n",
       "    }\n",
       "\n",
       "    .dataframe tbody tr th {\n",
       "        vertical-align: top;\n",
       "    }\n",
       "\n",
       "    .dataframe thead th {\n",
       "        text-align: right;\n",
       "    }\n",
       "</style>\n",
       "<table border=\"1\" class=\"dataframe\">\n",
       "  <thead>\n",
       "    <tr style=\"text-align: right;\">\n",
       "      <th></th>\n",
       "      <th>일자</th>\n",
       "      <th>title</th>\n",
       "      <th>label</th>\n",
       "      <th>nouns</th>\n",
       "    </tr>\n",
       "  </thead>\n",
       "  <tbody>\n",
       "    <tr>\n",
       "      <th>41720</th>\n",
       "      <td>2018-07-24</td>\n",
       "      <td>반도체바이오휘청코스닥날개없는추락</td>\n",
       "      <td>1</td>\n",
       "      <td>[반도체, 바이오, 코스닥, 날개, 추락]</td>\n",
       "    </tr>\n",
       "    <tr>\n",
       "      <th>45814</th>\n",
       "      <td>2018-01-11</td>\n",
       "      <td>마감시황코스피팔자에하락마감반도체급락</td>\n",
       "      <td>1</td>\n",
       "      <td>[마감, 황, 코스피, 팔자, 하락, 마감, 반도체, 급락]</td>\n",
       "    </tr>\n",
       "  </tbody>\n",
       "</table>\n",
       "</div>"
      ],
      "text/plain": [
       "              일자                title  label  \\\n",
       "41720 2018-07-24    반도체바이오휘청코스닥날개없는추락      1   \n",
       "45814 2018-01-11  마감시황코스피팔자에하락마감반도체급락      1   \n",
       "\n",
       "                                   nouns  \n",
       "41720            [반도체, 바이오, 코스닥, 날개, 추락]  \n",
       "45814  [마감, 황, 코스피, 팔자, 하락, 마감, 반도체, 급락]  "
      ]
     },
     "execution_count": 43,
     "metadata": {},
     "output_type": "execute_result"
    }
   ],
   "source": [
    "# train_data 확인\n",
    "train_data.head(2)"
   ]
  },
  {
   "cell_type": "code",
   "execution_count": 44,
   "metadata": {},
   "outputs": [
    {
     "data": {
      "text/plain": [
       "(43757, 4)"
      ]
     },
     "execution_count": 44,
     "metadata": {},
     "output_type": "execute_result"
    }
   ],
   "source": [
    "# train_data shape 확인\n",
    "train_data.shape"
   ]
  },
  {
   "cell_type": "markdown",
   "metadata": {},
   "source": [
    "### 6-2. test_data"
   ]
  },
  {
   "cell_type": "code",
   "execution_count": 45,
   "metadata": {},
   "outputs": [
    {
     "data": {
      "text/html": [
       "<div>\n",
       "<style scoped>\n",
       "    .dataframe tbody tr th:only-of-type {\n",
       "        vertical-align: middle;\n",
       "    }\n",
       "\n",
       "    .dataframe tbody tr th {\n",
       "        vertical-align: top;\n",
       "    }\n",
       "\n",
       "    .dataframe thead th {\n",
       "        text-align: right;\n",
       "    }\n",
       "</style>\n",
       "<table border=\"1\" class=\"dataframe\">\n",
       "  <thead>\n",
       "    <tr style=\"text-align: right;\">\n",
       "      <th></th>\n",
       "      <th>일자</th>\n",
       "      <th>title</th>\n",
       "      <th>label</th>\n",
       "      <th>nouns</th>\n",
       "    </tr>\n",
       "  </thead>\n",
       "  <tbody>\n",
       "    <tr>\n",
       "      <th>2282</th>\n",
       "      <td>2022-01-05</td>\n",
       "      <td>삼성전기선택과집중전략반도체등미래먹거리로</td>\n",
       "      <td>0</td>\n",
       "      <td>[삼성, 전기, 선택, 집중, 전략, 반도체, 등, 미래, 먹거리]</td>\n",
       "    </tr>\n",
       "    <tr>\n",
       "      <th>25027</th>\n",
       "      <td>2020-02-14</td>\n",
       "      <td>특징주서울반도체하반기수익성턴어라운드예상에상승</td>\n",
       "      <td>1</td>\n",
       "      <td>[특징, 주, 서울, 반도체, 하반기, 수익, 턴, 라운드, 예상, 상승]</td>\n",
       "    </tr>\n",
       "  </tbody>\n",
       "</table>\n",
       "</div>"
      ],
      "text/plain": [
       "              일자                     title  label  \\\n",
       "2282  2022-01-05     삼성전기선택과집중전략반도체등미래먹거리로      0   \n",
       "25027 2020-02-14  특징주서울반도체하반기수익성턴어라운드예상에상승      1   \n",
       "\n",
       "                                           nouns  \n",
       "2282       [삼성, 전기, 선택, 집중, 전략, 반도체, 등, 미래, 먹거리]  \n",
       "25027  [특징, 주, 서울, 반도체, 하반기, 수익, 턴, 라운드, 예상, 상승]  "
      ]
     },
     "execution_count": 45,
     "metadata": {},
     "output_type": "execute_result"
    }
   ],
   "source": [
    "# test_data 확인\n",
    "test_data.head(2)"
   ]
  },
  {
   "cell_type": "code",
   "execution_count": 46,
   "metadata": {},
   "outputs": [
    {
     "data": {
      "text/plain": [
       "(14586, 4)"
      ]
     },
     "execution_count": 46,
     "metadata": {},
     "output_type": "execute_result"
    }
   ],
   "source": [
    "# test_data shape 확인\n",
    "test_data.shape"
   ]
  },
  {
   "cell_type": "markdown",
   "metadata": {},
   "source": [
    "## 7. 감성사전 구축"
   ]
  },
  {
   "cell_type": "markdown",
   "metadata": {},
   "source": [
    "- 한 글자인 단어는 제외. 두 글자 이상인 단어들의 점수 초기화 진행"
   ]
  },
  {
   "cell_type": "code",
   "execution_count": null,
   "metadata": {},
   "outputs": [],
   "source": [
    "vocab = {}\n",
    "count = 0\n",
    "for i in news_labeling['nouns']:\n",
    "    # news_labeling에 있는 데이터의 양만큼 순회\n",
    "    for j in range(len(i)):\n",
    "        # i 번째 행의 리스트에 있는 j번째 단어의 길이가 1 이하일 경우 count에 1 추가\n",
    "        if i[j] in vocab or len(i[j]) <= 1:\n",
    "            count += 1\n",
    "            pass\n",
    "        else:\n",
    "            # i 번째 행의 리스트에 있는 j번째 단어의 길이가 1 이상일 경우 0\n",
    "            vocab[i[j]] = 0\n",
    "\n",
    "print(len(vocab), vocab)"
   ]
  },
  {
   "cell_type": "code",
   "execution_count": 59,
   "metadata": {},
   "outputs": [
    {
     "data": {
      "text/plain": [
       "{'전함': 0,\n",
       " '포템킨': 0,\n",
       " '오데사': 0,\n",
       " '네온사인': 0,\n",
       " '반도체': 0,\n",
       " '위기': 0,\n",
       " '더독': 0,\n",
       " '한국': 0,\n",
       " '기업': 0,\n",
       " '전자': 0,\n",
       " '부품': 0,\n",
       " '조달': 0,\n",
       " '삼성': 0,\n",
       " '진짜': 0,\n",
       " '약점': 0,\n",
       " '바로': 0,\n",
       " '비즈': 0,\n",
       " '일본': 0,\n",
       " '수도': 0,\n",
       " '수도권': 0,\n",
       " '대학': 0,\n",
       " '학과': 0,\n",
       " '정원': 0,\n",
       " '당선인': 0,\n",
       " '침공': 0,\n",
       " '러시아': 0,\n",
       " '반도체소자': 0,\n",
       " '품목': 0,\n",
       " '대외': 0,\n",
       " '수출': 0,\n",
       " '금지': 0,\n",
       " '제한': 0,\n",
       " '호국': 0,\n",
       " '통제': 0,\n",
       " '공급': 0,\n",
       " '우려': 0,\n",
       " '애플': 0,\n",
       " '수혜': 0,\n",
       " '가능성': 0,\n",
       " '전기차': 0,\n",
       " '원가': 0,\n",
       " '상승': 0,\n",
       " '비상': 0,\n",
       " '배터리': 0,\n",
       " '철강': 0,\n",
       " '고공': 0,\n",
       " '행진': 0,\n",
       " '경제': 0,\n",
       " '제재': 0,\n",
       " '보복': 0,\n",
       " '시작': 0,\n",
       " '소자': 0,\n",
       " '속보': 0,\n",
       " '발표': 0,\n",
       " '포함': 0,\n",
       " '전쟁': 0,\n",
       " '가스': 0,\n",
       " '생산': 0,\n",
       " '중단': 0,\n",
       " '네온': 0,\n",
       " '절반': 0,\n",
       " '대란': 0,\n",
       " '심화': 0,\n",
       " '파문': 0,\n",
       " '대전': 0,\n",
       " '조짐': 0,\n",
       " '격화': 0,\n",
       " '인텔': 0,\n",
       " '계속': 0,\n",
       " '윤석열': 0,\n",
       " '공약': 0,\n",
       " '실현': 0,\n",
       " '집적회로': 0,\n",
       " '상보': 0,\n",
       " '산다': 0,\n",
       " '두산': 0,\n",
       " '통큰': 0,\n",
       " '강행': 0,\n",
       " '이유': 0,\n",
       " '브로드컴': 0,\n",
       " '주주': 0,\n",
       " '환원': 0,\n",
       " '기대': 0,\n",
       " '조치': 0,\n",
       " '여파': 0,\n",
       " '변신': 0,\n",
       " '승부': 0,\n",
       " '과연': 0,\n",
       " '자등': 0,\n",
       " '인력': 0,\n",
       " '양성': 0,\n",
       " '기금': 0,\n",
       " '조성': 0,\n",
       " '도로': 0,\n",
       " '지수': 0,\n",
       " '하락': 0,\n",
       " '악재': 0,\n",
       " '코스피': 0,\n",
       " '약세': 0,\n",
       " '마감': 0,\n",
       " '백악관': 0,\n",
       " '초대': 0,\n",
       " '바이든': 0,\n",
       " '텍사스': 0,\n",
       " '투자': 0,\n",
       " '감사': 0,\n",
       " '세계': 0,\n",
       " '위도': 0,\n",
       " '특징': 0,\n",
       " '초반': 0,\n",
       " '일제': 0,\n",
       " '공급망': 0,\n",
       " '강화': 0,\n",
       " '중추': 0,\n",
       " '역할': 0,\n",
       " '퀄컴': 0,\n",
       " '내장': 0,\n",
       " '스마트폰': 0,\n",
       " '공개': 0,\n",
       " '통신사': 0,\n",
       " '가능': 0,\n",
       " '사랑': 0,\n",
       " '생큐': 0,\n",
       " '시간': 0,\n",
       " '통화': 0,\n",
       " '도요타': 0,\n",
       " '분기': 0,\n",
       " '자동차': 0,\n",
       " '감축': 0,\n",
       " '부족': 0,\n",
       " '하나마이크론': 0,\n",
       " '시스템': 0,\n",
       " '테스트': 0,\n",
       " '지원': 0,\n",
       " '센터': 0,\n",
       " '신설': 0,\n",
       " '한미': 0,\n",
       " '교역': 0,\n",
       " '파트너': 0,\n",
       " '부상': 0,\n",
       " '규제': 0,\n",
       " '완화': 0,\n",
       " '절실': 0,\n",
       " '육성': 0,\n",
       " '약속': 0,\n",
       " '업계': 0,\n",
       " '센서': 0,\n",
       " '실효': 0,\n",
       " '산업': 0,\n",
       " '희망': 0,\n",
       " '먼저': 0,\n",
       " '종합': 0,\n",
       " '올해': 0,\n",
       " '확대': 0,\n",
       " '속도': 0,\n",
       " '패권': 0,\n",
       " '동반': 0,\n",
       " '경쟁력': 0,\n",
       " '해법': 0,\n",
       " '판교': 0,\n",
       " '삼전': 0,\n",
       " '하이닉스': 0,\n",
       " '설계': 0,\n",
       " '베이': 0,\n",
       " '칩스': 0,\n",
       " '납품': 0,\n",
       " '진행': 0,\n",
       " '현대차': 0,\n",
       " '공장': 0,\n",
       " '가동': 0,\n",
       " '불투명': 0,\n",
       " '수급': 0,\n",
       " '지속': 0,\n",
       " '세대': 0,\n",
       " '교체': 0,\n",
       " '겨울': 0,\n",
       " '수출입': 0,\n",
       " '동향': 0,\n",
       " '증가': 0,\n",
       " '석유화학': 0,\n",
       " '손톱': 0,\n",
       " '정말': 0,\n",
       " '땡큐': 0,\n",
       " '회의': 0,\n",
       " '주재': 0,\n",
       " '외국': 0,\n",
       " '급난': 0,\n",
       " '신차': 0,\n",
       " '출고': 0,\n",
       " '지연': 0,\n",
       " '인증': 0,\n",
       " '중고차': 0,\n",
       " '인기': 0,\n",
       " '사업': 0,\n",
       " '확장': 0,\n",
       " '전망': 0,\n",
       " '테스': 0,\n",
       " '강세': 0,\n",
       " '구축': 0,\n",
       " '재차': 0,\n",
       " '강조': 0,\n",
       " '당선': 0,\n",
       " '에너지': 0,\n",
       " '전환': 0,\n",
       " '중대': 0,\n",
       " '재해': 0,\n",
       " '처벌': 0,\n",
       " '개선': 0,\n",
       " '시급': 0,\n",
       " '삼화': 0,\n",
       " '페인트': 0,\n",
       " '패키징': 0,\n",
       " '에폭시': 0,\n",
       " '밀봉': 0,\n",
       " '개발': 0,\n",
       " '인수': 0,\n",
       " '다시': 0,\n",
       " '회복': 0,\n",
       " '참석': 0,\n",
       " '완료': 0,\n",
       " '중요': 0,\n",
       " '상무': 0,\n",
       " '장비': 0,\n",
       " '차단': 0,\n",
       " '영상': 0,\n",
       " '암참': 0,\n",
       " '한미관계': 0,\n",
       " '공고': 0,\n",
       " '바이오': 0,\n",
       " '디지털': 0,\n",
       " '협력': 0,\n",
       " '장기': 0,\n",
       " '레버리지': 0,\n",
       " '베팅': 0,\n",
       " '서학': 0,\n",
       " '개미': 0,\n",
       " '지금': 0,\n",
       " '시대': 0,\n",
       " '안정': 0,\n",
       " '대감': 0,\n",
       " '인사': 0,\n",
       " '이드': 0,\n",
       " '스토리': 0,\n",
       " '진출': 0,\n",
       " '직접': 0,\n",
       " '언급': 0,\n",
       " '초강대국': 0,\n",
       " '거점도시': 0,\n",
       " '화상': 0,\n",
       " '참가': 0,\n",
       " '개인': 0,\n",
       " '서울': 0,\n",
       " '현금': 0,\n",
       " '배당': 0,\n",
       " '결정': 0,\n",
       " '구미': 0,\n",
       " '비씨': 0,\n",
       " '엔씨': 0,\n",
       " '소재': 0,\n",
       " '국산': 0,\n",
       " '화로': 0,\n",
       " '차별': 0,\n",
       " '증시': 0,\n",
       " '입성': 0,\n",
       " '성공': 0,\n",
       " '혜주': 0,\n",
       " '원전': 0,\n",
       " '건설': 0,\n",
       " '다음': 0,\n",
       " '국내': 0,\n",
       " '주요': 0,\n",
       " '활발': 0,\n",
       " '회사': 0,\n",
       " '전략': 0,\n",
       " '지난': 0,\n",
       " '이벤트': 0,\n",
       " '가지': 0,\n",
       " '최원석': 0,\n",
       " '코드': 0,\n",
       " '컨트롤': 0,\n",
       " '타워': 0,\n",
       " '재개발': 0,\n",
       " '영역': 0,\n",
       " '바닥': 0,\n",
       " '영향': 0,\n",
       " '서버': 0,\n",
       " '수요': 0,\n",
       " '분야': 0,\n",
       " '그룹': 0,\n",
       " '핵심': 0,\n",
       " '서울시': 0,\n",
       " '보조금': 0,\n",
       " '기한': 0,\n",
       " '연장': 0,\n",
       " '연산': 0,\n",
       " '기능': 0,\n",
       " '결합': 0,\n",
       " '차세대': 0,\n",
       " '융합': 0,\n",
       " '글로벌': 0,\n",
       " '시장': 0,\n",
       " '봄바람': 0,\n",
       " '첨단': 0,\n",
       " '급성': 0,\n",
       " '폭증': 0,\n",
       " '스포티지': 0,\n",
       " '개월': 0,\n",
       " '대기': 0,\n",
       " '성과급': 0,\n",
       " '디스플레이': 0,\n",
       " '이직': 0,\n",
       " '괴물': 0,\n",
       " '실리콘밸리': 0,\n",
       " '나우': 0,\n",
       " '악화': 0,\n",
       " '가격': 0,\n",
       " '소리': 0,\n",
       " '언제': 0,\n",
       " '재편': 0,\n",
       " '시동': 0,\n",
       " '메모리': 0,\n",
       " '웨이퍼': 0,\n",
       " '고객': 0,\n",
       " '사태': 0,\n",
       " '연일': 0,\n",
       " '카카오': 0,\n",
       " '엔터프라이즈': 0,\n",
       " '퓨리': 0,\n",
       " '오사': 0,\n",
       " '협업': 0,\n",
       " '위태': 0,\n",
       " '곽노': 0,\n",
       " '사장': 0,\n",
       " '협회장': 0,\n",
       " '선출': 0,\n",
       " '반도': 0,\n",
       " '체사': 0,\n",
       " '출자': 0,\n",
       " '공정': 0,\n",
       " '업체': 0,\n",
       " '아이티': 0,\n",
       " '정기': 0,\n",
       " '주주총회': 0,\n",
       " '경희대': 0,\n",
       " '트리': 0,\n",
       " '연구개발': 0,\n",
       " '산학': 0,\n",
       " '업무': 0,\n",
       " '협약': 0,\n",
       " '아이피': 0,\n",
       " '에스': 0,\n",
       " '역대': 0,\n",
       " '최대': 0,\n",
       " '규모': 0,\n",
       " '경력': 0,\n",
       " '사원': 0,\n",
       " '채용': 0,\n",
       " '작년': 0,\n",
       " '시설': 0,\n",
       " '슈퍼': 0,\n",
       " '호황': 0,\n",
       " '능가': 0,\n",
       " '리서치': 0,\n",
       " '알음': 0,\n",
       " '매커스': 0,\n",
       " '빅데이터': 0,\n",
       " '필수': 0,\n",
       " '채권': 0,\n",
       " '조기졸업': 0,\n",
       " '단독': 0,\n",
       " '불확실': 0,\n",
       " '대응': 0,\n",
       " '체계': 0,\n",
       " '혁신': 0,\n",
       " '김경': 0,\n",
       " '직격탄': 0,\n",
       " '원자재': 0,\n",
       " '확보': 0,\n",
       " '초비상': 0,\n",
       " '쇼크': 0,\n",
       " '강타': 0,\n",
       " '수입': 0,\n",
       " '단가': 0,\n",
       " '항공': 0,\n",
       " '강사': 0,\n",
       " '화학': 0,\n",
       " '비명': 0,\n",
       " '인접': 0,\n",
       " '고덕': 0,\n",
       " '지식': 0,\n",
       " '분양': 0,\n",
       " '주가': 0,\n",
       " '추락': 0,\n",
       " '증권': 0,\n",
       " '가가': 0,\n",
       " '주목': 0,\n",
       " '신호탄': 0,\n",
       " '때문': 0,\n",
       " '환율': 0,\n",
       " '난리': 0,\n",
       " '어보': 0,\n",
       " '결산': 0,\n",
       " '협회': 0,\n",
       " '내리막': 0,\n",
       " '시드': 0,\n",
       " '매수': 0,\n",
       " '추종': 0,\n",
       " '열전': 0,\n",
       " '박성식': 0,\n",
       " '대표': 0,\n",
       " '자동': 0,\n",
       " '차용': 0,\n",
       " '주력': 0,\n",
       " '보릿고개': 0,\n",
       " '포터': 0,\n",
       " '봉고': 0,\n",
       " '장주': 0,\n",
       " '요동': 0,\n",
       " '오늘': 0,\n",
       " '만사': 0,\n",
       " '한화': 0,\n",
       " '에쓰오일': 0,\n",
       " '플라이': 0,\n",
       " '강원': 0,\n",
       " '상상': 0,\n",
       " '자금': 0,\n",
       " '싸움': 0,\n",
       " '스텔': 0,\n",
       " '란티스': 0,\n",
       " '코리아': 0,\n",
       " '지프': 0,\n",
       " '클럽': 0,\n",
       " '출시': 0,\n",
       " '지엘비텍': 0,\n",
       " '노광': 0,\n",
       " '실용': 0,\n",
       " '옐로': 0,\n",
       " '조명': 0,\n",
       " '효율': 0,\n",
       " '위험': 0,\n",
       " '관련': 0,\n",
       " '폭풍': 0,\n",
       " '옥죄': 0,\n",
       " '차원': 0,\n",
       " '잉크': 0,\n",
       " '기반': 0,\n",
       " '고성능': 0,\n",
       " '전력': 0,\n",
       " '유가': 0,\n",
       " '급등': 0,\n",
       " '큰일': 0,\n",
       " '대형주': 0,\n",
       " '실적': 0,\n",
       " '국제': 0,\n",
       " '상회': 0,\n",
       " '영업': 0,\n",
       " '이익': 0,\n",
       " '제우스': 0,\n",
       " '중화권': 0,\n",
       " '퀀텀': 0,\n",
       " '점프': 0,\n",
       " '턱걸이': 0,\n",
       " '라발': 0,\n",
       " '취임': 0,\n",
       " '회장': 0,\n",
       " '미미': 0,\n",
       " '일만': 0,\n",
       " '중국': 0,\n",
       " '기술': 0,\n",
       " '경쟁': 0,\n",
       " '발전': 0,\n",
       " '제품': 0,\n",
       " '상황': 0,\n",
       " '기록': 0,\n",
       " '매출': 0,\n",
       " '무너뜨릴까': 0,\n",
       " '무슨': 0,\n",
       " '사상가': 0,\n",
       " '이건희': 0,\n",
       " '탐구': 0,\n",
       " '리커창': 0,\n",
       " '총리': 0,\n",
       " '인공': 0,\n",
       " '지능': 0,\n",
       " '현대': 0,\n",
       " '모비스': 0,\n",
       " '대거': 0,\n",
       " '뒷북': 0,\n",
       " '내주': 0,\n",
       " '유럽': 0,\n",
       " '동맹': 0,\n",
       " '더블유': 0,\n",
       " '청정': 0,\n",
       " '획득': 0,\n",
       " '초월': 0,\n",
       " '인플레': 0,\n",
       " '방어': 0,\n",
       " '곡물': 0,\n",
       " '관세': 0,\n",
       " '린다': 0,\n",
       " '총성': 0,\n",
       " '희귀': 0,\n",
       " '신규': 0,\n",
       " '등록': 0,\n",
       " '감소': 0,\n",
       " '희소': 0,\n",
       " '자원': 0,\n",
       " '한파': 0,\n",
       " '판매': 0,\n",
       " '크립톤': 0,\n",
       " '할당': 0,\n",
       " '적용': 0,\n",
       " '마벨': 0,\n",
       " '예상': 0,\n",
       " '급락': 0,\n",
       " '반등': 0,\n",
       " '공룡': 0,\n",
       " '여부': 0,\n",
       " '과기부': 0,\n",
       " '과기원': 0,\n",
       " '인재': 0,\n",
       " '협의': 0,\n",
       " '개최': 0,\n",
       " '선적': 0,\n",
       " '우크라이나': 0,\n",
       " '규탄': 0,\n",
       " '벤츠': 0,\n",
       " '기아': 0,\n",
       " '우파': 0,\n",
       " '모니카': 0,\n",
       " '리더십': 0,\n",
       " '용기': 0,\n",
       " '필요': 0,\n",
       " '스톱': 0,\n",
       " '완성': 0,\n",
       " '바람': 0,\n",
       " '기계': 0,\n",
       " '지역': 0,\n",
       " '균형': 0,\n",
       " '정책': 0,\n",
       " '철민': 0,\n",
       " '대한민국': 0,\n",
       " '최고': 0,\n",
       " '경영': 0,\n",
       " '대상': 0,\n",
       " '견인': 0,\n",
       " '영창': 0,\n",
       " '케미칼': 0,\n",
       " '세운': 0,\n",
       " '제국': 0,\n",
       " '기틀': 0,\n",
       " '무역': 0,\n",
       " '장벽': 0,\n",
       " '코로나': 0,\n",
       " '타격': 0,\n",
       " '정부': 0,\n",
       " '요청': 0,\n",
       " '설비': 0,\n",
       " '사상': 0,\n",
       " '파운드리': 0,\n",
       " '언니': 0,\n",
       " '돌파': 0,\n",
       " '주춤': 0,\n",
       " '사이': 0,\n",
       " '각국': 0,\n",
       " '격차': 0,\n",
       " '입증': 0,\n",
       " '검증': 0,\n",
       " '긴축': 0,\n",
       " '외인': 0,\n",
       " '기관': 0,\n",
       " '집중': 0,\n",
       " '구매': 0,\n",
       " '혜택': 0,\n",
       " '엎친': 0,\n",
       " '동동': 0,\n",
       " '통과': 0,\n",
       " '촉구': 0,\n",
       " '오른': 0,\n",
       " '찬사': 0,\n",
       " '경쟁자': 0,\n",
       " '지난달': 0,\n",
       " '대비': 0,\n",
       " '유출': 0,\n",
       " '징역': 0,\n",
       " '추진': 0,\n",
       " '지방': 0,\n",
       " '균형발전': 0,\n",
       " '집착': 0,\n",
       " '클러스터': 0,\n",
       " '미국': 0,\n",
       " '훈풍': 0,\n",
       " '웃음': 0,\n",
       " '논의': 0,\n",
       " '리츠': 0,\n",
       " '파이터': 0,\n",
       " '단기': 0,\n",
       " '요물': 0,\n",
       " '랠리': 0,\n",
       " '성장': 0,\n",
       " '불안감': 0,\n",
       " '여전': 0,\n",
       " '부장': 0,\n",
       " '윌비': 0,\n",
       " '몸값': 0,\n",
       " '제주': 0,\n",
       " '팹리스': 0,\n",
       " '연락': 0,\n",
       " '손실': 0,\n",
       " '플러스': 0,\n",
       " '완전': 0,\n",
       " '해소': 0,\n",
       " '이후': 0,\n",
       " '반전': 0,\n",
       " '쓰나미': 0,\n",
       " '핸드폰': 0,\n",
       " '무역수지': 0,\n",
       " '흑자': 0,\n",
       " '팔만': 0,\n",
       " '동월': 0,\n",
       " '메타': 0,\n",
       " '버스': 0,\n",
       " '양자암호': 0,\n",
       " '본격': 0,\n",
       " '양회': 0,\n",
       " '인프라': 0,\n",
       " '재생': 0,\n",
       " '미래에셋': 0,\n",
       " '운송': 0,\n",
       " '은행': 0,\n",
       " '업종': 0,\n",
       " '상향': 0,\n",
       " '방위': 0,\n",
       " '판매량': 0,\n",
       " '재고': 0,\n",
       " '전례': 0,\n",
       " '급증': 0,\n",
       " '등세': 0,\n",
       " '요인': 0,\n",
       " '조사': 0,\n",
       " '투심': 0,\n",
       " '위축': 0,\n",
       " '유사': 0,\n",
       " '반사': 0,\n",
       " '푸틴': 0,\n",
       " '점진': 0,\n",
       " '면제': 0,\n",
       " '미지수': 0,\n",
       " '투입': 0,\n",
       " '세액': 0,\n",
       " '공제': 0,\n",
       " '편자': 0,\n",
       " '주도': 0,\n",
       " '안보': 0,\n",
       " '소외': 0,\n",
       " '쌍용차': 0,\n",
       " '최소': 0,\n",
       " '결과': 0,\n",
       " '제외': 0,\n",
       " '조선': 0,\n",
       " '불가피': 0,\n",
       " '닷새': 0,\n",
       " '차량': 0,\n",
       " '원인': 0,\n",
       " '전압': 0,\n",
       " '냉전': 0,\n",
       " '통신': 0,\n",
       " '금도': 0,\n",
       " '일시': 0,\n",
       " '중소': 0,\n",
       " '무더기': 0,\n",
       " '적자': 0,\n",
       " '금융': 0,\n",
       " '대신': 0,\n",
       " '차질': 0,\n",
       " '유진': 0,\n",
       " '사용': 0,\n",
       " '양산': 0,\n",
       " '인도': 0,\n",
       " '강인': 0,\n",
       " '열쇠': 0,\n",
       " '사기': 0,\n",
       " '브릿지': 0,\n",
       " '리타스': 0,\n",
       " '동참': 0,\n",
       " '물자': 0,\n",
       " '유탄': 0,\n",
       " '지정': 0,\n",
       " '정유': 0,\n",
       " '문제': 0,\n",
       " '투톱': 0,\n",
       " '증발': 0,\n",
       " '오프닝': 0,\n",
       " '먹구름': 0,\n",
       " '전기': 0,\n",
       " '이노': 0,\n",
       " '에스티': 0,\n",
       " '아이': 0,\n",
       " '계약': 0,\n",
       " '수주': 0,\n",
       " '김지헌': 0,\n",
       " '현장': 0,\n",
       " '호소': 0,\n",
       " '과감': 0,\n",
       " '낸드': 0,\n",
       " '고정': 0,\n",
       " '보합': 0,\n",
       " '긴장': 0,\n",
       " '고조': 0,\n",
       " '문승욱': 0,\n",
       " '장관': 0,\n",
       " '방문': 0,\n",
       " '하반기': 0,\n",
       " '충격': 0,\n",
       " '독일': 0,\n",
       " '폭등': 0,\n",
       " '우리': 0,\n",
       " '공격': 0,\n",
       " '유영상': 0,\n",
       " '간다': 0,\n",
       " '특수': 0,\n",
       " '두절': 0,\n",
       " '배값': 0,\n",
       " '달라': 0,\n",
       " '배짱': 0,\n",
       " '플래시': 0,\n",
       " '추가': 0,\n",
       " '입선': 0,\n",
       " '전세계': 0,\n",
       " '줄줄이': 0,\n",
       " '선방': 0,\n",
       " '포토': 0,\n",
       " '차주': 0,\n",
       " '협상': 0,\n",
       " '소식': 0,\n",
       " '공포': 0,\n",
       " '동안': 0,\n",
       " '사익': 0,\n",
       " '누리': 0,\n",
       " '주름살': 0,\n",
       " '국가': 0,\n",
       " '재생에너지': 0,\n",
       " '비중': 0,\n",
       " '모두': 0,\n",
       " '스토리텔링': 0,\n",
       " '기본': 0,\n",
       " '사이클': 0,\n",
       " '워낙': 0,\n",
       " '탄소': 0,\n",
       " '중립': 0,\n",
       " '고민': 0,\n",
       " '허브': 0,\n",
       " '일부': 0,\n",
       " '불똥': 0,\n",
       " '수장': 0,\n",
       " '방미': 0,\n",
       " '조만간': 0,\n",
       " '도대체': 0,\n",
       " '결단': 0,\n",
       " '덜덜': 0,\n",
       " '봄날': 0,\n",
       " '케이': 0,\n",
       " '던스': 0,\n",
       " '모바일': 0,\n",
       " '재화': 0,\n",
       " '행보': 0,\n",
       " '자막': 0,\n",
       " '뉴스': 0,\n",
       " '재료': 0,\n",
       " '개월치': 0,\n",
       " '정도': 0,\n",
       " '주간': 0,\n",
       " '추천': 0,\n",
       " '다변': 0,\n",
       " '한라': 0,\n",
       " '홀딩스': 0,\n",
       " '레이': 0,\n",
       " '미래': 0,\n",
       " '성장동력': 0,\n",
       " '근심': 0,\n",
       " '비상등': 0,\n",
       " '하이테크': 0,\n",
       " '무산': 0,\n",
       " '철수': 0,\n",
       " '원료': 0,\n",
       " '간문제': 0,\n",
       " '클릭': 0,\n",
       " '종목': 0,\n",
       " '둔화': 0,\n",
       " '반영': 0,\n",
       " '목표': 0,\n",
       " '상무부': 0,\n",
       " '컴퓨터': 0,\n",
       " '대강': 0,\n",
       " '가장': 0,\n",
       " '스퀘어': 0,\n",
       " '분사': 0,\n",
       " '예고': 0,\n",
       " '심사': 0,\n",
       " '접근': 0,\n",
       " '공습': 0,\n",
       " '강도': 0,\n",
       " '기상도': 0,\n",
       " '재테크': 0,\n",
       " '관심': 0,\n",
       " '왕따': 0,\n",
       " '기름값': 0,\n",
       " '화웨이': 0,\n",
       " '방식': 0,\n",
       " '수위': 0,\n",
       " '내용': 0,\n",
       " '조율': 0,\n",
       " '대만': 0,\n",
       " '준수': 0,\n",
       " '카드': 0,\n",
       " '의존': 0,\n",
       " '이상': 0,\n",
       " '이슈': 0,\n",
       " '족쇄': 0,\n",
       " '대금': 0,\n",
       " '전전긍긍': 0,\n",
       " '소용돌이': 0,\n",
       " '헤럴드': 0,\n",
       " '필요시': 0,\n",
       " '유류': 0,\n",
       " '인하': 0,\n",
       " '비축': 0,\n",
       " '예의': 0,\n",
       " '주시': 0,\n",
       " '검토': 0,\n",
       " '마련': 0,\n",
       " '현실': 0,\n",
       " '년비': 0,\n",
       " '화장품': 0,\n",
       " '긴급': 0,\n",
       " '간담': 0,\n",
       " '정치': 0,\n",
       " '하향': 0,\n",
       " '조정': 0,\n",
       " '겨울왕국': 0,\n",
       " '고등': 0,\n",
       " '대체': 0,\n",
       " '뚝뚝': 0,\n",
       " '무역적자': 0,\n",
       " '발굴': 0,\n",
       " '설명': 0,\n",
       " '선도': 0,\n",
       " '수립': 0,\n",
       " '실화': 0,\n",
       " '신청': 0,\n",
       " '물가상승률': 0,\n",
       " '원유': 0,\n",
       " '합작': 0,\n",
       " '청산': 0,\n",
       " '직스': 0,\n",
       " '신화': 0,\n",
       " '이차전지': 0,\n",
       " '백신': 0,\n",
       " '대폭': 0,\n",
       " '연내': 0,\n",
       " '대기업': 0,\n",
       " '대덕': 0,\n",
       " '증명': 0,\n",
       " '특허': 0,\n",
       " '건수': 0,\n",
       " '인용': 0,\n",
       " '영향력': 0,\n",
       " '라인': 0,\n",
       " '견제': 0,\n",
       " '위해': 0,\n",
       " '사활': 0,\n",
       " '손재': 0,\n",
       " '실리': 0,\n",
       " '갤럭시': 0,\n",
       " '벌써': 0,\n",
       " '품귀': 0,\n",
       " '폭발': 0,\n",
       " '물량': 0,\n",
       " '라이벌': 0,\n",
       " '천안시': 0,\n",
       " '개사': 0,\n",
       " '외국인': 0,\n",
       " '유치': 0,\n",
       " '플래그': 0,\n",
       " '파도': 0,\n",
       " '분쟁': 0,\n",
       " '기재부': 0,\n",
       " '대결': 0,\n",
       " '포럼': 0,\n",
       " '쟁탈전': 0,\n",
       " '출격': 0,\n",
       " '운영체제': 0,\n",
       " '경계': 0,\n",
       " '사람': 0,\n",
       " '휘발': 0,\n",
       " '윳값': 0,\n",
       " '정리': 0,\n",
       " '가속': 0,\n",
       " '경북': 0,\n",
       " '트론': 0,\n",
       " '생태계': 0,\n",
       " '연속': 0,\n",
       " '면전': 0,\n",
       " '베스트': 0,\n",
       " '이상무': 0,\n",
       " '서방': 0,\n",
       " '장악': 0,\n",
       " '가상': 0,\n",
       " '화폐': 0,\n",
       " '채굴': 0,\n",
       " '시국': 0,\n",
       " '출근': 0,\n",
       " '재택': 0,\n",
       " '납득': 0,\n",
       " '수익': 0,\n",
       " '저하': 0,\n",
       " '중진': 0,\n",
       " '경기': 0,\n",
       " '수출입은행': 0,\n",
       " '펀드': 0,\n",
       " '나선': 0,\n",
       " '까닭': 0,\n",
       " '겸비': 0,\n",
       " '수은': 0,\n",
       " '결제': 0,\n",
       " '빅딜': 0,\n",
       " '제조': 0,\n",
       " '국민': 0,\n",
       " '우위': 0,\n",
       " '지난해': 0,\n",
       " '모색': 0,\n",
       " '벤처기업': 0,\n",
       " '진흥': 0,\n",
       " '공단': 0,\n",
       " '주기': 0,\n",
       " '이제': 0,\n",
       " '주식': 0,\n",
       " '분할': 0,\n",
       " '운수': 0,\n",
       " '광주': 0,\n",
       " '특화단': 0,\n",
       " '첫걸음': 0,\n",
       " '가전': 0,\n",
       " '촉각': 0,\n",
       " '격화되': 0,\n",
       " '강문': 0,\n",
       " '성의': 0,\n",
       " '돋보기': 0,\n",
       " '액면': 0,\n",
       " '시멘트': 0,\n",
       " '배출': 0,\n",
       " '김학도': 0,\n",
       " '이사장': 0,\n",
       " '미디어': 0,\n",
       " '마켓': 0,\n",
       " '워치': 0,\n",
       " '터치': 0,\n",
       " '자율': 0,\n",
       " '주행': 0,\n",
       " '모빌리티': 0,\n",
       " '선제': 0,\n",
       " '회수': 0,\n",
       " '전운': 0,\n",
       " '부진': 0,\n",
       " '모주': 0,\n",
       " '진단': 0,\n",
       " '검사': 0,\n",
       " '플랫폼': 0,\n",
       " '격전': 0,\n",
       " '몸집': 0,\n",
       " '타진': 0,\n",
       " '밀리': 0,\n",
       " '속결': 0,\n",
       " '해외': 0,\n",
       " '절체절명': 0,\n",
       " '일본도': 0,\n",
       " '디아': 0,\n",
       " '다국적': 0,\n",
       " '역외': 0,\n",
       " '탈세': 0,\n",
       " '모듈': 0,\n",
       " '물색': 0,\n",
       " '클래스': 0,\n",
       " '호조': 0,\n",
       " '법인': 0,\n",
       " '역주행': 0,\n",
       " '업황': 0,\n",
       " '노크': 0,\n",
       " '공시': 0,\n",
       " '충북도': 0,\n",
       " '불안': 0,\n",
       " '졸업': 0,\n",
       " '박정원': 0,\n",
       " '가치': 0,\n",
       " '대화': 0,\n",
       " '엘앤': 0,\n",
       " '에프': 0,\n",
       " '끄덕': 0,\n",
       " '르노': 0,\n",
       " '질주': 0,\n",
       " ...}"
      ]
     },
     "execution_count": 59,
     "metadata": {},
     "output_type": "execute_result"
    }
   ],
   "source": [
    "vocab"
   ]
  },
  {
   "cell_type": "code",
   "execution_count": null,
   "metadata": {},
   "outputs": [],
   "source": []
  }
 ],
 "metadata": {
  "interpreter": {
   "hash": "237dfbe96289c26a34bb3817ed9a5dda5a1f28f78dcc25894f58473fa7732fcf"
  },
  "kernelspec": {
   "display_name": "Python 3.8.8 64-bit",
   "language": "python",
   "name": "python3"
  },
  "language_info": {
   "codemirror_mode": {
    "name": "ipython",
    "version": 3
   },
   "file_extension": ".py",
   "mimetype": "text/x-python",
   "name": "python",
   "nbconvert_exporter": "python",
   "pygments_lexer": "ipython3",
   "version": "3.8.8"
  },
  "orig_nbformat": 4
 },
 "nbformat": 4,
 "nbformat_minor": 2
}
