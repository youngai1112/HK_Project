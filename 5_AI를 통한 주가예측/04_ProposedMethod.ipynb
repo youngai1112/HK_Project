{
 "cells": [
  {
   "cell_type": "markdown",
   "metadata": {},
   "source": [
    "# Proposed Method\n",
    "1. We proposed **DTML** for stock price prediction\n",
    "    - *Data-axis Transformer with Multi-Level contexts* \n",
    "2. Idea 1_Time-axis attension\n",
    "    - To summarize the historical prices of each stock\n",
    "3. Idea 2_Context aggregation\n",
    "    - To combine individual contexts with a global trend\n",
    "4. Idea 3_Data-axis attention\n",
    "    - To learn the stock correlations by a transformer"
   ]
  }
 ],
 "metadata": {
  "interpreter": {
   "hash": "237dfbe96289c26a34bb3817ed9a5dda5a1f28f78dcc25894f58473fa7732fcf"
  },
  "kernelspec": {
   "display_name": "Python 3.8.8 64-bit",
   "language": "python",
   "name": "python3"
  },
  "language_info": {
   "name": "python",
   "version": "3.8.8"
  },
  "orig_nbformat": 4
 },
 "nbformat": 4,
 "nbformat_minor": 2
}
