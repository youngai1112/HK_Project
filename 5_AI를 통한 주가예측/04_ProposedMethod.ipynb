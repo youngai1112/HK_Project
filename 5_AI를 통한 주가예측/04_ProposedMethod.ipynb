{
 "cells": [
  {
   "cell_type": "markdown",
   "metadata": {},
   "source": [
    "# Proposed Method\n",
    "- We proposed **DTML** for stock price prediction\n",
    "    - *Data-axis Transformer with Multi-Level contexts* \n",
    "1. Idea 1_Time-axis attension\n",
    "    - 8/11 가격을 예측하기 위해서 지난 여러 날짜의 데이터를 사용한다. (8/1~8/10)\n",
    "    - 직관적으로 가장 가까운 날짜의 데이터가 영향을 줄 것으로 생각할 수 있다.\n",
    "        - 하지만, 주식마다 다를 수 있다. \n",
    "        - 어떤 날짜의 데이터가 8/11 가격 예측에 도움이 되는지를 동적으로 attention 기법으로 학습\n",
    "    - To summarize the historical prices of each stock\n",
    "2. Idea 2_Context aggregation\n",
    "    - 주식은 시장과 독립될 수 없다.\n",
    "    - 개별 주식의 트렌드 + 시장의 트렌드\n",
    "    - To combine individual contexts with a global trend\n",
    "        - 개별 종목을 예측할 때 글로벌 인덱스도 같이 고려하자는 의미 \n",
    "3. Idea 3_Data-axis attention\n",
    "    - 여러 종목 간의 상관관계를 파악해야 함. 사전에 고정된 정보를 주지 말고, 동적으로 학습을 하자는 것\n",
    "    - To learn the stock correlations by a transformer\n",
    "            - 주식 종목 간의 연관관계를 transformer를 이용해서 학습함"
   ]
  },
  {
   "cell_type": "markdown",
   "metadata": {},
   "source": [
    "# Model Architecture_1\n",
    "- Three modules correspond to the three main ideas.\n",
    "1. Time-Axis Attention\n",
    "    - 개별 종목 : ex. 삼성전자, 하이닉스, NC\n",
    "    - 각 종목의 가격들이 매일 들어감 (RNN)\n",
    "    - 각 종목의 지난 날짜의 가격에 대한 데이터를 얻음\n",
    "    - market index가 매일 들어가서 데이터를 얻음\n",
    "        - KOSPI의 매일 가격이 들어감\n",
    "2. Context Aggregation  \n",
    "    - 개별 종목의 벡터와 market context를 더해서 Multi-Level Context를 얻게 됨\n",
    "    - Multi-Level Context : 개별 종목의 정보 뿐만 아니라 전체 마켓의 정보까지 포함\n",
    "3. Data-Axis Attention \n",
    "    - 여러 개의 종목에 대한 벡터를 얻게 됨\n",
    "    - 이 벡터들에 대한 가중평균을 구한다.\n",
    "    - transformer 모델을 사용\n",
    "    - 개별적으로 각 종목에 대한 벡터를 얻고, Linear layer를 통해서 실제로 오를지 내릴지를 binary classification 진행"
   ]
  },
  {
   "cell_type": "markdown",
   "metadata": {},
   "source": [
    "# Model Architecture_2\n",
    "1. Module 1. Time-axis attention\n",
    "    - Summarizes the historical prices as a single vector.\n",
    "        - 개별 종목의 가격을 하나의 벡터로 요약함\n",
    "        - 각각의 가격 벡터가 Feature Transformation Layer를 통해서 새로운 벡터로 주어짐\n",
    "        -   LSTM의 입력으로 들어감\n",
    "        - 주식 u가 있을 때 지난 날짜 T까지의 벡터 세트가 있다고 한다면, \n",
    "        -   MLD(?) layer를 통과해서 feature 변환을 하게 됨\n",
    "    - Attention LSTM\n",
    "        - LSTM\n",
    "            - x1, x2, x3 -> 맨 마지막 hidden vector를 일반적으로 summary vector로 사용한다. (== context vector)\n",
    "        - Attention LSTM\n",
    "            - context vector를 h1, h2, h3의 가중 평균으로 구한다. \n",
    "            - h3만 사용하는 것이 아니라 지난 모든 hidden vector의 가중 평균을 구하자\n",
    "                - 그러면, 가중치는 어떻게 구할까?\n",
    "                - 맨 마지막 hidden vector와 각 벡터의 내적의 softmax 형태로 비례하는 식으로 weight를 정해준다.\n",
    "            - 결과적으로 각 종목의 vector를 가중평균으로 구하는데, 가중치는 벡터의 내적에 비례하는 식으로 구한다.\n",
    "2. Module 2. Context normalization\n",
    "    - 각 종목의 가격이 굉장히 다양한 scale로 있기 때문에 normalize를 진행해야 한다.\n",
    "    - Time-Axis Attention을 거치면 각 종목의 벡터를 얻게 된다.\n",
    "        - Market Context (KOSPI vector)\n",
    "    - market과 개별 주식을 더한다. \n",
    "        - 주식 u가 있을 때 개별 종목의 context vector와 마켓 인덱스를 하이퍼 파라미터를 넣으면서 더하게 된다. \n",
    "        - global market context (ex. KOSPI, KOSDAQ, NASDAQ)\n",
    "        - context를 더하는 게 어떤 효과를 줄까?\n",
    "            - context를 더한 후에 종목u와 종목v의 벡터의 내적을 구하게 되면, \n",
    "            -   (원래 종목의 내적) + (마켓 인덱스 * 각 종목의 연관관계) + (마켓 인덱스 자체에 의한 기본적인 correlation)\n",
    "            -       (마켓 인덱스 * 각 종목의 연관관계) : 연관성이 높으면 높은 correlation을 가지게 됨\n",
    "\n",
    "3. Module 3. Data-axis attention\n",
    "    - 각 종목별 vector가 있는데, 이 vector들의 가중평균을 다시 구함 <= transformer를 사용해서 각 종목의 가중평균을 구함\n",
    "    - 종목의 개수가 n이고, 각 종목별로 v개의 feature를 가지고 있다면 => H matrix\n",
    "    -   H matrix에 가중"
   ]
  },
  {
   "cell_type": "markdown",
   "metadata": {},
   "source": []
  }
 ],
 "metadata": {
  "interpreter": {
   "hash": "237dfbe96289c26a34bb3817ed9a5dda5a1f28f78dcc25894f58473fa7732fcf"
  },
  "kernelspec": {
   "display_name": "Python 3.8.8 64-bit",
   "language": "python",
   "name": "python3"
  },
  "language_info": {
   "name": "python",
   "version": "3.8.8"
  },
  "orig_nbformat": 4
 },
 "nbformat": 4,
 "nbformat_minor": 2
}
