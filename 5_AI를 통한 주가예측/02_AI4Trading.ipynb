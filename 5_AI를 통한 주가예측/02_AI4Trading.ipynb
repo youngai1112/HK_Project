{
 "cells": [
  {
   "cell_type": "markdown",
   "metadata": {},
   "source": [
    "# Why AI for Trading? : 인공지능을 트레이딩에 이용하는 정당성\n",
    "1. Humans are forgetful, and vulnerable to emotion : 사람의 기억력의 한계O, 감정에 취약하다\n",
    "2. Early pattern detection and decision : 패턴을 조기에 탐지하여 의사결정을 내릴 수 있다. \n",
    "3. Can understand and utilize massive data (~30 years) : 지난 수십년간의 데이터를 활용할 수 있다. \n",
    "4. Faster search in the huge space for the best strategy : 최적의 전략을 빠르게 찾기위해서는 AI가 필요하다."
   ]
  },
  {
   "cell_type": "markdown",
   "metadata": {},
   "source": [
    "# 인공지능 투자가 왜 AI에 적합한가?\n",
    "    - 인공지능 : 학습을 한 다음, 예측 (100% 정확도는 얻을 수 없다.)\n",
    "1. Perfect example where average good performance is enough for success.\n",
    "    - 평균적인 우수한 성과가 성공에 충분하다는 완벽한 예시\n",
    "2. Allow faults, unlike other mission-critical services.\n",
    "    - 자율주행, 수술하는 로봇은 결함이 있으면 치명적이나, AI 인공지능 투자 같은 경우 결함이 치명적이지는 않다.\n",
    "    - 에러가 있음에도 불구하고, 또는 에러가 자연스럽게 허용되는 분야가 바로 AI 트레이드 분야"
   ]
  },
  {
   "cell_type": "markdown",
   "metadata": {},
   "source": []
  }
 ],
 "metadata": {
  "interpreter": {
   "hash": "237dfbe96289c26a34bb3817ed9a5dda5a1f28f78dcc25894f58473fa7732fcf"
  },
  "kernelspec": {
   "display_name": "Python 3.8.8 64-bit",
   "language": "python",
   "name": "python3"
  },
  "language_info": {
   "name": "python",
   "version": "3.8.8"
  },
  "orig_nbformat": 4
 },
 "nbformat": 4,
 "nbformat_minor": 2
}
