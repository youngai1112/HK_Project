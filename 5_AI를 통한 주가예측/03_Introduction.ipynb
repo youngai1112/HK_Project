{
 "cells": [
  {
   "cell_type": "markdown",
   "metadata": {},
   "source": [
    "# 연구 소개\n",
    "- [Accurate Multivariate Stock Movement Prediction via Data-Axis Transformer with Multi-Level Contexts]\n",
    "- 주식가격의 움직임을 예측하는 연구"
   ]
  },
  {
   "cell_type": "markdown",
   "metadata": {},
   "source": [
    "# Outline\n",
    "1. Introduction\n",
    "2. Proposed Method\n",
    "3. Experiments\n",
    "4. Conclusion"
   ]
  },
  {
   "cell_type": "markdown",
   "metadata": {},
   "source": [
    "## Problem Definition\n",
    "1. Predicting the future values of stock prices \n",
    "    - The holy grail in AI\n",
    "2. The problem is challenging but rewarding\n",
    "    - **Challenging**. Stock prices have no clear patterns and lots of noises. : 명확한 패턴이 없고, noise가 심하다.\n",
    "    - **Rewarding**. Even the increase of 1% of prediction accuracy results in enormous profit. : 1%의 정확성은 엄청난 benefit을 준다.\n",
    "3. Problem Definition\n",
    "    - **Stock movement prediction** : 다음날 주식 가격을 regression 관점에서 맞추는 것은 굉장히 어렵다.\n",
    "        - We model the problem as binary classification. : 특정 주식이 내일 또는 몇 일 후에 오를지 내릴지를 예측하는 문제\n",
    "        - To predict a movement rather than exact price. : 정확한 가격 보다는 움직임을 예측\n",
    "    - **Definition**\n",
    "        - 주식의 지난 날짜들의 가격정보가 있다. (날짜 t의 가격 벡터) > 그 다음날 주식이 오를지 내릴지 맞추는 것 (다양한 time unit 사용가능)"
   ]
  },
  {
   "cell_type": "markdown",
   "metadata": {},
   "source": [
    "## Research Motivation\n",
    "1. Stocks are strongly correlated with each other. : 반도체 호황 > 삼성전자&하이닉스 상승 (상호연관성)\n",
    "2. Previous models can be categorized as : 기존연구모델\n",
    "    - `Univariate models` : 각 주식을 독립적으로 보고, 각 주식을 개별적으로 예측하는 것\n",
    "        - 모델을 만들 때는 전체데이터를 다 사용할 수 있겠지만, 특정 주식의 가격을 예측 가능 \n",
    "        - The treat each stock independently from the others.\n",
    "    - `Multivariate models with fixed correlations` : 여러 주식을 두고, 여러 주식 간의 상호 연관성을 가지고 예측\n",
    "        - 삼성전자의 가격을 예측할 때, 하이닉스도 같이 보는 것 \n",
    "        - They take the correlations as a predefined input : correlation을 미리 입력으로 주어야 한다. \n",
    "            - 특정 섹터에 있는 주식은 서로 연관이 되어 있다는 식으로 사전지식을 학습\n",
    "        - The correlations cannot reflect the dynamic property. \n",
    "            - 많은 경우에, 사전정보가 주어지지 않을 경우도 있고 정확하지 않을 수도 있다. \n",
    "        \n",
    "**How can we learn dynamic correlations between stocks with no prior knowledge?** \n",
    "- 우리가 어떻게 하면 주식 간의 동적인 correlation을 사전 지식없이 잘 학습할 수 있을까?"
   ]
  },
  {
   "cell_type": "markdown",
   "metadata": {},
   "source": []
  }
 ],
 "metadata": {
  "interpreter": {
   "hash": "237dfbe96289c26a34bb3817ed9a5dda5a1f28f78dcc25894f58473fa7732fcf"
  },
  "kernelspec": {
   "display_name": "Python 3.8.8 64-bit",
   "language": "python",
   "name": "python3"
  },
  "language_info": {
   "name": "python",
   "version": "3.8.8"
  },
  "orig_nbformat": 4
 },
 "nbformat": 4,
 "nbformat_minor": 2
}
