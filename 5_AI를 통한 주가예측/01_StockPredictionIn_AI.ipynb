{
 "cells": [
  {
   "cell_type": "markdown",
   "metadata": {},
   "source": [
    "- 참고: https://www.youtube.com/watch?v=mqWduvQVZv8\n",
    "\n",
    "# Stock Pediction in AI\n",
    "1. Due to large date sets \n",
    "2. Intrinsic intellectual challenges\n",
    "3. Massive potential rewards\n",
    "\n",
    "# 금융 AI에서 주식예측이 가지는 의미\n",
    "- stock prediction has been considered as a 'holy grail' of financial AI\n"
   ]
  },
  {
   "cell_type": "markdown",
   "metadata": {},
   "source": [
    "# Fundamental Question_1\n",
    "* Q : Is stock market predictable? : 주식시장은 예측이 가능한가?\n",
    "* A : Evidences that it is predictable\n",
    "    - `Qualitative` (정성적인 관점)\n",
    "        - Many people investing in stock market : 많은 사람들이 주식시장에 투자 (투자자가 투자를 하면, 가격이 오를 것이라는 것을 암시적인 예측을 가짐)\n",
    "        - Many investment companies : 많은 투자회사가 있음 (Gambling이 아닌, 특정한 기준을 가지고 주식이 오를 것임을 예측)\n",
    "        - Several successful traders : 여러 성공적인 투자자가 있음 (워렌 버핏)\n",
    "    - `Quantitative` (정량적인 관점) : 성공 사례\n",
    "        - Successful stories \n",
    "            - Deeptrade startup의 주가 예측 시뮬레이션\n",
    "            - AI가 인덱스를 추종하는 투자보다는 더 좋은 성능을 보인다\n"
   ]
  },
  {
   "cell_type": "markdown",
   "metadata": {},
   "source": [
    "# Fundamental Question_2\n",
    "- Q : Is it possible to predict stock market using public information? : 공개된 정보로 예측이 가능한가?\n",
    "- A : Claims and rebuttal : 공개된 정보로는 초과 수익을 얻을 수 없다는 경제이론 O\n",
    "    - 1) The public information is known to everyone : 공개된 정보는 누구나 알 수 있다.  <= 공개된 정보라도 가치가 있다!\n",
    "        - It takes time for information to spread : 정보는 흐르는 데 시간이 걸린다. \n",
    "            - 한국 증시의 경우 3시 30분에 종가가 결정됨. (정보 공개)\n",
    "            - but, 2000여 개의 종목의 종가를 전부 확인가능하다? - **NO!**\n",
    "    - 2) Everyone can act based on the public information : 모든 사람이 공개된 정보에 의해서 행동할 수 있지 않은가?\n",
    "        - Not all investors have good tools to exploit it : 공개된 정보라 하더라도 제대로 분석할 수 있는 툴이 없다면 제대로 활용할 수 없다.\n",
    "    - 3) The patterns in the public information will not recur : 공개 정보에 나타난 패턴이 주식시장에 다시 또 나타날까?\n",
    "        - No! the same patterns have been and will be observed : 주식시장의 패턴이 반복적으로 나타난다. (과도한 희망과 공포감은 항상 존재)\n",
    "            - 주식시장이 오르면 과도한 희망을 품고 가격이 오른다 > 가격이 내린다.\n",
    "            - 주식시장이 내리면 공포감을 가지고, 주식 값이 내린다 > 주식을 산다 > 주식이 오른다.\n",
    "    - 4) Private information is more valuable : private한 정보가 더 가치있지 않을까? <= private한 정보에 의존하는 것은 위험하다.\n",
    "        - Can you trust it? : private한 정보를 믿을 수 있는가? (검증 불가하므로, action은 위험하다.)\n",
    "        - Is it really private? : 과연 진짜 private한가?"
   ]
  },
  {
   "cell_type": "markdown",
   "metadata": {},
   "source": []
  }
 ],
 "metadata": {
  "language_info": {
   "name": "python"
  },
  "orig_nbformat": 4
 },
 "nbformat": 4,
 "nbformat_minor": 2
}
