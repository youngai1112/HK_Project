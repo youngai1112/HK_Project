{
 "cells": [
  {
   "cell_type": "markdown",
   "metadata": {},
   "source": [
    "1. 배당수익률, BPS, PER, EPS에 대해서 특정 일자 기준으로 종목별 확인"
   ]
  },
  {
   "cell_type": "code",
   "execution_count": 1,
   "metadata": {},
   "outputs": [
    {
     "name": "stdout",
     "output_type": "stream",
     "text": [
      "          BPS        PER       PBR   EPS       DIV   DPS\n",
      "티커                                                      \n",
      "095570   6802   3.640625  0.520020   982  8.398438   300\n",
      "006840  62448   7.890625  0.270020  2168  4.390625   750\n",
      "027410  15699  14.289062  0.260010   281  2.740234   110\n",
      "282330  36022  13.468750  3.279297  8763  2.289062  2700\n",
      "138930  25415   3.349609  0.219971  1647  6.531250   360\n",
      "...       ...        ...       ...   ...       ...   ...\n",
      "069260  15970  12.640625  1.429688  1812  4.371094  1000\n",
      "000540  10926   5.250000  0.239990   510  0.000000     0\n",
      "000547      0   0.000000  0.000000     0  0.000000     0\n",
      "000545      0   0.000000  0.000000     0  0.000000     0\n",
      "003280    276   0.000000  0.930176     0  0.000000     0\n",
      "\n",
      "[894 rows x 6 columns]\n"
     ]
    }
   ],
   "source": [
    "from pykrx import stock\n",
    "\n",
    "df = stock.get_market_fundamental_by_ticker(\"20201030\")\n",
    "print(df)"
   ]
  },
  {
   "cell_type": "markdown",
   "metadata": {},
   "source": [
    "2. 특정 종목의 수익률, BPS, PER, EPS을 일자별로 확인"
   ]
  },
  {
   "cell_type": "code",
   "execution_count": 3,
   "metadata": {},
   "outputs": [
    {
     "name": "stdout",
     "output_type": "stream",
     "text": [
      "              BPS     PER   PBR   EPS   DIV  DPS\n",
      "날짜                                              \n",
      "2010-12-31   5072   75.64  1.74   117  0.00    0\n",
      "2011-12-31   6540   13.97  1.24   582  1.23  100\n",
      "2012-12-31   7093   13.11  1.01   547  3.21  230\n",
      "2013-12-31   7504   13.11  1.04   595  2.95  230\n",
      "2014-12-31   8114   12.73  0.91   583  2.02  150\n",
      "2015-12-31   8043   18.84  0.99   422  1.64  130\n",
      "2016-12-31   9961   14.98  0.72   482  2.49  180\n",
      "2017-12-31   9950    9.79  0.65   658  2.80  180\n",
      "2018-12-31   9820    6.47  0.70  1058  1.17   80\n",
      "2019-12-31  10767    5.57  0.39   757  3.32  140\n",
      "2020-12-31  11867    4.84  0.19   473  4.37  100\n",
      "2021-12-31  14606  130.00  0.16    18  1.28   30\n"
     ]
    }
   ],
   "source": [
    "df = stock.get_market_fundamental_by_date(\"20100101\", \"20211231\", \"088350\", \"y\")\n",
    "print(df)"
   ]
  },
  {
   "cell_type": "code",
   "execution_count": null,
   "metadata": {},
   "outputs": [],
   "source": []
  }
 ],
 "metadata": {
  "interpreter": {
   "hash": "b3ba2566441a7c06988d0923437866b63cedc61552a5af99d1f4fb67d367b25f"
  },
  "kernelspec": {
   "display_name": "Python 3.8.8 ('base')",
   "language": "python",
   "name": "python3"
  },
  "language_info": {
   "codemirror_mode": {
    "name": "ipython",
    "version": 3
   },
   "file_extension": ".py",
   "mimetype": "text/x-python",
   "name": "python",
   "nbconvert_exporter": "python",
   "pygments_lexer": "ipython3",
   "version": "3.8.8"
  },
  "orig_nbformat": 4
 },
 "nbformat": 4,
 "nbformat_minor": 2
}
