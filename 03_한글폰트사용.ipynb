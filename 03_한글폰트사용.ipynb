{
 "cells": [
  {
   "cell_type": "markdown",
   "metadata": {},
   "source": [
    "- matplotlib 한글폰트 사용하기\n",
    "    - 참고 : https://programmers.co.kr/learn/courses/21/lessons/950"
   ]
  },
  {
   "cell_type": "code",
   "execution_count": 2,
   "metadata": {},
   "outputs": [],
   "source": [
    "# 필요한 패키지 가져오기\n",
    "import matplotlib as mpl\n",
    "import matplotlib.pyplot as plt\n",
    "import matplotlib.font_manager as fm \n",
    "\n",
    "# 그래프에서 마이너스 폰트 깨지는 문제 대처\n",
    "mpl.rcParams['axes.unicode_minus'] = False"
   ]
  },
  {
   "cell_type": "code",
   "execution_count": 3,
   "metadata": {},
   "outputs": [
    {
     "data": {
      "text/plain": [
       "array([  40,  -22,   43,   99,  139,  167,  143,  192,  266,  205,  301,\n",
       "        339,  287,  316,  247,  156,  142,  148,  145,   99,   55,  -23,\n",
       "       -117,  -59,  -89, -169, -259, -196, -189, -253, -314, -243, -232,\n",
       "       -329, -423, -462, -486, -554, -483, -528, -505, -490, -484, -472,\n",
       "       -390, -357, -361, -410, -484, -448], dtype=int32)"
      ]
     },
     "execution_count": 3,
     "metadata": {},
     "output_type": "execute_result"
    }
   ],
   "source": [
    "# 그래프 그리기 위한 임의의 데이터\n",
    "import numpy as np\n",
    "\n",
    "data = np.random.randint(-100, 100, 50).cumsum()\n",
    "data"
   ]
  },
  {
   "cell_type": "code",
   "execution_count": 4,
   "metadata": {},
   "outputs": [
    {
     "data": {
      "text/plain": [
       "Text(0.5, 0, '시간(분)')"
      ]
     },
     "execution_count": 4,
     "metadata": {},
     "output_type": "execute_result"
    },
    {
     "name": "stderr",
     "output_type": "stream",
     "text": [
      "C:\\ProgramData\\Anaconda3\\lib\\site-packages\\matplotlib\\backends\\backend_agg.py:238: RuntimeWarning: Glyph 49884 missing from current font.\n",
      "  font.set_text(s, 0.0, flags=flags)\n",
      "C:\\ProgramData\\Anaconda3\\lib\\site-packages\\matplotlib\\backends\\backend_agg.py:238: RuntimeWarning: Glyph 44036 missing from current font.\n",
      "  font.set_text(s, 0.0, flags=flags)\n",
      "C:\\ProgramData\\Anaconda3\\lib\\site-packages\\matplotlib\\backends\\backend_agg.py:238: RuntimeWarning: Glyph 48324 missing from current font.\n",
      "  font.set_text(s, 0.0, flags=flags)\n",
      "C:\\ProgramData\\Anaconda3\\lib\\site-packages\\matplotlib\\backends\\backend_agg.py:238: RuntimeWarning: Glyph 44032 missing from current font.\n",
      "  font.set_text(s, 0.0, flags=flags)\n",
      "C:\\ProgramData\\Anaconda3\\lib\\site-packages\\matplotlib\\backends\\backend_agg.py:238: RuntimeWarning: Glyph 44201 missing from current font.\n",
      "  font.set_text(s, 0.0, flags=flags)\n",
      "C:\\ProgramData\\Anaconda3\\lib\\site-packages\\matplotlib\\backends\\backend_agg.py:238: RuntimeWarning: Glyph 52628 missing from current font.\n",
      "  font.set_text(s, 0.0, flags=flags)\n",
      "C:\\ProgramData\\Anaconda3\\lib\\site-packages\\matplotlib\\backends\\backend_agg.py:238: RuntimeWarning: Glyph 51060 missing from current font.\n",
      "  font.set_text(s, 0.0, flags=flags)\n",
      "C:\\ProgramData\\Anaconda3\\lib\\site-packages\\matplotlib\\backends\\backend_agg.py:238: RuntimeWarning: Glyph 48516 missing from current font.\n",
      "  font.set_text(s, 0.0, flags=flags)\n",
      "C:\\ProgramData\\Anaconda3\\lib\\site-packages\\matplotlib\\backends\\backend_agg.py:238: RuntimeWarning: Glyph 51452 missing from current font.\n",
      "  font.set_text(s, 0.0, flags=flags)\n",
      "C:\\ProgramData\\Anaconda3\\lib\\site-packages\\matplotlib\\backends\\backend_agg.py:238: RuntimeWarning: Glyph 49885 missing from current font.\n",
      "  font.set_text(s, 0.0, flags=flags)\n",
      "C:\\ProgramData\\Anaconda3\\lib\\site-packages\\matplotlib\\backends\\backend_agg.py:201: RuntimeWarning: Glyph 49884 missing from current font.\n",
      "  font.set_text(s, 0, flags=flags)\n",
      "C:\\ProgramData\\Anaconda3\\lib\\site-packages\\matplotlib\\backends\\backend_agg.py:201: RuntimeWarning: Glyph 44036 missing from current font.\n",
      "  font.set_text(s, 0, flags=flags)\n",
      "C:\\ProgramData\\Anaconda3\\lib\\site-packages\\matplotlib\\backends\\backend_agg.py:201: RuntimeWarning: Glyph 48516 missing from current font.\n",
      "  font.set_text(s, 0, flags=flags)\n",
      "C:\\ProgramData\\Anaconda3\\lib\\site-packages\\matplotlib\\backends\\backend_agg.py:201: RuntimeWarning: Glyph 51452 missing from current font.\n",
      "  font.set_text(s, 0, flags=flags)\n",
      "C:\\ProgramData\\Anaconda3\\lib\\site-packages\\matplotlib\\backends\\backend_agg.py:201: RuntimeWarning: Glyph 49885 missing from current font.\n",
      "  font.set_text(s, 0, flags=flags)\n",
      "C:\\ProgramData\\Anaconda3\\lib\\site-packages\\matplotlib\\backends\\backend_agg.py:201: RuntimeWarning: Glyph 44032 missing from current font.\n",
      "  font.set_text(s, 0, flags=flags)\n",
      "C:\\ProgramData\\Anaconda3\\lib\\site-packages\\matplotlib\\backends\\backend_agg.py:201: RuntimeWarning: Glyph 44201 missing from current font.\n",
      "  font.set_text(s, 0, flags=flags)\n",
      "C:\\ProgramData\\Anaconda3\\lib\\site-packages\\matplotlib\\backends\\backend_agg.py:201: RuntimeWarning: Glyph 48324 missing from current font.\n",
      "  font.set_text(s, 0, flags=flags)\n",
      "C:\\ProgramData\\Anaconda3\\lib\\site-packages\\matplotlib\\backends\\backend_agg.py:201: RuntimeWarning: Glyph 52628 missing from current font.\n",
      "  font.set_text(s, 0, flags=flags)\n",
      "C:\\ProgramData\\Anaconda3\\lib\\site-packages\\matplotlib\\backends\\backend_agg.py:201: RuntimeWarning: Glyph 51060 missing from current font.\n",
      "  font.set_text(s, 0, flags=flags)\n"
     ]
    },
    {
     "data": {
      "image/png": "[encoded data removed]",
      "text/plain": [
       "<Figure size 432x288 with 1 Axes>"
      ]
     },
     "metadata": {
      "needs_background": "light"
     },
     "output_type": "display_data"
    }
   ],
   "source": [
    "# 한글 깨짐 : 기본 폰트로 지정되었기 때문\n",
    "plt.plot(range(50), data, 'r')\n",
    "mpl.rcParams['axes.unicode_minus'] = False\n",
    "plt.title('시간별 가격 추이')\n",
    "plt.ylabel('주식 가격')\n",
    "plt.xlabel('시간(분)')"
   ]
  },
  {
   "cell_type": "code",
   "execution_count": 5,
   "metadata": {},
   "outputs": [
    {
     "name": "stdout",
     "output_type": "stream",
     "text": [
      "버전:  3.3.4\n",
      "설치 위치:  C:\\ProgramData\\Anaconda3\\lib\\site-packages\\matplotlib\\__init__.py\n",
      "설정 위치:  C:\\Users\\easya\\.matplotlib\n",
      "캐시 위치:  <function get_cachedir at 0x0000021B87057C10>\n"
     ]
    }
   ],
   "source": [
    "# 폰트 설정 전, matplotlib 버전과 위치정보 가져오기\n",
    "print('버전: ', mpl.__version__)\n",
    "print('설치 위치: ', mpl.__file__)\n",
    "print('설정 위치: ', mpl.get_configdir())\n",
    "print('캐시 위치: ', mpl.get_cachedir)"
   ]
  },
  {
   "cell_type": "code",
   "execution_count": 16,
   "metadata": {},
   "outputs": [
    {
     "name": "stdout",
     "output_type": "stream",
     "text": [
      "설정파일 위치:  C:\\ProgramData\\Anaconda3\\lib\\site-packages\\matplotlib\\mpl-data\\matplotlibrc\n"
     ]
    }
   ],
   "source": [
    "# 터미널 이용, 해당 위치로 이동\n",
    "print('설정파일 위치: ', mpl.matplotlib_fname())"
   ]
  },
  {
   "cell_type": "code",
   "execution_count": 17,
   "metadata": {},
   "outputs": [
    {
     "name": "stdout",
     "output_type": "stream",
     "text": [
      "802\n"
     ]
    }
   ],
   "source": [
    "# 설치된 폰트 확인\n",
    "font_list = fm.findSystemFonts(fontpaths=None, fontext='ttf')\n",
    "\n",
    "# ttf 폰트 전체 갯수\n",
    "print(len(font_list))"
   ]
  },
  {
   "cell_type": "code",
   "execution_count": 18,
   "metadata": {},
   "outputs": [
    {
     "data": {
      "text/plain": [
       "['C:\\\\WINDOWS\\\\Fonts\\\\RAGE.TTF',\n",
       " 'C:\\\\WINDOWS\\\\Fonts\\\\OLDENGL.TTF',\n",
       " 'C:\\\\WINDOWS\\\\Fonts\\\\verdanab.ttf',\n",
       " 'C:\\\\Windows\\\\Fonts\\\\HTOWERT.TTF',\n",
       " 'C:\\\\WINDOWS\\\\Fonts\\\\LeelawUI.ttf',\n",
       " 'C:\\\\WINDOWS\\\\Fonts\\\\msyi.ttf',\n",
       " 'C:\\\\Windows\\\\Fonts\\\\trebucbi.ttf',\n",
       " 'C:\\\\WINDOWS\\\\Fonts\\\\LeelUIsl.ttf',\n",
       " 'C:\\\\WINDOWS\\\\Fonts\\\\CHILLER.TTF',\n",
       " 'C:\\\\WINDOWS\\\\Fonts\\\\PERTILI.TTF']"
      ]
     },
     "execution_count": 18,
     "metadata": {},
     "output_type": "execute_result"
    }
   ],
   "source": [
    "# 시스템 폰트에서 읽어온 리스트에서 상위 10개만 출력\n",
    "font_list[:10]"
   ]
  },
  {
   "cell_type": "code",
   "execution_count": 9,
   "metadata": {},
   "outputs": [
    {
     "name": "stdout",
     "output_type": "stream",
     "text": [
      "802\n"
     ]
    },
    {
     "data": {
      "text/plain": [
       "['cmmi10',\n",
       " 'cmr10',\n",
       " 'DejaVu Sans Display',\n",
       " 'cmtt10',\n",
       " 'STIXSizeFourSym',\n",
       " 'STIXSizeThreeSym',\n",
       " 'DejaVu Sans Mono',\n",
       " 'DejaVu Sans',\n",
       " 'DejaVu Serif Display',\n",
       " 'STIXSizeOneSym']"
      ]
     },
     "execution_count": 9,
     "metadata": {},
     "output_type": "execute_result"
    }
   ],
   "source": [
    "# 10개의 폰트명만 출력\n",
    "f = [f.name for f in fm.fontManager.ttflist]\n",
    "print(len(font_list))\n",
    "f[:10]"
   ]
  },
  {
   "cell_type": "code",
   "execution_count": 10,
   "metadata": {},
   "outputs": [
    {
     "data": {
      "text/plain": [
       "'C:\\\\Users\\\\easya\\\\.matplotlib'"
      ]
     },
     "execution_count": 10,
     "metadata": {},
     "output_type": "execute_result"
    }
   ],
   "source": [
    "# 폰트를 설치했는데, 원하는 폰트 명을 가져오지 못할 때\n",
    "# 캐시 파일에 원하는 폰트리스트가 없으면 콘다 재실행\n",
    "mpl.get_cachedir() "
   ]
  },
  {
   "cell_type": "code",
   "execution_count": 11,
   "metadata": {},
   "outputs": [
    {
     "data": {
      "text/plain": [
       "[('Yu Gothic', 'C:\\\\WINDOWS\\\\Fonts\\\\YuGothB.ttc'),\n",
       " ('Hancom Gothic', 'C:\\\\WINDOWS\\\\Fonts\\\\Hancom Gothic Regular.ttf'),\n",
       " ('Century Gothic', 'C:\\\\WINDOWS\\\\Fonts\\\\GOTHICBI.TTF'),\n",
       " ('Franklin Gothic Medium Cond', 'C:\\\\Windows\\\\Fonts\\\\FRAMDCN.TTF'),\n",
       " ('Century Gothic', 'C:\\\\Windows\\\\Fonts\\\\GOTHICBI.TTF'),\n",
       " ('Century Gothic', 'C:\\\\Windows\\\\Fonts\\\\GOTHIC.TTF'),\n",
       " ('MS Gothic', 'C:\\\\WINDOWS\\\\Fonts\\\\msgothic.ttc'),\n",
       " ('Hancom Gothic', 'C:\\\\Windows\\\\Fonts\\\\Hancom Gothic Regular.ttf'),\n",
       " ('Century Gothic', 'C:\\\\Windows\\\\Fonts\\\\GOTHICB.TTF'),\n",
       " ('Century Gothic', 'C:\\\\Windows\\\\Fonts\\\\GOTHICI.TTF'),\n",
       " ('Malgun Gothic', 'C:\\\\WINDOWS\\\\Fonts\\\\malgun.ttf'),\n",
       " ('HYGothic-Medium', 'C:\\\\WINDOWS\\\\Fonts\\\\H2GTRM.TTF'),\n",
       " ('Franklin Gothic Heavy', 'C:\\\\WINDOWS\\\\Fonts\\\\FRAHVIT.TTF'),\n",
       " ('Century Gothic', 'C:\\\\WINDOWS\\\\Fonts\\\\GOTHICB.TTF'),\n",
       " ('Franklin Gothic Medium', 'C:\\\\Windows\\\\Fonts\\\\framdit.ttf'),\n",
       " ('Yu Gothic', 'C:\\\\Windows\\\\Fonts\\\\YuGothL.ttc'),\n",
       " ('HYGothic-Medium', 'C:\\\\Windows\\\\Fonts\\\\H2GTRM.TTF'),\n",
       " ('Franklin Gothic Demi Cond', 'C:\\\\Windows\\\\Fonts\\\\FRADMCN.TTF'),\n",
       " ('Malgun Gothic', 'C:\\\\WINDOWS\\\\Fonts\\\\malgunbd.ttf'),\n",
       " ('Showcard Gothic', 'C:\\\\Windows\\\\Fonts\\\\SHOWG.TTF'),\n",
       " ('HYGothic-Extra', 'C:\\\\Windows\\\\Fonts\\\\H2GTRE.TTF'),\n",
       " ('Franklin Gothic Book', 'C:\\\\Windows\\\\Fonts\\\\FRABKIT.TTF'),\n",
       " ('Franklin Gothic Book', 'C:\\\\WINDOWS\\\\Fonts\\\\FRABK.TTF'),\n",
       " ('Franklin Gothic Demi', 'C:\\\\Windows\\\\Fonts\\\\FRADM.TTF'),\n",
       " ('Franklin Gothic Heavy', 'C:\\\\Windows\\\\Fonts\\\\FRAHV.TTF'),\n",
       " ('Franklin Gothic Medium', 'C:\\\\WINDOWS\\\\Fonts\\\\framdit.ttf'),\n",
       " ('Franklin Gothic Book', 'C:\\\\WINDOWS\\\\Fonts\\\\FRABKIT.TTF'),\n",
       " ('Yu Gothic', 'C:\\\\WINDOWS\\\\Fonts\\\\YuGothM.ttc'),\n",
       " ('Yu Gothic', 'C:\\\\Windows\\\\Fonts\\\\YuGothM.ttc'),\n",
       " ('Franklin Gothic Medium', 'C:\\\\Windows\\\\Fonts\\\\framd.ttf'),\n",
       " ('Yu Gothic', 'C:\\\\Windows\\\\Fonts\\\\YuGothB.ttc'),\n",
       " ('Franklin Gothic Demi', 'C:\\\\WINDOWS\\\\Fonts\\\\FRADM.TTF'),\n",
       " ('Showcard Gothic', 'C:\\\\WINDOWS\\\\Fonts\\\\SHOWG.TTF'),\n",
       " ('Hancom Gothic', 'C:\\\\WINDOWS\\\\Fonts\\\\Hancom Gothic Bold.ttf'),\n",
       " ('Franklin Gothic Book', 'C:\\\\Windows\\\\Fonts\\\\FRABK.TTF'),\n",
       " ('Malgun Gothic', 'C:\\\\Windows\\\\Fonts\\\\malgunbd.ttf'),\n",
       " ('HYGothic-Extra', 'C:\\\\WINDOWS\\\\Fonts\\\\H2GTRE.TTF'),\n",
       " ('Franklin Gothic Demi', 'C:\\\\Windows\\\\Fonts\\\\FRADMIT.TTF'),\n",
       " ('Franklin Gothic Heavy', 'C:\\\\Windows\\\\Fonts\\\\FRAHVIT.TTF'),\n",
       " ('Yu Gothic', 'C:\\\\WINDOWS\\\\Fonts\\\\YuGothL.ttc'),\n",
       " ('Franklin Gothic Medium Cond', 'C:\\\\WINDOWS\\\\Fonts\\\\FRAMDCN.TTF'),\n",
       " ('MS Gothic', 'C:\\\\Windows\\\\Fonts\\\\msgothic.ttc'),\n",
       " ('Copperplate Gothic Bold', 'C:\\\\WINDOWS\\\\Fonts\\\\COPRGTB.TTF'),\n",
       " ('Franklin Gothic Demi Cond', 'C:\\\\WINDOWS\\\\Fonts\\\\FRADMCN.TTF'),\n",
       " ('Franklin Gothic Heavy', 'C:\\\\WINDOWS\\\\Fonts\\\\FRAHV.TTF'),\n",
       " ('Franklin Gothic Medium', 'C:\\\\WINDOWS\\\\Fonts\\\\framd.ttf'),\n",
       " ('Copperplate Gothic Bold', 'C:\\\\Windows\\\\Fonts\\\\COPRGTB.TTF'),\n",
       " ('Yu Gothic', 'C:\\\\Windows\\\\Fonts\\\\YuGothR.ttc'),\n",
       " ('Malgun Gothic', 'C:\\\\WINDOWS\\\\Fonts\\\\malgunsl.ttf'),\n",
       " ('Franklin Gothic Demi', 'C:\\\\WINDOWS\\\\Fonts\\\\FRADMIT.TTF'),\n",
       " ('Hancom Gothic', 'C:\\\\Windows\\\\Fonts\\\\Hancom Gothic Bold.ttf'),\n",
       " ('Malgun Gothic', 'C:\\\\Windows\\\\Fonts\\\\malgunsl.ttf'),\n",
       " ('Yu Gothic', 'C:\\\\WINDOWS\\\\Fonts\\\\YuGothR.ttc'),\n",
       " ('Copperplate Gothic Light', 'C:\\\\Windows\\\\Fonts\\\\COPRGTL.TTF'),\n",
       " ('Copperplate Gothic Light', 'C:\\\\WINDOWS\\\\Fonts\\\\COPRGTL.TTF'),\n",
       " ('Century Gothic', 'C:\\\\WINDOWS\\\\Fonts\\\\GOTHICI.TTF'),\n",
       " ('Century Gothic', 'C:\\\\WINDOWS\\\\Fonts\\\\GOTHIC.TTF'),\n",
       " ('Malgun Gothic', 'C:\\\\Windows\\\\Fonts\\\\malgun.ttf')]"
      ]
     },
     "execution_count": 11,
     "metadata": {},
     "output_type": "execute_result"
    }
   ],
   "source": [
    "# 이름에 'Gothic'이 들어간 폰트만 가져오기\n",
    "[(f.name, f.fname) for f in fm.fontManager.ttflist if 'Gothic' in f.name]"
   ]
  },
  {
   "cell_type": "code",
   "execution_count": 12,
   "metadata": {},
   "outputs": [
    {
     "data": {
      "image/png": "[encoded data removed]",
      "text/plain": [
       "<Figure size 432x288 with 1 Axes>"
      ]
     },
     "metadata": {
      "needs_background": "light"
     },
     "output_type": "display_data"
    }
   ],
   "source": [
    "# 폰트 사용방법 1 : FontProperties - 그래프의 폰트가 필요한 항목마다 지정해 주어야 한다\n",
    "#   지정해 준 항목에만 해당 폰트가 적용\n",
    "#   matplotlib.pyplot : title(), xlabel(), ylabel(), legend(), text()\n",
    "#   matplotlib.axes : set_title()\n",
    "\n",
    "path = 'C:\\\\WINDOWS\\\\Fonts\\\\malgun.ttf'\n",
    "fontprop = fm.FontProperties(fname=path, size=18)\n",
    "\n",
    "plt.plot(range(50), data, 'r')\n",
    "plt.title('시간별 가격 추이', fontproperties=fontprop)\n",
    "plt.ylabel('주식 가격', fontproperties=fontprop)\n",
    "plt.xlabel('시간(분)', fontproperties=fontprop)\n",
    "plt.show()"
   ]
  },
  {
   "cell_type": "code",
   "execution_count": 13,
   "metadata": {},
   "outputs": [
    {
     "name": "stdout",
     "output_type": "stream",
     "text": [
      "# 설정되어 있는 폰트 사이즈\n",
      "10.0\n",
      "# 설정되어 있는 폰트 글꼴\n",
      "['sans-serif']\n",
      "\n",
      "serif 세리프가 있는 폰트-----------\n",
      "['DejaVu Serif', 'Bitstream Vera Serif', 'Computer Modern Roman', 'New Century Schoolbook', 'Century Schoolbook L', 'Utopia', 'ITC Bookman', 'Bookman', 'Nimbus Roman No9 L', 'Times New Roman', 'Times', 'Palatino', 'Charter', 'serif']\n",
      "sans-serif 세리프가 없는 폰트----------------\n",
      "['DejaVu Sans', 'Bitstream Vera Sans', 'Computer Modern Sans Serif', 'Lucida Grande', 'Verdana', 'Geneva', 'Lucid', 'Arial', 'Helvetica', 'Avant Garde', 'sans-serif']\n",
      "monospace 고정폭 글꼴---------------\n",
      "['DejaVu Sans Mono', 'Bitstream Vera Sans Mono', 'Computer Modern Typewriter', 'Andale Mono', 'Nimbus Mono L', 'Courier New', 'Courier', 'Fixed', 'Terminal', 'monospace']\n"
     ]
    }
   ],
   "source": [
    "# 폰트 사용방법 2 : matplotlib.rcParams[]으로 전역 글꼴 설정 - 그래프에 설정하면 폰트가 필요한 항목에 적용\n",
    "\n",
    "## 기본 설정 읽기\n",
    "import matplotlib.pyplot as plt\n",
    "\n",
    "## size, family\n",
    "print(\"# 설정되어 있는 폰트 사이즈\")\n",
    "print(plt.rcParams[\"font.size\"])\n",
    "print(\"# 설정되어 있는 폰트 글꼴\")\n",
    "print(plt.rcParams[\"font.family\"])\n",
    "print()\n",
    "## serif, sans-serif, monospace\n",
    "print(\"serif 세리프가 있는 폰트-----------\")\n",
    "print(plt.rcParams[\"font.serif\"])\n",
    "print(\"sans-serif 세리프가 없는 폰트----------------\")\n",
    "print(plt.rcParams[\"font.sans-serif\"])\n",
    "print('monospace 고정폭 글꼴---------------')\n",
    "print(plt.rcParams[\"font.monospace\"])\n"
   ]
  },
  {
   "cell_type": "code",
   "execution_count": 21,
   "metadata": {},
   "outputs": [],
   "source": [
    "plt.rcParams[\"font.family\"] = 'YuGothB.ttc'\n",
    "plt.rcParams[\"font.size\"] = 20\n",
    "plt.rcParams[\"figure.figsize\"] = (14,4)"
   ]
  },
  {
   "cell_type": "code",
   "execution_count": 22,
   "metadata": {},
   "outputs": [
    {
     "name": "stderr",
     "output_type": "stream",
     "text": [
      "findfont: Font family ['YuGothB.ttc'] not found. Falling back to DejaVu Sans.\n",
      "C:\\ProgramData\\Anaconda3\\lib\\site-packages\\matplotlib\\backends\\backend_agg.py:238: RuntimeWarning: Glyph 49884 missing from current font.\n",
      "  font.set_text(s, 0.0, flags=flags)\n",
      "C:\\ProgramData\\Anaconda3\\lib\\site-packages\\matplotlib\\backends\\backend_agg.py:238: RuntimeWarning: Glyph 44036 missing from current font.\n",
      "  font.set_text(s, 0.0, flags=flags)\n",
      "C:\\ProgramData\\Anaconda3\\lib\\site-packages\\matplotlib\\backends\\backend_agg.py:238: RuntimeWarning: Glyph 48324 missing from current font.\n",
      "  font.set_text(s, 0.0, flags=flags)\n",
      "C:\\ProgramData\\Anaconda3\\lib\\site-packages\\matplotlib\\backends\\backend_agg.py:238: RuntimeWarning: Glyph 44032 missing from current font.\n",
      "  font.set_text(s, 0.0, flags=flags)\n",
      "C:\\ProgramData\\Anaconda3\\lib\\site-packages\\matplotlib\\backends\\backend_agg.py:238: RuntimeWarning: Glyph 44201 missing from current font.\n",
      "  font.set_text(s, 0.0, flags=flags)\n",
      "C:\\ProgramData\\Anaconda3\\lib\\site-packages\\matplotlib\\backends\\backend_agg.py:238: RuntimeWarning: Glyph 52628 missing from current font.\n",
      "  font.set_text(s, 0.0, flags=flags)\n",
      "C:\\ProgramData\\Anaconda3\\lib\\site-packages\\matplotlib\\backends\\backend_agg.py:238: RuntimeWarning: Glyph 51060 missing from current font.\n",
      "  font.set_text(s, 0.0, flags=flags)\n",
      "findfont: Font family ['YuGothB.ttc'] not found. Falling back to DejaVu Sans.\n",
      "C:\\ProgramData\\Anaconda3\\lib\\site-packages\\matplotlib\\backends\\backend_agg.py:238: RuntimeWarning: Glyph 48516 missing from current font.\n",
      "  font.set_text(s, 0.0, flags=flags)\n",
      "C:\\ProgramData\\Anaconda3\\lib\\site-packages\\matplotlib\\backends\\backend_agg.py:238: RuntimeWarning: Glyph 51452 missing from current font.\n",
      "  font.set_text(s, 0.0, flags=flags)\n",
      "C:\\ProgramData\\Anaconda3\\lib\\site-packages\\matplotlib\\backends\\backend_agg.py:238: RuntimeWarning: Glyph 49885 missing from current font.\n",
      "  font.set_text(s, 0.0, flags=flags)\n",
      "C:\\ProgramData\\Anaconda3\\lib\\site-packages\\matplotlib\\backends\\backend_agg.py:201: RuntimeWarning: Glyph 49884 missing from current font.\n",
      "  font.set_text(s, 0, flags=flags)\n",
      "C:\\ProgramData\\Anaconda3\\lib\\site-packages\\matplotlib\\backends\\backend_agg.py:201: RuntimeWarning: Glyph 44036 missing from current font.\n",
      "  font.set_text(s, 0, flags=flags)\n",
      "C:\\ProgramData\\Anaconda3\\lib\\site-packages\\matplotlib\\backends\\backend_agg.py:201: RuntimeWarning: Glyph 48516 missing from current font.\n",
      "  font.set_text(s, 0, flags=flags)\n",
      "C:\\ProgramData\\Anaconda3\\lib\\site-packages\\matplotlib\\backends\\backend_agg.py:201: RuntimeWarning: Glyph 51452 missing from current font.\n",
      "  font.set_text(s, 0, flags=flags)\n",
      "C:\\ProgramData\\Anaconda3\\lib\\site-packages\\matplotlib\\backends\\backend_agg.py:201: RuntimeWarning: Glyph 49885 missing from current font.\n",
      "  font.set_text(s, 0, flags=flags)\n",
      "C:\\ProgramData\\Anaconda3\\lib\\site-packages\\matplotlib\\backends\\backend_agg.py:201: RuntimeWarning: Glyph 44032 missing from current font.\n",
      "  font.set_text(s, 0, flags=flags)\n",
      "C:\\ProgramData\\Anaconda3\\lib\\site-packages\\matplotlib\\backends\\backend_agg.py:201: RuntimeWarning: Glyph 44201 missing from current font.\n",
      "  font.set_text(s, 0, flags=flags)\n",
      "C:\\ProgramData\\Anaconda3\\lib\\site-packages\\matplotlib\\backends\\backend_agg.py:201: RuntimeWarning: Glyph 48324 missing from current font.\n",
      "  font.set_text(s, 0, flags=flags)\n",
      "C:\\ProgramData\\Anaconda3\\lib\\site-packages\\matplotlib\\backends\\backend_agg.py:201: RuntimeWarning: Glyph 52628 missing from current font.\n",
      "  font.set_text(s, 0, flags=flags)\n",
      "C:\\ProgramData\\Anaconda3\\lib\\site-packages\\matplotlib\\backends\\backend_agg.py:201: RuntimeWarning: Glyph 51060 missing from current font.\n",
      "  font.set_text(s, 0, flags=flags)\n"
     ]
    },
    {
     "data": {
      "image/png": "[encoded data removed]",
      "text/plain": [
       "<Figure size 1008x288 with 1 Axes>"
      ]
     },
     "metadata": {
      "needs_background": "light"
     },
     "output_type": "display_data"
    }
   ],
   "source": [
    "plt.plot(range(50), data, 'r')\n",
    "plt.title('시간별 가격 추이')\n",
    "plt.ylabel('주식 가격')\n",
    "plt.xlabel('시간(분)')\n",
    "plt.style.use('seaborn-pastel')\n",
    "plt.show()"
   ]
  },
  {
   "cell_type": "code",
   "execution_count": null,
   "metadata": {},
   "outputs": [],
   "source": []
  }
 ],
 "metadata": {
  "interpreter": {
   "hash": "b3ba2566441a7c06988d0923437866b63cedc61552a5af99d1f4fb67d367b25f"
  },
  "kernelspec": {
   "display_name": "Python 3.8.8 ('base')",
   "language": "python",
   "name": "python3"
  },
  "language_info": {
   "codemirror_mode": {
    "name": "ipython",
    "version": 3
   },
   "file_extension": ".py",
   "mimetype": "text/x-python",
   "name": "python",
   "nbconvert_exporter": "python",
   "pygments_lexer": "ipython3",
   "version": "3.8.8"
  },
  "orig_nbformat": 4
 },
 "nbformat": 4,
 "nbformat_minor": 2
}
