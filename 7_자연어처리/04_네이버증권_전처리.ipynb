{
 "cells": [
  {
   "cell_type": "markdown",
   "metadata": {},
   "source": [
    "## 1. import"
   ]
  },
  {
   "cell_type": "code",
   "execution_count": 1,
   "metadata": {},
   "outputs": [],
   "source": [
    "import pandas as pd\n",
    "import numpy as np\n",
    "import matplotlib.pyplot as plt\n",
    "import seaborn as sns\n",
    "import warnings\n",
    "warnings.filterwarnings('ignore')\n",
    "import re\n",
    "from konlpy.tag import Okt\n",
    "from tqdm import tqdm\n",
    "from tensorflow import keras\n",
    "from tensorflow.keras import layers\n",
    "from tensorflow.keras.preprocessing.text import Tokenizer\n",
    "from tensorflow.keras.preprocessing.sequence import pad_sequences\n",
    "import os\n",
    "from sklearn.model_selection import train_test_split\n",
    "from collections import Counter"
   ]
  },
  {
   "cell_type": "code",
   "execution_count": 36,
   "metadata": {},
   "outputs": [],
   "source": [
    "import hanja\n",
    "from hanja import hangul"
   ]
  },
  {
   "cell_type": "code",
   "execution_count": 35,
   "metadata": {},
   "outputs": [
    {
     "name": "stdout",
     "output_type": "stream",
     "text": [
      "Collecting hanja\n",
      "  Downloading hanja-0.13.3.tar.gz (120 kB)\n",
      "     -------------------------------------- 120.2/120.2 KB 1.7 MB/s eta 0:00:00\n",
      "  Preparing metadata (setup.py): started\n",
      "  Preparing metadata (setup.py): finished with status 'done'\n",
      "Collecting pyyaml==5.1.2\n",
      "  Downloading PyYAML-5.1.2.tar.gz (265 kB)\n",
      "     -------------------------------------- 265.0/265.0 KB 2.0 MB/s eta 0:00:00\n",
      "  Preparing metadata (setup.py): started\n",
      "  Preparing metadata (setup.py): finished with status 'done'\n",
      "Collecting pytest\n",
      "  Downloading pytest-7.1.1-py3-none-any.whl (297 kB)\n",
      "     -------------------------------------- 297.0/297.0 KB 3.7 MB/s eta 0:00:00\n",
      "Collecting pytest-cov\n",
      "  Using cached pytest_cov-3.0.0-py3-none-any.whl (20 kB)\n",
      "Collecting coveralls\n",
      "  Using cached coveralls-3.3.1-py2.py3-none-any.whl (14 kB)\n",
      "Collecting coverage!=6.0.*,!=6.1,!=6.1.1,<7.0,>=4.1\n",
      "  Downloading coverage-6.3.2-cp38-cp38-win_amd64.whl (187 kB)\n",
      "     -------------------------------------- 187.1/187.1 KB 2.9 MB/s eta 0:00:00\n",
      "Requirement already satisfied: requests>=1.0.0 in c:\\users\\easya\\appdata\\local\\programs\\python\\python38\\lib\\site-packages (from coveralls->hanja) (2.27.1)\n",
      "Collecting docopt>=0.6.1\n",
      "  Using cached docopt-0.6.2.tar.gz (25 kB)\n",
      "  Preparing metadata (setup.py): started\n",
      "  Preparing metadata (setup.py): finished with status 'done'\n",
      "Collecting atomicwrites>=1.0\n",
      "  Downloading atomicwrites-1.4.0-py2.py3-none-any.whl (6.8 kB)\n",
      "Collecting pluggy<2.0,>=0.12\n",
      "  Downloading pluggy-1.0.0-py2.py3-none-any.whl (13 kB)\n",
      "Requirement already satisfied: colorama in c:\\users\\easya\\appdata\\roaming\\python\\python38\\site-packages (from pytest->hanja) (0.4.4)\n",
      "Collecting py>=1.8.2\n",
      "  Downloading py-1.11.0-py2.py3-none-any.whl (98 kB)\n",
      "     ---------------------------------------- 98.7/98.7 KB 5.5 MB/s eta 0:00:00\n",
      "Collecting iniconfig\n",
      "  Downloading iniconfig-1.1.1-py2.py3-none-any.whl (5.0 kB)\n",
      "Collecting tomli>=1.0.0\n",
      "  Using cached tomli-2.0.1-py3-none-any.whl (12 kB)\n",
      "Requirement already satisfied: packaging in c:\\users\\easya\\appdata\\roaming\\python\\python38\\site-packages (from pytest->hanja) (21.3)\n",
      "Requirement already satisfied: attrs>=19.2.0 in c:\\users\\easya\\appdata\\roaming\\python\\python38\\site-packages (from pytest->hanja) (21.4.0)\n",
      "Requirement already satisfied: certifi>=2017.4.17 in c:\\users\\easya\\appdata\\local\\programs\\python\\python38\\lib\\site-packages (from requests>=1.0.0->coveralls->hanja) (2021.10.8)\n",
      "Requirement already satisfied: idna<4,>=2.5 in c:\\users\\easya\\appdata\\local\\programs\\python\\python38\\lib\\site-packages (from requests>=1.0.0->coveralls->hanja) (3.3)\n",
      "Requirement already satisfied: charset-normalizer~=2.0.0 in c:\\users\\easya\\appdata\\local\\programs\\python\\python38\\lib\\site-packages (from requests>=1.0.0->coveralls->hanja) (2.0.12)\n",
      "Requirement already satisfied: urllib3<1.27,>=1.21.1 in c:\\users\\easya\\appdata\\local\\programs\\python\\python38\\lib\\site-packages (from requests>=1.0.0->coveralls->hanja) (1.26.9)\n",
      "Requirement already satisfied: pyparsing!=3.0.5,>=2.0.2 in c:\\users\\easya\\appdata\\roaming\\python\\python38\\site-packages (from packaging->pytest->hanja) (3.0.7)\n",
      "Building wheels for collected packages: hanja, pyyaml, docopt\n",
      "  Building wheel for hanja (setup.py): started\n",
      "  Building wheel for hanja (setup.py): finished with status 'done'\n",
      "  Created wheel for hanja: filename=hanja-0.13.3-py3-none-any.whl size=125971 sha256=3d4392a2802df85a166dcd811faba8fc4104b2e94ae4c662a2a3593594a566df\n",
      "  Stored in directory: c:\\users\\easya\\appdata\\local\\pip\\cache\\wheels\\0e\\bf\\65\\4246ae1371295f39cf33c5eed733e07eece1d531ef2078d654\n",
      "  Building wheel for pyyaml (setup.py): started\n",
      "  Building wheel for pyyaml (setup.py): finished with status 'done'\n",
      "  Created wheel for pyyaml: filename=PyYAML-5.1.2-cp38-cp38-win_amd64.whl size=44099 sha256=9f4d064649730d2fbc000f229e32e228ca05070687cbffb23cef6e71c247f06f\n",
      "  Stored in directory: c:\\users\\easya\\appdata\\local\\pip\\cache\\wheels\\55\\40\\9f\\027c3d94280ce2b7c2c107cb563a433e6572f830a5462231ae\n",
      "  Building wheel for docopt (setup.py): started\n",
      "  Building wheel for docopt (setup.py): finished with status 'done'\n",
      "  Created wheel for docopt: filename=docopt-0.6.2-py2.py3-none-any.whl size=13704 sha256=20de63332007464c62233fd0df5e53f35e0cb45fe59ec2ba60e04282ff223ce6\n",
      "  Stored in directory: c:\\users\\easya\\appdata\\local\\pip\\cache\\wheels\\56\\ea\\58\\ead137b087d9e326852a851351d1debf4ada529b6ac0ec4e8c\n",
      "Successfully built hanja pyyaml docopt\n",
      "Installing collected packages: iniconfig, docopt, tomli, pyyaml, py, pluggy, coverage, atomicwrites, pytest, coveralls, pytest-cov, hanja\n",
      "  Attempting uninstall: pyyaml\n",
      "    Found existing installation: PyYAML 6.0\n",
      "    Uninstalling PyYAML-6.0:\n",
      "      Successfully uninstalled PyYAML-6.0\n",
      "Successfully installed atomicwrites-1.4.0 coverage-6.3.2 coveralls-3.3.1 docopt-0.6.2 hanja-0.13.3 iniconfig-1.1.1 pluggy-1.0.0 py-1.11.0 pytest-7.1.1 pytest-cov-3.0.0 pyyaml-5.1.2 tomli-2.0.1\n",
      "Note: you may need to restart the kernel to use updated packages.\n"
     ]
    },
    {
     "name": "stderr",
     "output_type": "stream",
     "text": [
      "  WARNING: The scripts coverage-3.8.exe, coverage.exe and coverage3.exe are installed in 'C:\\Users\\easya\\AppData\\Local\\Programs\\Python\\Python38\\Scripts' which is not on PATH.\n",
      "  Consider adding this directory to PATH or, if you prefer to suppress this warning, use --no-warn-script-location.\n",
      "  WARNING: The scripts py.test.exe and pytest.exe are installed in 'C:\\Users\\easya\\AppData\\Local\\Programs\\Python\\Python38\\Scripts' which is not on PATH.\n",
      "  Consider adding this directory to PATH or, if you prefer to suppress this warning, use --no-warn-script-location.\n",
      "  WARNING: The script coveralls.exe is installed in 'C:\\Users\\easya\\AppData\\Local\\Programs\\Python\\Python38\\Scripts' which is not on PATH.\n",
      "  Consider adding this directory to PATH or, if you prefer to suppress this warning, use --no-warn-script-location.\n"
     ]
    }
   ],
   "source": [
    "# pip install hanja"
   ]
  },
  {
   "cell_type": "markdown",
   "metadata": {},
   "source": [
    "## 2. 데이터 불러오기"
   ]
  },
  {
   "cell_type": "code",
   "execution_count": 2,
   "metadata": {},
   "outputs": [
    {
     "data": {
      "text/html": [
       "<div>\n",
       "<style scoped>\n",
       "    .dataframe tbody tr th:only-of-type {\n",
       "        vertical-align: middle;\n",
       "    }\n",
       "\n",
       "    .dataframe tbody tr th {\n",
       "        vertical-align: top;\n",
       "    }\n",
       "\n",
       "    .dataframe thead th {\n",
       "        text-align: right;\n",
       "    }\n",
       "</style>\n",
       "<table border=\"1\" class=\"dataframe\">\n",
       "  <thead>\n",
       "    <tr style=\"text-align: right;\">\n",
       "      <th></th>\n",
       "      <th>date</th>\n",
       "      <th>title</th>\n",
       "    </tr>\n",
       "  </thead>\n",
       "  <tbody>\n",
       "    <tr>\n",
       "      <th>58439</th>\n",
       "      <td>20151019</td>\n",
       "      <td>[특징주]제주반도체, 美·中 대규모 투자유치에 '上'</td>\n",
       "    </tr>\n",
       "    <tr>\n",
       "      <th>58440</th>\n",
       "      <td>20151019</td>\n",
       "      <td>[반도체] 2016 반도체 투자 감소 예상 - 미래</td>\n",
       "    </tr>\n",
       "    <tr>\n",
       "      <th>58441</th>\n",
       "      <td>20151019</td>\n",
       "      <td>제주반도체, '해외투자유치설' 조회공시 요구</td>\n",
       "    </tr>\n",
       "  </tbody>\n",
       "</table>\n",
       "</div>"
      ],
      "text/plain": [
       "           date                          title\n",
       "58439  20151019  [특징주]제주반도체, 美·中 대규모 투자유치에 '上'\n",
       "58440  20151019   [반도체] 2016 반도체 투자 감소 예상 - 미래\n",
       "58441  20151019       제주반도체, '해외투자유치설' 조회공시 요구"
      ]
     },
     "execution_count": 2,
     "metadata": {},
     "output_type": "execute_result"
    }
   ],
   "source": [
    "newsdata = pd.read_csv(\"../data/Newsfile3.csv\", encoding='euc-kr')\n",
    "newsdata.tail(3)"
   ]
  },
  {
   "cell_type": "markdown",
   "metadata": {},
   "source": [
    "## 3. 데이터 확인"
   ]
  },
  {
   "cell_type": "code",
   "execution_count": 3,
   "metadata": {},
   "outputs": [
    {
     "name": "stdout",
     "output_type": "stream",
     "text": [
      "<class 'pandas.core.frame.DataFrame'>\n",
      "RangeIndex: 58442 entries, 0 to 58441\n",
      "Data columns (total 2 columns):\n",
      " #   Column  Non-Null Count  Dtype \n",
      "---  ------  --------------  ----- \n",
      " 0   date    58442 non-null  int64 \n",
      " 1   title   58442 non-null  object\n",
      "dtypes: int64(1), object(1)\n",
      "memory usage: 913.3+ KB\n"
     ]
    }
   ],
   "source": [
    "newsdata.info()"
   ]
  },
  {
   "cell_type": "code",
   "execution_count": 4,
   "metadata": {},
   "outputs": [
    {
     "data": {
      "text/plain": [
       "date     0\n",
       "title    0\n",
       "dtype: int64"
      ]
     },
     "execution_count": 4,
     "metadata": {},
     "output_type": "execute_result"
    }
   ],
   "source": [
    "# 결측치 확인\n",
    "newsdata.isnull().sum()"
   ]
  },
  {
   "cell_type": "markdown",
   "metadata": {},
   "source": [
    "## 4. train, test dataset 생성"
   ]
  },
  {
   "cell_type": "code",
   "execution_count": 14,
   "metadata": {},
   "outputs": [],
   "source": [
    "# train, test set 분리\n",
    "from sklearn.model_selection import train_test_split\n",
    "train_data, test_data = train_test_split(newsdata)"
   ]
  },
  {
   "cell_type": "markdown",
   "metadata": {},
   "source": [
    "### 4-1. train_data"
   ]
  },
  {
   "cell_type": "code",
   "execution_count": 15,
   "metadata": {},
   "outputs": [
    {
     "data": {
      "text/html": [
       "<div>\n",
       "<style scoped>\n",
       "    .dataframe tbody tr th:only-of-type {\n",
       "        vertical-align: middle;\n",
       "    }\n",
       "\n",
       "    .dataframe tbody tr th {\n",
       "        vertical-align: top;\n",
       "    }\n",
       "\n",
       "    .dataframe thead th {\n",
       "        text-align: right;\n",
       "    }\n",
       "</style>\n",
       "<table border=\"1\" class=\"dataframe\">\n",
       "  <thead>\n",
       "    <tr style=\"text-align: right;\">\n",
       "      <th></th>\n",
       "      <th>date</th>\n",
       "      <th>title</th>\n",
       "    </tr>\n",
       "  </thead>\n",
       "  <tbody>\n",
       "    <tr>\n",
       "      <th>31086</th>\n",
       "      <td>20190711</td>\n",
       "      <td>\"日 수출규제는 한국 반도체 산업 견제 목적…장기화 가능성\"</td>\n",
       "    </tr>\n",
       "    <tr>\n",
       "      <th>55800</th>\n",
       "      <td>20160610</td>\n",
       "      <td>해성디에스 \"자동차용 반도체 부품 생산에 무게…안정적 성장 기대해볼만\"</td>\n",
       "    </tr>\n",
       "  </tbody>\n",
       "</table>\n",
       "</div>"
      ],
      "text/plain": [
       "           date                                    title\n",
       "31086  20190711        \"日 수출규제는 한국 반도체 산업 견제 목적…장기화 가능성\"\n",
       "55800  20160610  해성디에스 \"자동차용 반도체 부품 생산에 무게…안정적 성장 기대해볼만\""
      ]
     },
     "execution_count": 15,
     "metadata": {},
     "output_type": "execute_result"
    }
   ],
   "source": [
    "# train_data 확인\n",
    "train_data.head(2)"
   ]
  },
  {
   "cell_type": "code",
   "execution_count": 16,
   "metadata": {},
   "outputs": [
    {
     "data": {
      "text/plain": [
       "(43831, 2)"
      ]
     },
     "execution_count": 16,
     "metadata": {},
     "output_type": "execute_result"
    }
   ],
   "source": [
    "# train_data shape 확인\n",
    "train_data.shape"
   ]
  },
  {
   "cell_type": "markdown",
   "metadata": {},
   "source": [
    "### 4-2. test_data"
   ]
  },
  {
   "cell_type": "code",
   "execution_count": 17,
   "metadata": {},
   "outputs": [
    {
     "data": {
      "text/html": [
       "<div>\n",
       "<style scoped>\n",
       "    .dataframe tbody tr th:only-of-type {\n",
       "        vertical-align: middle;\n",
       "    }\n",
       "\n",
       "    .dataframe tbody tr th {\n",
       "        vertical-align: top;\n",
       "    }\n",
       "\n",
       "    .dataframe thead th {\n",
       "        text-align: right;\n",
       "    }\n",
       "</style>\n",
       "<table border=\"1\" class=\"dataframe\">\n",
       "  <thead>\n",
       "    <tr style=\"text-align: right;\">\n",
       "      <th></th>\n",
       "      <th>date</th>\n",
       "      <th>title</th>\n",
       "    </tr>\n",
       "  </thead>\n",
       "  <tbody>\n",
       "    <tr>\n",
       "      <th>3587</th>\n",
       "      <td>20211205</td>\n",
       "      <td>반도체 판 동학개미 '中 전기차' 공략...한달새 7,000억 \"사자\"</td>\n",
       "    </tr>\n",
       "    <tr>\n",
       "      <th>31538</th>\n",
       "      <td>20190703</td>\n",
       "      <td>대일 보복카드는 자동차 수입·반도체 수출 규제…맞불작전 고심</td>\n",
       "    </tr>\n",
       "  </tbody>\n",
       "</table>\n",
       "</div>"
      ],
      "text/plain": [
       "           date                                    title\n",
       "3587   20211205  반도체 판 동학개미 '中 전기차' 공략...한달새 7,000억 \"사자\"\n",
       "31538  20190703        대일 보복카드는 자동차 수입·반도체 수출 규제…맞불작전 고심"
      ]
     },
     "execution_count": 17,
     "metadata": {},
     "output_type": "execute_result"
    }
   ],
   "source": [
    "# test_data 확인\n",
    "test_data.head(2)"
   ]
  },
  {
   "cell_type": "code",
   "execution_count": 18,
   "metadata": {},
   "outputs": [
    {
     "data": {
      "text/plain": [
       "(14611, 2)"
      ]
     },
     "execution_count": 18,
     "metadata": {},
     "output_type": "execute_result"
    }
   ],
   "source": [
    "# test_data shape 확인\n",
    "test_data.shape"
   ]
  },
  {
   "cell_type": "markdown",
   "metadata": {},
   "source": [
    "## 5. 데이터 전처리"
   ]
  },
  {
   "cell_type": "markdown",
   "metadata": {},
   "source": [
    "### 5-1. train_data"
   ]
  },
  {
   "cell_type": "markdown",
   "metadata": {},
   "source": [
    "- 한글, 영어, 숫자, 한자 이외의 문자열 제거"
   ]
  },
  {
   "cell_type": "code",
   "execution_count": 19,
   "metadata": {},
   "outputs": [],
   "source": [
    "train_data[\"title\"] = train_data[\"title\"].str.replace(\"[^ㄱ-ㅎㅏ-ㅣ가-힣|A-Za-z|一-龥 ]\", \"\")"
   ]
  },
  {
   "cell_type": "markdown",
   "metadata": {},
   "source": [
    "- 한자가 들어간 데이터 확인"
   ]
  },
  {
   "cell_type": "code",
   "execution_count": 21,
   "metadata": {},
   "outputs": [],
   "source": [
    "from collections import Counter"
   ]
  },
  {
   "cell_type": "code",
   "execution_count": 23,
   "metadata": {},
   "outputs": [],
   "source": [
    "train_hanja_data = train_data.copy()"
   ]
  },
  {
   "cell_type": "code",
   "execution_count": 26,
   "metadata": {},
   "outputs": [
    {
     "data": {
      "text/plain": [
       "[('美', 2140), ('中', 1906), ('車', 1372), ('日', 1086), ('韓', 970)]"
      ]
     },
     "execution_count": 26,
     "metadata": {},
     "output_type": "execute_result"
    }
   ],
   "source": [
    "pattern = re.compile('[一-龥]')\n",
    "# 한자 리스트 확인\n",
    "hanja_list = train_hanja_data[\"title\"].str.findall(pattern).sum()\n",
    "# 빈도수가 높은 한자 체크\n",
    "Counter(hanja_list).most_common()[:5]"
   ]
  },
  {
   "cell_type": "code",
   "execution_count": 27,
   "metadata": {},
   "outputs": [
    {
     "name": "stdout",
     "output_type": "stream",
     "text": [
      "['日', '兆', '中', '比', '文', '英', '美', '韓', '車', '式', '發', '弗', '硏', '稅', '證', '電', '株', '市', '社', '對', '與', '種', '裝', '新', '行', '弱', '上', '企', '外', '人', '臺', '靑', '後', '月', '尹', '協', '來', '三', '佛', '說', '功', '好', '街', '華', '高', '無', '談', '勝', '委', '路', '乙', '非', '獨', '産', '論', '超', '銀', '自', '害', '戰', '益', '多', '大', '事', '萬', '現', '星', '年', '油', '化', '問', '脫', '王', '全', '經', '故', '用', '喜', '悲', '價', '石', '癌', '訪', '伊', '向', '政', '昌', '前', '號', '甲', '亞', '和', '重', '內', '强', '曰', '火', '敵', '賞', '北', '次', '純', '水', '克', '低', '有', '面', '光', '錢', '異', '風', '會', '孝', '氣', '名', '家', '訴', '神', '母', '業', '設', '延', '枯', '死', '場', '印', '下', '民', '官', '辛', '力', '反', '史', '販', '禁', '週', '報', '國', '熱', '通', '者', '崔', '州', '色', '亂', '先', '學', '飛', '告', '燈', '投', '心', '逆', '苦', '富', '材', '道', '展', '恨', '輸', '選', '朴', '順', '塞', '翁', '之', '馬', '親', '格', '災', '共', '本', '檢', '守', '城', '他', '船', '鐵', '居', '安', '思', '危', '夢', '紙']\n"
     ]
    }
   ],
   "source": [
    "# 한자 중복값 제거 확인\n",
    "new_list = []\n",
    "for i in hanja_list:\n",
    "    if i not in new_list:\n",
    "        new_list.append(i)\n",
    "print(new_list)"
   ]
  },
  {
   "cell_type": "markdown",
   "metadata": {},
   "source": [
    "- `한자 -> 한글로 대체`\n",
    "    - 뉴스 제목에 사용되는 한자들은 의미를 축약한 한 글자로 구성된 한자가 많은 것으로 추측됨\n",
    "    - 한자 -> 한글로 단순 번역하는 방법을 시도"
   ]
  },
  {
   "cell_type": "code",
   "execution_count": 39,
   "metadata": {},
   "outputs": [],
   "source": [
    "train_data[\"title\"] = train_data[\"title\"].apply(lambda x: hanja.translate(x, \"substitution\"))"
   ]
  },
  {
   "cell_type": "code",
   "execution_count": 40,
   "metadata": {},
   "outputs": [
    {
     "data": {
      "text/html": [
       "<div>\n",
       "<style scoped>\n",
       "    .dataframe tbody tr th:only-of-type {\n",
       "        vertical-align: middle;\n",
       "    }\n",
       "\n",
       "    .dataframe tbody tr th {\n",
       "        vertical-align: top;\n",
       "    }\n",
       "\n",
       "    .dataframe thead th {\n",
       "        text-align: right;\n",
       "    }\n",
       "</style>\n",
       "<table border=\"1\" class=\"dataframe\">\n",
       "  <thead>\n",
       "    <tr style=\"text-align: right;\">\n",
       "      <th></th>\n",
       "      <th>date</th>\n",
       "      <th>title</th>\n",
       "    </tr>\n",
       "  </thead>\n",
       "  <tbody>\n",
       "    <tr>\n",
       "      <th>31086</th>\n",
       "      <td>20190711</td>\n",
       "      <td>일 수출규제는 한국 반도체 산업 견제 목적장기화 가능성</td>\n",
       "    </tr>\n",
       "    <tr>\n",
       "      <th>55800</th>\n",
       "      <td>20160610</td>\n",
       "      <td>해성디에스 자동차용 반도체 부품 생산에 무게안정적 성장 기대해볼만</td>\n",
       "    </tr>\n",
       "    <tr>\n",
       "      <th>51511</th>\n",
       "      <td>20170407</td>\n",
       "      <td>삼성전자 깜짝실적반도체 강세 지속S 출시 Q 더 기대</td>\n",
       "    </tr>\n",
       "  </tbody>\n",
       "</table>\n",
       "</div>"
      ],
      "text/plain": [
       "           date                                 title\n",
       "31086  20190711        일 수출규제는 한국 반도체 산업 견제 목적장기화 가능성\n",
       "55800  20160610  해성디에스 자동차용 반도체 부품 생산에 무게안정적 성장 기대해볼만\n",
       "51511  20170407         삼성전자 깜짝실적반도체 강세 지속S 출시 Q 더 기대"
      ]
     },
     "execution_count": 40,
     "metadata": {},
     "output_type": "execute_result"
    }
   ],
   "source": [
    "train_data.head(3)"
   ]
  },
  {
   "cell_type": "markdown",
   "metadata": {},
   "source": [
    "### 5-2. test_data"
   ]
  },
  {
   "cell_type": "markdown",
   "metadata": {},
   "source": [
    "- 한글, 영어, 숫자, 한자 이외의 문자열 제거"
   ]
  },
  {
   "cell_type": "code",
   "execution_count": 20,
   "metadata": {},
   "outputs": [],
   "source": [
    "test_data[\"title\"] = test_data[\"title\"].str.replace(\"[^ㄱ-ㅎㅏ-ㅣ가-힣|A-Za-z|一-龥 ]\", \"\")"
   ]
  },
  {
   "cell_type": "code",
   "execution_count": 29,
   "metadata": {},
   "outputs": [],
   "source": [
    "test_hanja_data = test_data.copy()"
   ]
  },
  {
   "cell_type": "code",
   "execution_count": 30,
   "metadata": {},
   "outputs": [
    {
     "data": {
      "text/plain": [
       "[('美', 649), ('中', 604), ('車', 449), ('日', 356), ('韓', 308)]"
      ]
     },
     "execution_count": 30,
     "metadata": {},
     "output_type": "execute_result"
    }
   ],
   "source": [
    "pattern = re.compile('[一-龥]')\n",
    "# 한자 리스트 확인\n",
    "hanja_list2 = test_hanja_data[\"title\"].str.findall(pattern).sum()\n",
    "# 빈도수가 높은 한자 체크\n",
    "Counter(hanja_list2).most_common()[:5]"
   ]
  },
  {
   "cell_type": "markdown",
   "metadata": {},
   "source": [
    "- 한자가 들어간 데이터 확인"
   ]
  },
  {
   "cell_type": "code",
   "execution_count": 31,
   "metadata": {},
   "outputs": [
    {
     "name": "stdout",
     "output_type": "stream",
     "text": [
      "['中', '車', '美', '兆', '日', '社', '外', '無', '株', '佛', '三', '電', '比', '尹', '證', '韓', '反', '企', '發', '臺', '結', '氣', '人', '來', '號', '硏', '新', '大', '獨', '好', '弗', '烹', '西', '安', '故', '民', '官', '文', '克', '亞', '價', '前', '對', '王', '月', '英', '委', '濠', '差', '毒', '公', '戰', '益', '難', '飛', '上', '非', '加', '行', '高', '市', '女', '風', '島', '場', '協', '年', '産', '學', '信', '全', '銀', '與', '光', '稅', '式', '亂', '檢', '力', '强', '靑', '甲', '軍', '法', '者', '洪', '脫', '談', '刮', '目', '相', '水', '國', '苦', '船', '位', '超', '多', '通', '順', '北', '弱', '課']\n"
     ]
    }
   ],
   "source": [
    "# 한자 중복값 제거 확인\n",
    "new_list = []\n",
    "for i in hanja_list2:\n",
    "    if i not in new_list:\n",
    "        new_list.append(i)\n",
    "print(new_list)"
   ]
  },
  {
   "cell_type": "markdown",
   "metadata": {},
   "source": [
    "- `한자 -> 한글로 대체`"
   ]
  },
  {
   "cell_type": "code",
   "execution_count": 41,
   "metadata": {},
   "outputs": [],
   "source": [
    "test_data[\"title\"] = test_data[\"title\"].apply(lambda x: hanja.translate(x, \"substitution\"))"
   ]
  },
  {
   "cell_type": "code",
   "execution_count": 43,
   "metadata": {},
   "outputs": [
    {
     "data": {
      "text/html": [
       "<div>\n",
       "<style scoped>\n",
       "    .dataframe tbody tr th:only-of-type {\n",
       "        vertical-align: middle;\n",
       "    }\n",
       "\n",
       "    .dataframe tbody tr th {\n",
       "        vertical-align: top;\n",
       "    }\n",
       "\n",
       "    .dataframe thead th {\n",
       "        text-align: right;\n",
       "    }\n",
       "</style>\n",
       "<table border=\"1\" class=\"dataframe\">\n",
       "  <thead>\n",
       "    <tr style=\"text-align: right;\">\n",
       "      <th></th>\n",
       "      <th>date</th>\n",
       "      <th>title</th>\n",
       "    </tr>\n",
       "  </thead>\n",
       "  <tbody>\n",
       "    <tr>\n",
       "      <th>3587</th>\n",
       "      <td>20211205</td>\n",
       "      <td>반도체 판 동학개미 중 전기차 공략한달새 억 사자</td>\n",
       "    </tr>\n",
       "    <tr>\n",
       "      <th>31538</th>\n",
       "      <td>20190703</td>\n",
       "      <td>대일 보복카드는 자동차 수입반도체 수출 규제맞불작전 고심</td>\n",
       "    </tr>\n",
       "    <tr>\n",
       "      <th>56144</th>\n",
       "      <td>20160502</td>\n",
       "      <td>특허청 반도체 설계기업 해외판로 개척 돕는다</td>\n",
       "    </tr>\n",
       "  </tbody>\n",
       "</table>\n",
       "</div>"
      ],
      "text/plain": [
       "           date                            title\n",
       "3587   20211205      반도체 판 동학개미 중 전기차 공략한달새 억 사자\n",
       "31538  20190703  대일 보복카드는 자동차 수입반도체 수출 규제맞불작전 고심\n",
       "56144  20160502         특허청 반도체 설계기업 해외판로 개척 돕는다"
      ]
     },
     "execution_count": 43,
     "metadata": {},
     "output_type": "execute_result"
    }
   ],
   "source": [
    "test_data.head(3)"
   ]
  }
 ],
 "metadata": {
  "interpreter": {
   "hash": "237dfbe96289c26a34bb3817ed9a5dda5a1f28f78dcc25894f58473fa7732fcf"
  },
  "kernelspec": {
   "display_name": "Python 3.8.8 64-bit",
   "language": "python",
   "name": "python3"
  },
  "language_info": {
   "codemirror_mode": {
    "name": "ipython",
    "version": 3
   },
   "file_extension": ".py",
   "mimetype": "text/x-python",
   "name": "python",
   "nbconvert_exporter": "python",
   "pygments_lexer": "ipython3",
   "version": "3.8.8"
  },
  "orig_nbformat": 4
 },
 "nbformat": 4,
 "nbformat_minor": 2
}
