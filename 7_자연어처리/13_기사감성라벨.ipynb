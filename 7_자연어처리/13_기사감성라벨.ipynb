{
 "cells": [
  {
   "cell_type": "code",
   "execution_count": 1,
   "metadata": {},
   "outputs": [],
   "source": [
    "import pandas as pd\n",
    "import numpy as np\n",
    "import matplotlib.pyplot as plt\n",
    "import seaborn as sns\n",
    "import warnings\n",
    "warnings.filterwarnings('ignore')\n",
    "import re"
   ]
  },
  {
   "cell_type": "code",
   "execution_count": 5,
   "metadata": {},
   "outputs": [
    {
     "data": {
      "text/html": [
       "<div>\n",
       "<style scoped>\n",
       "    .dataframe tbody tr th:only-of-type {\n",
       "        vertical-align: middle;\n",
       "    }\n",
       "\n",
       "    .dataframe tbody tr th {\n",
       "        vertical-align: top;\n",
       "    }\n",
       "\n",
       "    .dataframe thead th {\n",
       "        text-align: right;\n",
       "    }\n",
       "</style>\n",
       "<table border=\"1\" class=\"dataframe\">\n",
       "  <thead>\n",
       "    <tr style=\"text-align: right;\">\n",
       "      <th></th>\n",
       "      <th>date</th>\n",
       "      <th>일자</th>\n",
       "      <th>title</th>\n",
       "      <th>nouns</th>\n",
       "      <th>label</th>\n",
       "    </tr>\n",
       "  </thead>\n",
       "  <tbody>\n",
       "    <tr>\n",
       "      <th>0</th>\n",
       "      <td>2022-03-16</td>\n",
       "      <td>20220317</td>\n",
       "      <td>장덕현 삼성전기 사장 반도체 기판 SoS가 주도</td>\n",
       "      <td>장덕 현 삼성 전기 사장 반도체 판 주도</td>\n",
       "      <td>1</td>\n",
       "    </tr>\n",
       "    <tr>\n",
       "      <th>1</th>\n",
       "      <td>2022-03-16</td>\n",
       "      <td>20220317</td>\n",
       "      <td>대형 반도체 기업 주가 지나친 저평가저점 분할 매수</td>\n",
       "      <td>대형 반도체 기업 주가 평가 점 분할 매수</td>\n",
       "      <td>1</td>\n",
       "    </tr>\n",
       "    <tr>\n",
       "      <th>2</th>\n",
       "      <td>2022-03-16</td>\n",
       "      <td>20220317</td>\n",
       "      <td>대러 수입 막힌 품목 개반도체 부문 영향은 미미</td>\n",
       "      <td>수입 품목 개 반도체 부문 영향 미미</td>\n",
       "      <td>1</td>\n",
       "    </tr>\n",
       "  </tbody>\n",
       "</table>\n",
       "</div>"
      ],
      "text/plain": [
       "         date        일자                         title  \\\n",
       "0  2022-03-16  20220317    장덕현 삼성전기 사장 반도체 기판 SoS가 주도   \n",
       "1  2022-03-16  20220317  대형 반도체 기업 주가 지나친 저평가저점 분할 매수   \n",
       "2  2022-03-16  20220317    대러 수입 막힌 품목 개반도체 부문 영향은 미미   \n",
       "\n",
       "                     nouns  label  \n",
       "0   장덕 현 삼성 전기 사장 반도체 판 주도      1  \n",
       "1  대형 반도체 기업 주가 평가 점 분할 매수      1  \n",
       "2     수입 품목 개 반도체 부문 영향 미미      1  "
      ]
     },
     "execution_count": 5,
     "metadata": {},
     "output_type": "execute_result"
    }
   ],
   "source": [
    "news1 = pd.read_csv('../data/기사감성라벨/기사감성라벨/News덕산네오룩스.csv', encoding='euc-kr')\n",
    "news1.head(3)"
   ]
  },
  {
   "cell_type": "code",
   "execution_count": null,
   "metadata": {},
   "outputs": [],
   "source": [
    "# news1 = pd.read_csv('../data/기사감성라벨/기사감성라벨/News덕산네오룩스.csv', encoding='euc-kr')\n",
    "# news1 = pd.read_csv('../data/기사감성라벨/기사감성라벨/News덕산네오룩스.csv', encoding='euc-kr')\n",
    "# news1 = pd.read_csv('../data/기사감성라벨/기사감성라벨/News덕산네오룩스.csv', encoding='euc-kr')\n",
    "# news1 = pd.read_csv('../data/기사감성라벨/기사감성라벨/News덕산네오룩스.csv', encoding='euc-kr')\n",
    "# news1 = pd.read_csv('../data/기사감성라벨/기사감성라벨/News덕산네오룩스.csv', encoding='euc-kr')\n",
    "# news1 = pd.read_csv('../data/기사감성라벨/기사감성라벨/News덕산네오룩스.csv', encoding='euc-kr')\n",
    "# news1 = pd.read_csv('../data/기사감성라벨/기사감성라벨/News덕산네오룩스.csv', encoding='euc-kr')\n",
    "# news1 = pd.read_csv('../data/기사감성라벨/기사감성라벨/News덕산네오룩스.csv', encoding='euc-kr')\n",
    "# news1 = pd.read_csv('../data/기사감성라벨/기사감성라벨/News덕산네오룩스.csv', encoding='euc-kr')\n",
    "# news1 = pd.read_csv('../data/기사감성라벨/기사감성라벨/News덕산네오룩스.csv', encoding='euc-kr')\n",
    "# news1 = pd.read_csv('../data/기사감성라벨/기사감성라벨/News덕산네오룩스.csv', encoding='euc-kr')\n",
    "# news1 = pd.read_csv('../data/기사감성라벨/기사감성라벨/News덕산네오룩스.csv', encoding='euc-kr')\n",
    "# news1 = pd.read_csv('../data/기사감성라벨/기사감성라벨/News덕산네오룩스.csv', encoding='euc-kr')"
   ]
  }
 ],
 "metadata": {
  "interpreter": {
   "hash": "b3ba2566441a7c06988d0923437866b63cedc61552a5af99d1f4fb67d367b25f"
  },
  "kernelspec": {
   "display_name": "Python 3.8.8 ('base')",
   "language": "python",
   "name": "python3"
  },
  "language_info": {
   "codemirror_mode": {
    "name": "ipython",
    "version": 3
   },
   "file_extension": ".py",
   "mimetype": "text/x-python",
   "name": "python",
   "nbconvert_exporter": "python",
   "pygments_lexer": "ipython3",
   "version": "3.8.8"
  },
  "orig_nbformat": 4
 },
 "nbformat": 4,
 "nbformat_minor": 2
}
