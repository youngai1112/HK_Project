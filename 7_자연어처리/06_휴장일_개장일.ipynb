{
 "cells": [
  {
   "cell_type": "markdown",
   "metadata": {},
   "source": [
    "- exchange_calendars"
   ]
  },
  {
   "cell_type": "code",
   "execution_count": 3,
   "metadata": {},
   "outputs": [
    {
     "name": "stdout",
     "output_type": "stream",
     "text": [
      "Collecting timedelta\n",
      "  Using cached timedelta-2020.12.3.tar.gz (1.6 kB)\n",
      "  Preparing metadata (setup.py): started\n",
      "  Preparing metadata (setup.py): finished with status 'done'\n",
      "Building wheels for collected packages: timedelta\n",
      "  Building wheel for timedelta (setup.py): started\n",
      "  Building wheel for timedelta (setup.py): finished with status 'done'\n",
      "  Created wheel for timedelta: filename=timedelta-2020.12.3-py3-none-any.whl size=1603 sha256=1ca48949fd8ebaecb9116fb0c72d7f822d46c95d414fb5a0b957d476bfeea1ff\n",
      "  Stored in directory: c:\\users\\easya\\appdata\\local\\pip\\cache\\wheels\\0b\\9a\\39\\614edf72f37e354917a992c40bd518b99fc9e47b73fffdee02\n",
      "Successfully built timedelta\n",
      "Installing collected packages: timedelta\n",
      "Successfully installed timedelta-2020.12.3\n",
      "Note: you may need to restart the kernel to use updated packages.\n"
     ]
    }
   ],
   "source": [
    "# pip install timedelta"
   ]
  },
  {
   "cell_type": "code",
   "execution_count": 4,
   "metadata": {},
   "outputs": [
    {
     "name": "stdout",
     "output_type": "stream",
     "text": [
      "Collecting exchange_calendars\n",
      "  Using cached exchange_calendars-3.6.1.tar.gz (150 kB)\n",
      "  Preparing metadata (setup.py): started\n",
      "  Preparing metadata (setup.py): finished with status 'done'\n",
      "Requirement already satisfied: numpy in c:\\users\\easya\\anaconda3\\lib\\site-packages (from exchange_calendars) (1.20.3)\n",
      "Requirement already satisfied: pandas>=1.1 in c:\\users\\easya\\anaconda3\\lib\\site-packages (from exchange_calendars) (1.3.4)\n",
      "Collecting pyluach\n",
      "  Using cached pyluach-1.4.0-py3-none-any.whl (18 kB)\n",
      "Requirement already satisfied: python-dateutil in c:\\users\\easya\\anaconda3\\lib\\site-packages (from exchange_calendars) (2.8.2)\n",
      "Requirement already satisfied: pytz in c:\\users\\easya\\anaconda3\\lib\\site-packages (from exchange_calendars) (2021.3)\n",
      "Requirement already satisfied: toolz in c:\\users\\easya\\anaconda3\\lib\\site-packages (from exchange_calendars) (0.11.1)\n",
      "Collecting korean_lunar_calendar\n",
      "  Using cached korean_lunar_calendar-0.2.1-py3-none-any.whl (8.0 kB)\n",
      "Requirement already satisfied: six>=1.5 in c:\\users\\easya\\anaconda3\\lib\\site-packages (from python-dateutil->exchange_calendars) (1.16.0)\n",
      "Building wheels for collected packages: exchange_calendars\n",
      "  Building wheel for exchange_calendars (setup.py): started\n",
      "  Building wheel for exchange_calendars (setup.py): finished with status 'done'\n",
      "  Created wheel for exchange_calendars: filename=exchange_calendars-3.6.1-py3-none-any.whl size=180513 sha256=c76e3904c94455db34d80ecfdc9ef69a527ef5b81e8271a327b11bd368b27704\n",
      "  Stored in directory: c:\\users\\easya\\appdata\\local\\pip\\cache\\wheels\\44\\27\\1f\\15ae7b59a4045d97a93940ff9386f94ddcd05d4c40eb98a424\n",
      "Successfully built exchange_calendars\n",
      "Installing collected packages: korean_lunar_calendar, pyluach, exchange_calendars\n",
      "Successfully installed exchange_calendars-3.6.1 korean_lunar_calendar-0.2.1 pyluach-1.4.0\n",
      "Note: you may need to restart the kernel to use updated packages.\n"
     ]
    }
   ],
   "source": [
    "# pip install exchange_calendars"
   ]
  },
  {
   "cell_type": "code",
   "execution_count": 7,
   "metadata": {},
   "outputs": [],
   "source": [
    "import exchange_calendars as ecals\n",
    "import datetime\n",
    "import time\n",
    "import pandas as pd"
   ]
  },
  {
   "cell_type": "code",
   "execution_count": 8,
   "metadata": {},
   "outputs": [
    {
     "name": "stdout",
     "output_type": "stream",
     "text": [
      "2021-01-01 개장 확인:  False\n",
      "오늘날짜 개장일 확인:  False\n",
      "다음 개장일 날짜 확인:  2022-03-21 00:00:00+00:00\n"
     ]
    }
   ],
   "source": [
    "# 한국코드\n",
    "XKRX = ecals.get_calendar(\"XKRX\")       \n",
    "# 2021-01-01은 개장일인지 확인\n",
    "print(\"2021-01-01 개장 확인: \", XKRX.is_session('2021-01-01'))    \n",
    "# 오늘(22-03-19)은 개장일인지 확인\n",
    "print(\"오늘날짜 개장일 확인: \", XKRX.is_session(datetime.date.today().strftime('%Y-%m-%d')))  \n",
    "# 다음 개장일은 언제인지 확인\n",
    "print(\"다음 개장일 날짜 확인: \", XKRX.next_open(pd.Timestamp.today().strftime('%Y-%m-%d')))"
   ]
  },
  {
   "cell_type": "markdown",
   "metadata": {},
   "source": [
    "- holidays"
   ]
  },
  {
   "cell_type": "code",
   "execution_count": 10,
   "metadata": {},
   "outputs": [
    {
     "name": "stdout",
     "output_type": "stream",
     "text": [
      "Collecting holidays\n",
      "  Downloading holidays-0.13-py3-none-any.whl (172 kB)\n",
      "     -------------------------------------- 172.1/172.1 KB 3.4 MB/s eta 0:00:00\n",
      "Collecting convertdate>=2.3.0\n",
      "  Downloading convertdate-2.4.0-py3-none-any.whl (47 kB)\n",
      "     ---------------------------------------- 47.9/47.9 KB 2.5 MB/s eta 0:00:00\n",
      "Requirement already satisfied: python-dateutil in c:\\users\\easya\\anaconda3\\lib\\site-packages (from holidays) (2.8.2)\n",
      "Collecting hijri-converter\n",
      "  Downloading hijri_converter-2.2.3-py3-none-any.whl (14 kB)\n",
      "Requirement already satisfied: korean-lunar-calendar in c:\\users\\easya\\anaconda3\\lib\\site-packages (from holidays) (0.2.1)\n",
      "Collecting pymeeus<=1,>=0.3.13\n",
      "  Downloading PyMeeus-0.5.11.tar.gz (5.4 MB)\n",
      "     ---------------------------------------- 5.4/5.4 MB 3.3 MB/s eta 0:00:00\n",
      "  Preparing metadata (setup.py): started\n",
      "  Preparing metadata (setup.py): finished with status 'done'\n",
      "Requirement already satisfied: six>=1.5 in c:\\users\\easya\\anaconda3\\lib\\site-packages (from python-dateutil->holidays) (1.16.0)\n",
      "Building wheels for collected packages: pymeeus\n",
      "  Building wheel for pymeeus (setup.py): started\n",
      "  Building wheel for pymeeus (setup.py): finished with status 'done'\n",
      "  Created wheel for pymeeus: filename=PyMeeus-0.5.11-py3-none-any.whl size=730984 sha256=1324bef909e06fc854b5ef9c889fe008d73b29f3ca149d9cca925e3505bd3253\n",
      "  Stored in directory: c:\\users\\easya\\appdata\\local\\pip\\cache\\wheels\\33\\3d\\82\\4579e9cca41ff991140b2e050bc6df3a38292f26e4fa06b15d\n",
      "Successfully built pymeeus\n",
      "Installing collected packages: pymeeus, hijri-converter, convertdate, holidays\n",
      "Successfully installed convertdate-2.4.0 hijri-converter-2.2.3 holidays-0.13 pymeeus-0.5.11\n",
      "Note: you may need to restart the kernel to use updated packages.\n"
     ]
    }
   ],
   "source": [
    "# pip install holidays"
   ]
  },
  {
   "cell_type": "code",
   "execution_count": 20,
   "metadata": {},
   "outputs": [],
   "source": [
    "import holidays"
   ]
  },
  {
   "cell_type": "code",
   "execution_count": 21,
   "metadata": {},
   "outputs": [
    {
     "data": {
      "text/plain": [
       "\"New Year's Day\""
      ]
     },
     "execution_count": 21,
     "metadata": {},
     "output_type": "execute_result"
    }
   ],
   "source": [
    "kor_holidays = holidays.KOR()\n",
    "kor_holidays.get('2021-01-01')"
   ]
  },
  {
   "cell_type": "markdown",
   "metadata": {},
   "source": [
    "## 2022-03-19 18:24 이후 Plan\n",
    "1. 데이터 확인\n",
    "- `exchange_calendars`와 `holidays` 라이브러리\n",
    "- 휴장일 데이터(`closedate_all.csv`)\n",
    "2. 라이브러리와 데이터 매칭 -> 일치하는지 확인 \n",
    "    - 관련 자료 찾기\n",
    "    - 라이브러리 사용이 가능하다면\n",
    "        - 어떻게 newsdata와 연관지을지 고민"
   ]
  },
  {
   "cell_type": "markdown",
   "metadata": {},
   "source": [
    "---"
   ]
  },
  {
   "cell_type": "markdown",
   "metadata": {},
   "source": [
    "### 1. 휴장일 데이터 불러오기"
   ]
  },
  {
   "cell_type": "code",
   "execution_count": 25,
   "metadata": {},
   "outputs": [
    {
     "data": {
      "text/html": [
       "<div>\n",
       "<style scoped>\n",
       "    .dataframe tbody tr th:only-of-type {\n",
       "        vertical-align: middle;\n",
       "    }\n",
       "\n",
       "    .dataframe tbody tr th {\n",
       "        vertical-align: top;\n",
       "    }\n",
       "\n",
       "    .dataframe thead th {\n",
       "        text-align: right;\n",
       "    }\n",
       "</style>\n",
       "<table border=\"1\" class=\"dataframe\">\n",
       "  <thead>\n",
       "    <tr style=\"text-align: right;\">\n",
       "      <th></th>\n",
       "      <th>Unnamed: 0</th>\n",
       "      <th>일자 및 요일</th>\n",
       "      <th>요일구분</th>\n",
       "      <th>비고</th>\n",
       "    </tr>\n",
       "  </thead>\n",
       "  <tbody>\n",
       "    <tr>\n",
       "      <th>0</th>\n",
       "      <td>0</td>\n",
       "      <td>2015-01-01</td>\n",
       "      <td>목요일</td>\n",
       "      <td>신정</td>\n",
       "    </tr>\n",
       "    <tr>\n",
       "      <th>1</th>\n",
       "      <td>1</td>\n",
       "      <td>2015-02-18</td>\n",
       "      <td>수요일</td>\n",
       "      <td>설날</td>\n",
       "    </tr>\n",
       "    <tr>\n",
       "      <th>2</th>\n",
       "      <td>2</td>\n",
       "      <td>2015-02-19</td>\n",
       "      <td>목요일</td>\n",
       "      <td>설날</td>\n",
       "    </tr>\n",
       "    <tr>\n",
       "      <th>3</th>\n",
       "      <td>3</td>\n",
       "      <td>2015-02-20</td>\n",
       "      <td>금요일</td>\n",
       "      <td>설날</td>\n",
       "    </tr>\n",
       "    <tr>\n",
       "      <th>4</th>\n",
       "      <td>4</td>\n",
       "      <td>2015-05-01</td>\n",
       "      <td>금요일</td>\n",
       "      <td>근로자의날</td>\n",
       "    </tr>\n",
       "    <tr>\n",
       "      <th>...</th>\n",
       "      <td>...</td>\n",
       "      <td>...</td>\n",
       "      <td>...</td>\n",
       "      <td>...</td>\n",
       "    </tr>\n",
       "    <tr>\n",
       "      <th>99</th>\n",
       "      <td>99</td>\n",
       "      <td>2021-09-21</td>\n",
       "      <td>화요일</td>\n",
       "      <td>추석</td>\n",
       "    </tr>\n",
       "    <tr>\n",
       "      <th>100</th>\n",
       "      <td>100</td>\n",
       "      <td>2021-09-22</td>\n",
       "      <td>수요일</td>\n",
       "      <td>추석</td>\n",
       "    </tr>\n",
       "    <tr>\n",
       "      <th>101</th>\n",
       "      <td>101</td>\n",
       "      <td>2021-10-04</td>\n",
       "      <td>월요일</td>\n",
       "      <td>개천절(대체휴일)</td>\n",
       "    </tr>\n",
       "    <tr>\n",
       "      <th>102</th>\n",
       "      <td>102</td>\n",
       "      <td>2021-10-11</td>\n",
       "      <td>월요일</td>\n",
       "      <td>한글날(대체휴일)</td>\n",
       "    </tr>\n",
       "    <tr>\n",
       "      <th>103</th>\n",
       "      <td>103</td>\n",
       "      <td>2021-12-31</td>\n",
       "      <td>금요일</td>\n",
       "      <td>연말휴장일</td>\n",
       "    </tr>\n",
       "  </tbody>\n",
       "</table>\n",
       "<p>104 rows × 4 columns</p>\n",
       "</div>"
      ],
      "text/plain": [
       "     Unnamed: 0     일자 및 요일    요일구분         비고\n",
       "0             0  2015-01-01  목요일            신정\n",
       "1             1  2015-02-18  수요일            설날\n",
       "2             2  2015-02-19  목요일            설날\n",
       "3             3  2015-02-20  금요일            설날\n",
       "4             4  2015-05-01  금요일         근로자의날\n",
       "..          ...         ...     ...        ...\n",
       "99           99  2021-09-21  화요일            추석\n",
       "100         100  2021-09-22  수요일            추석\n",
       "101         101  2021-10-04  월요일     개천절(대체휴일)\n",
       "102         102  2021-10-11  월요일     한글날(대체휴일)\n",
       "103         103  2021-12-31  금요일         연말휴장일\n",
       "\n",
       "[104 rows x 4 columns]"
      ]
     },
     "execution_count": 25,
     "metadata": {},
     "output_type": "execute_result"
    }
   ],
   "source": [
    "closedate_all = pd.read_csv('../data/closedate_all.csv')\n",
    "closedate_all"
   ]
  },
  {
   "cell_type": "code",
   "execution_count": 26,
   "metadata": {},
   "outputs": [
    {
     "data": {
      "text/html": [
       "<div>\n",
       "<style scoped>\n",
       "    .dataframe tbody tr th:only-of-type {\n",
       "        vertical-align: middle;\n",
       "    }\n",
       "\n",
       "    .dataframe tbody tr th {\n",
       "        vertical-align: top;\n",
       "    }\n",
       "\n",
       "    .dataframe thead th {\n",
       "        text-align: right;\n",
       "    }\n",
       "</style>\n",
       "<table border=\"1\" class=\"dataframe\">\n",
       "  <thead>\n",
       "    <tr style=\"text-align: right;\">\n",
       "      <th></th>\n",
       "      <th>일자 및 요일</th>\n",
       "    </tr>\n",
       "  </thead>\n",
       "  <tbody>\n",
       "    <tr>\n",
       "      <th>0</th>\n",
       "      <td>2015-01-01</td>\n",
       "    </tr>\n",
       "    <tr>\n",
       "      <th>1</th>\n",
       "      <td>2015-02-18</td>\n",
       "    </tr>\n",
       "    <tr>\n",
       "      <th>2</th>\n",
       "      <td>2015-02-19</td>\n",
       "    </tr>\n",
       "    <tr>\n",
       "      <th>3</th>\n",
       "      <td>2015-02-20</td>\n",
       "    </tr>\n",
       "    <tr>\n",
       "      <th>4</th>\n",
       "      <td>2015-05-01</td>\n",
       "    </tr>\n",
       "    <tr>\n",
       "      <th>...</th>\n",
       "      <td>...</td>\n",
       "    </tr>\n",
       "    <tr>\n",
       "      <th>99</th>\n",
       "      <td>2021-09-21</td>\n",
       "    </tr>\n",
       "    <tr>\n",
       "      <th>100</th>\n",
       "      <td>2021-09-22</td>\n",
       "    </tr>\n",
       "    <tr>\n",
       "      <th>101</th>\n",
       "      <td>2021-10-04</td>\n",
       "    </tr>\n",
       "    <tr>\n",
       "      <th>102</th>\n",
       "      <td>2021-10-11</td>\n",
       "    </tr>\n",
       "    <tr>\n",
       "      <th>103</th>\n",
       "      <td>2021-12-31</td>\n",
       "    </tr>\n",
       "  </tbody>\n",
       "</table>\n",
       "<p>104 rows × 1 columns</p>\n",
       "</div>"
      ],
      "text/plain": [
       "        일자 및 요일\n",
       "0    2015-01-01\n",
       "1    2015-02-18\n",
       "2    2015-02-19\n",
       "3    2015-02-20\n",
       "4    2015-05-01\n",
       "..          ...\n",
       "99   2021-09-21\n",
       "100  2021-09-22\n",
       "101  2021-10-04\n",
       "102  2021-10-11\n",
       "103  2021-12-31\n",
       "\n",
       "[104 rows x 1 columns]"
      ]
     },
     "execution_count": 26,
     "metadata": {},
     "output_type": "execute_result"
    }
   ],
   "source": [
    "closedate_all = closedate_all[['일자 및 요일']]\n",
    "closedate_all"
   ]
  },
  {
   "cell_type": "code",
   "execution_count": 28,
   "metadata": {},
   "outputs": [
    {
     "name": "stdout",
     "output_type": "stream",
     "text": [
      "<class 'pandas.core.frame.DataFrame'>\n",
      "RangeIndex: 104 entries, 0 to 103\n",
      "Data columns (total 1 columns):\n",
      " #   Column   Non-Null Count  Dtype \n",
      "---  ------   --------------  ----- \n",
      " 0   일자 및 요일  104 non-null    object\n",
      "dtypes: object(1)\n",
      "memory usage: 960.0+ bytes\n"
     ]
    }
   ],
   "source": [
    "closedate_all.info()"
   ]
  },
  {
   "cell_type": "markdown",
   "metadata": {},
   "source": [
    "- datetime으로 type 변환"
   ]
  },
  {
   "cell_type": "code",
   "execution_count": 29,
   "metadata": {},
   "outputs": [
    {
     "name": "stdout",
     "output_type": "stream",
     "text": [
      "<class 'pandas.core.frame.DataFrame'>\n",
      "RangeIndex: 104 entries, 0 to 103\n",
      "Data columns (total 1 columns):\n",
      " #   Column   Non-Null Count  Dtype \n",
      "---  ------   --------------  ----- \n",
      " 0   일자 및 요일  104 non-null    string\n",
      "dtypes: string(1)\n",
      "memory usage: 960.0 bytes\n"
     ]
    }
   ],
   "source": [
    "closedate_all = closedate_all.astype({'일자 및 요일':'string'})\n",
    "closedate_all.info()"
   ]
  },
  {
   "cell_type": "code",
   "execution_count": 30,
   "metadata": {},
   "outputs": [
    {
     "name": "stdout",
     "output_type": "stream",
     "text": [
      "<class 'pandas.core.frame.DataFrame'>\n",
      "RangeIndex: 104 entries, 0 to 103\n",
      "Data columns (total 1 columns):\n",
      " #   Column   Non-Null Count  Dtype         \n",
      "---  ------   --------------  -----         \n",
      " 0   일자 및 요일  104 non-null    datetime64[ns]\n",
      "dtypes: datetime64[ns](1)\n",
      "memory usage: 960.0 bytes\n"
     ]
    }
   ],
   "source": [
    "closedate_all['일자 및 요일'] = pd.to_datetime(closedate_all['일자 및 요일'])\n",
    "closedate_all.info()"
   ]
  },
  {
   "cell_type": "markdown",
   "metadata": {},
   "source": [
    "- 리스트로 변환"
   ]
  },
  {
   "cell_type": "code",
   "execution_count": 33,
   "metadata": {},
   "outputs": [
    {
     "data": {
      "text/plain": [
       "0     2015-01-01\n",
       "1     2015-02-18\n",
       "2     2015-02-19\n",
       "3     2015-02-20\n",
       "4     2015-05-01\n",
       "         ...    \n",
       "99    2021-09-21\n",
       "100   2021-09-22\n",
       "101   2021-10-04\n",
       "102   2021-10-11\n",
       "103   2021-12-31\n",
       "Name: 일자 및 요일, Length: 104, dtype: datetime64[ns]"
      ]
     },
     "execution_count": 33,
     "metadata": {},
     "output_type": "execute_result"
    }
   ],
   "source": [
    "closedate_all['일자 및 요일']"
   ]
  },
  {
   "cell_type": "code",
   "execution_count": 41,
   "metadata": {},
   "outputs": [
    {
     "data": {
      "text/plain": [
       "[Timestamp('2015-01-01 00:00:00'),\n",
       " Timestamp('2015-02-18 00:00:00'),\n",
       " Timestamp('2015-02-19 00:00:00'),\n",
       " Timestamp('2015-02-20 00:00:00'),\n",
       " Timestamp('2015-05-01 00:00:00')]"
      ]
     },
     "execution_count": 41,
     "metadata": {},
     "output_type": "execute_result"
    }
   ],
   "source": [
    "closedate_list = closedate_all['일자 및 요일'].to_list()\n",
    "closedate_list[:5]"
   ]
  },
  {
   "cell_type": "code",
   "execution_count": 46,
   "metadata": {},
   "outputs": [
    {
     "data": {
      "text/plain": [
       "Timestamp('2015-01-01 00:00:00')"
      ]
     },
     "execution_count": 46,
     "metadata": {},
     "output_type": "execute_result"
    }
   ],
   "source": [
    "closedate_list[0]"
   ]
  },
  {
   "cell_type": "code",
   "execution_count": 51,
   "metadata": {},
   "outputs": [
    {
     "name": "stdout",
     "output_type": "stream",
     "text": [
      "closedate_list의 type:  <class 'pandas._libs.tslibs.timestamps.Timestamp'>\n"
     ]
    }
   ],
   "source": [
    "# type 확인\n",
    "print('closedate_list의 type: ', type(closedate_list[0]))"
   ]
  },
  {
   "cell_type": "markdown",
   "metadata": {},
   "source": [
    "#### plan\n",
    "\n",
    "<pre>\n",
    "XKRX = ecals.get_calendar(\"XKRX\")       \n",
    "print(\"2021-01-01 개장 확인: \", XKRX.is_session('2021-01-01'))    \n",
    "print(\"오늘날짜 개장일 확인: \", XKRX.is_session(datetime.date.today().strftime('%Y-%m-%d')))  \n",
    "print(\"다음 개장일 날짜 확인: \", XKRX.next_open(pd.Timestamp.today().strftime('%Y-%m-%d')))\n",
    "</pre>\n",
    "\n",
    "1. pandas datetime 이용 > 2015 ~ 2022 년도의 년/월/일/요일 데이터를 불러옴 \n",
    "    - DataFrame으로 저장\n",
    "2. closedate_all에서 for문 사용 > ecals에서 개장 True/False 확인 (False가 나오면 그대로 진행)\n",
    "    - 리스트로 추출해서 DataFrame으로 저장\n",
    "3. `1.`과 `2.`를 병합해서 최종 개장일 데이터 생성\n",
    "4. newsdata와 최종 개장일 데이터를 연관시키는 방법 고민"
   ]
  },
  {
   "cell_type": "code",
   "execution_count": 53,
   "metadata": {},
   "outputs": [
    {
     "data": {
      "text/plain": [
       "False"
      ]
     },
     "execution_count": 53,
     "metadata": {},
     "output_type": "execute_result"
    }
   ],
   "source": [
    "# 데이터 선택 > 개장 유무 확인 : `False가 나오면 진행`\n",
    "XKRX.is_session(closedate_list[0])"
   ]
  },
  {
   "cell_type": "code",
   "execution_count": null,
   "metadata": {},
   "outputs": [],
   "source": []
  }
 ],
 "metadata": {
  "interpreter": {
   "hash": "b4de07979727471d795a93e041e8180caefe45faf2e58134adac0ec04a58112e"
  },
  "kernelspec": {
   "display_name": "Python 3.9.7 ('base')",
   "language": "python",
   "name": "python3"
  },
  "language_info": {
   "codemirror_mode": {
    "name": "ipython",
    "version": 3
   },
   "file_extension": ".py",
   "mimetype": "text/x-python",
   "name": "python",
   "nbconvert_exporter": "python",
   "pygments_lexer": "ipython3",
   "version": "3.9.7"
  },
  "orig_nbformat": 4
 },
 "nbformat": 4,
 "nbformat_minor": 2
}
