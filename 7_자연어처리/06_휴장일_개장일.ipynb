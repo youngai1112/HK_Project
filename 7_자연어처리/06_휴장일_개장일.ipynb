{
 "cells": [
  {
   "cell_type": "markdown",
   "metadata": {},
   "source": [
    "- exchange_calendars"
   ]
  },
  {
   "cell_type": "code",
   "execution_count": 3,
   "metadata": {},
   "outputs": [
    {
     "name": "stdout",
     "output_type": "stream",
     "text": [
      "Collecting timedelta\n",
      "  Using cached timedelta-2020.12.3.tar.gz (1.6 kB)\n",
      "  Preparing metadata (setup.py): started\n",
      "  Preparing metadata (setup.py): finished with status 'done'\n",
      "Building wheels for collected packages: timedelta\n",
      "  Building wheel for timedelta (setup.py): started\n",
      "  Building wheel for timedelta (setup.py): finished with status 'done'\n",
      "  Created wheel for timedelta: filename=timedelta-2020.12.3-py3-none-any.whl size=1603 sha256=1ca48949fd8ebaecb9116fb0c72d7f822d46c95d414fb5a0b957d476bfeea1ff\n",
      "  Stored in directory: c:\\users\\easya\\appdata\\local\\pip\\cache\\wheels\\0b\\9a\\39\\614edf72f37e354917a992c40bd518b99fc9e47b73fffdee02\n",
      "Successfully built timedelta\n",
      "Installing collected packages: timedelta\n",
      "Successfully installed timedelta-2020.12.3\n",
      "Note: you may need to restart the kernel to use updated packages.\n"
     ]
    }
   ],
   "source": [
    "# pip install timedelta"
   ]
  },
  {
   "cell_type": "code",
   "execution_count": 4,
   "metadata": {},
   "outputs": [
    {
     "name": "stdout",
     "output_type": "stream",
     "text": [
      "Collecting exchange_calendars\n",
      "  Using cached exchange_calendars-3.6.1.tar.gz (150 kB)\n",
      "  Preparing metadata (setup.py): started\n",
      "  Preparing metadata (setup.py): finished with status 'done'\n",
      "Requirement already satisfied: numpy in c:\\users\\easya\\anaconda3\\lib\\site-packages (from exchange_calendars) (1.20.3)\n",
      "Requirement already satisfied: pandas>=1.1 in c:\\users\\easya\\anaconda3\\lib\\site-packages (from exchange_calendars) (1.3.4)\n",
      "Collecting pyluach\n",
      "  Using cached pyluach-1.4.0-py3-none-any.whl (18 kB)\n",
      "Requirement already satisfied: python-dateutil in c:\\users\\easya\\anaconda3\\lib\\site-packages (from exchange_calendars) (2.8.2)\n",
      "Requirement already satisfied: pytz in c:\\users\\easya\\anaconda3\\lib\\site-packages (from exchange_calendars) (2021.3)\n",
      "Requirement already satisfied: toolz in c:\\users\\easya\\anaconda3\\lib\\site-packages (from exchange_calendars) (0.11.1)\n",
      "Collecting korean_lunar_calendar\n",
      "  Using cached korean_lunar_calendar-0.2.1-py3-none-any.whl (8.0 kB)\n",
      "Requirement already satisfied: six>=1.5 in c:\\users\\easya\\anaconda3\\lib\\site-packages (from python-dateutil->exchange_calendars) (1.16.0)\n",
      "Building wheels for collected packages: exchange_calendars\n",
      "  Building wheel for exchange_calendars (setup.py): started\n",
      "  Building wheel for exchange_calendars (setup.py): finished with status 'done'\n",
      "  Created wheel for exchange_calendars: filename=exchange_calendars-3.6.1-py3-none-any.whl size=180513 sha256=c76e3904c94455db34d80ecfdc9ef69a527ef5b81e8271a327b11bd368b27704\n",
      "  Stored in directory: c:\\users\\easya\\appdata\\local\\pip\\cache\\wheels\\44\\27\\1f\\15ae7b59a4045d97a93940ff9386f94ddcd05d4c40eb98a424\n",
      "Successfully built exchange_calendars\n",
      "Installing collected packages: korean_lunar_calendar, pyluach, exchange_calendars\n",
      "Successfully installed exchange_calendars-3.6.1 korean_lunar_calendar-0.2.1 pyluach-1.4.0\n",
      "Note: you may need to restart the kernel to use updated packages.\n"
     ]
    }
   ],
   "source": [
    "# pip install exchange_calendars"
   ]
  },
  {
   "cell_type": "code",
   "execution_count": 7,
   "metadata": {},
   "outputs": [],
   "source": [
    "import exchange_calendars as ecals\n",
    "import datetime\n",
    "import time\n",
    "import pandas as pd"
   ]
  },
  {
   "cell_type": "code",
   "execution_count": 8,
   "metadata": {},
   "outputs": [
    {
     "name": "stdout",
     "output_type": "stream",
     "text": [
      "2021-01-01 개장 확인:  False\n",
      "오늘날짜 개장일 확인:  False\n",
      "다음 개장일 날짜 확인:  2022-03-21 00:00:00+00:00\n"
     ]
    }
   ],
   "source": [
    "# 한국코드\n",
    "XKRX = ecals.get_calendar(\"XKRX\")       \n",
    "# 2021-01-01은 개장일인지 확인\n",
    "print(\"2021-01-01 개장 확인: \", XKRX.is_session('2021-01-01'))    \n",
    "# 오늘(22-03-19)은 개장일인지 확인\n",
    "print(\"오늘날짜 개장일 확인: \", XKRX.is_session(datetime.date.today().strftime('%Y-%m-%d')))  \n",
    "# 다음 개장일은 언제인지 확인\n",
    "print(\"다음 개장일 날짜 확인: \", XKRX.next_open(pd.Timestamp.today().strftime('%Y-%m-%d')))"
   ]
  },
  {
   "cell_type": "markdown",
   "metadata": {},
   "source": [
    "- holidays"
   ]
  },
  {
   "cell_type": "code",
   "execution_count": 10,
   "metadata": {},
   "outputs": [
    {
     "name": "stdout",
     "output_type": "stream",
     "text": [
      "Collecting holidays\n",
      "  Downloading holidays-0.13-py3-none-any.whl (172 kB)\n",
      "     -------------------------------------- 172.1/172.1 KB 3.4 MB/s eta 0:00:00\n",
      "Collecting convertdate>=2.3.0\n",
      "  Downloading convertdate-2.4.0-py3-none-any.whl (47 kB)\n",
      "     ---------------------------------------- 47.9/47.9 KB 2.5 MB/s eta 0:00:00\n",
      "Requirement already satisfied: python-dateutil in c:\\users\\easya\\anaconda3\\lib\\site-packages (from holidays) (2.8.2)\n",
      "Collecting hijri-converter\n",
      "  Downloading hijri_converter-2.2.3-py3-none-any.whl (14 kB)\n",
      "Requirement already satisfied: korean-lunar-calendar in c:\\users\\easya\\anaconda3\\lib\\site-packages (from holidays) (0.2.1)\n",
      "Collecting pymeeus<=1,>=0.3.13\n",
      "  Downloading PyMeeus-0.5.11.tar.gz (5.4 MB)\n",
      "     ---------------------------------------- 5.4/5.4 MB 3.3 MB/s eta 0:00:00\n",
      "  Preparing metadata (setup.py): started\n",
      "  Preparing metadata (setup.py): finished with status 'done'\n",
      "Requirement already satisfied: six>=1.5 in c:\\users\\easya\\anaconda3\\lib\\site-packages (from python-dateutil->holidays) (1.16.0)\n",
      "Building wheels for collected packages: pymeeus\n",
      "  Building wheel for pymeeus (setup.py): started\n",
      "  Building wheel for pymeeus (setup.py): finished with status 'done'\n",
      "  Created wheel for pymeeus: filename=PyMeeus-0.5.11-py3-none-any.whl size=730984 sha256=1324bef909e06fc854b5ef9c889fe008d73b29f3ca149d9cca925e3505bd3253\n",
      "  Stored in directory: c:\\users\\easya\\appdata\\local\\pip\\cache\\wheels\\33\\3d\\82\\4579e9cca41ff991140b2e050bc6df3a38292f26e4fa06b15d\n",
      "Successfully built pymeeus\n",
      "Installing collected packages: pymeeus, hijri-converter, convertdate, holidays\n",
      "Successfully installed convertdate-2.4.0 hijri-converter-2.2.3 holidays-0.13 pymeeus-0.5.11\n",
      "Note: you may need to restart the kernel to use updated packages.\n"
     ]
    }
   ],
   "source": [
    "# pip install holidays"
   ]
  },
  {
   "cell_type": "code",
   "execution_count": 20,
   "metadata": {},
   "outputs": [],
   "source": [
    "import holidays"
   ]
  },
  {
   "cell_type": "code",
   "execution_count": 21,
   "metadata": {},
   "outputs": [
    {
     "data": {
      "text/plain": [
       "\"New Year's Day\""
      ]
     },
     "execution_count": 21,
     "metadata": {},
     "output_type": "execute_result"
    }
   ],
   "source": [
    "kor_holidays = holidays.KOR()\n",
    "kor_holidays.get('2021-01-01')"
   ]
  },
  {
   "cell_type": "markdown",
   "metadata": {},
   "source": [
    "## 2022-03-19 18:24 이후 Plan\n",
    "1. 데이터 확인\n",
    "- `exchange_calendars`와 `holidays` 라이브러리\n",
    "- 휴장일 데이터(`closedate_all.csv`)\n",
    "2. 라이브러리와 데이터 매칭 -> 일치하는지 확인 \n",
    "    - 관련 자료 찾기\n",
    "    - 라이브러리 사용이 가능하다면\n",
    "        - 어떻게 newsdata와 연관지을지 고민"
   ]
  },
  {
   "cell_type": "markdown",
   "metadata": {},
   "source": []
  }
 ],
 "metadata": {
  "interpreter": {
   "hash": "b4de07979727471d795a93e041e8180caefe45faf2e58134adac0ec04a58112e"
  },
  "kernelspec": {
   "display_name": "Python 3.9.7 ('base')",
   "language": "python",
   "name": "python3"
  },
  "language_info": {
   "codemirror_mode": {
    "name": "ipython",
    "version": 3
   },
   "file_extension": ".py",
   "mimetype": "text/x-python",
   "name": "python",
   "nbconvert_exporter": "python",
   "pygments_lexer": "ipython3",
   "version": "3.9.7"
  },
  "orig_nbformat": 4
 },
 "nbformat": 4,
 "nbformat_minor": 2
}
