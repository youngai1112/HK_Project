{
 "cells": [
  {
   "cell_type": "code",
   "execution_count": 3,
   "metadata": {},
   "outputs": [],
   "source": [
    "import pandas as pd\n",
    "import numpy as np\n",
    "import matplotlib.pyplot as plt\n",
    "import seaborn as sns\n",
    "import warnings\n",
    "warnings.filterwarnings('ignore')\n",
    "import re\n",
    "from konlpy.tag import Okt\n",
    "from tqdm import tqdm\n",
    "from tensorflow import keras\n",
    "import os"
   ]
  },
  {
   "cell_type": "markdown",
   "metadata": {},
   "source": [
    "## 1. 데이터 불러오기\n",
    "    - 1.1_뉴스데이터\n",
    "    - 1.2_개별 주가 데이터\n"
   ]
  },
  {
   "cell_type": "markdown",
   "metadata": {},
   "source": [
    "### 1.1_뉴스데이터"
   ]
  },
  {
   "cell_type": "code",
   "execution_count": 4,
   "metadata": {},
   "outputs": [
    {
     "data": {
      "text/html": [
       "<div>\n",
       "<style scoped>\n",
       "    .dataframe tbody tr th:only-of-type {\n",
       "        vertical-align: middle;\n",
       "    }\n",
       "\n",
       "    .dataframe tbody tr th {\n",
       "        vertical-align: top;\n",
       "    }\n",
       "\n",
       "    .dataframe thead th {\n",
       "        text-align: right;\n",
       "    }\n",
       "</style>\n",
       "<table border=\"1\" class=\"dataframe\">\n",
       "  <thead>\n",
       "    <tr style=\"text-align: right;\">\n",
       "      <th></th>\n",
       "      <th>Unnamed: 0</th>\n",
       "      <th>date</th>\n",
       "      <th>NextOpenDate</th>\n",
       "      <th>title</th>\n",
       "      <th>nouns</th>\n",
       "    </tr>\n",
       "  </thead>\n",
       "  <tbody>\n",
       "    <tr>\n",
       "      <th>0</th>\n",
       "      <td>0</td>\n",
       "      <td>2015-10-19</td>\n",
       "      <td>2015-10-20</td>\n",
       "      <td>먹거나 먹히거나반도체업계 합종연횡 활발</td>\n",
       "      <td>반도체 업계 합종연횡 활발</td>\n",
       "    </tr>\n",
       "    <tr>\n",
       "      <th>1</th>\n",
       "      <td>1</td>\n",
       "      <td>2015-10-19</td>\n",
       "      <td>2015-10-20</td>\n",
       "      <td>세계 반도체 MA 억달러</td>\n",
       "      <td>세계 반도체 달러</td>\n",
       "    </tr>\n",
       "    <tr>\n",
       "      <th>2</th>\n",
       "      <td>2</td>\n",
       "      <td>2015-10-19</td>\n",
       "      <td>2015-10-20</td>\n",
       "      <td>제주반도체 해외투자유치설 조회공시 요구</td>\n",
       "      <td>제주 반도체 해외 투자 유치 설 조회 공시 요구</td>\n",
       "    </tr>\n",
       "  </tbody>\n",
       "</table>\n",
       "</div>"
      ],
      "text/plain": [
       "   Unnamed: 0        date NextOpenDate                  title  \\\n",
       "0           0  2015-10-19   2015-10-20  먹거나 먹히거나반도체업계 합종연횡 활발   \n",
       "1           1  2015-10-19   2015-10-20          세계 반도체 MA 억달러   \n",
       "2           2  2015-10-19   2015-10-20  제주반도체 해외투자유치설 조회공시 요구   \n",
       "\n",
       "                        nouns  \n",
       "0              반도체 업계 합종연횡 활발  \n",
       "1                   세계 반도체 달러  \n",
       "2  제주 반도체 해외 투자 유치 설 조회 공시 요구  "
      ]
     },
     "execution_count": 4,
     "metadata": {},
     "output_type": "execute_result"
    }
   ],
   "source": [
    "news = pd.read_csv('../data/newsdata_nextopen.csv')\n",
    "news.head(3)"
   ]
  },
  {
   "cell_type": "code",
   "execution_count": 5,
   "metadata": {},
   "outputs": [
    {
     "data": {
      "text/html": [
       "<div>\n",
       "<style scoped>\n",
       "    .dataframe tbody tr th:only-of-type {\n",
       "        vertical-align: middle;\n",
       "    }\n",
       "\n",
       "    .dataframe tbody tr th {\n",
       "        vertical-align: top;\n",
       "    }\n",
       "\n",
       "    .dataframe thead th {\n",
       "        text-align: right;\n",
       "    }\n",
       "</style>\n",
       "<table border=\"1\" class=\"dataframe\">\n",
       "  <thead>\n",
       "    <tr style=\"text-align: right;\">\n",
       "      <th></th>\n",
       "      <th>date</th>\n",
       "      <th>NextOpenDate</th>\n",
       "      <th>title</th>\n",
       "      <th>nouns</th>\n",
       "    </tr>\n",
       "  </thead>\n",
       "  <tbody>\n",
       "    <tr>\n",
       "      <th>0</th>\n",
       "      <td>2015-10-19</td>\n",
       "      <td>2015-10-20</td>\n",
       "      <td>먹거나 먹히거나반도체업계 합종연횡 활발</td>\n",
       "      <td>반도체 업계 합종연횡 활발</td>\n",
       "    </tr>\n",
       "    <tr>\n",
       "      <th>1</th>\n",
       "      <td>2015-10-19</td>\n",
       "      <td>2015-10-20</td>\n",
       "      <td>세계 반도체 MA 억달러</td>\n",
       "      <td>세계 반도체 달러</td>\n",
       "    </tr>\n",
       "    <tr>\n",
       "      <th>2</th>\n",
       "      <td>2015-10-19</td>\n",
       "      <td>2015-10-20</td>\n",
       "      <td>제주반도체 해외투자유치설 조회공시 요구</td>\n",
       "      <td>제주 반도체 해외 투자 유치 설 조회 공시 요구</td>\n",
       "    </tr>\n",
       "  </tbody>\n",
       "</table>\n",
       "</div>"
      ],
      "text/plain": [
       "         date NextOpenDate                  title                       nouns\n",
       "0  2015-10-19   2015-10-20  먹거나 먹히거나반도체업계 합종연횡 활발              반도체 업계 합종연횡 활발\n",
       "1  2015-10-19   2015-10-20          세계 반도체 MA 억달러                   세계 반도체 달러\n",
       "2  2015-10-19   2015-10-20  제주반도체 해외투자유치설 조회공시 요구  제주 반도체 해외 투자 유치 설 조회 공시 요구"
      ]
     },
     "execution_count": 5,
     "metadata": {},
     "output_type": "execute_result"
    }
   ],
   "source": [
    "news.drop(columns=['Unnamed: 0'], inplace=True)\n",
    "news.head(3)"
   ]
  },
  {
   "cell_type": "code",
   "execution_count": 6,
   "metadata": {},
   "outputs": [
    {
     "data": {
      "text/html": [
       "<div>\n",
       "<style scoped>\n",
       "    .dataframe tbody tr th:only-of-type {\n",
       "        vertical-align: middle;\n",
       "    }\n",
       "\n",
       "    .dataframe tbody tr th {\n",
       "        vertical-align: top;\n",
       "    }\n",
       "\n",
       "    .dataframe thead th {\n",
       "        text-align: right;\n",
       "    }\n",
       "</style>\n",
       "<table border=\"1\" class=\"dataframe\">\n",
       "  <thead>\n",
       "    <tr style=\"text-align: right;\">\n",
       "      <th></th>\n",
       "      <th>date</th>\n",
       "      <th>NextOpenDate</th>\n",
       "      <th>title</th>\n",
       "      <th>nouns</th>\n",
       "    </tr>\n",
       "  </thead>\n",
       "  <tbody>\n",
       "    <tr>\n",
       "      <th>0</th>\n",
       "      <td>2015-10-19</td>\n",
       "      <td>2015-10-20</td>\n",
       "      <td>먹거나 먹히거나반도체업계 합종연횡 활발</td>\n",
       "      <td>반도체 업계 합종연횡 활발</td>\n",
       "    </tr>\n",
       "    <tr>\n",
       "      <th>1</th>\n",
       "      <td>2015-10-19</td>\n",
       "      <td>2015-10-20</td>\n",
       "      <td>세계 반도체 MA 억달러</td>\n",
       "      <td>세계 반도체 달러</td>\n",
       "    </tr>\n",
       "    <tr>\n",
       "      <th>2</th>\n",
       "      <td>2015-10-19</td>\n",
       "      <td>2015-10-20</td>\n",
       "      <td>제주반도체 해외투자유치설 조회공시 요구</td>\n",
       "      <td>제주 반도체 해외 투자 유치 설 조회 공시 요구</td>\n",
       "    </tr>\n",
       "    <tr>\n",
       "      <th>3</th>\n",
       "      <td>2015-10-19</td>\n",
       "      <td>2015-10-20</td>\n",
       "      <td>반도체  반도체 투자 감소 예상  미래</td>\n",
       "      <td>반도체 반도체 투자 감소 예상 미래</td>\n",
       "    </tr>\n",
       "    <tr>\n",
       "      <th>4</th>\n",
       "      <td>2015-10-19</td>\n",
       "      <td>2015-10-20</td>\n",
       "      <td>특징주제주반도체 미중 대규모 투자유치에 상</td>\n",
       "      <td>특징 반도체 중 대규모 투자 유치 상</td>\n",
       "    </tr>\n",
       "    <tr>\n",
       "      <th>...</th>\n",
       "      <td>...</td>\n",
       "      <td>...</td>\n",
       "      <td>...</td>\n",
       "      <td>...</td>\n",
       "    </tr>\n",
       "    <tr>\n",
       "      <th>58437</th>\n",
       "      <td>2022-03-16</td>\n",
       "      <td>2022-03-17</td>\n",
       "      <td>위기에도 혁신 K배터리 한자리반도체 신화 넘본다</td>\n",
       "      <td>위기 혁신 배터리 한자리 반도체 신화</td>\n",
       "    </tr>\n",
       "    <tr>\n",
       "      <th>58438</th>\n",
       "      <td>2022-03-16</td>\n",
       "      <td>2022-03-17</td>\n",
       "      <td>대형 반도체 기업 주가 지나친 저평가저점 분할 매수</td>\n",
       "      <td>대형 반도체 기업 주가 평가 점 분할 매수</td>\n",
       "    </tr>\n",
       "    <tr>\n",
       "      <th>58439</th>\n",
       "      <td>2022-03-16</td>\n",
       "      <td>2022-03-17</td>\n",
       "      <td>글로벌 비즈 인텔 년간 유럽 반도체 생산연구개발에 조 원 투자</td>\n",
       "      <td>글로벌 비즈 인텔 년 유럽 반도체 생산 연구개발 조 원 투자</td>\n",
       "    </tr>\n",
       "    <tr>\n",
       "      <th>58440</th>\n",
       "      <td>2022-03-16</td>\n",
       "      <td>2022-03-17</td>\n",
       "      <td>대러 수입 막힌 품목 개반도체 소재 등 불포함</td>\n",
       "      <td>수입 품목 개 반도체 소재 등 불 포함</td>\n",
       "    </tr>\n",
       "    <tr>\n",
       "      <th>58441</th>\n",
       "      <td>2022-03-16</td>\n",
       "      <td>2022-03-17</td>\n",
       "      <td>러우크라이나 사태 차량용 반도체 공급부족 악화시켜</td>\n",
       "      <td>러 우크라이나 사태 차량 용 반도체 공급 부족</td>\n",
       "    </tr>\n",
       "  </tbody>\n",
       "</table>\n",
       "<p>58442 rows × 4 columns</p>\n",
       "</div>"
      ],
      "text/plain": [
       "             date NextOpenDate                               title  \\\n",
       "0      2015-10-19   2015-10-20               먹거나 먹히거나반도체업계 합종연횡 활발   \n",
       "1      2015-10-19   2015-10-20                       세계 반도체 MA 억달러   \n",
       "2      2015-10-19   2015-10-20               제주반도체 해외투자유치설 조회공시 요구   \n",
       "3      2015-10-19   2015-10-20               반도체  반도체 투자 감소 예상  미래   \n",
       "4      2015-10-19   2015-10-20             특징주제주반도체 미중 대규모 투자유치에 상   \n",
       "...           ...          ...                                 ...   \n",
       "58437  2022-03-16   2022-03-17          위기에도 혁신 K배터리 한자리반도체 신화 넘본다   \n",
       "58438  2022-03-16   2022-03-17        대형 반도체 기업 주가 지나친 저평가저점 분할 매수   \n",
       "58439  2022-03-16   2022-03-17  글로벌 비즈 인텔 년간 유럽 반도체 생산연구개발에 조 원 투자   \n",
       "58440  2022-03-16   2022-03-17           대러 수입 막힌 품목 개반도체 소재 등 불포함   \n",
       "58441  2022-03-16   2022-03-17         러우크라이나 사태 차량용 반도체 공급부족 악화시켜   \n",
       "\n",
       "                                   nouns  \n",
       "0                         반도체 업계 합종연횡 활발  \n",
       "1                              세계 반도체 달러  \n",
       "2             제주 반도체 해외 투자 유치 설 조회 공시 요구  \n",
       "3                    반도체 반도체 투자 감소 예상 미래  \n",
       "4                   특징 반도체 중 대규모 투자 유치 상  \n",
       "...                                  ...  \n",
       "58437               위기 혁신 배터리 한자리 반도체 신화  \n",
       "58438            대형 반도체 기업 주가 평가 점 분할 매수  \n",
       "58439  글로벌 비즈 인텔 년 유럽 반도체 생산 연구개발 조 원 투자  \n",
       "58440              수입 품목 개 반도체 소재 등 불 포함  \n",
       "58441          러 우크라이나 사태 차량 용 반도체 공급 부족  \n",
       "\n",
       "[58442 rows x 4 columns]"
      ]
     },
     "execution_count": 6,
     "metadata": {},
     "output_type": "execute_result"
    }
   ],
   "source": [
    "news"
   ]
  },
  {
   "cell_type": "markdown",
   "metadata": {},
   "source": [
    "### 1.2_개별 주가 데이터"
   ]
  },
  {
   "cell_type": "code",
   "execution_count": 19,
   "metadata": {},
   "outputs": [
    {
     "data": {
      "text/plain": [
       "'../data/반도체주가데이터/반도체주가데이터\\\\*.xlsx'"
      ]
     },
     "execution_count": 19,
     "metadata": {},
     "output_type": "execute_result"
    }
   ],
   "source": [
    "import glob, os\n",
    "\n",
    "path = '../data/반도체주가데이터/반도체주가데이터'\n",
    "os.path.join(path, '*.xlsx')"
   ]
  },
  {
   "cell_type": "code",
   "execution_count": 20,
   "metadata": {},
   "outputs": [
    {
     "data": {
      "text/plain": [
       "['../data/반도체주가데이터/반도체주가데이터\\\\GST.xlsx',\n",
       " '../data/반도체주가데이터/반도체주가데이터\\\\덕산네오룩스.xlsx',\n",
       " '../data/반도체주가데이터/반도체주가데이터\\\\동진쎄미캠.xlsx',\n",
       " '../data/반도체주가데이터/반도체주가데이터\\\\리노공업.xlsx',\n",
       " '../data/반도체주가데이터/반도체주가데이터\\\\반도체_통합본.xlsx',\n",
       " '../data/반도체주가데이터/반도체주가데이터\\\\에프에스티.xlsx',\n",
       " '../data/반도체주가데이터/반도체주가데이터\\\\오션브릿지.xlsx',\n",
       " '../data/반도체주가데이터/반도체주가데이터\\\\월덱스.xlsx',\n",
       " '../data/반도체주가데이터/반도체주가데이터\\\\유니셈.xlsx',\n",
       " '../data/반도체주가데이터/반도체주가데이터\\\\코미코.xlsx',\n",
       " '../data/반도체주가데이터/반도체주가데이터\\\\코세스.xlsx',\n",
       " '../data/반도체주가데이터/반도체주가데이터\\\\테스나.xlsx',\n",
       " '../data/반도체주가데이터/반도체주가데이터\\\\티씨케이.xlsx',\n",
       " '../data/반도체주가데이터/반도체주가데이터\\\\하나머티리얼즈.xlsx']"
      ]
     },
     "execution_count": 20,
     "metadata": {},
     "output_type": "execute_result"
    }
   ],
   "source": [
    "# 경로 안에 있는 모든 파일 확인\n",
    "all_files = glob.glob(os.path.join(path, '*.xlsx'))\n",
    "all_files"
   ]
  },
  {
   "cell_type": "code",
   "execution_count": 21,
   "metadata": {},
   "outputs": [
    {
     "data": {
      "text/plain": [
       "'../data/반도체주가데이터/반도체주가데이터\\\\GST.xlsx'"
      ]
     },
     "execution_count": 21,
     "metadata": {},
     "output_type": "execute_result"
    }
   ],
   "source": [
    "# 파일 확인\n",
    "file = all_files[0]\n",
    "file"
   ]
  },
  {
   "cell_type": "code",
   "execution_count": 22,
   "metadata": {},
   "outputs": [
    {
     "data": {
      "text/plain": [
       "'GST.xlsx'"
      ]
     },
     "execution_count": 22,
     "metadata": {},
     "output_type": "execute_result"
    }
   ],
   "source": [
    "# 재목만 추출\n",
    "file.split('\\\\')[1]"
   ]
  },
  {
   "cell_type": "code",
   "execution_count": null,
   "metadata": {},
   "outputs": [],
   "source": []
  }
 ],
 "metadata": {
  "interpreter": {
   "hash": "b3ba2566441a7c06988d0923437866b63cedc61552a5af99d1f4fb67d367b25f"
  },
  "kernelspec": {
   "display_name": "Python 3.8.8 ('base')",
   "language": "python",
   "name": "python3"
  },
  "language_info": {
   "codemirror_mode": {
    "name": "ipython",
    "version": 3
   },
   "file_extension": ".py",
   "mimetype": "text/x-python",
   "name": "python",
   "nbconvert_exporter": "python",
   "pygments_lexer": "ipython3",
   "version": "3.8.8"
  },
  "orig_nbformat": 4
 },
 "nbformat": 4,
 "nbformat_minor": 2
}
