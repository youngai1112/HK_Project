{
 "cells": [
  {
   "cell_type": "code",
   "execution_count": 1,
   "metadata": {},
   "outputs": [],
   "source": [
    "import exchange_calendars as ecals\n",
    "import datetime\n",
    "import time\n",
    "import pandas as pd\n",
    "import numpy as np\n",
    "import matplotlib.pyplot as plt\n",
    "import seaborn as sns\n",
    "import warnings\n",
    "warnings.filterwarnings('ignore')\n",
    "import re\n",
    "from konlpy.tag import Okt\n",
    "from tqdm import tqdm\n",
    "from tensorflow import keras\n",
    "import os\n",
    "from sklearn.model_selection import train_test_split\n",
    "from collections import Counter"
   ]
  },
  {
   "cell_type": "markdown",
   "metadata": {},
   "source": [
    "## 1. 뉴스 데이터 불러오기"
   ]
  },
  {
   "cell_type": "code",
   "execution_count": 3,
   "metadata": {},
   "outputs": [
    {
     "data": {
      "text/html": [
       "<div>\n",
       "<style scoped>\n",
       "    .dataframe tbody tr th:only-of-type {\n",
       "        vertical-align: middle;\n",
       "    }\n",
       "\n",
       "    .dataframe tbody tr th {\n",
       "        vertical-align: top;\n",
       "    }\n",
       "\n",
       "    .dataframe thead th {\n",
       "        text-align: right;\n",
       "    }\n",
       "</style>\n",
       "<table border=\"1\" class=\"dataframe\">\n",
       "  <thead>\n",
       "    <tr style=\"text-align: right;\">\n",
       "      <th></th>\n",
       "      <th>Unnamed: 0</th>\n",
       "      <th>date</th>\n",
       "      <th>title</th>\n",
       "      <th>nouns</th>\n",
       "    </tr>\n",
       "  </thead>\n",
       "  <tbody>\n",
       "    <tr>\n",
       "      <th>0</th>\n",
       "      <td>19650</td>\n",
       "      <td>20151019</td>\n",
       "      <td>먹거나 먹히거나반도체업계 합종연횡 활발</td>\n",
       "      <td>반도체 업계 합종연횡 활발</td>\n",
       "    </tr>\n",
       "    <tr>\n",
       "      <th>1</th>\n",
       "      <td>3420</td>\n",
       "      <td>20151019</td>\n",
       "      <td>반도체  반도체 투자 감소 예상  미래</td>\n",
       "      <td>반도체 반도체 투자 감소 예상 미래</td>\n",
       "    </tr>\n",
       "    <tr>\n",
       "      <th>2</th>\n",
       "      <td>1798</td>\n",
       "      <td>20151019</td>\n",
       "      <td>특징주제주반도체 미중 대규모 투자유치에 상</td>\n",
       "      <td>특징 반도체 중 대규모 투자 유치 상</td>\n",
       "    </tr>\n",
       "  </tbody>\n",
       "</table>\n",
       "</div>"
      ],
      "text/plain": [
       "   Unnamed: 0      date                    title                 nouns\n",
       "0       19650  20151019    먹거나 먹히거나반도체업계 합종연횡 활발        반도체 업계 합종연횡 활발\n",
       "1        3420  20151019    반도체  반도체 투자 감소 예상  미래   반도체 반도체 투자 감소 예상 미래\n",
       "2        1798  20151019  특징주제주반도체 미중 대규모 투자유치에 상  특징 반도체 중 대규모 투자 유치 상"
      ]
     },
     "execution_count": 3,
     "metadata": {},
     "output_type": "execute_result"
    }
   ],
   "source": [
    "newsdata = pd.read_csv('../data/newsfile_nouns.csv')\n",
    "newsdata.head(3)"
   ]
  },
  {
   "cell_type": "code",
   "execution_count": 5,
   "metadata": {},
   "outputs": [
    {
     "data": {
      "text/html": [
       "<div>\n",
       "<style scoped>\n",
       "    .dataframe tbody tr th:only-of-type {\n",
       "        vertical-align: middle;\n",
       "    }\n",
       "\n",
       "    .dataframe tbody tr th {\n",
       "        vertical-align: top;\n",
       "    }\n",
       "\n",
       "    .dataframe thead th {\n",
       "        text-align: right;\n",
       "    }\n",
       "</style>\n",
       "<table border=\"1\" class=\"dataframe\">\n",
       "  <thead>\n",
       "    <tr style=\"text-align: right;\">\n",
       "      <th></th>\n",
       "      <th>date</th>\n",
       "      <th>title</th>\n",
       "      <th>nouns</th>\n",
       "    </tr>\n",
       "  </thead>\n",
       "  <tbody>\n",
       "    <tr>\n",
       "      <th>0</th>\n",
       "      <td>20151019</td>\n",
       "      <td>먹거나 먹히거나반도체업계 합종연횡 활발</td>\n",
       "      <td>반도체 업계 합종연횡 활발</td>\n",
       "    </tr>\n",
       "    <tr>\n",
       "      <th>1</th>\n",
       "      <td>20151019</td>\n",
       "      <td>반도체  반도체 투자 감소 예상  미래</td>\n",
       "      <td>반도체 반도체 투자 감소 예상 미래</td>\n",
       "    </tr>\n",
       "    <tr>\n",
       "      <th>2</th>\n",
       "      <td>20151019</td>\n",
       "      <td>특징주제주반도체 미중 대규모 투자유치에 상</td>\n",
       "      <td>특징 반도체 중 대규모 투자 유치 상</td>\n",
       "    </tr>\n",
       "  </tbody>\n",
       "</table>\n",
       "</div>"
      ],
      "text/plain": [
       "       date                    title                 nouns\n",
       "0  20151019    먹거나 먹히거나반도체업계 합종연횡 활발        반도체 업계 합종연횡 활발\n",
       "1  20151019    반도체  반도체 투자 감소 예상  미래   반도체 반도체 투자 감소 예상 미래\n",
       "2  20151019  특징주제주반도체 미중 대규모 투자유치에 상  특징 반도체 중 대규모 투자 유치 상"
      ]
     },
     "execution_count": 5,
     "metadata": {},
     "output_type": "execute_result"
    }
   ],
   "source": [
    "newsdata.drop(columns=['Unnamed: 0'], inplace=True)\n",
    "newsdata.head(3)"
   ]
  },
  {
   "cell_type": "code",
   "execution_count": 11,
   "metadata": {},
   "outputs": [
    {
     "data": {
      "text/plain": [
       "[20151019, 20151019, 20151019, 20151019, 20151019]"
      ]
     },
     "execution_count": 11,
     "metadata": {},
     "output_type": "execute_result"
    }
   ],
   "source": [
    "# 날짜 컬럼을 리스트 형식으로 변환\n",
    "newsdate = newsdata['date'].to_list()\n",
    "newsdate[:5]"
   ]
  },
  {
   "cell_type": "markdown",
   "metadata": {},
   "source": [
    "## 2. 한국 거래소 개장일 확인 코드"
   ]
  },
  {
   "cell_type": "code",
   "execution_count": 2,
   "metadata": {},
   "outputs": [
    {
     "name": "stdout",
     "output_type": "stream",
     "text": [
      "2021-01-01 개장 확인:  False\n",
      "오늘날짜 개장일 확인:  False\n",
      "다음 개장일 날짜 확인:  2022-03-21 00:00:00+00:00\n"
     ]
    }
   ],
   "source": [
    "# 한국코드\n",
    "XKRX = ecals.get_calendar(\"XKRX\")       \n",
    "# 2021-01-01은 개장일인지 확인\n",
    "print(\"2021-01-01 개장 확인: \", XKRX.is_session('2021-01-01'))    \n",
    "# 오늘(22-03-19)은 개장일인지 확인\n",
    "print(\"오늘날짜 개장일 확인: \", XKRX.is_session(datetime.date.today().strftime('%Y-%m-%d')))  \n",
    "# 다음 개장일은 언제인지 확인\n",
    "print(\"다음 개장일 날짜 확인: \", XKRX.next_open(pd.Timestamp.today().strftime('%Y-%m-%d')))"
   ]
  },
  {
   "cell_type": "code",
   "execution_count": 13,
   "metadata": {},
   "outputs": [
    {
     "ename": "MinuteOutOfBounds",
     "evalue": "Parameter `dt` receieved as '1970-01-01 00:00:00+00:00' although cannot be earlier than the first trading minute of calendar 'XKRX' ('2002-03-20 00:00:00+00:00').",
     "output_type": "error",
     "traceback": [
      "\u001b[1;31m---------------------------------------------------------------------------\u001b[0m",
      "\u001b[1;31mMinuteOutOfBounds\u001b[0m                         Traceback (most recent call last)",
      "\u001b[1;32mc:\\Users\\easya\\Workspace\\HK_Project\\7_자연어처리\\11_뉴스날짜매칭.ipynb Cell 8'\u001b[0m in \u001b[0;36m<cell line: 4>\u001b[1;34m()\u001b[0m\n\u001b[0;32m      <a href='vscode-notebook-cell:/c%3A/Users/easya/Workspace/HK_Project/7_%EC%9E%90%EC%97%B0%EC%96%B4%EC%B2%98%EB%A6%AC/11_%EB%89%B4%EC%8A%A4%EB%82%A0%EC%A7%9C%EB%A7%A4%EC%B9%AD.ipynb#ch0000005?line=1'>2</a>\u001b[0m next_open_list \u001b[39m=\u001b[39m []\n\u001b[0;32m      <a href='vscode-notebook-cell:/c%3A/Users/easya/Workspace/HK_Project/7_%EC%9E%90%EC%97%B0%EC%96%B4%EC%B2%98%EB%A6%AC/11_%EB%89%B4%EC%8A%A4%EB%82%A0%EC%A7%9C%EB%A7%A4%EC%B9%AD.ipynb#ch0000005?line=3'>4</a>\u001b[0m \u001b[39mfor\u001b[39;00m day \u001b[39min\u001b[39;00m \u001b[39mrange\u001b[39m(\u001b[39m0\u001b[39m, \u001b[39mlen\u001b[39m(newsdate)):\n\u001b[1;32m----> <a href='vscode-notebook-cell:/c%3A/Users/easya/Workspace/HK_Project/7_%EC%9E%90%EC%97%B0%EC%96%B4%EC%B2%98%EB%A6%AC/11_%EB%89%B4%EC%8A%A4%EB%82%A0%EC%A7%9C%EB%A7%A4%EC%B9%AD.ipynb#ch0000005?line=4'>5</a>\u001b[0m     next_open_date \u001b[39m=\u001b[39m XKRX\u001b[39m.\u001b[39;49mnext_open(day)\n\u001b[0;32m      <a href='vscode-notebook-cell:/c%3A/Users/easya/Workspace/HK_Project/7_%EC%9E%90%EC%97%B0%EC%96%B4%EC%B2%98%EB%A6%AC/11_%EB%89%B4%EC%8A%A4%EB%82%A0%EC%A7%9C%EB%A7%A4%EC%B9%AD.ipynb#ch0000005?line=5'>6</a>\u001b[0m     next_open_list\u001b[39m.\u001b[39mappend(next_open_date)\n",
      "File \u001b[1;32m~\\AppData\\Local\\Programs\\Python\\Python38\\lib\\site-packages\\exchange_calendars\\exchange_calendar.py:1325\u001b[0m, in \u001b[0;36mExchangeCalendar.next_open\u001b[1;34m(self, dt, _parse)\u001b[0m\n\u001b[0;32m   <a href='file:///c%3A/Users/easya/AppData/Local/Programs/Python/Python38/lib/site-packages/exchange_calendars/exchange_calendar.py?line=1308'>1309</a>\u001b[0m \u001b[39m\"\"\"Return next open that follows a given minute.\u001b[39;00m\n\u001b[0;32m   <a href='file:///c%3A/Users/easya/AppData/Local/Programs/Python/Python38/lib/site-packages/exchange_calendars/exchange_calendar.py?line=1309'>1310</a>\u001b[0m \n\u001b[0;32m   <a href='file:///c%3A/Users/easya/AppData/Local/Programs/Python/Python38/lib/site-packages/exchange_calendars/exchange_calendar.py?line=1310'>1311</a>\u001b[0m \u001b[39mIf `dt` is a session open, the next session's open will be\u001b[39;00m\n\u001b[1;32m   (...)\u001b[0m\n\u001b[0;32m   <a href='file:///c%3A/Users/easya/AppData/Local/Programs/Python/Python38/lib/site-packages/exchange_calendars/exchange_calendar.py?line=1321'>1322</a>\u001b[0m \u001b[39m    UTC timestamp of the next open.\u001b[39;00m\n\u001b[0;32m   <a href='file:///c%3A/Users/easya/AppData/Local/Programs/Python/Python38/lib/site-packages/exchange_calendars/exchange_calendar.py?line=1322'>1323</a>\u001b[0m \u001b[39m\"\"\"\u001b[39;00m\n\u001b[0;32m   <a href='file:///c%3A/Users/easya/AppData/Local/Programs/Python/Python38/lib/site-packages/exchange_calendars/exchange_calendar.py?line=1323'>1324</a>\u001b[0m \u001b[39mif\u001b[39;00m _parse:\n\u001b[1;32m-> <a href='file:///c%3A/Users/easya/AppData/Local/Programs/Python/Python38/lib/site-packages/exchange_calendars/exchange_calendar.py?line=1324'>1325</a>\u001b[0m     dt \u001b[39m=\u001b[39m parse_timestamp(dt, \u001b[39m\"\u001b[39;49m\u001b[39mdt\u001b[39;49m\u001b[39m\"\u001b[39;49m, \u001b[39mself\u001b[39;49m)\n\u001b[0;32m   <a href='file:///c%3A/Users/easya/AppData/Local/Programs/Python/Python38/lib/site-packages/exchange_calendars/exchange_calendar.py?line=1325'>1326</a>\u001b[0m \u001b[39mtry\u001b[39;00m:\n\u001b[0;32m   <a href='file:///c%3A/Users/easya/AppData/Local/Programs/Python/Python38/lib/site-packages/exchange_calendars/exchange_calendar.py?line=1326'>1327</a>\u001b[0m     idx \u001b[39m=\u001b[39m next_divider_idx(\u001b[39mself\u001b[39m\u001b[39m.\u001b[39mopens_nanos, dt\u001b[39m.\u001b[39mvalue)\n",
      "File \u001b[1;32m~\\AppData\\Local\\Programs\\Python\\Python38\\lib\\site-packages\\exchange_calendars\\calendar_helpers.py:215\u001b[0m, in \u001b[0;36mparse_timestamp\u001b[1;34m(timestamp, param_name, calendar, raise_oob, side, utc)\u001b[0m\n\u001b[0;32m    <a href='file:///c%3A/Users/easya/AppData/Local/Programs/Python/Python38/lib/site-packages/exchange_calendars/calendar_helpers.py?line=212'>213</a>\u001b[0m         \u001b[39mraise\u001b[39;00m \u001b[39mValueError\u001b[39;00m(\u001b[39m\"\u001b[39m\u001b[39m`calendar` must be passed if `raise_oob` is True.\u001b[39m\u001b[39m\"\u001b[39m)\n\u001b[0;32m    <a href='file:///c%3A/Users/easya/AppData/Local/Programs/Python/Python38/lib/site-packages/exchange_calendars/calendar_helpers.py?line=213'>214</a>\u001b[0m     \u001b[39mif\u001b[39;00m calendar\u001b[39m.\u001b[39m_minute_oob(ts):\n\u001b[1;32m--> <a href='file:///c%3A/Users/easya/AppData/Local/Programs/Python/Python38/lib/site-packages/exchange_calendars/calendar_helpers.py?line=214'>215</a>\u001b[0m         \u001b[39mraise\u001b[39;00m errors\u001b[39m.\u001b[39mMinuteOutOfBounds(calendar, ts, param_name)\n\u001b[0;32m    <a href='file:///c%3A/Users/easya/AppData/Local/Programs/Python/Python38/lib/site-packages/exchange_calendars/calendar_helpers.py?line=216'>217</a>\u001b[0m \u001b[39mreturn\u001b[39;00m ts\n",
      "\u001b[1;31mMinuteOutOfBounds\u001b[0m: Parameter `dt` receieved as '1970-01-01 00:00:00+00:00' although cannot be earlier than the first trading minute of calendar 'XKRX' ('2002-03-20 00:00:00+00:00')."
     ]
    }
   ],
   "source": [
    "# 뉴스데이터 날짜 다음날에 해당하는 개장일 날짜 확인\n",
    "next_open_list = []\n",
    "\n",
    "for day in range(0, len(newsdate)):\n",
    "    next_open_date = XKRX.next_open(day)\n",
    "    next_open_list.append(next_open_date)"
   ]
  },
  {
   "cell_type": "code",
   "execution_count": null,
   "metadata": {},
   "outputs": [],
   "source": []
  }
 ],
 "metadata": {
  "interpreter": {
   "hash": "237dfbe96289c26a34bb3817ed9a5dda5a1f28f78dcc25894f58473fa7732fcf"
  },
  "kernelspec": {
   "display_name": "Python 3.8.8 64-bit",
   "language": "python",
   "name": "python3"
  },
  "language_info": {
   "codemirror_mode": {
    "name": "ipython",
    "version": 3
   },
   "file_extension": ".py",
   "mimetype": "text/x-python",
   "name": "python",
   "nbconvert_exporter": "python",
   "pygments_lexer": "ipython3",
   "version": "3.8.8"
  },
  "orig_nbformat": 4
 },
 "nbformat": 4,
 "nbformat_minor": 2
}
