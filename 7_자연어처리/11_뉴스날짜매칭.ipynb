{
 "cells": [
  {
   "cell_type": "code",
   "execution_count": 1,
   "metadata": {},
   "outputs": [],
   "source": [
    "import exchange_calendars as ecals\n",
    "import datetime\n",
    "import time\n",
    "import pandas as pd\n",
    "import numpy as np\n",
    "import matplotlib.pyplot as plt\n",
    "import seaborn as sns\n",
    "import warnings\n",
    "warnings.filterwarnings('ignore')\n",
    "import re\n",
    "from konlpy.tag import Okt\n",
    "from tqdm import tqdm\n",
    "from tensorflow import keras\n",
    "import os\n",
    "from sklearn.model_selection import train_test_split\n",
    "from collections import Counter"
   ]
  },
  {
   "cell_type": "markdown",
   "metadata": {},
   "source": [
    "## 1. 뉴스 데이터 불러오기"
   ]
  },
  {
   "cell_type": "code",
   "execution_count": 118,
   "metadata": {},
   "outputs": [
    {
     "data": {
      "text/html": [
       "<div>\n",
       "<style scoped>\n",
       "    .dataframe tbody tr th:only-of-type {\n",
       "        vertical-align: middle;\n",
       "    }\n",
       "\n",
       "    .dataframe tbody tr th {\n",
       "        vertical-align: top;\n",
       "    }\n",
       "\n",
       "    .dataframe thead th {\n",
       "        text-align: right;\n",
       "    }\n",
       "</style>\n",
       "<table border=\"1\" class=\"dataframe\">\n",
       "  <thead>\n",
       "    <tr style=\"text-align: right;\">\n",
       "      <th></th>\n",
       "      <th>Unnamed: 0</th>\n",
       "      <th>date</th>\n",
       "      <th>title</th>\n",
       "      <th>nouns</th>\n",
       "    </tr>\n",
       "  </thead>\n",
       "  <tbody>\n",
       "    <tr>\n",
       "      <th>0</th>\n",
       "      <td>19650</td>\n",
       "      <td>20151019</td>\n",
       "      <td>먹거나 먹히거나반도체업계 합종연횡 활발</td>\n",
       "      <td>반도체 업계 합종연횡 활발</td>\n",
       "    </tr>\n",
       "    <tr>\n",
       "      <th>1</th>\n",
       "      <td>3420</td>\n",
       "      <td>20151019</td>\n",
       "      <td>반도체  반도체 투자 감소 예상  미래</td>\n",
       "      <td>반도체 반도체 투자 감소 예상 미래</td>\n",
       "    </tr>\n",
       "    <tr>\n",
       "      <th>2</th>\n",
       "      <td>1798</td>\n",
       "      <td>20151019</td>\n",
       "      <td>특징주제주반도체 미중 대규모 투자유치에 상</td>\n",
       "      <td>특징 반도체 중 대규모 투자 유치 상</td>\n",
       "    </tr>\n",
       "  </tbody>\n",
       "</table>\n",
       "</div>"
      ],
      "text/plain": [
       "   Unnamed: 0      date                    title                 nouns\n",
       "0       19650  20151019    먹거나 먹히거나반도체업계 합종연횡 활발        반도체 업계 합종연횡 활발\n",
       "1        3420  20151019    반도체  반도체 투자 감소 예상  미래   반도체 반도체 투자 감소 예상 미래\n",
       "2        1798  20151019  특징주제주반도체 미중 대규모 투자유치에 상  특징 반도체 중 대규모 투자 유치 상"
      ]
     },
     "execution_count": 118,
     "metadata": {},
     "output_type": "execute_result"
    }
   ],
   "source": [
    "newsdata = pd.read_csv('../data/newsfile_nouns.csv')\n",
    "newsdata.head(3)"
   ]
  },
  {
   "cell_type": "code",
   "execution_count": 119,
   "metadata": {},
   "outputs": [
    {
     "data": {
      "text/html": [
       "<div>\n",
       "<style scoped>\n",
       "    .dataframe tbody tr th:only-of-type {\n",
       "        vertical-align: middle;\n",
       "    }\n",
       "\n",
       "    .dataframe tbody tr th {\n",
       "        vertical-align: top;\n",
       "    }\n",
       "\n",
       "    .dataframe thead th {\n",
       "        text-align: right;\n",
       "    }\n",
       "</style>\n",
       "<table border=\"1\" class=\"dataframe\">\n",
       "  <thead>\n",
       "    <tr style=\"text-align: right;\">\n",
       "      <th></th>\n",
       "      <th>date</th>\n",
       "      <th>title</th>\n",
       "      <th>nouns</th>\n",
       "    </tr>\n",
       "  </thead>\n",
       "  <tbody>\n",
       "    <tr>\n",
       "      <th>0</th>\n",
       "      <td>20151019</td>\n",
       "      <td>먹거나 먹히거나반도체업계 합종연횡 활발</td>\n",
       "      <td>반도체 업계 합종연횡 활발</td>\n",
       "    </tr>\n",
       "    <tr>\n",
       "      <th>1</th>\n",
       "      <td>20151019</td>\n",
       "      <td>반도체  반도체 투자 감소 예상  미래</td>\n",
       "      <td>반도체 반도체 투자 감소 예상 미래</td>\n",
       "    </tr>\n",
       "    <tr>\n",
       "      <th>2</th>\n",
       "      <td>20151019</td>\n",
       "      <td>특징주제주반도체 미중 대규모 투자유치에 상</td>\n",
       "      <td>특징 반도체 중 대규모 투자 유치 상</td>\n",
       "    </tr>\n",
       "  </tbody>\n",
       "</table>\n",
       "</div>"
      ],
      "text/plain": [
       "       date                    title                 nouns\n",
       "0  20151019    먹거나 먹히거나반도체업계 합종연횡 활발        반도체 업계 합종연횡 활발\n",
       "1  20151019    반도체  반도체 투자 감소 예상  미래   반도체 반도체 투자 감소 예상 미래\n",
       "2  20151019  특징주제주반도체 미중 대규모 투자유치에 상  특징 반도체 중 대규모 투자 유치 상"
      ]
     },
     "execution_count": 119,
     "metadata": {},
     "output_type": "execute_result"
    }
   ],
   "source": [
    "newsdata.drop(columns=['Unnamed: 0'], inplace=True)\n",
    "newsdata.head(3)"
   ]
  },
  {
   "cell_type": "code",
   "execution_count": 120,
   "metadata": {},
   "outputs": [
    {
     "name": "stdout",
     "output_type": "stream",
     "text": [
      "<class 'pandas.core.frame.DataFrame'>\n",
      "RangeIndex: 58442 entries, 0 to 58441\n",
      "Data columns (total 3 columns):\n",
      " #   Column  Non-Null Count  Dtype \n",
      "---  ------  --------------  ----- \n",
      " 0   date    58442 non-null  int64 \n",
      " 1   title   58442 non-null  object\n",
      " 2   nouns   58442 non-null  object\n",
      "dtypes: int64(1), object(2)\n",
      "memory usage: 1.3+ MB\n"
     ]
    }
   ],
   "source": [
    "# 데이터 형식 확인\n",
    "newsdata.info()"
   ]
  },
  {
   "cell_type": "code",
   "execution_count": 121,
   "metadata": {},
   "outputs": [
    {
     "name": "stdout",
     "output_type": "stream",
     "text": [
      "<class 'pandas.core.frame.DataFrame'>\n",
      "RangeIndex: 58442 entries, 0 to 58441\n",
      "Data columns (total 3 columns):\n",
      " #   Column  Non-Null Count  Dtype \n",
      "---  ------  --------------  ----- \n",
      " 0   date    58442 non-null  string\n",
      " 1   title   58442 non-null  object\n",
      " 2   nouns   58442 non-null  object\n",
      "dtypes: object(2), string(1)\n",
      "memory usage: 1.3+ MB\n"
     ]
    }
   ],
   "source": [
    "# int > string으로 변경\n",
    "newsdata = newsdata.astype({'date':'string'})\n",
    "newsdata.info()"
   ]
  },
  {
   "cell_type": "code",
   "execution_count": 122,
   "metadata": {},
   "outputs": [
    {
     "name": "stdout",
     "output_type": "stream",
     "text": [
      "<class 'pandas.core.frame.DataFrame'>\n",
      "RangeIndex: 58442 entries, 0 to 58441\n",
      "Data columns (total 3 columns):\n",
      " #   Column  Non-Null Count  Dtype         \n",
      "---  ------  --------------  -----         \n",
      " 0   date    58442 non-null  datetime64[ns]\n",
      " 1   title   58442 non-null  object        \n",
      " 2   nouns   58442 non-null  object        \n",
      "dtypes: datetime64[ns](1), object(2)\n",
      "memory usage: 1.3+ MB\n"
     ]
    }
   ],
   "source": [
    "# datetime 형식으로 변경\n",
    "newsdata['date'] = pd.to_datetime(newsdata['date'])\n",
    "newsdata.info()"
   ]
  },
  {
   "cell_type": "code",
   "execution_count": 123,
   "metadata": {},
   "outputs": [
    {
     "name": "stdout",
     "output_type": "stream",
     "text": [
      "2015-10-19 00:00:00 58441   2022-03-16\n",
      "Name: date, dtype: datetime64[ns]\n"
     ]
    }
   ],
   "source": [
    "# 뉴스데이터의 처음 날짜와 마지막 날짜 확인\n",
    "first_date = newsdata['date'][0]\n",
    "last_date = newsdata['date'][-1:]\n",
    "print(first_date, last_date)"
   ]
  },
  {
   "cell_type": "code",
   "execution_count": 146,
   "metadata": {},
   "outputs": [
    {
     "data": {
      "text/html": [
       "<div>\n",
       "<style scoped>\n",
       "    .dataframe tbody tr th:only-of-type {\n",
       "        vertical-align: middle;\n",
       "    }\n",
       "\n",
       "    .dataframe tbody tr th {\n",
       "        vertical-align: top;\n",
       "    }\n",
       "\n",
       "    .dataframe thead th {\n",
       "        text-align: right;\n",
       "    }\n",
       "</style>\n",
       "<table border=\"1\" class=\"dataframe\">\n",
       "  <thead>\n",
       "    <tr style=\"text-align: right;\">\n",
       "      <th></th>\n",
       "      <th>date</th>\n",
       "      <th>title</th>\n",
       "      <th>nouns</th>\n",
       "    </tr>\n",
       "  </thead>\n",
       "  <tbody>\n",
       "    <tr>\n",
       "      <th>0</th>\n",
       "      <td>2015-10-19</td>\n",
       "      <td>먹거나 먹히거나반도체업계 합종연횡 활발</td>\n",
       "      <td>반도체 업계 합종연횡 활발</td>\n",
       "    </tr>\n",
       "    <tr>\n",
       "      <th>1</th>\n",
       "      <td>2015-10-19</td>\n",
       "      <td>반도체  반도체 투자 감소 예상  미래</td>\n",
       "      <td>반도체 반도체 투자 감소 예상 미래</td>\n",
       "    </tr>\n",
       "    <tr>\n",
       "      <th>2</th>\n",
       "      <td>2015-10-19</td>\n",
       "      <td>특징주제주반도체 미중 대규모 투자유치에 상</td>\n",
       "      <td>특징 반도체 중 대규모 투자 유치 상</td>\n",
       "    </tr>\n",
       "    <tr>\n",
       "      <th>3</th>\n",
       "      <td>2015-10-19</td>\n",
       "      <td>제주반도체 해외투자유치설 조회공시 요구</td>\n",
       "      <td>제주 반도체 해외 투자 유치 설 조회 공시 요구</td>\n",
       "    </tr>\n",
       "    <tr>\n",
       "      <th>4</th>\n",
       "      <td>2015-10-19</td>\n",
       "      <td>반도체사 인수합병 봇물올 들어 억달러 돌파</td>\n",
       "      <td>반도 체사 인수합병 봇 물올 달러 돌파</td>\n",
       "    </tr>\n",
       "    <tr>\n",
       "      <th>...</th>\n",
       "      <td>...</td>\n",
       "      <td>...</td>\n",
       "      <td>...</td>\n",
       "    </tr>\n",
       "    <tr>\n",
       "      <th>58437</th>\n",
       "      <td>2022-03-16</td>\n",
       "      <td>장덕현 삼성전기 사장 반도체 기판 위에 모든 시스템 통합하는 SoS 시장 이</td>\n",
       "      <td>장덕 현 삼성 전기 사장 반도체 판 위 모든 시스템 통합 시장 이</td>\n",
       "    </tr>\n",
       "    <tr>\n",
       "      <th>58438</th>\n",
       "      <td>2022-03-16</td>\n",
       "      <td>글로벌 비즈 인텔 년간 유럽 반도체 생산연구개발에 조 원 투자</td>\n",
       "      <td>글로벌 비즈 인텔 년 유럽 반도체 생산 연구개발 조 원 투자</td>\n",
       "    </tr>\n",
       "    <tr>\n",
       "      <th>58439</th>\n",
       "      <td>2022-03-16</td>\n",
       "      <td>미반도체지수 급등에도삼성전자 만원선에서 공방</td>\n",
       "      <td>미반 도체 지수 급등 전자 원선 방</td>\n",
       "    </tr>\n",
       "    <tr>\n",
       "      <th>58440</th>\n",
       "      <td>2022-03-16</td>\n",
       "      <td>SK실트론 인치 반도체 웨이퍼 공장 증설에 조 투자</td>\n",
       "      <td>실 트론 인치 반도체 웨이퍼 공장 증설 조 투자</td>\n",
       "    </tr>\n",
       "    <tr>\n",
       "      <th>58441</th>\n",
       "      <td>2022-03-16</td>\n",
       "      <td>장덕현 삼성전기 사장 반도체 기판 SoS가 주도</td>\n",
       "      <td>장덕 현 삼성 전기 사장 반도체 판 주도</td>\n",
       "    </tr>\n",
       "  </tbody>\n",
       "</table>\n",
       "<p>58442 rows × 3 columns</p>\n",
       "</div>"
      ],
      "text/plain": [
       "            date                                       title  \\\n",
       "0     2015-10-19                       먹거나 먹히거나반도체업계 합종연횡 활발   \n",
       "1     2015-10-19                       반도체  반도체 투자 감소 예상  미래   \n",
       "2     2015-10-19                     특징주제주반도체 미중 대규모 투자유치에 상   \n",
       "3     2015-10-19                       제주반도체 해외투자유치설 조회공시 요구   \n",
       "4     2015-10-19                     반도체사 인수합병 봇물올 들어 억달러 돌파   \n",
       "...          ...                                         ...   \n",
       "58437 2022-03-16  장덕현 삼성전기 사장 반도체 기판 위에 모든 시스템 통합하는 SoS 시장 이   \n",
       "58438 2022-03-16          글로벌 비즈 인텔 년간 유럽 반도체 생산연구개발에 조 원 투자   \n",
       "58439 2022-03-16                    미반도체지수 급등에도삼성전자 만원선에서 공방   \n",
       "58440 2022-03-16                SK실트론 인치 반도체 웨이퍼 공장 증설에 조 투자   \n",
       "58441 2022-03-16                  장덕현 삼성전기 사장 반도체 기판 SoS가 주도   \n",
       "\n",
       "                                      nouns  \n",
       "0                            반도체 업계 합종연횡 활발  \n",
       "1                       반도체 반도체 투자 감소 예상 미래  \n",
       "2                      특징 반도체 중 대규모 투자 유치 상  \n",
       "3                제주 반도체 해외 투자 유치 설 조회 공시 요구  \n",
       "4                     반도 체사 인수합병 봇 물올 달러 돌파  \n",
       "...                                     ...  \n",
       "58437  장덕 현 삼성 전기 사장 반도체 판 위 모든 시스템 통합 시장 이  \n",
       "58438     글로벌 비즈 인텔 년 유럽 반도체 생산 연구개발 조 원 투자  \n",
       "58439                   미반 도체 지수 급등 전자 원선 방  \n",
       "58440            실 트론 인치 반도체 웨이퍼 공장 증설 조 투자  \n",
       "58441                장덕 현 삼성 전기 사장 반도체 판 주도  \n",
       "\n",
       "[58442 rows x 3 columns]"
      ]
     },
     "execution_count": 146,
     "metadata": {},
     "output_type": "execute_result"
    }
   ],
   "source": [
    "newsdata_all = newsdata[newsdata['date'].between('2015-10-19', '2022-03-16')]\n",
    "newsdata_all"
   ]
  },
  {
   "cell_type": "code",
   "execution_count": 135,
   "metadata": {},
   "outputs": [
    {
     "data": {
      "text/plain": [
       "[Timestamp('2015-10-19 00:00:00'),\n",
       " Timestamp('2015-10-19 00:00:00'),\n",
       " Timestamp('2015-10-19 00:00:00'),\n",
       " Timestamp('2015-10-19 00:00:00'),\n",
       " Timestamp('2015-10-19 00:00:00')]"
      ]
     },
     "execution_count": 135,
     "metadata": {},
     "output_type": "execute_result"
    }
   ],
   "source": [
    "news = newsdata_all['date'].to_list()\n",
    "news[:5]"
   ]
  },
  {
   "cell_type": "markdown",
   "metadata": {},
   "source": [
    "## 2. 한국 거래소 개장일 확인"
   ]
  },
  {
   "cell_type": "code",
   "execution_count": 74,
   "metadata": {},
   "outputs": [
    {
     "name": "stdout",
     "output_type": "stream",
     "text": [
      "2021-01-01 개장 확인:  False\n",
      "오늘날짜 개장일 확인:  False\n",
      "다음 개장일 날짜 확인:  2022-03-21 00:00:00+00:00\n"
     ]
    }
   ],
   "source": [
    "# 한국코드\n",
    "XKRX = ecals.get_calendar(\"XKRX\")       \n",
    "# 2021-01-01은 개장일인지 확인\n",
    "print(\"2021-01-01 개장 확인: \", XKRX.is_session('2021-01-01'))    \n",
    "# 오늘(22-03-19)은 개장일인지 확인\n",
    "print(\"오늘날짜 개장일 확인: \", XKRX.is_session(datetime.date.today().strftime('%Y-%m-%d')))  \n",
    "# 다음 개장일은 언제인지 확인\n",
    "print(\"다음 개장일 날짜 확인: \", XKRX.next_open(pd.Timestamp.today().strftime('%Y-%m-%d')))"
   ]
  },
  {
   "cell_type": "code",
   "execution_count": 87,
   "metadata": {},
   "outputs": [
    {
     "data": {
      "text/plain": [
       "Timestamp('2015-10-20 00:00:00+0000', tz='UTC')"
      ]
     },
     "execution_count": 87,
     "metadata": {},
     "output_type": "execute_result"
    }
   ],
   "source": [
    "XKRX.next_open(news_date[0])"
   ]
  },
  {
   "cell_type": "code",
   "execution_count": 128,
   "metadata": {},
   "outputs": [],
   "source": [
    "# 뉴스데이터 날짜 다음날에 해당하는 개장일 날짜 확인\n",
    "next_open_list = []\n",
    "\n",
    "for day in news:\n",
    "    next_open_date = XKRX.next_open(day)\n",
    "    next_open_list.append(next_open_date)"
   ]
  },
  {
   "cell_type": "code",
   "execution_count": 134,
   "metadata": {},
   "outputs": [
    {
     "data": {
      "text/plain": [
       "[Timestamp('2015-10-20 00:00:00+0000', tz='UTC'),\n",
       " Timestamp('2015-10-20 00:00:00+0000', tz='UTC'),\n",
       " Timestamp('2015-10-20 00:00:00+0000', tz='UTC'),\n",
       " Timestamp('2015-10-20 00:00:00+0000', tz='UTC'),\n",
       " Timestamp('2015-10-20 00:00:00+0000', tz='UTC')]"
      ]
     },
     "execution_count": 134,
     "metadata": {},
     "output_type": "execute_result"
    }
   ],
   "source": [
    "next_open_list[:5]"
   ]
  },
  {
   "cell_type": "code",
   "execution_count": 158,
   "metadata": {},
   "outputs": [
    {
     "data": {
      "text/html": [
       "<div>\n",
       "<style scoped>\n",
       "    .dataframe tbody tr th:only-of-type {\n",
       "        vertical-align: middle;\n",
       "    }\n",
       "\n",
       "    .dataframe tbody tr th {\n",
       "        vertical-align: top;\n",
       "    }\n",
       "\n",
       "    .dataframe thead th {\n",
       "        text-align: right;\n",
       "    }\n",
       "</style>\n",
       "<table border=\"1\" class=\"dataframe\">\n",
       "  <thead>\n",
       "    <tr style=\"text-align: right;\">\n",
       "      <th></th>\n",
       "      <th>date</th>\n",
       "      <th>title</th>\n",
       "      <th>nouns</th>\n",
       "      <th>NextOpenDate</th>\n",
       "    </tr>\n",
       "  </thead>\n",
       "  <tbody>\n",
       "    <tr>\n",
       "      <th>0</th>\n",
       "      <td>2015-10-19</td>\n",
       "      <td>먹거나 먹히거나반도체업계 합종연횡 활발</td>\n",
       "      <td>반도체 업계 합종연횡 활발</td>\n",
       "      <td>2015-10-20 00:00:00+00:00</td>\n",
       "    </tr>\n",
       "    <tr>\n",
       "      <th>1</th>\n",
       "      <td>2015-10-19</td>\n",
       "      <td>반도체  반도체 투자 감소 예상  미래</td>\n",
       "      <td>반도체 반도체 투자 감소 예상 미래</td>\n",
       "      <td>2015-10-20 00:00:00+00:00</td>\n",
       "    </tr>\n",
       "    <tr>\n",
       "      <th>2</th>\n",
       "      <td>2015-10-19</td>\n",
       "      <td>특징주제주반도체 미중 대규모 투자유치에 상</td>\n",
       "      <td>특징 반도체 중 대규모 투자 유치 상</td>\n",
       "      <td>2015-10-20 00:00:00+00:00</td>\n",
       "    </tr>\n",
       "    <tr>\n",
       "      <th>3</th>\n",
       "      <td>2015-10-19</td>\n",
       "      <td>제주반도체 해외투자유치설 조회공시 요구</td>\n",
       "      <td>제주 반도체 해외 투자 유치 설 조회 공시 요구</td>\n",
       "      <td>2015-10-20 00:00:00+00:00</td>\n",
       "    </tr>\n",
       "    <tr>\n",
       "      <th>4</th>\n",
       "      <td>2015-10-19</td>\n",
       "      <td>반도체사 인수합병 봇물올 들어 억달러 돌파</td>\n",
       "      <td>반도 체사 인수합병 봇 물올 달러 돌파</td>\n",
       "      <td>2015-10-20 00:00:00+00:00</td>\n",
       "    </tr>\n",
       "    <tr>\n",
       "      <th>...</th>\n",
       "      <td>...</td>\n",
       "      <td>...</td>\n",
       "      <td>...</td>\n",
       "      <td>...</td>\n",
       "    </tr>\n",
       "    <tr>\n",
       "      <th>58437</th>\n",
       "      <td>2022-03-16</td>\n",
       "      <td>장덕현 삼성전기 사장 반도체 기판 위에 모든 시스템 통합하는 SoS 시장 이</td>\n",
       "      <td>장덕 현 삼성 전기 사장 반도체 판 위 모든 시스템 통합 시장 이</td>\n",
       "      <td>2022-03-17 00:00:00+00:00</td>\n",
       "    </tr>\n",
       "    <tr>\n",
       "      <th>58438</th>\n",
       "      <td>2022-03-16</td>\n",
       "      <td>글로벌 비즈 인텔 년간 유럽 반도체 생산연구개발에 조 원 투자</td>\n",
       "      <td>글로벌 비즈 인텔 년 유럽 반도체 생산 연구개발 조 원 투자</td>\n",
       "      <td>2022-03-17 00:00:00+00:00</td>\n",
       "    </tr>\n",
       "    <tr>\n",
       "      <th>58439</th>\n",
       "      <td>2022-03-16</td>\n",
       "      <td>미반도체지수 급등에도삼성전자 만원선에서 공방</td>\n",
       "      <td>미반 도체 지수 급등 전자 원선 방</td>\n",
       "      <td>2022-03-17 00:00:00+00:00</td>\n",
       "    </tr>\n",
       "    <tr>\n",
       "      <th>58440</th>\n",
       "      <td>2022-03-16</td>\n",
       "      <td>SK실트론 인치 반도체 웨이퍼 공장 증설에 조 투자</td>\n",
       "      <td>실 트론 인치 반도체 웨이퍼 공장 증설 조 투자</td>\n",
       "      <td>2022-03-17 00:00:00+00:00</td>\n",
       "    </tr>\n",
       "    <tr>\n",
       "      <th>58441</th>\n",
       "      <td>2022-03-16</td>\n",
       "      <td>장덕현 삼성전기 사장 반도체 기판 SoS가 주도</td>\n",
       "      <td>장덕 현 삼성 전기 사장 반도체 판 주도</td>\n",
       "      <td>2022-03-17 00:00:00+00:00</td>\n",
       "    </tr>\n",
       "  </tbody>\n",
       "</table>\n",
       "<p>58442 rows × 4 columns</p>\n",
       "</div>"
      ],
      "text/plain": [
       "            date                                       title  \\\n",
       "0     2015-10-19                       먹거나 먹히거나반도체업계 합종연횡 활발   \n",
       "1     2015-10-19                       반도체  반도체 투자 감소 예상  미래   \n",
       "2     2015-10-19                     특징주제주반도체 미중 대규모 투자유치에 상   \n",
       "3     2015-10-19                       제주반도체 해외투자유치설 조회공시 요구   \n",
       "4     2015-10-19                     반도체사 인수합병 봇물올 들어 억달러 돌파   \n",
       "...          ...                                         ...   \n",
       "58437 2022-03-16  장덕현 삼성전기 사장 반도체 기판 위에 모든 시스템 통합하는 SoS 시장 이   \n",
       "58438 2022-03-16          글로벌 비즈 인텔 년간 유럽 반도체 생산연구개발에 조 원 투자   \n",
       "58439 2022-03-16                    미반도체지수 급등에도삼성전자 만원선에서 공방   \n",
       "58440 2022-03-16                SK실트론 인치 반도체 웨이퍼 공장 증설에 조 투자   \n",
       "58441 2022-03-16                  장덕현 삼성전기 사장 반도체 기판 SoS가 주도   \n",
       "\n",
       "                                      nouns              NextOpenDate  \n",
       "0                            반도체 업계 합종연횡 활발 2015-10-20 00:00:00+00:00  \n",
       "1                       반도체 반도체 투자 감소 예상 미래 2015-10-20 00:00:00+00:00  \n",
       "2                      특징 반도체 중 대규모 투자 유치 상 2015-10-20 00:00:00+00:00  \n",
       "3                제주 반도체 해외 투자 유치 설 조회 공시 요구 2015-10-20 00:00:00+00:00  \n",
       "4                     반도 체사 인수합병 봇 물올 달러 돌파 2015-10-20 00:00:00+00:00  \n",
       "...                                     ...                       ...  \n",
       "58437  장덕 현 삼성 전기 사장 반도체 판 위 모든 시스템 통합 시장 이 2022-03-17 00:00:00+00:00  \n",
       "58438     글로벌 비즈 인텔 년 유럽 반도체 생산 연구개발 조 원 투자 2022-03-17 00:00:00+00:00  \n",
       "58439                   미반 도체 지수 급등 전자 원선 방 2022-03-17 00:00:00+00:00  \n",
       "58440            실 트론 인치 반도체 웨이퍼 공장 증설 조 투자 2022-03-17 00:00:00+00:00  \n",
       "58441                장덕 현 삼성 전기 사장 반도체 판 주도 2022-03-17 00:00:00+00:00  \n",
       "\n",
       "[58442 rows x 4 columns]"
      ]
     },
     "execution_count": 158,
     "metadata": {},
     "output_type": "execute_result"
    }
   ],
   "source": [
    "# 뉴스나온 날짜 다음 개장일 컬럼 추가\n",
    "newsdata_all['NextOpenDate'] = next_open_list\n",
    "newsdata_all"
   ]
  },
  {
   "cell_type": "code",
   "execution_count": 159,
   "metadata": {},
   "outputs": [
    {
     "name": "stdout",
     "output_type": "stream",
     "text": [
      "<class 'pandas.core.frame.DataFrame'>\n",
      "Int64Index: 58442 entries, 0 to 58441\n",
      "Data columns (total 4 columns):\n",
      " #   Column        Non-Null Count  Dtype              \n",
      "---  ------        --------------  -----              \n",
      " 0   date          58442 non-null  datetime64[ns]     \n",
      " 1   title         58442 non-null  object             \n",
      " 2   nouns         58442 non-null  object             \n",
      " 3   NextOpenDate  58442 non-null  datetime64[ns, UTC]\n",
      "dtypes: datetime64[ns, UTC](1), datetime64[ns](1), object(2)\n",
      "memory usage: 4.2+ MB\n"
     ]
    }
   ],
   "source": [
    "newsdata_all.info()"
   ]
  },
  {
   "cell_type": "code",
   "execution_count": 160,
   "metadata": {},
   "outputs": [
    {
     "name": "stdout",
     "output_type": "stream",
     "text": [
      "<class 'pandas.core.frame.DataFrame'>\n",
      "Int64Index: 58442 entries, 0 to 58441\n",
      "Data columns (total 4 columns):\n",
      " #   Column        Non-Null Count  Dtype         \n",
      "---  ------        --------------  -----         \n",
      " 0   date          58442 non-null  datetime64[ns]\n",
      " 1   title         58442 non-null  object        \n",
      " 2   nouns         58442 non-null  object        \n",
      " 3   NextOpenDate  58442 non-null  string        \n",
      "dtypes: datetime64[ns](1), object(2), string(1)\n",
      "memory usage: 4.2+ MB\n"
     ]
    }
   ],
   "source": [
    "newsdata_all = newsdata_all.astype({'NextOpenDate':'string'})\n",
    "newsdata_all.info()"
   ]
  },
  {
   "cell_type": "code",
   "execution_count": 161,
   "metadata": {},
   "outputs": [
    {
     "data": {
      "text/plain": [
       "'2015-10-20'"
      ]
     },
     "execution_count": 161,
     "metadata": {},
     "output_type": "execute_result"
    }
   ],
   "source": [
    "a = newsdata_all['NextOpenDate'][0]\n",
    "b = a.split(' ')[0]\n",
    "b"
   ]
  },
  {
   "cell_type": "code",
   "execution_count": 162,
   "metadata": {},
   "outputs": [
    {
     "data": {
      "text/html": [
       "<div>\n",
       "<style scoped>\n",
       "    .dataframe tbody tr th:only-of-type {\n",
       "        vertical-align: middle;\n",
       "    }\n",
       "\n",
       "    .dataframe tbody tr th {\n",
       "        vertical-align: top;\n",
       "    }\n",
       "\n",
       "    .dataframe thead th {\n",
       "        text-align: right;\n",
       "    }\n",
       "</style>\n",
       "<table border=\"1\" class=\"dataframe\">\n",
       "  <thead>\n",
       "    <tr style=\"text-align: right;\">\n",
       "      <th></th>\n",
       "      <th>date</th>\n",
       "      <th>title</th>\n",
       "      <th>nouns</th>\n",
       "      <th>NextOpenDate</th>\n",
       "    </tr>\n",
       "  </thead>\n",
       "  <tbody>\n",
       "    <tr>\n",
       "      <th>0</th>\n",
       "      <td>2015-10-19</td>\n",
       "      <td>먹거나 먹히거나반도체업계 합종연횡 활발</td>\n",
       "      <td>반도체 업계 합종연횡 활발</td>\n",
       "      <td>2015-10-20</td>\n",
       "    </tr>\n",
       "    <tr>\n",
       "      <th>1</th>\n",
       "      <td>2015-10-19</td>\n",
       "      <td>반도체  반도체 투자 감소 예상  미래</td>\n",
       "      <td>반도체 반도체 투자 감소 예상 미래</td>\n",
       "      <td>2015-10-20</td>\n",
       "    </tr>\n",
       "    <tr>\n",
       "      <th>2</th>\n",
       "      <td>2015-10-19</td>\n",
       "      <td>특징주제주반도체 미중 대규모 투자유치에 상</td>\n",
       "      <td>특징 반도체 중 대규모 투자 유치 상</td>\n",
       "      <td>2015-10-20</td>\n",
       "    </tr>\n",
       "    <tr>\n",
       "      <th>3</th>\n",
       "      <td>2015-10-19</td>\n",
       "      <td>제주반도체 해외투자유치설 조회공시 요구</td>\n",
       "      <td>제주 반도체 해외 투자 유치 설 조회 공시 요구</td>\n",
       "      <td>2015-10-20</td>\n",
       "    </tr>\n",
       "    <tr>\n",
       "      <th>4</th>\n",
       "      <td>2015-10-19</td>\n",
       "      <td>반도체사 인수합병 봇물올 들어 억달러 돌파</td>\n",
       "      <td>반도 체사 인수합병 봇 물올 달러 돌파</td>\n",
       "      <td>2015-10-20</td>\n",
       "    </tr>\n",
       "    <tr>\n",
       "      <th>...</th>\n",
       "      <td>...</td>\n",
       "      <td>...</td>\n",
       "      <td>...</td>\n",
       "      <td>...</td>\n",
       "    </tr>\n",
       "    <tr>\n",
       "      <th>58437</th>\n",
       "      <td>2022-03-16</td>\n",
       "      <td>장덕현 삼성전기 사장 반도체 기판 위에 모든 시스템 통합하는 SoS 시장 이</td>\n",
       "      <td>장덕 현 삼성 전기 사장 반도체 판 위 모든 시스템 통합 시장 이</td>\n",
       "      <td>2022-03-17</td>\n",
       "    </tr>\n",
       "    <tr>\n",
       "      <th>58438</th>\n",
       "      <td>2022-03-16</td>\n",
       "      <td>글로벌 비즈 인텔 년간 유럽 반도체 생산연구개발에 조 원 투자</td>\n",
       "      <td>글로벌 비즈 인텔 년 유럽 반도체 생산 연구개발 조 원 투자</td>\n",
       "      <td>2022-03-17</td>\n",
       "    </tr>\n",
       "    <tr>\n",
       "      <th>58439</th>\n",
       "      <td>2022-03-16</td>\n",
       "      <td>미반도체지수 급등에도삼성전자 만원선에서 공방</td>\n",
       "      <td>미반 도체 지수 급등 전자 원선 방</td>\n",
       "      <td>2022-03-17</td>\n",
       "    </tr>\n",
       "    <tr>\n",
       "      <th>58440</th>\n",
       "      <td>2022-03-16</td>\n",
       "      <td>SK실트론 인치 반도체 웨이퍼 공장 증설에 조 투자</td>\n",
       "      <td>실 트론 인치 반도체 웨이퍼 공장 증설 조 투자</td>\n",
       "      <td>2022-03-17</td>\n",
       "    </tr>\n",
       "    <tr>\n",
       "      <th>58441</th>\n",
       "      <td>2022-03-16</td>\n",
       "      <td>장덕현 삼성전기 사장 반도체 기판 SoS가 주도</td>\n",
       "      <td>장덕 현 삼성 전기 사장 반도체 판 주도</td>\n",
       "      <td>2022-03-17</td>\n",
       "    </tr>\n",
       "  </tbody>\n",
       "</table>\n",
       "<p>58442 rows × 4 columns</p>\n",
       "</div>"
      ],
      "text/plain": [
       "            date                                       title  \\\n",
       "0     2015-10-19                       먹거나 먹히거나반도체업계 합종연횡 활발   \n",
       "1     2015-10-19                       반도체  반도체 투자 감소 예상  미래   \n",
       "2     2015-10-19                     특징주제주반도체 미중 대규모 투자유치에 상   \n",
       "3     2015-10-19                       제주반도체 해외투자유치설 조회공시 요구   \n",
       "4     2015-10-19                     반도체사 인수합병 봇물올 들어 억달러 돌파   \n",
       "...          ...                                         ...   \n",
       "58437 2022-03-16  장덕현 삼성전기 사장 반도체 기판 위에 모든 시스템 통합하는 SoS 시장 이   \n",
       "58438 2022-03-16          글로벌 비즈 인텔 년간 유럽 반도체 생산연구개발에 조 원 투자   \n",
       "58439 2022-03-16                    미반도체지수 급등에도삼성전자 만원선에서 공방   \n",
       "58440 2022-03-16                SK실트론 인치 반도체 웨이퍼 공장 증설에 조 투자   \n",
       "58441 2022-03-16                  장덕현 삼성전기 사장 반도체 기판 SoS가 주도   \n",
       "\n",
       "                                      nouns NextOpenDate  \n",
       "0                            반도체 업계 합종연횡 활발   2015-10-20  \n",
       "1                       반도체 반도체 투자 감소 예상 미래   2015-10-20  \n",
       "2                      특징 반도체 중 대규모 투자 유치 상   2015-10-20  \n",
       "3                제주 반도체 해외 투자 유치 설 조회 공시 요구   2015-10-20  \n",
       "4                     반도 체사 인수합병 봇 물올 달러 돌파   2015-10-20  \n",
       "...                                     ...          ...  \n",
       "58437  장덕 현 삼성 전기 사장 반도체 판 위 모든 시스템 통합 시장 이   2022-03-17  \n",
       "58438     글로벌 비즈 인텔 년 유럽 반도체 생산 연구개발 조 원 투자   2022-03-17  \n",
       "58439                   미반 도체 지수 급등 전자 원선 방   2022-03-17  \n",
       "58440            실 트론 인치 반도체 웨이퍼 공장 증설 조 투자   2022-03-17  \n",
       "58441                장덕 현 삼성 전기 사장 반도체 판 주도   2022-03-17  \n",
       "\n",
       "[58442 rows x 4 columns]"
      ]
     },
     "execution_count": 162,
     "metadata": {},
     "output_type": "execute_result"
    }
   ],
   "source": [
    "newsdata_all['NextOpenDate'] = newsdata_all['NextOpenDate'].apply(lambda x: x.split(' ')[0])\n",
    "newsdata_all"
   ]
  },
  {
   "cell_type": "code",
   "execution_count": 163,
   "metadata": {},
   "outputs": [
    {
     "name": "stdout",
     "output_type": "stream",
     "text": [
      "<class 'pandas.core.frame.DataFrame'>\n",
      "Int64Index: 58442 entries, 0 to 58441\n",
      "Data columns (total 4 columns):\n",
      " #   Column        Non-Null Count  Dtype         \n",
      "---  ------        --------------  -----         \n",
      " 0   date          58442 non-null  datetime64[ns]\n",
      " 1   title         58442 non-null  object        \n",
      " 2   nouns         58442 non-null  object        \n",
      " 3   NextOpenDate  58442 non-null  datetime64[ns]\n",
      "dtypes: datetime64[ns](2), object(2)\n",
      "memory usage: 4.2+ MB\n"
     ]
    }
   ],
   "source": [
    "newsdata_all['NextOpenDate'] = pd.to_datetime(newsdata_all['NextOpenDate'])\n",
    "newsdata_all.info()"
   ]
  },
  {
   "cell_type": "code",
   "execution_count": 167,
   "metadata": {},
   "outputs": [
    {
     "data": {
      "text/plain": [
       "array(['date', 'title', 'nouns', 'NextOpenDate'], dtype=object)"
      ]
     },
     "execution_count": 167,
     "metadata": {},
     "output_type": "execute_result"
    }
   ],
   "source": [
    "# col의 인덱스 변경\n",
    "col = newsdata_all.columns.to_numpy()\n",
    "col"
   ]
  },
  {
   "cell_type": "code",
   "execution_count": 168,
   "metadata": {},
   "outputs": [
    {
     "data": {
      "text/plain": [
       "array(['date', 'NextOpenDate', 'title', 'nouns'], dtype=object)"
      ]
     },
     "execution_count": 168,
     "metadata": {},
     "output_type": "execute_result"
    }
   ],
   "source": [
    "col = col[[0,3,1,2]]\n",
    "col"
   ]
  },
  {
   "cell_type": "code",
   "execution_count": 169,
   "metadata": {},
   "outputs": [
    {
     "data": {
      "text/html": [
       "<div>\n",
       "<style scoped>\n",
       "    .dataframe tbody tr th:only-of-type {\n",
       "        vertical-align: middle;\n",
       "    }\n",
       "\n",
       "    .dataframe tbody tr th {\n",
       "        vertical-align: top;\n",
       "    }\n",
       "\n",
       "    .dataframe thead th {\n",
       "        text-align: right;\n",
       "    }\n",
       "</style>\n",
       "<table border=\"1\" class=\"dataframe\">\n",
       "  <thead>\n",
       "    <tr style=\"text-align: right;\">\n",
       "      <th></th>\n",
       "      <th>date</th>\n",
       "      <th>NextOpenDate</th>\n",
       "      <th>title</th>\n",
       "      <th>nouns</th>\n",
       "    </tr>\n",
       "  </thead>\n",
       "  <tbody>\n",
       "    <tr>\n",
       "      <th>0</th>\n",
       "      <td>2015-10-19</td>\n",
       "      <td>2015-10-20</td>\n",
       "      <td>먹거나 먹히거나반도체업계 합종연횡 활발</td>\n",
       "      <td>반도체 업계 합종연횡 활발</td>\n",
       "    </tr>\n",
       "    <tr>\n",
       "      <th>1</th>\n",
       "      <td>2015-10-19</td>\n",
       "      <td>2015-10-20</td>\n",
       "      <td>반도체  반도체 투자 감소 예상  미래</td>\n",
       "      <td>반도체 반도체 투자 감소 예상 미래</td>\n",
       "    </tr>\n",
       "    <tr>\n",
       "      <th>2</th>\n",
       "      <td>2015-10-19</td>\n",
       "      <td>2015-10-20</td>\n",
       "      <td>특징주제주반도체 미중 대규모 투자유치에 상</td>\n",
       "      <td>특징 반도체 중 대규모 투자 유치 상</td>\n",
       "    </tr>\n",
       "  </tbody>\n",
       "</table>\n",
       "</div>"
      ],
      "text/plain": [
       "        date NextOpenDate                    title                 nouns\n",
       "0 2015-10-19   2015-10-20    먹거나 먹히거나반도체업계 합종연횡 활발        반도체 업계 합종연횡 활발\n",
       "1 2015-10-19   2015-10-20    반도체  반도체 투자 감소 예상  미래   반도체 반도체 투자 감소 예상 미래\n",
       "2 2015-10-19   2015-10-20  특징주제주반도체 미중 대규모 투자유치에 상  특징 반도체 중 대규모 투자 유치 상"
      ]
     },
     "execution_count": 169,
     "metadata": {},
     "output_type": "execute_result"
    }
   ],
   "source": [
    "newsdata_all = newsdata_all[col]\n",
    "newsdata_all.head(3)"
   ]
  },
  {
   "cell_type": "code",
   "execution_count": null,
   "metadata": {},
   "outputs": [],
   "source": []
  }
 ],
 "metadata": {
  "interpreter": {
   "hash": "237dfbe96289c26a34bb3817ed9a5dda5a1f28f78dcc25894f58473fa7732fcf"
  },
  "kernelspec": {
   "display_name": "Python 3.8.8 64-bit",
   "language": "python",
   "name": "python3"
  },
  "language_info": {
   "codemirror_mode": {
    "name": "ipython",
    "version": 3
   },
   "file_extension": ".py",
   "mimetype": "text/x-python",
   "name": "python",
   "nbconvert_exporter": "python",
   "pygments_lexer": "ipython3",
   "version": "3.8.8"
  },
  "orig_nbformat": 4
 },
 "nbformat": 4,
 "nbformat_minor": 2
}
