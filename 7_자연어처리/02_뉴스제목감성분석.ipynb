{
 "cells": [
  {
   "cell_type": "markdown",
   "metadata": {},
   "source": [
    "## 참고 링크\n",
    "- 데이터 전처리 참고 : https://dacon.io/competitions/official/235747/codeshare/3054\n",
    "- 데이터 다운로드 : https://www.bigkinds.or.kr/v2/news/index.do \n",
    "- 뉴스 감성지수 분류 모델 참고 : https://sieon-dev.tistory.com/15\n",
    "- 기사 제목으로 긍정 부정 중립 분류 모델 만들기 참고 : https://somjang.tistory.com/entry/Keras%EA%B8%B0%EC%82%AC-%EC%A0%9C%EB%AA%A9%EC%9D%84-%EA%B0%80%EC%A7%80%EA%B3%A0-%EA%B8%8D%EC%A0%95-%EB%B6%80%EC%A0%95-%EC%A4%91%EB%A6%BD-%EB%B6%84%EB%A5%98%ED%95%98%EB%8A%94-%EB%AA%A8%EB%8D%B8-%EB%A7%8C%EB%93%A4%EC%96%B4%EB%B3%B4%EA%B8%B0\n",
    "- 자연어 처리 참고 : https://wikidocs.net/book/2155"
   ]
  },
  {
   "cell_type": "code",
   "execution_count": 1,
   "metadata": {},
   "outputs": [],
   "source": [
    "import pandas as pd\n",
    "import numpy as np\n",
    "import matplotlib.pyplot as plt\n",
    "import re\n",
    "import urllib.request\n",
    "from konlpy.tag import Okt\n",
    "from tqdm import tqdm\n",
    "from tensorflow.keras.preprocessing.text import Tokenizer\n",
    "from tensorflow.keras.preprocessing.sequence import pad_sequences\n",
    "import warnings\n",
    "warnings.filterwarnings(\"ignore\")\n",
    "import hanja\n",
    "from hanja import hangul\n",
    "import seaborn as sns\n",
    "import matplotlib.pyplot as plt"
   ]
  },
  {
   "cell_type": "code",
   "execution_count": 2,
   "metadata": {},
   "outputs": [],
   "source": [
    "import os"
   ]
  },
  {
   "cell_type": "markdown",
   "metadata": {},
   "source": [
    "## 1. 데이터 로드"
   ]
  },
  {
   "cell_type": "code",
   "execution_count": 3,
   "metadata": {},
   "outputs": [
    {
     "name": "stdout",
     "output_type": "stream",
     "text": [
      "c:\\Workspace\\HK_Project\\7_자연어처리\n"
     ]
    }
   ],
   "source": [
    "# 작업경로 확인\n",
    "print(os.getcwd())"
   ]
  },
  {
   "cell_type": "code",
   "execution_count": null,
   "metadata": {},
   "outputs": [],
   "source": [
    "os.makedirs(\"c:/Workspace/HK_Project/7_자연어처리/data\")"
   ]
  },
  {
   "cell_type": "code",
   "execution_count": null,
   "metadata": {},
   "outputs": [],
   "source": [
    "# 파일 경로 설정\n",
    "filePath = \"c:/Workspace/HK_Project/7_자연어처리/data/bigkinds_NewsData.xlsx\""
   ]
  },
  {
   "cell_type": "code",
   "execution_count": null,
   "metadata": {},
   "outputs": [],
   "source": [
    "# 디렉토리 변경 : `os.chdir(\"가고 싶은 경로\")`"
   ]
  },
  {
   "cell_type": "code",
   "execution_count": 13,
   "metadata": {},
   "outputs": [
    {
     "data": {
      "text/plain": [
       "'bigkinds_NewsData.xlsx'"
      ]
     },
     "execution_count": 13,
     "metadata": {},
     "output_type": "execute_result"
    }
   ],
   "source": [
    "# 경로에서 파일명만 확인\n",
    "os.path.basename(filePath)"
   ]
  },
  {
   "cell_type": "code",
   "execution_count": 5,
   "metadata": {},
   "outputs": [
    {
     "data": {
      "text/html": [
       "<div>\n",
       "<style scoped>\n",
       "    .dataframe tbody tr th:only-of-type {\n",
       "        vertical-align: middle;\n",
       "    }\n",
       "\n",
       "    .dataframe tbody tr th {\n",
       "        vertical-align: top;\n",
       "    }\n",
       "\n",
       "    .dataframe thead th {\n",
       "        text-align: right;\n",
       "    }\n",
       "</style>\n",
       "<table border=\"1\" class=\"dataframe\">\n",
       "  <thead>\n",
       "    <tr style=\"text-align: right;\">\n",
       "      <th></th>\n",
       "      <th>뉴스 식별자</th>\n",
       "      <th>일자</th>\n",
       "      <th>언론사</th>\n",
       "      <th>기고자</th>\n",
       "      <th>제목</th>\n",
       "      <th>통합 분류1</th>\n",
       "      <th>통합 분류2</th>\n",
       "      <th>통합 분류3</th>\n",
       "      <th>사건/사고 분류1</th>\n",
       "      <th>사건/사고 분류2</th>\n",
       "      <th>사건/사고 분류3</th>\n",
       "      <th>인물</th>\n",
       "      <th>위치</th>\n",
       "      <th>기관</th>\n",
       "      <th>키워드</th>\n",
       "      <th>특성추출(가중치순 상위 50개)</th>\n",
       "      <th>본문</th>\n",
       "      <th>URL</th>\n",
       "      <th>분석제외 여부</th>\n",
       "    </tr>\n",
       "  </thead>\n",
       "  <tbody>\n",
       "    <tr>\n",
       "      <th>0</th>\n",
       "      <td>2.100201e+06</td>\n",
       "      <td>20220316</td>\n",
       "      <td>머니투데이</td>\n",
       "      <td>강상구|MTN PD</td>\n",
       "      <td>[갈 테마 가라] 2분기엔 턴어라운드 미리 선점해야 할 반도체 탑픽은?</td>\n",
       "      <td>경제&gt;반도체</td>\n",
       "      <td>경제&gt;유통</td>\n",
       "      <td>경제&gt;자동차</td>\n",
       "      <td>NaN</td>\n",
       "      <td>NaN</td>\n",
       "      <td>NaN</td>\n",
       "      <td>NaN</td>\n",
       "      <td>신사</td>\n",
       "      <td>머니투데이방송,MTNW,PMI,SK하이닉스</td>\n",
       "      <td>2분기,턴어라운드,선점,반도체,탑픽,진행,앵커,최희정,머니투데이방송,출연,어드바이저...</td>\n",
       "      <td>반도체,김진만,반도체주,최희정,머니투데이방송,구체화,턴어라운드,하이닉스,sic,성수...</td>\n",
       "      <td>[머니투데이 강상구 MTN PD] \\n\\n\\n진행 : 최희정 머니투데이방송 앵커\\n...</td>\n",
       "      <td>http://news.moneytoday.co.kr/view/mtview.php?n...</td>\n",
       "      <td>NaN</td>\n",
       "    </tr>\n",
       "    <tr>\n",
       "      <th>1</th>\n",
       "      <td>2.100601e+06</td>\n",
       "      <td>20220316</td>\n",
       "      <td>한국경제</td>\n",
       "      <td>강경주</td>\n",
       "      <td>인텔, 작정하고 유럽에 100조 넘게 '반도체 투자'</td>\n",
       "      <td>경제&gt;반도체</td>\n",
       "      <td>경제&gt;자동차</td>\n",
       "      <td>경제&gt;유통</td>\n",
       "      <td>NaN</td>\n",
       "      <td>NaN</td>\n",
       "      <td>NaN</td>\n",
       "      <td>겔싱어,우르줄라</td>\n",
       "      <td>프랑스,미국,폴란드,고성,유럽,대유럽,바르셀로나엔,아시아,스페인,최고경영자,마그데부...</td>\n",
       "      <td>EU,인텔,라이엔,유럽연합(</td>\n",
       "      <td>인텔,작정,유럽,100조,반도체,투자,미국,반도체,기업,인텔,10년,유럽,반도체,생...</td>\n",
       "      <td>인텔,반도체,유로,eu,유럽,미국,폴란드,프랑스,우르줄라,파운드리,겔싱어,바르셀로나...</td>\n",
       "      <td>미국 반도체 기업 인텔이 앞으로 10년간 유럽에 반도체 생산과 연구 개발(R&amp;D)을...</td>\n",
       "      <td>https://www.hankyung.com/economy/article/20220...</td>\n",
       "      <td>NaN</td>\n",
       "    </tr>\n",
       "  </tbody>\n",
       "</table>\n",
       "</div>"
      ],
      "text/plain": [
       "         뉴스 식별자        일자    언론사         기고자  \\\n",
       "0  2.100201e+06  20220316  머니투데이  강상구|MTN PD   \n",
       "1  2.100601e+06  20220316   한국경제         강경주   \n",
       "\n",
       "                                        제목  통합 분류1   통합 분류2   통합 분류3  \\\n",
       "0  [갈 테마 가라] 2분기엔 턴어라운드 미리 선점해야 할 반도체 탑픽은?  경제>반도체    경제>유통   경제>자동차   \n",
       "1            인텔, 작정하고 유럽에 100조 넘게 '반도체 투자'  경제>반도체   경제>자동차    경제>유통   \n",
       "\n",
       "  사건/사고 분류1 사건/사고 분류2 사건/사고 분류3        인물  \\\n",
       "0       NaN       NaN       NaN       NaN   \n",
       "1       NaN       NaN       NaN  겔싱어,우르줄라   \n",
       "\n",
       "                                                  위치                       기관  \\\n",
       "0                                                 신사  머니투데이방송,MTNW,PMI,SK하이닉스   \n",
       "1  프랑스,미국,폴란드,고성,유럽,대유럽,바르셀로나엔,아시아,스페인,최고경영자,마그데부...          EU,인텔,라이엔,유럽연합(   \n",
       "\n",
       "                                                 키워드  \\\n",
       "0  2분기,턴어라운드,선점,반도체,탑픽,진행,앵커,최희정,머니투데이방송,출연,어드바이저...   \n",
       "1  인텔,작정,유럽,100조,반도체,투자,미국,반도체,기업,인텔,10년,유럽,반도체,생...   \n",
       "\n",
       "                                   특성추출(가중치순 상위 50개)  \\\n",
       "0  반도체,김진만,반도체주,최희정,머니투데이방송,구체화,턴어라운드,하이닉스,sic,성수...   \n",
       "1  인텔,반도체,유로,eu,유럽,미국,폴란드,프랑스,우르줄라,파운드리,겔싱어,바르셀로나...   \n",
       "\n",
       "                                                  본문  \\\n",
       "0  [머니투데이 강상구 MTN PD] \\n\\n\\n진행 : 최희정 머니투데이방송 앵커\\n...   \n",
       "1  미국 반도체 기업 인텔이 앞으로 10년간 유럽에 반도체 생산과 연구 개발(R&D)을...   \n",
       "\n",
       "                                                 URL 분석제외 여부  \n",
       "0  http://news.moneytoday.co.kr/view/mtview.php?n...     NaN  \n",
       "1  https://www.hankyung.com/economy/article/20220...     NaN  "
      ]
     },
     "execution_count": 5,
     "metadata": {},
     "output_type": "execute_result"
    }
   ],
   "source": [
    "df = pd.read_excel(\"data/bigkinds_NewsData.xlsx\")\n",
    "df.head(2)"
   ]
  },
  {
   "cell_type": "markdown",
   "metadata": {},
   "source": [
    "## 2. 데이터 확인"
   ]
  },
  {
   "cell_type": "code",
   "execution_count": 6,
   "metadata": {},
   "outputs": [
    {
     "name": "stdout",
     "output_type": "stream",
     "text": [
      "<class 'pandas.core.frame.DataFrame'>\n",
      "RangeIndex: 2412 entries, 0 to 2411\n",
      "Data columns (total 19 columns):\n",
      " #   Column             Non-Null Count  Dtype  \n",
      "---  ------             --------------  -----  \n",
      " 0   뉴스 식별자             2412 non-null   float64\n",
      " 1   일자                 2412 non-null   int64  \n",
      " 2   언론사                2412 non-null   object \n",
      " 3   기고자                2367 non-null   object \n",
      " 4   제목                 2412 non-null   object \n",
      " 5   통합 분류1             2412 non-null   object \n",
      " 6   통합 분류2             2284 non-null   object \n",
      " 7   통합 분류3             1963 non-null   object \n",
      " 8   사건/사고 분류1          184 non-null    object \n",
      " 9   사건/사고 분류2          16 non-null     object \n",
      " 10  사건/사고 분류3          4 non-null      object \n",
      " 11  인물                 1453 non-null   object \n",
      " 12  위치                 2176 non-null   object \n",
      " 13  기관                 2403 non-null   object \n",
      " 14  키워드                2412 non-null   object \n",
      " 15  특성추출(가중치순 상위 50개)  2412 non-null   object \n",
      " 16  본문                 2412 non-null   object \n",
      " 17  URL                2410 non-null   object \n",
      " 18  분석제외 여부            83 non-null     object \n",
      "dtypes: float64(1), int64(1), object(17)\n",
      "memory usage: 358.2+ KB\n"
     ]
    }
   ],
   "source": [
    "# 데이터 확인\n",
    "df.info()"
   ]
  },
  {
   "cell_type": "code",
   "execution_count": 7,
   "metadata": {},
   "outputs": [
    {
     "data": {
      "text/html": [
       "<div>\n",
       "<style scoped>\n",
       "    .dataframe tbody tr th:only-of-type {\n",
       "        vertical-align: middle;\n",
       "    }\n",
       "\n",
       "    .dataframe tbody tr th {\n",
       "        vertical-align: top;\n",
       "    }\n",
       "\n",
       "    .dataframe thead th {\n",
       "        text-align: right;\n",
       "    }\n",
       "</style>\n",
       "<table border=\"1\" class=\"dataframe\">\n",
       "  <thead>\n",
       "    <tr style=\"text-align: right;\">\n",
       "      <th></th>\n",
       "      <th>일자</th>\n",
       "      <th>언론사</th>\n",
       "      <th>제목</th>\n",
       "    </tr>\n",
       "  </thead>\n",
       "  <tbody>\n",
       "    <tr>\n",
       "      <th>0</th>\n",
       "      <td>20220316</td>\n",
       "      <td>머니투데이</td>\n",
       "      <td>[갈 테마 가라] 2분기엔 턴어라운드 미리 선점해야 할 반도체 탑픽은?</td>\n",
       "    </tr>\n",
       "    <tr>\n",
       "      <th>1</th>\n",
       "      <td>20220316</td>\n",
       "      <td>한국경제</td>\n",
       "      <td>인텔, 작정하고 유럽에 100조 넘게 '반도체 투자'</td>\n",
       "    </tr>\n",
       "  </tbody>\n",
       "</table>\n",
       "</div>"
      ],
      "text/plain": [
       "         일자    언론사                                       제목\n",
       "0  20220316  머니투데이  [갈 테마 가라] 2분기엔 턴어라운드 미리 선점해야 할 반도체 탑픽은?\n",
       "1  20220316   한국경제            인텔, 작정하고 유럽에 100조 넘게 '반도체 투자'"
      ]
     },
     "execution_count": 7,
     "metadata": {},
     "output_type": "execute_result"
    }
   ],
   "source": [
    "df.drop(columns=[\n",
    "                \"뉴스 식별자\", \"기고자\", \"통합 분류1\", \"통합 분류2\", \"통합 분류3\", \n",
    "                \"사건/사고 분류1\", \"사건/사고 분류2\", \"사건/사고 분류3\", \"인물\", \n",
    "                \"위치\", \"기관\", \"키워드\", \"특성추출(가중치순 상위 50개)\", \"본문\",\n",
    "                \"URL\", \"분석제외 여부\"], inplace=True)\n",
    "df.head(2)"
   ]
  },
  {
   "cell_type": "code",
   "execution_count": 8,
   "metadata": {},
   "outputs": [],
   "source": [
    "df.drop(columns=[\"언론사\"], inplace=True)"
   ]
  },
  {
   "cell_type": "code",
   "execution_count": 9,
   "metadata": {},
   "outputs": [
    {
     "data": {
      "text/html": [
       "<div>\n",
       "<style scoped>\n",
       "    .dataframe tbody tr th:only-of-type {\n",
       "        vertical-align: middle;\n",
       "    }\n",
       "\n",
       "    .dataframe tbody tr th {\n",
       "        vertical-align: top;\n",
       "    }\n",
       "\n",
       "    .dataframe thead th {\n",
       "        text-align: right;\n",
       "    }\n",
       "</style>\n",
       "<table border=\"1\" class=\"dataframe\">\n",
       "  <thead>\n",
       "    <tr style=\"text-align: right;\">\n",
       "      <th></th>\n",
       "      <th>일자</th>\n",
       "      <th>제목</th>\n",
       "    </tr>\n",
       "  </thead>\n",
       "  <tbody>\n",
       "    <tr>\n",
       "      <th>0</th>\n",
       "      <td>20220316</td>\n",
       "      <td>[갈 테마 가라] 2분기엔 턴어라운드 미리 선점해야 할 반도체 탑픽은?</td>\n",
       "    </tr>\n",
       "    <tr>\n",
       "      <th>1</th>\n",
       "      <td>20220316</td>\n",
       "      <td>인텔, 작정하고 유럽에 100조 넘게 '반도체 투자'</td>\n",
       "    </tr>\n",
       "  </tbody>\n",
       "</table>\n",
       "</div>"
      ],
      "text/plain": [
       "         일자                                       제목\n",
       "0  20220316  [갈 테마 가라] 2분기엔 턴어라운드 미리 선점해야 할 반도체 탑픽은?\n",
       "1  20220316            인텔, 작정하고 유럽에 100조 넘게 '반도체 투자'"
      ]
     },
     "execution_count": 9,
     "metadata": {},
     "output_type": "execute_result"
    }
   ],
   "source": [
    "# 일자, 제목 컬럼 확인\n",
    "df.head(2)"
   ]
  },
  {
   "cell_type": "code",
   "execution_count": 10,
   "metadata": {},
   "outputs": [
    {
     "name": "stdout",
     "output_type": "stream",
     "text": [
      "<class 'pandas.core.frame.DataFrame'>\n",
      "RangeIndex: 2412 entries, 0 to 2411\n",
      "Data columns (total 2 columns):\n",
      " #   Column  Non-Null Count  Dtype \n",
      "---  ------  --------------  ----- \n",
      " 0   일자      2412 non-null   int64 \n",
      " 1   제목      2412 non-null   object\n",
      "dtypes: int64(1), object(1)\n",
      "memory usage: 37.8+ KB\n"
     ]
    }
   ],
   "source": [
    "df.info()"
   ]
  },
  {
   "cell_type": "code",
   "execution_count": 11,
   "metadata": {},
   "outputs": [
    {
     "data": {
      "text/plain": [
       "일자    0\n",
       "제목    0\n",
       "dtype: int64"
      ]
     },
     "execution_count": 11,
     "metadata": {},
     "output_type": "execute_result"
    }
   ],
   "source": [
    "# 결측치 확인\n",
    "df.isnull().sum()"
   ]
  },
  {
   "cell_type": "markdown",
   "metadata": {},
   "source": [
    "## 3. train, test dataset 생성"
   ]
  },
  {
   "cell_type": "code",
   "execution_count": 12,
   "metadata": {},
   "outputs": [],
   "source": [
    "# train, test set 분리\n",
    "from sklearn.model_selection import train_test_split\n",
    "train_data, test_data = train_test_split(df)"
   ]
  },
  {
   "cell_type": "code",
   "execution_count": 13,
   "metadata": {},
   "outputs": [
    {
     "data": {
      "text/html": [
       "<div>\n",
       "<style scoped>\n",
       "    .dataframe tbody tr th:only-of-type {\n",
       "        vertical-align: middle;\n",
       "    }\n",
       "\n",
       "    .dataframe tbody tr th {\n",
       "        vertical-align: top;\n",
       "    }\n",
       "\n",
       "    .dataframe thead th {\n",
       "        text-align: right;\n",
       "    }\n",
       "</style>\n",
       "<table border=\"1\" class=\"dataframe\">\n",
       "  <thead>\n",
       "    <tr style=\"text-align: right;\">\n",
       "      <th></th>\n",
       "      <th>일자</th>\n",
       "      <th>제목</th>\n",
       "    </tr>\n",
       "  </thead>\n",
       "  <tbody>\n",
       "    <tr>\n",
       "      <th>73</th>\n",
       "      <td>20220314</td>\n",
       "      <td>\"유동성 줄어도 시장은 상승 리오프닝 반도체 주목\"[2022 한경스타워즈 출사표③]</td>\n",
       "    </tr>\n",
       "    <tr>\n",
       "      <th>562</th>\n",
       "      <td>20220220</td>\n",
       "      <td>인텔, 車 반도체 파운드리 진출 글로벌 경쟁 격화</td>\n",
       "    </tr>\n",
       "  </tbody>\n",
       "</table>\n",
       "</div>"
      ],
      "text/plain": [
       "           일자                                              제목\n",
       "73   20220314  \"유동성 줄어도 시장은 상승 리오프닝 반도체 주목\"[2022 한경스타워즈 출사표③]\n",
       "562  20220220                     인텔, 車 반도체 파운드리 진출 글로벌 경쟁 격화"
      ]
     },
     "execution_count": 13,
     "metadata": {},
     "output_type": "execute_result"
    }
   ],
   "source": [
    "# train_data 확인\n",
    "train_data.head(2)"
   ]
  },
  {
   "cell_type": "code",
   "execution_count": 14,
   "metadata": {},
   "outputs": [
    {
     "data": {
      "text/plain": [
       "(1809, 2)"
      ]
     },
     "execution_count": 14,
     "metadata": {},
     "output_type": "execute_result"
    }
   ],
   "source": [
    "# 데이터 개수 : 1809\n",
    "# 컬럼 수 : 2\n",
    "train_data.shape"
   ]
  },
  {
   "cell_type": "code",
   "execution_count": 15,
   "metadata": {},
   "outputs": [
    {
     "data": {
      "text/html": [
       "<div>\n",
       "<style scoped>\n",
       "    .dataframe tbody tr th:only-of-type {\n",
       "        vertical-align: middle;\n",
       "    }\n",
       "\n",
       "    .dataframe tbody tr th {\n",
       "        vertical-align: top;\n",
       "    }\n",
       "\n",
       "    .dataframe thead th {\n",
       "        text-align: right;\n",
       "    }\n",
       "</style>\n",
       "<table border=\"1\" class=\"dataframe\">\n",
       "  <thead>\n",
       "    <tr style=\"text-align: right;\">\n",
       "      <th></th>\n",
       "      <th>일자</th>\n",
       "      <th>제목</th>\n",
       "    </tr>\n",
       "  </thead>\n",
       "  <tbody>\n",
       "    <tr>\n",
       "      <th>261</th>\n",
       "      <td>20220303</td>\n",
       "      <td>“D램 초격차 재입증” 삼성전자, 차세대 저전력 반도체 검증 성공</td>\n",
       "    </tr>\n",
       "    <tr>\n",
       "      <th>660</th>\n",
       "      <td>20220216</td>\n",
       "      <td>반도체 투자 활성화를 위한 기업 간담회 개최</td>\n",
       "    </tr>\n",
       "  </tbody>\n",
       "</table>\n",
       "</div>"
      ],
      "text/plain": [
       "           일자                                    제목\n",
       "261  20220303  “D램 초격차 재입증” 삼성전자, 차세대 저전력 반도체 검증 성공\n",
       "660  20220216              반도체 투자 활성화를 위한 기업 간담회 개최"
      ]
     },
     "execution_count": 15,
     "metadata": {},
     "output_type": "execute_result"
    }
   ],
   "source": [
    "# test_data 확인\n",
    "test_data.head(2)"
   ]
  },
  {
   "cell_type": "code",
   "execution_count": 16,
   "metadata": {},
   "outputs": [
    {
     "data": {
      "text/plain": [
       "(603, 2)"
      ]
     },
     "execution_count": 16,
     "metadata": {},
     "output_type": "execute_result"
    }
   ],
   "source": [
    "# 데이터 개수 : 603\n",
    "# 컬럼 수 : 2\n",
    "test_data.shape"
   ]
  },
  {
   "cell_type": "markdown",
   "metadata": {},
   "source": [
    "## 4. 한글, 영어, 숫자 이외 데이터 제거"
   ]
  },
  {
   "cell_type": "code",
   "execution_count": 25,
   "metadata": {},
   "outputs": [],
   "source": [
    "train_data[\"제목\"] = train_data[\"제목\"].str.replace('[^ㄱ-ㅎㅏ-ㅣ가-힣|A-Za-z|0-9 ]', '')"
   ]
  },
  {
   "cell_type": "code",
   "execution_count": 26,
   "metadata": {},
   "outputs": [
    {
     "data": {
      "text/plain": [
       "일자    0\n",
       "제목    0\n",
       "dtype: int64"
      ]
     },
     "execution_count": 26,
     "metadata": {},
     "output_type": "execute_result"
    }
   ],
   "source": [
    "train_data.isnull().sum()"
   ]
  },
  {
   "cell_type": "markdown",
   "metadata": {},
   "source": [
    "## 5. 한자가 들어간 데이터 확인"
   ]
  },
  {
   "cell_type": "code",
   "execution_count": 17,
   "metadata": {},
   "outputs": [],
   "source": [
    "from collections import Counter"
   ]
  },
  {
   "cell_type": "code",
   "execution_count": 18,
   "metadata": {},
   "outputs": [
    {
     "data": {
      "text/plain": [
       "1809"
      ]
     },
     "execution_count": 18,
     "metadata": {},
     "output_type": "execute_result"
    }
   ],
   "source": [
    "len(train_data)"
   ]
  },
  {
   "cell_type": "code",
   "execution_count": 19,
   "metadata": {},
   "outputs": [],
   "source": [
    "train_hanja_data = train_data.copy()"
   ]
  },
  {
   "cell_type": "code",
   "execution_count": 20,
   "metadata": {},
   "outputs": [],
   "source": [
    "pattern = re.compile('[一-龥]')"
   ]
  },
  {
   "cell_type": "code",
   "execution_count": 21,
   "metadata": {},
   "outputs": [
    {
     "data": {
      "text/plain": [
       "['車', '日', '美', '韓', '車']"
      ]
     },
     "execution_count": 21,
     "metadata": {},
     "output_type": "execute_result"
    }
   ],
   "source": [
    "# 한자 리스트 확인\n",
    "hanja_list = train_hanja_data[\"제목\"].str.findall(pattern).sum()\n",
    "hanja_list[:5]"
   ]
  },
  {
   "cell_type": "code",
   "execution_count": 22,
   "metadata": {},
   "outputs": [
    {
     "data": {
      "text/plain": [
       "[('美', 132), ('中', 107), ('車', 106), ('株', 48), ('日', 47)]"
      ]
     },
     "execution_count": 22,
     "metadata": {},
     "output_type": "execute_result"
    }
   ],
   "source": [
    "# 빈도수가 높은 한자 체크\n",
    "Counter(hanja_list).most_common()[:5]"
   ]
  },
  {
   "cell_type": "code",
   "execution_count": 23,
   "metadata": {},
   "outputs": [
    {
     "name": "stdout",
     "output_type": "stream",
     "text": [
      "['車', '日', '美', '韓', '文', '印', '中', '株', '安', '稅', '企', '亞', '前', '亂', '年', '兆', '獨', '國', '史', '發', '比', '社', '尹', '論', '李', '野', '全', '外', '人', '弗', '乙', '好', '向', '對', '市', '夢', '新', '産', '證', '號', '法', '戰', '說', '價', '硏']\n"
     ]
    }
   ],
   "source": [
    "# 한자 중복값 제거 확인\n",
    "new_list = []\n",
    "for i in hanja_list:\n",
    "    if i not in new_list:\n",
    "        new_list.append(i)\n",
    "print(new_list)"
   ]
  },
  {
   "cell_type": "code",
   "execution_count": 106,
   "metadata": {},
   "outputs": [],
   "source": [
    "d = ['株', '中', '伊', '韓', '社', \n",
    "'對', '美', '日', '車', '獨', \n",
    "'文', '印', '價', '安', '外', \n",
    "'人', '亂', '産', '兆', '全', \n",
    "'企', '市', '國', '亞', '尹', \n",
    "'弗', '發', '史', '證', '夢', \n",
    "'論', '檢', '好', '說', '大', \n",
    "'年', '乙', '前', '稅', '李', \n",
    "'法', '新', '比', '硏', '戰', \n",
    "'號', '野']\n",
    "\n",
    "kor = [\"주식\", \"중국\", \"이탈리아\", \"한국\", \"기업\", \n",
    "\"상대\", \"미국\", \"일본\", \"자동차\", \"독일\",\n",
    "\"문\", \"인도\", \"값\", \"안\", \"이외\",\n",
    "\"인\", \"난리\", \"생산\", \"조 원\", \"전체\",\n",
    "\"기업\", \"시\", \"국가\", \"아시아\", \"윤\",\n",
    "\"달러\", \"발\", \"역사\", \"증권\", \"몽\",\n",
    "\"론\", \"검찰\", \"호\", \"설\", \"대\",\n",
    "\"연\", \"을\", \"전\", \"세금\", \"이\",\n",
    "\"법\", \"새\", \"대비\", \"연구원\", \"전쟁\",\n",
    "\"호\", \"야당\"]"
   ]
  },
  {
   "cell_type": "code",
   "execution_count": 108,
   "metadata": {},
   "outputs": [
    {
     "name": "stdout",
     "output_type": "stream",
     "text": [
      "{'株': '주식', '中': '중국', '伊': '이탈리아', '韓': '한국', '社': '기업', '對': '상대', '美': '미국', '日': '일본', '車': '자동차', '獨': '독일', '文': '문', '印': '인도', '價': '값', '安': '안', '外': '이외', '人': '인', '亂': '난리', '産': '생산', '兆': '조 원', '全': '전체', '企': '기업', '市': '시', '國': '국가', '亞': '아시아', '尹': '윤', '弗': '달러', '發': '발', '史': '역사', '證': '증권', '夢': '몽', '論': '론', '檢': '검찰', '好': '호', '說': '설', '大': '대', '年': '연', '乙': '을', '前': '전', '稅': '세금', '李': '이', '法': '법', '新': '새', '比': '대비', '硏': '연구원', '戰': '전쟁', '號': '호', '野': '야당'}\n"
     ]
    }
   ],
   "source": [
    "dictionary = dict(zip(d, kor))\n",
    "print(dictionary)"
   ]
  },
  {
   "cell_type": "markdown",
   "metadata": {},
   "source": [
    "- pandas와 dictionary matching 후, 변환 참고: https://stackoverflow.com/questions/31491727/how-to-match-dictionary-values-to-pandas-data-frame-values"
   ]
  },
  {
   "cell_type": "markdown",
   "metadata": {},
   "source": [
    "## 6. 한자 -> 한글로 대체\n",
    "    - 뉴스 제목에 사용되는 한자들은 의미를 축약한 한 글자로 구성된 한자가 많은 것으로 추측됨\n",
    "    - 한자 -> 한글로 단순 번역하는 방법을 시도해보기로 계획"
   ]
  },
  {
   "cell_type": "code",
   "execution_count": 28,
   "metadata": {},
   "outputs": [
    {
     "data": {
      "text/html": [
       "<div>\n",
       "<style scoped>\n",
       "    .dataframe tbody tr th:only-of-type {\n",
       "        vertical-align: middle;\n",
       "    }\n",
       "\n",
       "    .dataframe tbody tr th {\n",
       "        vertical-align: top;\n",
       "    }\n",
       "\n",
       "    .dataframe thead th {\n",
       "        text-align: right;\n",
       "    }\n",
       "</style>\n",
       "<table border=\"1\" class=\"dataframe\">\n",
       "  <thead>\n",
       "    <tr style=\"text-align: right;\">\n",
       "      <th></th>\n",
       "      <th>일자</th>\n",
       "      <th>제목</th>\n",
       "    </tr>\n",
       "  </thead>\n",
       "  <tbody>\n",
       "    <tr>\n",
       "      <th>73</th>\n",
       "      <td>20220314</td>\n",
       "      <td>유동성 줄어도 시장은 상승 리오프닝 반도체 주목2022 한경스타워즈 출사표</td>\n",
       "    </tr>\n",
       "    <tr>\n",
       "      <th>562</th>\n",
       "      <td>20220220</td>\n",
       "      <td>인텔  반도체 파운드리 진출 글로벌 경쟁 격화</td>\n",
       "    </tr>\n",
       "    <tr>\n",
       "      <th>795</th>\n",
       "      <td>20220211</td>\n",
       "      <td>반도체전시회 참석한 현대모비스 조성환 사장 미래차 핵심은 반도체 소프트웨어 기술력</td>\n",
       "    </tr>\n",
       "  </tbody>\n",
       "</table>\n",
       "</div>"
      ],
      "text/plain": [
       "           일자                                             제목\n",
       "73   20220314      유동성 줄어도 시장은 상승 리오프닝 반도체 주목2022 한경스타워즈 출사표\n",
       "562  20220220                      인텔  반도체 파운드리 진출 글로벌 경쟁 격화\n",
       "795  20220211  반도체전시회 참석한 현대모비스 조성환 사장 미래차 핵심은 반도체 소프트웨어 기술력"
      ]
     },
     "execution_count": 28,
     "metadata": {},
     "output_type": "execute_result"
    }
   ],
   "source": [
    "list(map(lambda x: [ hanja.translate(line, \"substitution\") for line in train_data[\"제목\"] ], train_data))[0]\n",
    "train_data.head(3)"
   ]
  },
  {
   "cell_type": "markdown",
   "metadata": {},
   "source": [
    "## 7. test_data : train_data와 동일한 방식으로 진행"
   ]
  },
  {
   "cell_type": "code",
   "execution_count": 38,
   "metadata": {},
   "outputs": [
    {
     "data": {
      "text/plain": [
       "(603, 2)"
      ]
     },
     "execution_count": 38,
     "metadata": {},
     "output_type": "execute_result"
    }
   ],
   "source": [
    "# test_data의 shape 확인\n",
    "test_data.shape"
   ]
  },
  {
   "cell_type": "code",
   "execution_count": 39,
   "metadata": {},
   "outputs": [
    {
     "data": {
      "text/plain": [
       "일자    0\n",
       "제목    0\n",
       "dtype: int64"
      ]
     },
     "execution_count": 39,
     "metadata": {},
     "output_type": "execute_result"
    }
   ],
   "source": [
    "# 한글, 영어, 숫자 이외 데이터 제거\n",
    "test_data[\"제목\"] = test_data[\"제목\"].str.replace('[^ㄱ-ㅎㅏ-ㅣ가-힣|A-Za-z|0-9 ]', '')\n",
    "# 결측치 확인\n",
    "test_data.isnull().sum()"
   ]
  },
  {
   "cell_type": "code",
   "execution_count": 44,
   "metadata": {},
   "outputs": [
    {
     "data": {
      "text/html": [
       "<div>\n",
       "<style scoped>\n",
       "    .dataframe tbody tr th:only-of-type {\n",
       "        vertical-align: middle;\n",
       "    }\n",
       "\n",
       "    .dataframe tbody tr th {\n",
       "        vertical-align: top;\n",
       "    }\n",
       "\n",
       "    .dataframe thead th {\n",
       "        text-align: right;\n",
       "    }\n",
       "</style>\n",
       "<table border=\"1\" class=\"dataframe\">\n",
       "  <thead>\n",
       "    <tr style=\"text-align: right;\">\n",
       "      <th></th>\n",
       "      <th>일자</th>\n",
       "      <th>제목</th>\n",
       "    </tr>\n",
       "  </thead>\n",
       "  <tbody>\n",
       "    <tr>\n",
       "      <th>261</th>\n",
       "      <td>20220303</td>\n",
       "      <td>D램 초격차 재입증 삼성전자 차세대 저전력 반도체 검증 성공</td>\n",
       "    </tr>\n",
       "    <tr>\n",
       "      <th>660</th>\n",
       "      <td>20220216</td>\n",
       "      <td>반도체 투자 활성화를 위한 기업 간담회 개최</td>\n",
       "    </tr>\n",
       "    <tr>\n",
       "      <th>781</th>\n",
       "      <td>20220213</td>\n",
       "      <td>반도체 업계 기술에는 정년 없다 전문가 붙잡는 삼성전자 SK하이닉스</td>\n",
       "    </tr>\n",
       "  </tbody>\n",
       "</table>\n",
       "</div>"
      ],
      "text/plain": [
       "           일자                                     제목\n",
       "261  20220303      D램 초격차 재입증 삼성전자 차세대 저전력 반도체 검증 성공\n",
       "660  20220216               반도체 투자 활성화를 위한 기업 간담회 개최\n",
       "781  20220213  반도체 업계 기술에는 정년 없다 전문가 붙잡는 삼성전자 SK하이닉스"
      ]
     },
     "execution_count": 44,
     "metadata": {},
     "output_type": "execute_result"
    }
   ],
   "source": [
    "# 한자 -> 한글로 대체\n",
    "list(map(lambda x: [ hanja.translate(line, \"substitution\") for line in test_data[\"제목\"] ], test_data))[0]\n",
    "test_data.head(3)"
   ]
  },
  {
   "cell_type": "markdown",
   "metadata": {},
   "source": [
    "## 8. 명사만 추출한 컬럼 추가\n",
    "    - 참고 : https://sieon-dev.tistory.com/15"
   ]
  },
  {
   "cell_type": "markdown",
   "metadata": {},
   "source": [
    "### 8-1. train_data"
   ]
  },
  {
   "cell_type": "code",
   "execution_count": 50,
   "metadata": {},
   "outputs": [
    {
     "name": "stdout",
     "output_type": "stream",
     "text": [
      "0 단계완료\n"
     ]
    }
   ],
   "source": [
    "okt = Okt()\n",
    "n_ = []\n",
    "title_rename = []\n",
    "for i in range(len(train_data)):\n",
    "    if (i % 1809 == 0):\n",
    "        print(i, \"단계완료\")\n",
    "    n_.append(' '.join(okt.nouns(train_data.iloc[i][\"제목\"])))\n",
    "\n",
    "\n",
    "# 명사 추출 컬럼 \n",
    "train_data[\"nouns\"] = n_\n",
    "\n",
    "# empty space가 아닌 nouns 컬럼만 train_data에 저장\n",
    "train_data = train_data[train_data[\"nouns\"] != ''] "
   ]
  },
  {
   "cell_type": "code",
   "execution_count": 51,
   "metadata": {},
   "outputs": [
    {
     "data": {
      "text/html": [
       "<div>\n",
       "<style scoped>\n",
       "    .dataframe tbody tr th:only-of-type {\n",
       "        vertical-align: middle;\n",
       "    }\n",
       "\n",
       "    .dataframe tbody tr th {\n",
       "        vertical-align: top;\n",
       "    }\n",
       "\n",
       "    .dataframe thead th {\n",
       "        text-align: right;\n",
       "    }\n",
       "</style>\n",
       "<table border=\"1\" class=\"dataframe\">\n",
       "  <thead>\n",
       "    <tr style=\"text-align: right;\">\n",
       "      <th></th>\n",
       "      <th>일자</th>\n",
       "      <th>제목</th>\n",
       "      <th>nouns</th>\n",
       "    </tr>\n",
       "  </thead>\n",
       "  <tbody>\n",
       "    <tr>\n",
       "      <th>73</th>\n",
       "      <td>20220314</td>\n",
       "      <td>유동성 줄어도 시장은 상승 리오프닝 반도체 주목2022 한경스타워즈 출사표</td>\n",
       "      <td>유동성 시장 상승 리 오프닝 반도체 주목 스타워즈 출사표</td>\n",
       "    </tr>\n",
       "    <tr>\n",
       "      <th>562</th>\n",
       "      <td>20220220</td>\n",
       "      <td>인텔  반도체 파운드리 진출 글로벌 경쟁 격화</td>\n",
       "      <td>인텔 반도체 파운드리 진출 글로벌 경쟁 격화</td>\n",
       "    </tr>\n",
       "    <tr>\n",
       "      <th>795</th>\n",
       "      <td>20220211</td>\n",
       "      <td>반도체전시회 참석한 현대모비스 조성환 사장 미래차 핵심은 반도체 소프트웨어 기술력</td>\n",
       "      <td>반도체 전시회 참석 현대 모비스 조성환 사장 미래 차 핵심 반도체 소프트웨어 기술</td>\n",
       "    </tr>\n",
       "  </tbody>\n",
       "</table>\n",
       "</div>"
      ],
      "text/plain": [
       "           일자                                             제목  \\\n",
       "73   20220314      유동성 줄어도 시장은 상승 리오프닝 반도체 주목2022 한경스타워즈 출사표   \n",
       "562  20220220                      인텔  반도체 파운드리 진출 글로벌 경쟁 격화   \n",
       "795  20220211  반도체전시회 참석한 현대모비스 조성환 사장 미래차 핵심은 반도체 소프트웨어 기술력   \n",
       "\n",
       "                                             nouns  \n",
       "73                 유동성 시장 상승 리 오프닝 반도체 주목 스타워즈 출사표  \n",
       "562                       인텔 반도체 파운드리 진출 글로벌 경쟁 격화  \n",
       "795  반도체 전시회 참석 현대 모비스 조성환 사장 미래 차 핵심 반도체 소프트웨어 기술  "
      ]
     },
     "execution_count": 51,
     "metadata": {},
     "output_type": "execute_result"
    }
   ],
   "source": [
    "train_data.head(3)"
   ]
  },
  {
   "cell_type": "markdown",
   "metadata": {},
   "source": [
    "### 8-2. test_data"
   ]
  },
  {
   "cell_type": "code",
   "execution_count": 52,
   "metadata": {},
   "outputs": [
    {
     "name": "stdout",
     "output_type": "stream",
     "text": [
      "0 단계완료\n"
     ]
    }
   ],
   "source": [
    "okt = Okt()\n",
    "n_ = []\n",
    "title_rename = []\n",
    "for i in range(len(test_data)):\n",
    "    if (i % 603 == 0):\n",
    "        print(i, \"단계완료\")\n",
    "    n_.append(' '.join(okt.nouns(test_data.iloc[i][\"제목\"])))\n",
    "\n",
    "\n",
    "# 명사 추출 컬럼 \n",
    "test_data[\"nouns\"] = n_\n",
    "\n",
    "# empty space가 아닌 nouns 컬럼만 test_data에 저장\n",
    "test_data = test_data[test_data[\"nouns\"] != ''] "
   ]
  },
  {
   "cell_type": "code",
   "execution_count": 53,
   "metadata": {},
   "outputs": [
    {
     "data": {
      "text/html": [
       "<div>\n",
       "<style scoped>\n",
       "    .dataframe tbody tr th:only-of-type {\n",
       "        vertical-align: middle;\n",
       "    }\n",
       "\n",
       "    .dataframe tbody tr th {\n",
       "        vertical-align: top;\n",
       "    }\n",
       "\n",
       "    .dataframe thead th {\n",
       "        text-align: right;\n",
       "    }\n",
       "</style>\n",
       "<table border=\"1\" class=\"dataframe\">\n",
       "  <thead>\n",
       "    <tr style=\"text-align: right;\">\n",
       "      <th></th>\n",
       "      <th>일자</th>\n",
       "      <th>제목</th>\n",
       "      <th>nouns</th>\n",
       "    </tr>\n",
       "  </thead>\n",
       "  <tbody>\n",
       "    <tr>\n",
       "      <th>261</th>\n",
       "      <td>20220303</td>\n",
       "      <td>D램 초격차 재입증 삼성전자 차세대 저전력 반도체 검증 성공</td>\n",
       "      <td>램 초 격차 재 입증 삼성 전자 차세대 전력 반도체 검증 성공</td>\n",
       "    </tr>\n",
       "    <tr>\n",
       "      <th>660</th>\n",
       "      <td>20220216</td>\n",
       "      <td>반도체 투자 활성화를 위한 기업 간담회 개최</td>\n",
       "      <td>반도체 투자 활성화 위 기업 간담 회 개최</td>\n",
       "    </tr>\n",
       "    <tr>\n",
       "      <th>781</th>\n",
       "      <td>20220213</td>\n",
       "      <td>반도체 업계 기술에는 정년 없다 전문가 붙잡는 삼성전자 SK하이닉스</td>\n",
       "      <td>반도체 업계 기술 정년 전문가 삼성 전자 하이닉스</td>\n",
       "    </tr>\n",
       "  </tbody>\n",
       "</table>\n",
       "</div>"
      ],
      "text/plain": [
       "           일자                                     제목  \\\n",
       "261  20220303      D램 초격차 재입증 삼성전자 차세대 저전력 반도체 검증 성공   \n",
       "660  20220216               반도체 투자 활성화를 위한 기업 간담회 개최   \n",
       "781  20220213  반도체 업계 기술에는 정년 없다 전문가 붙잡는 삼성전자 SK하이닉스   \n",
       "\n",
       "                                  nouns  \n",
       "261  램 초 격차 재 입증 삼성 전자 차세대 전력 반도체 검증 성공  \n",
       "660             반도체 투자 활성화 위 기업 간담 회 개최  \n",
       "781         반도체 업계 기술 정년 전문가 삼성 전자 하이닉스  "
      ]
     },
     "execution_count": 53,
     "metadata": {},
     "output_type": "execute_result"
    }
   ],
   "source": [
    "test_data.head(3)"
   ]
  },
  {
   "cell_type": "markdown",
   "metadata": {},
   "source": [
    "- 에러내용 : JVMNotFoundException: No JVM shared library file (jvm.dll) found.\n",
    "    - 참고 : https://stricky.tistory.com/398"
   ]
  },
  {
   "cell_type": "code",
   "execution_count": 46,
   "metadata": {},
   "outputs": [
    {
     "name": "stdout",
     "output_type": "stream",
     "text": [
      "('64bit', 'WindowsPE')\n"
     ]
    }
   ],
   "source": [
    "# python bit 확인\n",
    "import platform\n",
    "print(platform.architecture())"
   ]
  },
  {
   "cell_type": "markdown",
   "metadata": {},
   "source": [
    "- 오라클 JDK 다운로드 사이트 :  https://www.oracle.com/java/technologies/downloads/#java8\n",
    "\n",
    "- 설치 경로 확인 > 시스템 환경 변수에 추가 > 변수이름 `JAVA_HOME`으로 저장"
   ]
  },
  {
   "cell_type": "markdown",
   "metadata": {},
   "source": [
    "# ★ 2022-03-17 11:29 이후 Plan\n",
    "## `[데이터 전처리]`\n",
    "1. 반도체 기업 13개 일자별 상승 및 하락 데이터 & 뉴스 제목 명사 추출 \n",
    "    - 전일 대비 상승 : updown 1 태깅\n",
    "    - 전일 대비 하락 : updown 0 태깅\n",
    "2. `1`과 `0`의 비율 확인\n",
    "3. 감성사전 구축 : 한 글자인 단어는 제거, 두 글자 이상인 단어들의 점수 초기화\n",
    "4. sent_score 컬럼 추가\n",
    "    - 뉴스의 평균 감성 점수 산출\n",
    "5. sent_label 추가\n",
    "    - sent_scroe > sent_label : 1 \n",
    "    - sent_scroe < sent_label : 0\n",
    "\n",
    "## `[모델링]`\n",
    "1. 형태소 분류기 설치\n",
    "    - Mecab\n",
    "2. 모델 사용 방안\n",
    "    - Bi-LSTM\n",
    "    - BERT\n",
    "3. X, Y 값 지정\n",
    "    - train_set, test_set\n",
    "    - X, Y 값 지정\n",
    "4. 벡터화\n",
    "    - keras의 Tokenizer 사용\n",
    "5. 일정한 Input 형태를 만들기 위해 길이 지정, padding 진행\n",
    "6. 모델 구현\n",
    "7. 성능 확인"
   ]
  },
  {
   "cell_type": "markdown",
   "metadata": {},
   "source": []
  }
 ],
 "metadata": {
  "interpreter": {
   "hash": "b3ba2566441a7c06988d0923437866b63cedc61552a5af99d1f4fb67d367b25f"
  },
  "kernelspec": {
   "display_name": "Python 3.8.8 ('base')",
   "language": "python",
   "name": "python3"
  },
  "language_info": {
   "codemirror_mode": {
    "name": "ipython",
    "version": 3
   },
   "file_extension": ".py",
   "mimetype": "text/x-python",
   "name": "python",
   "nbconvert_exporter": "python",
   "pygments_lexer": "ipython3",
   "version": "3.8.8"
  },
  "orig_nbformat": 4
 },
 "nbformat": 4,
 "nbformat_minor": 2
}
