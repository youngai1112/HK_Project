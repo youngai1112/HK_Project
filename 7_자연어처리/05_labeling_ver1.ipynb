{
 "cells": [
  {
   "cell_type": "code",
   "execution_count": 1,
   "metadata": {},
   "outputs": [],
   "source": [
    "import pandas as pd\n",
    "import numpy as np\n",
    "import matplotlib.pyplot as plt\n",
    "import seaborn as sns\n",
    "import warnings\n",
    "warnings.filterwarnings('ignore')\n",
    "import re\n",
    "from konlpy.tag import Okt\n",
    "from tqdm import tqdm\n",
    "from tensorflow import keras\n",
    "from tensorflow.keras import layers\n",
    "from tensorflow.keras.preprocessing.text import Tokenizer\n",
    "from tensorflow.keras.preprocessing.sequence import pad_sequences\n",
    "import os\n",
    "from sklearn.model_selection import train_test_split\n",
    "from collections import Counter"
   ]
  },
  {
   "cell_type": "markdown",
   "metadata": {},
   "source": [
    "## 1. 데이터 불러오기 (2021 기준)\n",
    "    - 1-1. 휴장일\n",
    "    - 1-2. Newsfile \n",
    "    - 1-3. 반도체(005290) : 상승률 1.5 이상--1, 상승률 1.5 이하--0 라벨링 데이터"
   ]
  },
  {
   "cell_type": "markdown",
   "metadata": {},
   "source": [
    "### 1-1. 2021 휴장일 날짜"
   ]
  },
  {
   "cell_type": "code",
   "execution_count": 2,
   "metadata": {},
   "outputs": [
    {
     "data": {
      "text/html": [
       "<div>\n",
       "<style scoped>\n",
       "    .dataframe tbody tr th:only-of-type {\n",
       "        vertical-align: middle;\n",
       "    }\n",
       "\n",
       "    .dataframe tbody tr th {\n",
       "        vertical-align: top;\n",
       "    }\n",
       "\n",
       "    .dataframe thead th {\n",
       "        text-align: right;\n",
       "    }\n",
       "</style>\n",
       "<table border=\"1\" class=\"dataframe\">\n",
       "  <thead>\n",
       "    <tr style=\"text-align: right;\">\n",
       "      <th></th>\n",
       "      <th>일자 및 요일</th>\n",
       "      <th>요일구분</th>\n",
       "      <th>비고</th>\n",
       "    </tr>\n",
       "  </thead>\n",
       "  <tbody>\n",
       "    <tr>\n",
       "      <th>0</th>\n",
       "      <td>2021-01-01</td>\n",
       "      <td>금요일</td>\n",
       "      <td>신정</td>\n",
       "    </tr>\n",
       "    <tr>\n",
       "      <th>1</th>\n",
       "      <td>2021-02-11</td>\n",
       "      <td>목요일</td>\n",
       "      <td>설날</td>\n",
       "    </tr>\n",
       "    <tr>\n",
       "      <th>2</th>\n",
       "      <td>2021-02-12</td>\n",
       "      <td>금요일</td>\n",
       "      <td>설날</td>\n",
       "    </tr>\n",
       "  </tbody>\n",
       "</table>\n",
       "</div>"
      ],
      "text/plain": [
       "      일자 및 요일    요일구분  비고\n",
       "0  2021-01-01  금요일     신정\n",
       "1  2021-02-11  목요일     설날\n",
       "2  2021-02-12  금요일     설날"
      ]
     },
     "execution_count": 2,
     "metadata": {},
     "output_type": "execute_result"
    }
   ],
   "source": [
    "closedate_2021 = pd.read_excel('../data/closedate_2021.xls')\n",
    "closedate_2021.head(3)"
   ]
  },
  {
   "cell_type": "code",
   "execution_count": 3,
   "metadata": {},
   "outputs": [
    {
     "data": {
      "text/html": [
       "<div>\n",
       "<style scoped>\n",
       "    .dataframe tbody tr th:only-of-type {\n",
       "        vertical-align: middle;\n",
       "    }\n",
       "\n",
       "    .dataframe tbody tr th {\n",
       "        vertical-align: top;\n",
       "    }\n",
       "\n",
       "    .dataframe thead th {\n",
       "        text-align: right;\n",
       "    }\n",
       "</style>\n",
       "<table border=\"1\" class=\"dataframe\">\n",
       "  <thead>\n",
       "    <tr style=\"text-align: right;\">\n",
       "      <th></th>\n",
       "      <th>일자 및 요일</th>\n",
       "      <th>요일구분</th>\n",
       "    </tr>\n",
       "  </thead>\n",
       "  <tbody>\n",
       "    <tr>\n",
       "      <th>0</th>\n",
       "      <td>2021-01-01</td>\n",
       "      <td>금요일</td>\n",
       "    </tr>\n",
       "    <tr>\n",
       "      <th>1</th>\n",
       "      <td>2021-02-11</td>\n",
       "      <td>목요일</td>\n",
       "    </tr>\n",
       "    <tr>\n",
       "      <th>2</th>\n",
       "      <td>2021-02-12</td>\n",
       "      <td>금요일</td>\n",
       "    </tr>\n",
       "  </tbody>\n",
       "</table>\n",
       "</div>"
      ],
      "text/plain": [
       "      일자 및 요일    요일구분\n",
       "0  2021-01-01  금요일   \n",
       "1  2021-02-11  목요일   \n",
       "2  2021-02-12  금요일   "
      ]
     },
     "execution_count": 3,
     "metadata": {},
     "output_type": "execute_result"
    }
   ],
   "source": [
    "closedate_2021 = closedate_2021[['일자 및 요일', '요일구분']]\n",
    "closedate_2021.head(3)"
   ]
  },
  {
   "cell_type": "markdown",
   "metadata": {},
   "source": [
    "### 1-2. newsfile"
   ]
  },
  {
   "cell_type": "markdown",
   "metadata": {},
   "source": [
    "- train_data"
   ]
  },
  {
   "cell_type": "code",
   "execution_count": 6,
   "metadata": {},
   "outputs": [
    {
     "data": {
      "text/html": [
       "<div>\n",
       "<style scoped>\n",
       "    .dataframe tbody tr th:only-of-type {\n",
       "        vertical-align: middle;\n",
       "    }\n",
       "\n",
       "    .dataframe tbody tr th {\n",
       "        vertical-align: top;\n",
       "    }\n",
       "\n",
       "    .dataframe thead th {\n",
       "        text-align: right;\n",
       "    }\n",
       "</style>\n",
       "<table border=\"1\" class=\"dataframe\">\n",
       "  <thead>\n",
       "    <tr style=\"text-align: right;\">\n",
       "      <th></th>\n",
       "      <th>Unnamed: 0</th>\n",
       "      <th>date</th>\n",
       "      <th>title</th>\n",
       "      <th>nouns</th>\n",
       "    </tr>\n",
       "  </thead>\n",
       "  <tbody>\n",
       "    <tr>\n",
       "      <th>0</th>\n",
       "      <td>37650</td>\n",
       "      <td>20190109</td>\n",
       "      <td>작년 분기 어닝 쇼크 삼성전자글로벌 반도체 왕좌 다시 내주나</td>\n",
       "      <td>작년 분기 어닝 쇼크 삼성 전자 글로벌 반도체 왕좌 다시 내주</td>\n",
       "    </tr>\n",
       "    <tr>\n",
       "      <th>1</th>\n",
       "      <td>9503</td>\n",
       "      <td>20210714</td>\n",
       "      <td>삼성전자카이스트 반도체 계약학과 신설인재 양성 가속</td>\n",
       "      <td>삼성 전자 카이스트 반도체 계약 학과 신설 인재 양성 가속</td>\n",
       "    </tr>\n",
       "    <tr>\n",
       "      <th>2</th>\n",
       "      <td>29948</td>\n",
       "      <td>20190806</td>\n",
       "      <td>사진반도체 공장 둘러보는 이재용 부회장</td>\n",
       "      <td>사진 반도체 공장 이재용 부회장</td>\n",
       "    </tr>\n",
       "  </tbody>\n",
       "</table>\n",
       "</div>"
      ],
      "text/plain": [
       "   Unnamed: 0      date                              title  \\\n",
       "0       37650  20190109  작년 분기 어닝 쇼크 삼성전자글로벌 반도체 왕좌 다시 내주나   \n",
       "1        9503  20210714       삼성전자카이스트 반도체 계약학과 신설인재 양성 가속   \n",
       "2       29948  20190806              사진반도체 공장 둘러보는 이재용 부회장   \n",
       "\n",
       "                                nouns  \n",
       "0  작년 분기 어닝 쇼크 삼성 전자 글로벌 반도체 왕좌 다시 내주  \n",
       "1    삼성 전자 카이스트 반도체 계약 학과 신설 인재 양성 가속  \n",
       "2                   사진 반도체 공장 이재용 부회장  "
      ]
     },
     "execution_count": 6,
     "metadata": {},
     "output_type": "execute_result"
    }
   ],
   "source": [
    "news_train = pd.read_csv('../data/train_data_hanja_translate.csv')\n",
    "news_train.head(3)"
   ]
  },
  {
   "cell_type": "code",
   "execution_count": 8,
   "metadata": {},
   "outputs": [
    {
     "data": {
      "text/html": [
       "<div>\n",
       "<style scoped>\n",
       "    .dataframe tbody tr th:only-of-type {\n",
       "        vertical-align: middle;\n",
       "    }\n",
       "\n",
       "    .dataframe tbody tr th {\n",
       "        vertical-align: top;\n",
       "    }\n",
       "\n",
       "    .dataframe thead th {\n",
       "        text-align: right;\n",
       "    }\n",
       "</style>\n",
       "<table border=\"1\" class=\"dataframe\">\n",
       "  <thead>\n",
       "    <tr style=\"text-align: right;\">\n",
       "      <th></th>\n",
       "      <th>date</th>\n",
       "      <th>title</th>\n",
       "      <th>nouns</th>\n",
       "    </tr>\n",
       "  </thead>\n",
       "  <tbody>\n",
       "    <tr>\n",
       "      <th>0</th>\n",
       "      <td>20190109</td>\n",
       "      <td>작년 분기 어닝 쇼크 삼성전자글로벌 반도체 왕좌 다시 내주나</td>\n",
       "      <td>작년 분기 어닝 쇼크 삼성 전자 글로벌 반도체 왕좌 다시 내주</td>\n",
       "    </tr>\n",
       "    <tr>\n",
       "      <th>1</th>\n",
       "      <td>20210714</td>\n",
       "      <td>삼성전자카이스트 반도체 계약학과 신설인재 양성 가속</td>\n",
       "      <td>삼성 전자 카이스트 반도체 계약 학과 신설 인재 양성 가속</td>\n",
       "    </tr>\n",
       "    <tr>\n",
       "      <th>2</th>\n",
       "      <td>20190806</td>\n",
       "      <td>사진반도체 공장 둘러보는 이재용 부회장</td>\n",
       "      <td>사진 반도체 공장 이재용 부회장</td>\n",
       "    </tr>\n",
       "  </tbody>\n",
       "</table>\n",
       "</div>"
      ],
      "text/plain": [
       "       date                              title  \\\n",
       "0  20190109  작년 분기 어닝 쇼크 삼성전자글로벌 반도체 왕좌 다시 내주나   \n",
       "1  20210714       삼성전자카이스트 반도체 계약학과 신설인재 양성 가속   \n",
       "2  20190806              사진반도체 공장 둘러보는 이재용 부회장   \n",
       "\n",
       "                                nouns  \n",
       "0  작년 분기 어닝 쇼크 삼성 전자 글로벌 반도체 왕좌 다시 내주  \n",
       "1    삼성 전자 카이스트 반도체 계약 학과 신설 인재 양성 가속  \n",
       "2                   사진 반도체 공장 이재용 부회장  "
      ]
     },
     "execution_count": 8,
     "metadata": {},
     "output_type": "execute_result"
    }
   ],
   "source": [
    "news_train = news_train[['date', 'title', 'nouns']]\n",
    "news_train.head(3)"
   ]
  },
  {
   "cell_type": "markdown",
   "metadata": {},
   "source": [
    "- test_data"
   ]
  },
  {
   "cell_type": "code",
   "execution_count": 7,
   "metadata": {},
   "outputs": [
    {
     "data": {
      "text/html": [
       "<div>\n",
       "<style scoped>\n",
       "    .dataframe tbody tr th:only-of-type {\n",
       "        vertical-align: middle;\n",
       "    }\n",
       "\n",
       "    .dataframe tbody tr th {\n",
       "        vertical-align: top;\n",
       "    }\n",
       "\n",
       "    .dataframe thead th {\n",
       "        text-align: right;\n",
       "    }\n",
       "</style>\n",
       "<table border=\"1\" class=\"dataframe\">\n",
       "  <thead>\n",
       "    <tr style=\"text-align: right;\">\n",
       "      <th></th>\n",
       "      <th>Unnamed: 0</th>\n",
       "      <th>date</th>\n",
       "      <th>title</th>\n",
       "      <th>nouns</th>\n",
       "    </tr>\n",
       "  </thead>\n",
       "  <tbody>\n",
       "    <tr>\n",
       "      <th>0</th>\n",
       "      <td>28288</td>\n",
       "      <td>20191008</td>\n",
       "      <td>리탈 제회 반도체대전SEDEX  참가</td>\n",
       "      <td>리탈 회 반도체 대전 참가</td>\n",
       "    </tr>\n",
       "    <tr>\n",
       "      <th>1</th>\n",
       "      <td>3825</td>\n",
       "      <td>20211130</td>\n",
       "      <td>정부 반도체용 수입 산업가스 수급 안정화고압가스 반송기한 최대 년으로 연</td>\n",
       "      <td>정부 반도체 용 수입 산업 가스 수급 안정화 고압 가스 반송 기한 최대 년 연</td>\n",
       "    </tr>\n",
       "    <tr>\n",
       "      <th>2</th>\n",
       "      <td>11223</td>\n",
       "      <td>20210524</td>\n",
       "      <td>김대호의 경제읽기 굳건해진 반도체배터리 협력경제동맹 새 지평</td>\n",
       "      <td>김대호 경제 해진 반도체 배터리 협력 경제 동맹 새 지평</td>\n",
       "    </tr>\n",
       "  </tbody>\n",
       "</table>\n",
       "</div>"
      ],
      "text/plain": [
       "   Unnamed: 0      date                                     title  \\\n",
       "0       28288  20191008                      리탈 제회 반도체대전SEDEX  참가   \n",
       "1        3825  20211130  정부 반도체용 수입 산업가스 수급 안정화고압가스 반송기한 최대 년으로 연   \n",
       "2       11223  20210524         김대호의 경제읽기 굳건해진 반도체배터리 협력경제동맹 새 지평   \n",
       "\n",
       "                                         nouns  \n",
       "0                               리탈 회 반도체 대전 참가  \n",
       "1  정부 반도체 용 수입 산업 가스 수급 안정화 고압 가스 반송 기한 최대 년 연  \n",
       "2              김대호 경제 해진 반도체 배터리 협력 경제 동맹 새 지평  "
      ]
     },
     "execution_count": 7,
     "metadata": {},
     "output_type": "execute_result"
    }
   ],
   "source": [
    "news_test = pd.read_csv('../data/test_data_hanja_translate.csv')\n",
    "news_test.head(3)"
   ]
  },
  {
   "cell_type": "code",
   "execution_count": 10,
   "metadata": {},
   "outputs": [
    {
     "data": {
      "text/html": [
       "<div>\n",
       "<style scoped>\n",
       "    .dataframe tbody tr th:only-of-type {\n",
       "        vertical-align: middle;\n",
       "    }\n",
       "\n",
       "    .dataframe tbody tr th {\n",
       "        vertical-align: top;\n",
       "    }\n",
       "\n",
       "    .dataframe thead th {\n",
       "        text-align: right;\n",
       "    }\n",
       "</style>\n",
       "<table border=\"1\" class=\"dataframe\">\n",
       "  <thead>\n",
       "    <tr style=\"text-align: right;\">\n",
       "      <th></th>\n",
       "      <th>date</th>\n",
       "      <th>title</th>\n",
       "      <th>nouns</th>\n",
       "    </tr>\n",
       "  </thead>\n",
       "  <tbody>\n",
       "    <tr>\n",
       "      <th>0</th>\n",
       "      <td>20191008</td>\n",
       "      <td>리탈 제회 반도체대전SEDEX  참가</td>\n",
       "      <td>리탈 회 반도체 대전 참가</td>\n",
       "    </tr>\n",
       "    <tr>\n",
       "      <th>1</th>\n",
       "      <td>20211130</td>\n",
       "      <td>정부 반도체용 수입 산업가스 수급 안정화고압가스 반송기한 최대 년으로 연</td>\n",
       "      <td>정부 반도체 용 수입 산업 가스 수급 안정화 고압 가스 반송 기한 최대 년 연</td>\n",
       "    </tr>\n",
       "    <tr>\n",
       "      <th>2</th>\n",
       "      <td>20210524</td>\n",
       "      <td>김대호의 경제읽기 굳건해진 반도체배터리 협력경제동맹 새 지평</td>\n",
       "      <td>김대호 경제 해진 반도체 배터리 협력 경제 동맹 새 지평</td>\n",
       "    </tr>\n",
       "  </tbody>\n",
       "</table>\n",
       "</div>"
      ],
      "text/plain": [
       "       date                                     title  \\\n",
       "0  20191008                      리탈 제회 반도체대전SEDEX  참가   \n",
       "1  20211130  정부 반도체용 수입 산업가스 수급 안정화고압가스 반송기한 최대 년으로 연   \n",
       "2  20210524         김대호의 경제읽기 굳건해진 반도체배터리 협력경제동맹 새 지평   \n",
       "\n",
       "                                         nouns  \n",
       "0                               리탈 회 반도체 대전 참가  \n",
       "1  정부 반도체 용 수입 산업 가스 수급 안정화 고압 가스 반송 기한 최대 년 연  \n",
       "2              김대호 경제 해진 반도체 배터리 협력 경제 동맹 새 지평  "
      ]
     },
     "execution_count": 10,
     "metadata": {},
     "output_type": "execute_result"
    }
   ],
   "source": [
    "news_test = news_test[['date', 'title', 'nouns']]\n",
    "news_test.head(3)"
   ]
  },
  {
   "cell_type": "code",
   "execution_count": null,
   "metadata": {},
   "outputs": [],
   "source": []
  }
 ],
 "metadata": {
  "interpreter": {
   "hash": "237dfbe96289c26a34bb3817ed9a5dda5a1f28f78dcc25894f58473fa7732fcf"
  },
  "kernelspec": {
   "display_name": "Python 3.8.8 64-bit",
   "language": "python",
   "name": "python3"
  },
  "language_info": {
   "codemirror_mode": {
    "name": "ipython",
    "version": 3
   },
   "file_extension": ".py",
   "mimetype": "text/x-python",
   "name": "python",
   "nbconvert_exporter": "python",
   "pygments_lexer": "ipython3",
   "version": "3.8.8"
  },
  "orig_nbformat": 4
 },
 "nbformat": 4,
 "nbformat_minor": 2
}
