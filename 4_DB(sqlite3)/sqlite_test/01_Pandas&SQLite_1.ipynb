{
 "cells": [
  {
   "cell_type": "markdown",
   "metadata": {},
   "source": [
    "- 참고 : https://wikidocs.net/5332"
   ]
  },
  {
   "cell_type": "code",
   "execution_count": 1,
   "metadata": {},
   "outputs": [],
   "source": [
    "import pandas as pd"
   ]
  },
  {
   "cell_type": "code",
   "execution_count": 2,
   "metadata": {},
   "outputs": [],
   "source": [
    "import sqlite3"
   ]
  },
  {
   "cell_type": "code",
   "execution_count": 5,
   "metadata": {},
   "outputs": [],
   "source": [
    "con = sqlite3.connect(\"C:/Workspace/HK_Project/4_DB(sqlite3)/db/test2.db\")"
   ]
  },
  {
   "cell_type": "code",
   "execution_count": 8,
   "metadata": {},
   "outputs": [
    {
     "data": {
      "text/html": [
       "<div>\n",
       "<style scoped>\n",
       "    .dataframe tbody tr th:only-of-type {\n",
       "        vertical-align: middle;\n",
       "    }\n",
       "\n",
       "    .dataframe tbody tr th {\n",
       "        vertical-align: top;\n",
       "    }\n",
       "\n",
       "    .dataframe thead th {\n",
       "        text-align: right;\n",
       "    }\n",
       "</style>\n",
       "<table border=\"1\" class=\"dataframe\">\n",
       "  <thead>\n",
       "    <tr style=\"text-align: right;\">\n",
       "      <th></th>\n",
       "      <th>Unnamed: 0</th>\n",
       "      <th>종목명</th>\n",
       "      <th>종목코드</th>\n",
       "      <th>시가총액</th>\n",
       "      <th>매출액</th>\n",
       "      <th>현금흐름</th>\n",
       "      <th>PER</th>\n",
       "      <th>ROE</th>\n",
       "      <th>ROA</th>\n",
       "      <th>PBR</th>\n",
       "      <th>PSR</th>\n",
       "      <th>PCR</th>\n",
       "    </tr>\n",
       "  </thead>\n",
       "  <tbody>\n",
       "    <tr>\n",
       "      <th>0</th>\n",
       "      <td>0</td>\n",
       "      <td>삼성전자</td>\n",
       "      <td>5930</td>\n",
       "      <td>4351971</td>\n",
       "      <td>2796048</td>\n",
       "      <td>651054.5</td>\n",
       "      <td>12.62</td>\n",
       "      <td>13.92</td>\n",
       "      <td>9.92</td>\n",
       "      <td>1.67</td>\n",
       "      <td>1.556472</td>\n",
       "      <td>6.684496</td>\n",
       "    </tr>\n",
       "    <tr>\n",
       "      <th>1</th>\n",
       "      <td>1</td>\n",
       "      <td>SK하이닉스</td>\n",
       "      <td>660</td>\n",
       "      <td>939123</td>\n",
       "      <td>319004</td>\n",
       "      <td>123145.7</td>\n",
       "      <td>11.66</td>\n",
       "      <td>9.53</td>\n",
       "      <td>6.98</td>\n",
       "      <td>1.51</td>\n",
       "      <td>2.943922</td>\n",
       "      <td>7.626113</td>\n",
       "    </tr>\n",
       "    <tr>\n",
       "      <th>2</th>\n",
       "      <td>2</td>\n",
       "      <td>NAVER</td>\n",
       "      <td>35420</td>\n",
       "      <td>533980</td>\n",
       "      <td>53041</td>\n",
       "      <td>14472.1</td>\n",
       "      <td>3.22</td>\n",
       "      <td>15.22</td>\n",
       "      <td>5.77</td>\n",
       "      <td>2.05</td>\n",
       "      <td>10.067306</td>\n",
       "      <td>36.897202</td>\n",
       "    </tr>\n",
       "    <tr>\n",
       "      <th>3</th>\n",
       "      <td>3</td>\n",
       "      <td>카카오</td>\n",
       "      <td>35720</td>\n",
       "      <td>430799</td>\n",
       "      <td>41568</td>\n",
       "      <td>9711.0</td>\n",
       "      <td>38.03</td>\n",
       "      <td>2.70</td>\n",
       "      <td>1.68</td>\n",
       "      <td>4.76</td>\n",
       "      <td>10.363717</td>\n",
       "      <td>44.361961</td>\n",
       "    </tr>\n",
       "    <tr>\n",
       "      <th>4</th>\n",
       "      <td>4</td>\n",
       "      <td>LG화학</td>\n",
       "      <td>51910</td>\n",
       "      <td>393905</td>\n",
       "      <td>300765</td>\n",
       "      <td>58408.3</td>\n",
       "      <td>14.54</td>\n",
       "      <td>2.93</td>\n",
       "      <td>1.81</td>\n",
       "      <td>2.04</td>\n",
       "      <td>1.309677</td>\n",
       "      <td>6.743990</td>\n",
       "    </tr>\n",
       "  </tbody>\n",
       "</table>\n",
       "</div>"
      ],
      "text/plain": [
       "   Unnamed: 0     종목명   종목코드     시가총액      매출액      현금흐름    PER    ROE   ROA  \\\n",
       "0           0    삼성전자   5930  4351971  2796048  651054.5  12.62  13.92  9.92   \n",
       "1           1  SK하이닉스    660   939123   319004  123145.7  11.66   9.53  6.98   \n",
       "2           2   NAVER  35420   533980    53041   14472.1   3.22  15.22  5.77   \n",
       "3           3     카카오  35720   430799    41568    9711.0  38.03   2.70  1.68   \n",
       "4           4    LG화학  51910   393905   300765   58408.3  14.54   2.93  1.81   \n",
       "\n",
       "    PBR        PSR        PCR  \n",
       "0  1.67   1.556472   6.684496  \n",
       "1  1.51   2.943922   7.626113  \n",
       "2  2.05  10.067306  36.897202  \n",
       "3  4.76  10.363717  44.361961  \n",
       "4  2.04   1.309677   6.743990  "
      ]
     },
     "execution_count": 8,
     "metadata": {},
     "output_type": "execute_result"
    }
   ],
   "source": [
    "df_kospi = pd.read_excel(\"../data/KOSPI_완료.xlsx\")\n",
    "df_kospi.head()"
   ]
  },
  {
   "cell_type": "markdown",
   "metadata": {},
   "source": [
    "- `to_sql` :  'test2.db'에 df_kospi 객체의 내용을 저장"
   ]
  },
  {
   "cell_type": "code",
   "execution_count": 9,
   "metadata": {},
   "outputs": [
    {
     "name": "stderr",
     "output_type": "stream",
     "text": [
      "C:\\ProgramData\\Anaconda3\\lib\\site-packages\\pandas\\core\\generic.py:2779: UserWarning: The spaces in these column names will not be changed. In pandas versions < 0.14, spaces were converted to underscores.\n",
      "  sql.to_sql(\n"
     ]
    }
   ],
   "source": [
    "df_kospi.to_sql('test', con)"
   ]
  },
  {
   "cell_type": "code",
   "execution_count": 12,
   "metadata": {},
   "outputs": [
    {
     "ename": "NameError",
     "evalue": "name 'test' is not defined",
     "output_type": "error",
     "traceback": [
      "\u001b[1;31m---------------------------------------------------------------------------\u001b[0m",
      "\u001b[1;31mNameError\u001b[0m                                 Traceback (most recent call last)",
      "\u001b[1;32m<ipython-input-12-c1f3751675ef>\u001b[0m in \u001b[0;36m<module>\u001b[1;34m\u001b[0m\n\u001b[1;32m----> 1\u001b[1;33m \u001b[0mdf_kospi\u001b[0m\u001b[1;33m.\u001b[0m\u001b[0mto_sql\u001b[0m\u001b[1;33m(\u001b[0m\u001b[0mtest\u001b[0m\u001b[1;33m,\u001b[0m \u001b[0mcon\u001b[0m\u001b[1;33m,\u001b[0m \u001b[0mflavor\u001b[0m\u001b[1;33m=\u001b[0m\u001b[1;34m'sqlite'\u001b[0m\u001b[1;33m,\u001b[0m \u001b[0mschema\u001b[0m\u001b[1;33m=\u001b[0m\u001b[1;32mNone\u001b[0m\u001b[1;33m,\u001b[0m \u001b[0mif_exists\u001b[0m\u001b[1;33m=\u001b[0m\u001b[1;34m'fail'\u001b[0m\u001b[1;33m,\u001b[0m \u001b[0mindex\u001b[0m\u001b[1;33m=\u001b[0m\u001b[1;32mTrue\u001b[0m\u001b[1;33m,\u001b[0m \u001b[0mindex_label\u001b[0m\u001b[1;33m=\u001b[0m\u001b[1;32mNone\u001b[0m\u001b[1;33m,\u001b[0m \u001b[0mchunksize\u001b[0m\u001b[1;33m=\u001b[0m\u001b[1;32mNone\u001b[0m\u001b[1;33m,\u001b[0m \u001b[0mdtype\u001b[0m\u001b[1;33m=\u001b[0m\u001b[1;32mNone\u001b[0m\u001b[1;33m)\u001b[0m\u001b[1;33m\u001b[0m\u001b[1;33m\u001b[0m\u001b[0m\n\u001b[0m",
      "\u001b[1;31mNameError\u001b[0m: name 'test' is not defined"
     ]
    }
   ],
   "source": [
    "df_kospi.to_sql(test, con, flavor='sqlite', schema=None, if_exists='fail', index=True, index_label=None, chunksize=None, dtype=None)"
   ]
  },
  {
   "cell_type": "code",
   "execution_count": null,
   "metadata": {},
   "outputs": [],
   "source": []
  }
 ],
 "metadata": {
  "interpreter": {
   "hash": "977d57c4f02f4402fd2a4f57e4f881dfda89571ae7804a0dde926b7d324211d9"
  },
  "kernelspec": {
   "display_name": "Python 3.8.12 ('1')",
   "language": "python",
   "name": "python3"
  },
  "language_info": {
   "codemirror_mode": {
    "name": "ipython",
    "version": 3
   },
   "file_extension": ".py",
   "mimetype": "text/x-python",
   "name": "python",
   "nbconvert_exporter": "python",
   "pygments_lexer": "ipython3",
   "version": "3.8.8"
  },
  "orig_nbformat": 4
 },
 "nbformat": 4,
 "nbformat_minor": 2
}
