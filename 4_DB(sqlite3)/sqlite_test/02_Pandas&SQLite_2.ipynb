{
 "cells": [
  {
   "cell_type": "markdown",
   "metadata": {},
   "source": [
    "- 테스트 확인 완료"
   ]
  },
  {
   "cell_type": "code",
   "execution_count": 4,
   "metadata": {},
   "outputs": [],
   "source": [
    "import pandas as pd"
   ]
  },
  {
   "cell_type": "code",
   "execution_count": 1,
   "metadata": {},
   "outputs": [],
   "source": [
    "import sqlite3"
   ]
  },
  {
   "cell_type": "code",
   "execution_count": 7,
   "metadata": {},
   "outputs": [],
   "source": [
    "import openpyxl"
   ]
  },
  {
   "cell_type": "code",
   "execution_count": 2,
   "metadata": {},
   "outputs": [],
   "source": [
    "con = sqlite3.connect(\"C:/Workspace/HK_Project/4_DB(sqlite3)/db/test2.db\")"
   ]
  },
  {
   "cell_type": "code",
   "execution_count": 9,
   "metadata": {},
   "outputs": [
    {
     "data": {
      "text/html": [
       "<div>\n",
       "<style scoped>\n",
       "    .dataframe tbody tr th:only-of-type {\n",
       "        vertical-align: middle;\n",
       "    }\n",
       "\n",
       "    .dataframe tbody tr th {\n",
       "        vertical-align: top;\n",
       "    }\n",
       "\n",
       "    .dataframe thead th {\n",
       "        text-align: right;\n",
       "    }\n",
       "</style>\n",
       "<table border=\"1\" class=\"dataframe\">\n",
       "  <thead>\n",
       "    <tr style=\"text-align: right;\">\n",
       "      <th></th>\n",
       "      <th>Unnamed: 0</th>\n",
       "      <th>종목명</th>\n",
       "      <th>종목코드</th>\n",
       "      <th>시가총액</th>\n",
       "      <th>매출액</th>\n",
       "      <th>현금흐름</th>\n",
       "      <th>PER</th>\n",
       "      <th>ROE</th>\n",
       "      <th>ROA</th>\n",
       "      <th>PBR</th>\n",
       "      <th>PSR</th>\n",
       "      <th>PCR</th>\n",
       "    </tr>\n",
       "  </thead>\n",
       "  <tbody>\n",
       "    <tr>\n",
       "      <th>0</th>\n",
       "      <td>0</td>\n",
       "      <td>삼성전자</td>\n",
       "      <td>5930</td>\n",
       "      <td>4351971</td>\n",
       "      <td>2796048</td>\n",
       "      <td>651054.5</td>\n",
       "      <td>12.62</td>\n",
       "      <td>13.92</td>\n",
       "      <td>9.92</td>\n",
       "      <td>1.67</td>\n",
       "      <td>1.556472</td>\n",
       "      <td>6.684496</td>\n",
       "    </tr>\n",
       "    <tr>\n",
       "      <th>1</th>\n",
       "      <td>1</td>\n",
       "      <td>SK하이닉스</td>\n",
       "      <td>660</td>\n",
       "      <td>939123</td>\n",
       "      <td>319004</td>\n",
       "      <td>123145.7</td>\n",
       "      <td>11.66</td>\n",
       "      <td>9.53</td>\n",
       "      <td>6.98</td>\n",
       "      <td>1.51</td>\n",
       "      <td>2.943922</td>\n",
       "      <td>7.626113</td>\n",
       "    </tr>\n",
       "    <tr>\n",
       "      <th>2</th>\n",
       "      <td>2</td>\n",
       "      <td>NAVER</td>\n",
       "      <td>35420</td>\n",
       "      <td>533980</td>\n",
       "      <td>53041</td>\n",
       "      <td>14472.1</td>\n",
       "      <td>3.22</td>\n",
       "      <td>15.22</td>\n",
       "      <td>5.77</td>\n",
       "      <td>2.05</td>\n",
       "      <td>10.067306</td>\n",
       "      <td>36.897202</td>\n",
       "    </tr>\n",
       "    <tr>\n",
       "      <th>3</th>\n",
       "      <td>3</td>\n",
       "      <td>카카오</td>\n",
       "      <td>35720</td>\n",
       "      <td>430799</td>\n",
       "      <td>41568</td>\n",
       "      <td>9711.0</td>\n",
       "      <td>38.03</td>\n",
       "      <td>2.70</td>\n",
       "      <td>1.68</td>\n",
       "      <td>4.76</td>\n",
       "      <td>10.363717</td>\n",
       "      <td>44.361961</td>\n",
       "    </tr>\n",
       "    <tr>\n",
       "      <th>4</th>\n",
       "      <td>4</td>\n",
       "      <td>LG화학</td>\n",
       "      <td>51910</td>\n",
       "      <td>393905</td>\n",
       "      <td>300765</td>\n",
       "      <td>58408.3</td>\n",
       "      <td>14.54</td>\n",
       "      <td>2.93</td>\n",
       "      <td>1.81</td>\n",
       "      <td>2.04</td>\n",
       "      <td>1.309677</td>\n",
       "      <td>6.743990</td>\n",
       "    </tr>\n",
       "  </tbody>\n",
       "</table>\n",
       "</div>"
      ],
      "text/plain": [
       "   Unnamed: 0     종목명   종목코드     시가총액      매출액      현금흐름    PER    ROE   ROA  \\\n",
       "0           0    삼성전자   5930  4351971  2796048  651054.5  12.62  13.92  9.92   \n",
       "1           1  SK하이닉스    660   939123   319004  123145.7  11.66   9.53  6.98   \n",
       "2           2   NAVER  35420   533980    53041   14472.1   3.22  15.22  5.77   \n",
       "3           3     카카오  35720   430799    41568    9711.0  38.03   2.70  1.68   \n",
       "4           4    LG화학  51910   393905   300765   58408.3  14.54   2.93  1.81   \n",
       "\n",
       "    PBR        PSR        PCR  \n",
       "0  1.67   1.556472   6.684496  \n",
       "1  1.51   2.943922   7.626113  \n",
       "2  2.05  10.067306  36.897202  \n",
       "3  4.76  10.363717  44.361961  \n",
       "4  2.04   1.309677   6.743990  "
      ]
     },
     "execution_count": 9,
     "metadata": {},
     "output_type": "execute_result"
    }
   ],
   "source": [
    "df_kospi = pd.read_excel(\"C:\\Workspace\\HK_Project\\data\\KOSPI_완료.xlsx\", engine='openpyxl')\n",
    "df_kospi.head()"
   ]
  },
  {
   "cell_type": "code",
   "execution_count": 11,
   "metadata": {},
   "outputs": [],
   "source": [
    "df_kospi.to_sql('df_kospi', con)"
   ]
  },
  {
   "cell_type": "markdown",
   "metadata": {},
   "source": [
    "- DB Browser for SQLite > df_kospi 우클릭 > 테이블 보기"
   ]
  },
  {
   "cell_type": "markdown",
   "metadata": {},
   "source": []
  }
 ],
 "metadata": {
  "interpreter": {
   "hash": "b3ba2566441a7c06988d0923437866b63cedc61552a5af99d1f4fb67d367b25f"
  },
  "kernelspec": {
   "display_name": "Python 3.8.8 ('base')",
   "language": "python",
   "name": "python3"
  },
  "language_info": {
   "codemirror_mode": {
    "name": "ipython",
    "version": 3
   },
   "file_extension": ".py",
   "mimetype": "text/x-python",
   "name": "python",
   "nbconvert_exporter": "python",
   "pygments_lexer": "ipython3",
   "version": "3.8.8"
  },
  "orig_nbformat": 4
 },
 "nbformat": 4,
 "nbformat_minor": 2
}
