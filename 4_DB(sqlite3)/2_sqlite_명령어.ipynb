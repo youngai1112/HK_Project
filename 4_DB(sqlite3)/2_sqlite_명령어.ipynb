{
  "nbformat": 4,
  "nbformat_minor": 0,
  "metadata": {
    "colab": {
      "name": "2_sqlite_명령어.ipynb",
      "provenance": [],
      "collapsed_sections": []
    },
    "kernelspec": {
      "name": "python3",
      "display_name": "Python 3"
    },
    "language_info": {
      "name": "python"
    }
  },
  "cells": [
    {
      "cell_type": "markdown",
      "source": [
        "# Sqlite Shell Command\n",
        "- \n",
        "<pre>\n",
        "    sqlite> .schema\n",
        "    CREATE TABLE Student (\n",
        "    id integer primary key autoincrement not null,\n",
        "    name text not null default 'aaa',\n",
        "    mobile text null);\n",
        "    CREATE TABLE sqlite_sequence(name,seq);\n",
        "    sqlite> .schema Student\n",
        "    CREATE TABLE Student (\n",
        "    id integer primary key autoincrement not null,\n",
        "    name text not null default 'aaa',\n",
        "    mobile text null);\n",
        "</pre>\n",
        "\n",
        "- `sqlite_master`\n",
        "<pre>\n",
        "    sqlite> select type, name, tbl_name, sql from sqlite_master;\n",
        "    table|Student|Student|CREATE TABLE Student (\n",
        "    id integer primary key autoincrement not null,\n",
        "    name text not null default 'aaa',\n",
        "    mobile text null)\n",
        "    table|sqlite_sequence|sqlite_sequence|CREATE TABLE sqlite_sequence(name,seq)\n",
        "</pre>\n",
        "\n",
        "- `nullvalue`\n",
        "<pre>\n",
        "    sqlite> .show\n",
        "    echo: off\n",
        "    eqp: off\n",
        "    explain: auto\n",
        "    headers: off\n",
        "    mode: list\n",
        "    nullvalue: \"\"    # null인 값 표현\n",
        "    output: stdout\n",
        "    colseparator: \"|\"\n",
        "    rowseparator: \"\\n\"\n",
        "    stats: off\n",
        "    width:\n",
        "    filename: test.db\n",
        "</pre>\n",
        "- null값 채우기 : 실제로 값이 없는 것인지, 공백인지 모름\n",
        "<pre>\n",
        "    sqlite> .nullvalue NULL\n",
        "    sqlite> select * from Student;\n",
        "    1|홍길동|010-2323-4545\n",
        "    2|둘리|NULL\n",
        "</pre>\n",
        "- `.dump` : DB의 데이터들을 파일(csv)로 변환\n",
        "    - 데이터의 구조와 실제 데이터들을 몽땅 다 달라는 의미\n",
        "<pre>\n",
        "    sqlite> .dump\n",
        "    PRAGMA foreign_keys=OFF;\n",
        "    BEGIN TRANSACTION;\n",
        "    CREATE TABLE Student (\n",
        "    id integer primary key autoincrement not null,\n",
        "    name text not null default 'aaa',\n",
        "    mobile text null);\n",
        "    INSERT INTO Student VALUES(1,'홍길동','010-2323-4545');\n",
        "    INSERT INTO Student VALUES(2,'둘리',NULL);\n",
        "    DELETE FROM sqlite_sequence;\n",
        "    INSERT INTO sqlite_sequence VALUES('Student',2);\n",
        "    COMMIT;\n",
        "</pre>\n",
        "- `.output` : 현재폴더 > db > students.sql\n",
        "    - 복구 (backup) \n",
        "<pre>\n",
        "    C:\\Users\\easya\\HK_Project\\4_DB(sqlite3)>mkdir db    # db라는 폴더 생성\n",
        "\n",
        "    C:\\Users\\easya\\HK_Project\\4_DB(sqlite3)>sqlite3 test.db\n",
        "    SQLite version 3.38.0 2022-02-22 18:58:40\n",
        "    Enter \".help\" for usage hints.\n",
        "    sqlite> .schema\n",
        "    CREATE TABLE Student (\n",
        "    id integer primary key autoincrement not null,\n",
        "    name text not null default 'aaa',\n",
        "    mobile text null);\n",
        "    CREATE TABLE sqlite_sequence(name,seq);\n",
        "    sqlite> select * from Student;\n",
        "    1|홍길동|010-2323-4545\n",
        "    2|둘리|\n",
        "    sqlite> .output ./db/students.sql\n",
        "    sqlite> .dump\n",
        "</pre>"
      ],
      "metadata": {
        "id": "XRc4npu3fQRV"
      }
    },
    {
      "cell_type": "code",
      "source": [
        ""
      ],
      "metadata": {
        "id": "v6_fjMsQ6OtJ"
      },
      "execution_count": null,
      "outputs": []
    }
  ]
}