{
  "nbformat": 4,
  "nbformat_minor": 0,
  "metadata": {
    "colab": {
      "name": "1_설치&기본command.ipynb",
      "provenance": [],
      "collapsed_sections": []
    },
    "kernelspec": {
      "name": "python3",
      "display_name": "Python 3"
    },
    "language_info": {
      "name": "python"
    }
  },
  "cells": [
    {
      "cell_type": "markdown",
      "source": [
        "# 1. sqlite3\n",
        "- `RDBMS` : Relational DataBase Management System ( 관계형 데이터베이스 )\n",
        "- local (server X)\n",
        "- File based Processing: DB 하나가 File 한 개 \n",
        "- Transaction with Backup File : commit, rollback\n",
        "- UTF-8, UTF-16, Blob(이미지나 영상), 64-bit"
      ],
      "metadata": {
        "id": "pjZLte7nNpM_"
      }
    },
    {
      "cell_type": "markdown",
      "source": [
        "# 2. sqlite3 설치\n",
        "1. https://sqlite.org\n",
        "- Precompiled Binaries for Windows > sqlite-tools-win32-x86-3380000.zip 설치\n",
        "- C 드라이브 > Windows > System32에 exe 파일 붙여넣기\n",
        "- cmd > c:\\Windows > sqlite3\n",
        "    - SQLite version ~\n",
        "    - Connected to a transient in-memory database.\n",
        "    - sqlite >\n",
        "    - 위와 같이 뜨면 성공\n",
        "2. https://sqlitebrowser.org/\n",
        "- DB Browser for SQLite - .zip (no installer) for 32-bit Windows 설치\n",
        "- C 드라이브에 `DB Browser for SQLite.exe` 붙여넣기\n",
        "- 설치파일 실행\n"
      ],
      "metadata": {
        "id": "hLOA_w1hQbUB"
      }
    },
    {
      "cell_type": "markdown",
      "source": [
        "# 3. Create table & Column Types\n",
        "<pre>\n",
        "create table <table-name> (\n",
        "    <column-name> <type> [primary key] [autoimcrement] [not null]\n",
        "        [default <default-value>],\n",
        "    <column-name> <type> ...\n",
        "</pre>\n",
        "- `type` : column의 type\n",
        "    - Integer\n",
        "    - Real\n",
        "    - Text\n",
        "    - Blob\n",
        "- `primary key` : column이 row마다 다른 값이다.\n",
        "- `autoimcrement` : 자동으로 순서 생성\n",
        "- `not null` : 값이 무조건 있어야 한다.\n",
        "- `default <default-value>` : 어떤 값도 주지 않았을 때, 기본값 설정"
      ],
      "metadata": {
        "id": "lo6CC_L-VNyW"
      }
    },
    {
      "cell_type": "markdown",
      "source": [
        "# Sqlite 실행\n",
        "- cmd > DB 저장 경로 > sqlite3 test.db\n",
        "    - sqlite >\n",
        "- table 생성 (cmd 창에 한 줄씩 입력 > enter)\n",
        "    <pre>\n",
        "    create table Student (\n",
        "    id integer primary key autoincrement not null,\n",
        "    name text not null default 'aaa',\n",
        "    mobile text null);\n",
        "    </pre>\n",
        "- `.schema` : DB의 모든 object를 의미\n",
        "    <pre>\n",
        "    sqlite> .schema\n",
        "    CREATE TABLE Student (\n",
        "    id integer primary key autoincrement not null,\n",
        "    name text not null default 'aaa',\n",
        "    mobile text null);\n",
        "    CREATE TABLE sqlite_sequence(name,seq);\n",
        "    </pre>\n",
        "    - `sqlite_sequence(name,seq)` : autoincrement 때문에 붙게 됨\n",
        "- 데이터 삽입 (`insert into Student(name, mobile) values`)\n",
        "    <pre>\n",
        "    sqlite > insert into Student(name, mobile) values('홍길동', '010-2323-4545');   # 삽입은 insert\n",
        "    sqlite > insert into Student(name) values('둘리');\n",
        "    sqlite > select * from Student;    # 확인은 select\n",
        "    1|홍길동|010-2323-4545\n",
        "    2|둘리|\n",
        "    sqlite > select name from Student;\n",
        "    홍길동\n",
        "    둘리\n",
        "    </pre>\n",
        "- 컬럼 정렬 (`.mode column`)\n",
        "    <pre>\n",
        "    sqlite > .mode column\n",
        "    sqlite > select name from Student;\n",
        "    name\n",
        "    ----\n",
        "    홍길동\n",
        "    둘리\n",
        "    sqlite > select * from Student;    \n",
        "    id  name  mobile\n",
        "    --  ----  -------------\n",
        "    1   홍길동   010-2323-4545\n",
        "    2   둘리\n",
        "    </pre>\n",
        "- 컬럼 (`.headers on`)\n",
        "    <pre>\n",
        "    sqlite> .headers on\n",
        "    sqlite> select * from Student;\n",
        "    id  name  mobile\n",
        "    --  ----  -------------\n",
        "    1   홍길동   010-2323-4545\n",
        "    2   둘리\n",
        "    </pre>\n",
        "- 폭 설정 (`.width 15 20 20`) : 숫자는 len\n",
        "    <pre>\n",
        "    sqlite> .width 15 20 20\n",
        "    sqlite> select * from Student;\n",
        "    id               name                  mobile\n",
        "    ---------------  --------------------  --------------------\n",
        "    1                홍길동                   010-2323-4545\n",
        "    2                둘리\n",
        "    </pre>\n",
        "- table 확인 (`.tables`)\n",
        "    <pre>\n",
        "    sqlite> .tables\n",
        "    Student\n",
        "    </pre>"
      ],
      "metadata": {
        "id": "oMDdmMw1Wya8"
      }
    },
    {
      "cell_type": "code",
      "source": [
        ""
      ],
      "metadata": {
        "id": "sFzyq9Cud_dL"
      },
      "execution_count": null,
      "outputs": []
    }
  ]
}