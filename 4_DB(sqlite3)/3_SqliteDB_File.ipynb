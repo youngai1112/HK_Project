{
  "nbformat": 4,
  "nbformat_minor": 0,
  "metadata": {
    "colab": {
      "name": "3_SqliteDB_File.ipynb",
      "provenance": [],
      "collapsed_sections": []
    },
    "kernelspec": {
      "name": "python3",
      "display_name": "Python 3"
    },
    "language_info": {
      "name": "python"
    }
  },
  "cells": [
    {
      "cell_type": "markdown",
      "source": [
        "# \n",
        "- 삭제\n",
        "<pre>\n",
        "    $> dir db\n",
        "    $> del test.db\n",
        "</pre>\n",
        "\n",
        "- 복구 : `.read`\n",
        "<pre>\n",
        "    .read ./db/students.sql\n",
        "</pre>\n",
        "\n",
        "- `.mode insert`\n",
        "<pre>\n",
        "    sqlite> .mode insert\n",
        "    sqlite> select * from Student;\n",
        "    INSERT INTO \"table\" VALUES(1,'홍길동','010-2323-4545');\n",
        "    INSERT INTO \"table\" VALUES(2,'둘리',NULL);\n",
        "</pre>\n",
        "\n",
        "- `mode.html`\n",
        "\n"
      ],
      "metadata": {
        "id": "Bv1YFJNYNB_b"
      }
    },
    {
      "cell_type": "code",
      "source": [
        "# `mode.html`\n",
        "%%html\n",
        "    <TR><TD>1</TD>\n",
        "    \n",
        "    <TD>홍길동</TD>\n",
        "    \n",
        "    <TD>010-2323-4545</TD>\n",
        "    \n",
        "    </TR>\n",
        "    \n",
        "    <TR><TD>2</TD>\n",
        "    \n",
        "    <TD>둘리</TD>\n",
        "    \n",
        "    <TD></TD>\n",
        "    </TR>"
      ],
      "metadata": {
        "colab": {
          "base_uri": "https://localhost:8080/",
          "height": 35
        },
        "id": "LyvAp1ujU7Mv",
        "outputId": "7130850c-12f7-4d49-b02b-97e56cdd8bb6"
      },
      "execution_count": null,
      "outputs": [
        {
          "output_type": "display_data",
          "data": {
            "text/html": [
              "    <TR><TD>1</TD>\n",
              "    \n",
              "    <TD>홍길동</TD>\n",
              "    \n",
              "    <TD>010-2323-4545</TD>\n",
              "    \n",
              "    </TR>\n",
              "    \n",
              "    <TR><TD>2</TD>\n",
              "    \n",
              "    <TD>둘리</TD>\n",
              "    \n",
              "    <TD></TD>\n",
              "    </TR>"
            ],
            "text/plain": [
              "<IPython.core.display.HTML object>"
            ]
          },
          "metadata": {}
        }
      ]
    },
    {
      "cell_type": "code",
      "source": [
        ""
      ],
      "metadata": {
        "id": "ZIE-ONcKU9HK"
      },
      "execution_count": null,
      "outputs": []
    }
  ]
}