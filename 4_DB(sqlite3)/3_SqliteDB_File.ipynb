{
  "cells": [
    {
      "cell_type": "markdown",
      "metadata": {
        "id": "Bv1YFJNYNB_b"
      },
      "source": [
        "# \n",
        "- 삭제\n",
        "<pre>\n",
        "    $> dir db\n",
        "    $> del test.db\n",
        "</pre>\n",
        "\n",
        "- 복구 : `.read`\n",
        "<pre>\n",
        "    .read ./db/students.sql\n",
        "</pre>\n",
        "\n",
        "- `.mode insert`\n",
        "<pre>\n",
        "    sqlite> .mode insert\n",
        "    sqlite> select * from Student;\n",
        "    INSERT INTO \"table\" VALUES(1,'홍길동','010-2323-4545');\n",
        "    INSERT INTO \"table\" VALUES(2,'둘리',NULL);\n",
        "</pre>\n",
        "\n",
        "- `mode.html`\n",
        "- `.mode list`\n",
        "\n"
      ]
    },
    {
      "cell_type": "code",
      "execution_count": null,
      "metadata": {
        "colab": {
          "base_uri": "https://localhost:8080/",
          "height": 35
        },
        "id": "LyvAp1ujU7Mv",
        "outputId": "7130850c-12f7-4d49-b02b-97e56cdd8bb6"
      },
      "outputs": [
        {
          "data": {
            "text/html": [
              "    <TR><TD>1</TD>\n",
              "    \n",
              "    <TD>홍길동</TD>\n",
              "    \n",
              "    <TD>010-2323-4545</TD>\n",
              "    \n",
              "    </TR>\n",
              "    \n",
              "    <TR><TD>2</TD>\n",
              "    \n",
              "    <TD>둘리</TD>\n",
              "    \n",
              "    <TD></TD>\n",
              "    </TR>"
            ],
            "text/plain": [
              "<IPython.core.display.HTML object>"
            ]
          },
          "metadata": {},
          "output_type": "display_data"
        }
      ],
      "source": [
        "# `mode.html`\n",
        "%%html\n",
        "    <TR><TD>1</TD>\n",
        "    \n",
        "    <TD>홍길동</TD>\n",
        "    \n",
        "    <TD>010-2323-4545</TD>\n",
        "    \n",
        "    </TR>\n",
        "    \n",
        "    <TR><TD>2</TD>\n",
        "    \n",
        "    <TD>둘리</TD>\n",
        "    \n",
        "    <TD></TD>\n",
        "    </TR>"
      ]
    },
    {
      "cell_type": "code",
      "execution_count": null,
      "metadata": {
        "id": "ZIE-ONcKU9HK"
      },
      "outputs": [],
      "source": []
    }
  ],
  "metadata": {
    "colab": {
      "collapsed_sections": [],
      "name": "3_SqliteDB_File.ipynb",
      "provenance": []
    },
    "kernelspec": {
      "display_name": "Python 3",
      "name": "python3"
    },
    "language_info": {
      "name": "python",
      "version": "3.8.8"
    }
  },
  "nbformat": 4,
  "nbformat_minor": 0
}
