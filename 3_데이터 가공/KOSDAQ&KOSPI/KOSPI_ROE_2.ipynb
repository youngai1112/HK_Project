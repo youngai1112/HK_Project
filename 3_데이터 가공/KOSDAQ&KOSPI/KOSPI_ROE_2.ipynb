{
 "cells": [
  {
   "cell_type": "code",
   "execution_count": 1,
   "metadata": {},
   "outputs": [],
   "source": [
    "import pandas as pd\n",
    "import numpy as np\n",
    "import matplotlib.pyplot as plt\n",
    "import seaborn as sns\n",
    "import warnings\n",
    "warnings.filterwarnings('ignore')\n",
    "import os\n",
    "import openpyxl\n",
    "import re"
   ]
  },
  {
   "cell_type": "code",
   "execution_count": 9,
   "metadata": {},
   "outputs": [
    {
     "data": {
      "text/html": [
       "<div>\n",
       "<style scoped>\n",
       "    .dataframe tbody tr th:only-of-type {\n",
       "        vertical-align: middle;\n",
       "    }\n",
       "\n",
       "    .dataframe tbody tr th {\n",
       "        vertical-align: top;\n",
       "    }\n",
       "\n",
       "    .dataframe thead th {\n",
       "        text-align: right;\n",
       "    }\n",
       "</style>\n",
       "<table border=\"1\" class=\"dataframe\">\n",
       "  <thead>\n",
       "    <tr style=\"text-align: right;\">\n",
       "      <th></th>\n",
       "      <th>Unnamed: 0</th>\n",
       "      <th>종목명</th>\n",
       "      <th>종목코드</th>\n",
       "      <th>2017</th>\n",
       "      <th>2018</th>\n",
       "      <th>2019</th>\n",
       "      <th>2020</th>\n",
       "      <th>2021</th>\n",
       "      <th>average</th>\n",
       "      <th>산업</th>\n",
       "    </tr>\n",
       "  </thead>\n",
       "  <tbody>\n",
       "    <tr>\n",
       "      <th>0</th>\n",
       "      <td>21</td>\n",
       "      <td>LG생활건강</td>\n",
       "      <td>51900</td>\n",
       "      <td>21.9</td>\n",
       "      <td>21.0</td>\n",
       "      <td>20.3</td>\n",
       "      <td>17.9</td>\n",
       "      <td>16.7</td>\n",
       "      <td>19.56</td>\n",
       "      <td>화학</td>\n",
       "    </tr>\n",
       "    <tr>\n",
       "      <th>1</th>\n",
       "      <td>36</td>\n",
       "      <td>엔씨소프트</td>\n",
       "      <td>36570</td>\n",
       "      <td>19.1</td>\n",
       "      <td>16.4</td>\n",
       "      <td>14.7</td>\n",
       "      <td>20.8</td>\n",
       "      <td>11.7</td>\n",
       "      <td>16.54</td>\n",
       "      <td>서비스업</td>\n",
       "    </tr>\n",
       "    <tr>\n",
       "      <th>2</th>\n",
       "      <td>62</td>\n",
       "      <td>코웨이</td>\n",
       "      <td>21240</td>\n",
       "      <td>30.1</td>\n",
       "      <td>33.8</td>\n",
       "      <td>30.7</td>\n",
       "      <td>31.5</td>\n",
       "      <td>30.6</td>\n",
       "      <td>31.34</td>\n",
       "      <td>서비스업</td>\n",
       "    </tr>\n",
       "    <tr>\n",
       "      <th>3</th>\n",
       "      <td>64</td>\n",
       "      <td>금호석유</td>\n",
       "      <td>11780</td>\n",
       "      <td>12.3</td>\n",
       "      <td>23.5</td>\n",
       "      <td>11.8</td>\n",
       "      <td>20.2</td>\n",
       "      <td>55.9</td>\n",
       "      <td>24.74</td>\n",
       "      <td>화학</td>\n",
       "    </tr>\n",
       "    <tr>\n",
       "      <th>4</th>\n",
       "      <td>66</td>\n",
       "      <td>메리츠금융지주</td>\n",
       "      <td>138040</td>\n",
       "      <td>19.4</td>\n",
       "      <td>13.9</td>\n",
       "      <td>15.3</td>\n",
       "      <td>16.1</td>\n",
       "      <td>22.5</td>\n",
       "      <td>17.44</td>\n",
       "      <td>기타금융업</td>\n",
       "    </tr>\n",
       "  </tbody>\n",
       "</table>\n",
       "</div>"
      ],
      "text/plain": [
       "   Unnamed: 0      종목명    종목코드  2017  2018  2019  2020  2021  average     산업\n",
       "0          21   LG생활건강   51900  21.9  21.0  20.3  17.9  16.7    19.56     화학\n",
       "1          36    엔씨소프트   36570  19.1  16.4  14.7  20.8  11.7    16.54   서비스업\n",
       "2          62      코웨이   21240  30.1  33.8  30.7  31.5  30.6    31.34   서비스업\n",
       "3          64     금호석유   11780  12.3  23.5  11.8  20.2  55.9    24.74     화학\n",
       "4          66  메리츠금융지주  138040  19.4  13.9  15.3  16.1  22.5    17.44  기타금융업"
      ]
     },
     "execution_count": 9,
     "metadata": {},
     "output_type": "execute_result"
    }
   ],
   "source": [
    "df = pd.read_excel(\"../data/kospi_ROE_11_upper.xlsx\")\n",
    "df.head()"
   ]
  },
  {
   "cell_type": "code",
   "execution_count": 10,
   "metadata": {},
   "outputs": [
    {
     "data": {
      "text/html": [
       "<div>\n",
       "<style scoped>\n",
       "    .dataframe tbody tr th:only-of-type {\n",
       "        vertical-align: middle;\n",
       "    }\n",
       "\n",
       "    .dataframe tbody tr th {\n",
       "        vertical-align: top;\n",
       "    }\n",
       "\n",
       "    .dataframe thead th {\n",
       "        text-align: right;\n",
       "    }\n",
       "</style>\n",
       "<table border=\"1\" class=\"dataframe\">\n",
       "  <thead>\n",
       "    <tr style=\"text-align: right;\">\n",
       "      <th></th>\n",
       "      <th>종목명</th>\n",
       "      <th>종목코드</th>\n",
       "      <th>2017</th>\n",
       "      <th>2018</th>\n",
       "      <th>2019</th>\n",
       "      <th>2020</th>\n",
       "      <th>2021</th>\n",
       "      <th>average</th>\n",
       "      <th>산업</th>\n",
       "    </tr>\n",
       "  </thead>\n",
       "  <tbody>\n",
       "    <tr>\n",
       "      <th>0</th>\n",
       "      <td>LG생활건강</td>\n",
       "      <td>51900</td>\n",
       "      <td>21.9</td>\n",
       "      <td>21.0</td>\n",
       "      <td>20.3</td>\n",
       "      <td>17.9</td>\n",
       "      <td>16.7</td>\n",
       "      <td>19.56</td>\n",
       "      <td>화학</td>\n",
       "    </tr>\n",
       "    <tr>\n",
       "      <th>1</th>\n",
       "      <td>엔씨소프트</td>\n",
       "      <td>36570</td>\n",
       "      <td>19.1</td>\n",
       "      <td>16.4</td>\n",
       "      <td>14.7</td>\n",
       "      <td>20.8</td>\n",
       "      <td>11.7</td>\n",
       "      <td>16.54</td>\n",
       "      <td>서비스업</td>\n",
       "    </tr>\n",
       "    <tr>\n",
       "      <th>2</th>\n",
       "      <td>코웨이</td>\n",
       "      <td>21240</td>\n",
       "      <td>30.1</td>\n",
       "      <td>33.8</td>\n",
       "      <td>30.7</td>\n",
       "      <td>31.5</td>\n",
       "      <td>30.6</td>\n",
       "      <td>31.34</td>\n",
       "      <td>서비스업</td>\n",
       "    </tr>\n",
       "    <tr>\n",
       "      <th>3</th>\n",
       "      <td>금호석유</td>\n",
       "      <td>11780</td>\n",
       "      <td>12.3</td>\n",
       "      <td>23.5</td>\n",
       "      <td>11.8</td>\n",
       "      <td>20.2</td>\n",
       "      <td>55.9</td>\n",
       "      <td>24.74</td>\n",
       "      <td>화학</td>\n",
       "    </tr>\n",
       "    <tr>\n",
       "      <th>4</th>\n",
       "      <td>메리츠금융지주</td>\n",
       "      <td>138040</td>\n",
       "      <td>19.4</td>\n",
       "      <td>13.9</td>\n",
       "      <td>15.3</td>\n",
       "      <td>16.1</td>\n",
       "      <td>22.5</td>\n",
       "      <td>17.44</td>\n",
       "      <td>기타금융업</td>\n",
       "    </tr>\n",
       "  </tbody>\n",
       "</table>\n",
       "</div>"
      ],
      "text/plain": [
       "       종목명    종목코드  2017  2018  2019  2020  2021  average     산업\n",
       "0   LG생활건강   51900  21.9  21.0  20.3  17.9  16.7    19.56     화학\n",
       "1    엔씨소프트   36570  19.1  16.4  14.7  20.8  11.7    16.54   서비스업\n",
       "2      코웨이   21240  30.1  33.8  30.7  31.5  30.6    31.34   서비스업\n",
       "3     금호석유   11780  12.3  23.5  11.8  20.2  55.9    24.74     화학\n",
       "4  메리츠금융지주  138040  19.4  13.9  15.3  16.1  22.5    17.44  기타금융업"
      ]
     },
     "execution_count": 10,
     "metadata": {},
     "output_type": "execute_result"
    }
   ],
   "source": [
    "df.drop(columns=[\"Unnamed: 0\"], inplace=True)\n",
    "df.head()"
   ]
  },
  {
   "cell_type": "code",
   "execution_count": 11,
   "metadata": {},
   "outputs": [],
   "source": [
    "df1 = df.copy()"
   ]
  },
  {
   "cell_type": "code",
   "execution_count": 13,
   "metadata": {},
   "outputs": [
    {
     "data": {
      "text/plain": [
       "array(['화학', '서비스업', '기타금융업', '보험업', '전기전자', '음식료품', '건설업'], dtype=object)"
      ]
     },
     "execution_count": 13,
     "metadata": {},
     "output_type": "execute_result"
    }
   ],
   "source": [
    "df1[\"산업\"].unique()"
   ]
  },
  {
   "cell_type": "markdown",
   "metadata": {},
   "source": [
    "- ROE 5개년 15이상 기업 분류 > 산업별 분류 결과\n",
    "    - 서비스업 > 화학 = 기타금융업 > 건설업 > 보험업 > 전기전자 > 음식료품"
   ]
  },
  {
   "cell_type": "code",
   "execution_count": 18,
   "metadata": {},
   "outputs": [
    {
     "data": {
      "text/plain": [
       "서비스업     6\n",
       "화학       5\n",
       "기타금융업    5\n",
       "건설업      2\n",
       "보험업      1\n",
       "전기전자     1\n",
       "음식료품     1\n",
       "Name: 산업, dtype: int64"
      ]
     },
     "execution_count": 18,
     "metadata": {},
     "output_type": "execute_result"
    }
   ],
   "source": [
    "df1[\"산업\"].value_counts()"
   ]
  }
 ],
 "metadata": {
  "interpreter": {
   "hash": "237dfbe96289c26a34bb3817ed9a5dda5a1f28f78dcc25894f58473fa7732fcf"
  },
  "kernelspec": {
   "display_name": "Python 3.8.8 64-bit",
   "language": "python",
   "name": "python3"
  },
  "language_info": {
   "codemirror_mode": {
    "name": "ipython",
    "version": 3
   },
   "file_extension": ".py",
   "mimetype": "text/x-python",
   "name": "python",
   "nbconvert_exporter": "python",
   "pygments_lexer": "ipython3",
   "version": "3.8.8"
  },
  "orig_nbformat": 4
 },
 "nbformat": 4,
 "nbformat_minor": 2
}
