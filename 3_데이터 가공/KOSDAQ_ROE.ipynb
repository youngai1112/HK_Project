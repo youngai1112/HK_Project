{
 "cells": [
  {
   "cell_type": "code",
   "execution_count": 1,
   "metadata": {},
   "outputs": [],
   "source": [
    "import pandas as pd\n",
    "import numpy as np\n",
    "import matplotlib.pyplot as plt\n",
    "import seaborn as sns\n",
    "import warnings\n",
    "warnings.filterwarnings('ignore')\n",
    "import os\n",
    "import openpyxl\n",
    "import re"
   ]
  },
  {
   "cell_type": "markdown",
   "metadata": {},
   "source": [
    "- KOSDAQ 5개년 ROE 지수 확인"
   ]
  },
  {
   "cell_type": "code",
   "execution_count": 2,
   "metadata": {},
   "outputs": [
    {
     "data": {
      "text/html": [
       "<div>\n",
       "<style scoped>\n",
       "    .dataframe tbody tr th:only-of-type {\n",
       "        vertical-align: middle;\n",
       "    }\n",
       "\n",
       "    .dataframe tbody tr th {\n",
       "        vertical-align: top;\n",
       "    }\n",
       "\n",
       "    .dataframe thead th {\n",
       "        text-align: right;\n",
       "    }\n",
       "</style>\n",
       "<table border=\"1\" class=\"dataframe\">\n",
       "  <thead>\n",
       "    <tr style=\"text-align: right;\">\n",
       "      <th></th>\n",
       "      <th>종목명</th>\n",
       "      <th>2017</th>\n",
       "      <th>2018</th>\n",
       "      <th>2019</th>\n",
       "      <th>2020</th>\n",
       "      <th>2021</th>\n",
       "    </tr>\n",
       "  </thead>\n",
       "  <tbody>\n",
       "    <tr>\n",
       "      <th>0</th>\n",
       "      <td>엑세스바이오</td>\n",
       "      <td>-12.8</td>\n",
       "      <td>-10.4</td>\n",
       "      <td>-56.8</td>\n",
       "      <td>89.2</td>\n",
       "      <td>107.2</td>\n",
       "    </tr>\n",
       "    <tr>\n",
       "      <th>1</th>\n",
       "      <td>아이패밀리에스씨</td>\n",
       "      <td>-20.3</td>\n",
       "      <td>17.7</td>\n",
       "      <td>NaN</td>\n",
       "      <td>84.8</td>\n",
       "      <td>23.0</td>\n",
       "    </tr>\n",
       "    <tr>\n",
       "      <th>2</th>\n",
       "      <td>SGC이테크건설</td>\n",
       "      <td>11.7</td>\n",
       "      <td>13.1</td>\n",
       "      <td>6.7</td>\n",
       "      <td>79.7</td>\n",
       "      <td>33.5</td>\n",
       "    </tr>\n",
       "    <tr>\n",
       "      <th>3</th>\n",
       "      <td>오스템임플란트</td>\n",
       "      <td>9.3</td>\n",
       "      <td>11.5</td>\n",
       "      <td>-17.2</td>\n",
       "      <td>78.8</td>\n",
       "      <td>44.4</td>\n",
       "    </tr>\n",
       "    <tr>\n",
       "      <th>4</th>\n",
       "      <td>휴림로봇</td>\n",
       "      <td>9.2</td>\n",
       "      <td>-76.0</td>\n",
       "      <td>-34.7</td>\n",
       "      <td>78.8</td>\n",
       "      <td>-72.0</td>\n",
       "    </tr>\n",
       "  </tbody>\n",
       "</table>\n",
       "</div>"
      ],
      "text/plain": [
       "        종목명  2017  2018  2019  2020   2021\n",
       "0    엑세스바이오 -12.8 -10.4 -56.8  89.2  107.2\n",
       "1  아이패밀리에스씨 -20.3  17.7   NaN  84.8   23.0\n",
       "2  SGC이테크건설  11.7  13.1   6.7  79.7   33.5\n",
       "3   오스템임플란트   9.3  11.5 -17.2  78.8   44.4\n",
       "4      휴림로봇   9.2 -76.0 -34.7  78.8  -72.0"
      ]
     },
     "execution_count": 2,
     "metadata": {},
     "output_type": "execute_result"
    }
   ],
   "source": [
    "df = pd.read_excel(\"../data/KOSDAQROE5years.xlsx\")\n",
    "df.head()"
   ]
  },
  {
   "cell_type": "code",
   "execution_count": 3,
   "metadata": {},
   "outputs": [
    {
     "data": {
      "text/plain": [
       "종목명      0\n",
       "2017    33\n",
       "2018    23\n",
       "2019    11\n",
       "2020     2\n",
       "2021     3\n",
       "dtype: int64"
      ]
     },
     "execution_count": 3,
     "metadata": {},
     "output_type": "execute_result"
    }
   ],
   "source": [
    "df.isna().sum()"
   ]
  },
  {
   "cell_type": "code",
   "execution_count": 4,
   "metadata": {},
   "outputs": [
    {
     "data": {
      "text/html": [
       "<div>\n",
       "<style scoped>\n",
       "    .dataframe tbody tr th:only-of-type {\n",
       "        vertical-align: middle;\n",
       "    }\n",
       "\n",
       "    .dataframe tbody tr th {\n",
       "        vertical-align: top;\n",
       "    }\n",
       "\n",
       "    .dataframe thead th {\n",
       "        text-align: right;\n",
       "    }\n",
       "</style>\n",
       "<table border=\"1\" class=\"dataframe\">\n",
       "  <thead>\n",
       "    <tr style=\"text-align: right;\">\n",
       "      <th></th>\n",
       "      <th>종목명</th>\n",
       "      <th>2017</th>\n",
       "      <th>2018</th>\n",
       "      <th>2019</th>\n",
       "      <th>2020</th>\n",
       "      <th>2021</th>\n",
       "    </tr>\n",
       "  </thead>\n",
       "  <tbody>\n",
       "    <tr>\n",
       "      <th>0</th>\n",
       "      <td>엑세스바이오</td>\n",
       "      <td>-12.8</td>\n",
       "      <td>-10.4</td>\n",
       "      <td>-56.8</td>\n",
       "      <td>89.2</td>\n",
       "      <td>107.2</td>\n",
       "    </tr>\n",
       "    <tr>\n",
       "      <th>1</th>\n",
       "      <td>아이패밀리에스씨</td>\n",
       "      <td>-20.3</td>\n",
       "      <td>17.7</td>\n",
       "      <td>NaN</td>\n",
       "      <td>84.8</td>\n",
       "      <td>23.0</td>\n",
       "    </tr>\n",
       "    <tr>\n",
       "      <th>2</th>\n",
       "      <td>SGC이테크건설</td>\n",
       "      <td>11.7</td>\n",
       "      <td>13.1</td>\n",
       "      <td>6.7</td>\n",
       "      <td>79.7</td>\n",
       "      <td>33.5</td>\n",
       "    </tr>\n",
       "  </tbody>\n",
       "</table>\n",
       "</div>"
      ],
      "text/plain": [
       "        종목명  2017  2018  2019  2020   2021\n",
       "0    엑세스바이오 -12.8 -10.4 -56.8  89.2  107.2\n",
       "1  아이패밀리에스씨 -20.3  17.7   NaN  84.8   23.0\n",
       "2  SGC이테크건설  11.7  13.1   6.7  79.7   33.5"
      ]
     },
     "execution_count": 4,
     "metadata": {},
     "output_type": "execute_result"
    }
   ],
   "source": [
    "df.replace('', np.nan)\n",
    "df.head(3)"
   ]
  },
  {
   "cell_type": "code",
   "execution_count": 7,
   "metadata": {},
   "outputs": [
    {
     "data": {
      "text/html": [
       "<div>\n",
       "<style scoped>\n",
       "    .dataframe tbody tr th:only-of-type {\n",
       "        vertical-align: middle;\n",
       "    }\n",
       "\n",
       "    .dataframe tbody tr th {\n",
       "        vertical-align: top;\n",
       "    }\n",
       "\n",
       "    .dataframe thead th {\n",
       "        text-align: right;\n",
       "    }\n",
       "</style>\n",
       "<table border=\"1\" class=\"dataframe\">\n",
       "  <thead>\n",
       "    <tr style=\"text-align: right;\">\n",
       "      <th></th>\n",
       "      <th>종목명</th>\n",
       "      <th>2017</th>\n",
       "      <th>2018</th>\n",
       "      <th>2019</th>\n",
       "      <th>2020</th>\n",
       "      <th>2021</th>\n",
       "    </tr>\n",
       "  </thead>\n",
       "  <tbody>\n",
       "    <tr>\n",
       "      <th>0</th>\n",
       "      <td>엑세스바이오</td>\n",
       "      <td>-12.8</td>\n",
       "      <td>-10.4</td>\n",
       "      <td>-56.8</td>\n",
       "      <td>89.2</td>\n",
       "      <td>107.2</td>\n",
       "    </tr>\n",
       "    <tr>\n",
       "      <th>2</th>\n",
       "      <td>SGC이테크건설</td>\n",
       "      <td>11.7</td>\n",
       "      <td>13.1</td>\n",
       "      <td>6.7</td>\n",
       "      <td>79.7</td>\n",
       "      <td>33.5</td>\n",
       "    </tr>\n",
       "    <tr>\n",
       "      <th>3</th>\n",
       "      <td>오스템임플란트</td>\n",
       "      <td>9.3</td>\n",
       "      <td>11.5</td>\n",
       "      <td>-17.2</td>\n",
       "      <td>78.8</td>\n",
       "      <td>44.4</td>\n",
       "    </tr>\n",
       "  </tbody>\n",
       "</table>\n",
       "</div>"
      ],
      "text/plain": [
       "        종목명  2017  2018  2019  2020   2021\n",
       "0    엑세스바이오 -12.8 -10.4 -56.8  89.2  107.2\n",
       "2  SGC이테크건설  11.7  13.1   6.7  79.7   33.5\n",
       "3   오스템임플란트   9.3  11.5 -17.2  78.8   44.4"
      ]
     },
     "execution_count": 7,
     "metadata": {},
     "output_type": "execute_result"
    }
   ],
   "source": [
    "df.dropna(inplace=True)\n",
    "df.head(3)"
   ]
  },
  {
   "cell_type": "code",
   "execution_count": 8,
   "metadata": {},
   "outputs": [
    {
     "name": "stdout",
     "output_type": "stream",
     "text": [
      "<class 'pandas.core.frame.DataFrame'>\n",
      "Int64Index: 176 entries, 0 to 226\n",
      "Data columns (total 6 columns):\n",
      " #   Column  Non-Null Count  Dtype  \n",
      "---  ------  --------------  -----  \n",
      " 0   종목명     176 non-null    object \n",
      " 1   2017    176 non-null    float64\n",
      " 2   2018    176 non-null    float64\n",
      " 3   2019    176 non-null    float64\n",
      " 4   2020    176 non-null    float64\n",
      " 5   2021    176 non-null    float64\n",
      "dtypes: float64(5), object(1)\n",
      "memory usage: 9.6+ KB\n"
     ]
    }
   ],
   "source": [
    "df.info()"
   ]
  },
  {
   "cell_type": "code",
   "execution_count": 9,
   "metadata": {},
   "outputs": [
    {
     "data": {
      "text/html": [
       "<div>\n",
       "<style scoped>\n",
       "    .dataframe tbody tr th:only-of-type {\n",
       "        vertical-align: middle;\n",
       "    }\n",
       "\n",
       "    .dataframe tbody tr th {\n",
       "        vertical-align: top;\n",
       "    }\n",
       "\n",
       "    .dataframe thead th {\n",
       "        text-align: right;\n",
       "    }\n",
       "</style>\n",
       "<table border=\"1\" class=\"dataframe\">\n",
       "  <thead>\n",
       "    <tr style=\"text-align: right;\">\n",
       "      <th></th>\n",
       "      <th>종목명</th>\n",
       "      <th>2017</th>\n",
       "      <th>2018</th>\n",
       "      <th>2019</th>\n",
       "      <th>2020</th>\n",
       "      <th>2021</th>\n",
       "    </tr>\n",
       "  </thead>\n",
       "  <tbody>\n",
       "    <tr>\n",
       "      <th>21</th>\n",
       "      <td>디알젬</td>\n",
       "      <td>31.7</td>\n",
       "      <td>21.0</td>\n",
       "      <td>17.9</td>\n",
       "      <td>47.0</td>\n",
       "      <td>20.7</td>\n",
       "    </tr>\n",
       "    <tr>\n",
       "      <th>25</th>\n",
       "      <td>노바텍</td>\n",
       "      <td>31.7</td>\n",
       "      <td>29.2</td>\n",
       "      <td>16.4</td>\n",
       "      <td>44.1</td>\n",
       "      <td>44.6</td>\n",
       "    </tr>\n",
       "    <tr>\n",
       "      <th>32</th>\n",
       "      <td>고려신용정보</td>\n",
       "      <td>21.1</td>\n",
       "      <td>25.6</td>\n",
       "      <td>31.8</td>\n",
       "      <td>39.8</td>\n",
       "      <td>32.3</td>\n",
       "    </tr>\n",
       "    <tr>\n",
       "      <th>41</th>\n",
       "      <td>에이치피오</td>\n",
       "      <td>19.4</td>\n",
       "      <td>23.9</td>\n",
       "      <td>24.7</td>\n",
       "      <td>35.6</td>\n",
       "      <td>16.5</td>\n",
       "    </tr>\n",
       "    <tr>\n",
       "      <th>51</th>\n",
       "      <td>에이피티씨</td>\n",
       "      <td>60.8</td>\n",
       "      <td>45.2</td>\n",
       "      <td>25.1</td>\n",
       "      <td>31.3</td>\n",
       "      <td>51.1</td>\n",
       "    </tr>\n",
       "  </tbody>\n",
       "</table>\n",
       "</div>"
      ],
      "text/plain": [
       "       종목명  2017  2018  2019  2020  2021\n",
       "21     디알젬  31.7  21.0  17.9  47.0  20.7\n",
       "25     노바텍  31.7  29.2  16.4  44.1  44.6\n",
       "32  고려신용정보  21.1  25.6  31.8  39.8  32.3\n",
       "41   에이치피오  19.4  23.9  24.7  35.6  16.5\n",
       "51   에이피티씨  60.8  45.2  25.1  31.3  51.1"
      ]
     },
     "execution_count": 9,
     "metadata": {},
     "output_type": "execute_result"
    }
   ],
   "source": [
    "# ROE 11이상 \n",
    "df_ROE_11_upper = df[(df[2017] >= 11) & (df[2018] >= 11) & (df[2019] >= 11) & (df[2020] >= 11) & (df[2021] >= 11)]\n",
    "df_ROE_11_upper.head()"
   ]
  },
  {
   "cell_type": "code",
   "execution_count": 10,
   "metadata": {},
   "outputs": [
    {
     "data": {
      "text/html": [
       "<div>\n",
       "<style scoped>\n",
       "    .dataframe tbody tr th:only-of-type {\n",
       "        vertical-align: middle;\n",
       "    }\n",
       "\n",
       "    .dataframe tbody tr th {\n",
       "        vertical-align: top;\n",
       "    }\n",
       "\n",
       "    .dataframe thead th {\n",
       "        text-align: right;\n",
       "    }\n",
       "</style>\n",
       "<table border=\"1\" class=\"dataframe\">\n",
       "  <thead>\n",
       "    <tr style=\"text-align: right;\">\n",
       "      <th></th>\n",
       "      <th>종목명</th>\n",
       "      <th>2017</th>\n",
       "      <th>2018</th>\n",
       "      <th>2019</th>\n",
       "      <th>2020</th>\n",
       "      <th>2021</th>\n",
       "      <th>average</th>\n",
       "    </tr>\n",
       "  </thead>\n",
       "  <tbody>\n",
       "    <tr>\n",
       "      <th>21</th>\n",
       "      <td>디알젬</td>\n",
       "      <td>31.7</td>\n",
       "      <td>21.0</td>\n",
       "      <td>17.9</td>\n",
       "      <td>47.0</td>\n",
       "      <td>20.7</td>\n",
       "      <td>27.66</td>\n",
       "    </tr>\n",
       "    <tr>\n",
       "      <th>25</th>\n",
       "      <td>노바텍</td>\n",
       "      <td>31.7</td>\n",
       "      <td>29.2</td>\n",
       "      <td>16.4</td>\n",
       "      <td>44.1</td>\n",
       "      <td>44.6</td>\n",
       "      <td>33.20</td>\n",
       "    </tr>\n",
       "    <tr>\n",
       "      <th>32</th>\n",
       "      <td>고려신용정보</td>\n",
       "      <td>21.1</td>\n",
       "      <td>25.6</td>\n",
       "      <td>31.8</td>\n",
       "      <td>39.8</td>\n",
       "      <td>32.3</td>\n",
       "      <td>30.12</td>\n",
       "    </tr>\n",
       "    <tr>\n",
       "      <th>41</th>\n",
       "      <td>에이치피오</td>\n",
       "      <td>19.4</td>\n",
       "      <td>23.9</td>\n",
       "      <td>24.7</td>\n",
       "      <td>35.6</td>\n",
       "      <td>16.5</td>\n",
       "      <td>24.02</td>\n",
       "    </tr>\n",
       "    <tr>\n",
       "      <th>51</th>\n",
       "      <td>에이피티씨</td>\n",
       "      <td>60.8</td>\n",
       "      <td>45.2</td>\n",
       "      <td>25.1</td>\n",
       "      <td>31.3</td>\n",
       "      <td>51.1</td>\n",
       "      <td>42.70</td>\n",
       "    </tr>\n",
       "  </tbody>\n",
       "</table>\n",
       "</div>"
      ],
      "text/plain": [
       "       종목명  2017  2018  2019  2020  2021  average\n",
       "21     디알젬  31.7  21.0  17.9  47.0  20.7    27.66\n",
       "25     노바텍  31.7  29.2  16.4  44.1  44.6    33.20\n",
       "32  고려신용정보  21.1  25.6  31.8  39.8  32.3    30.12\n",
       "41   에이치피오  19.4  23.9  24.7  35.6  16.5    24.02\n",
       "51   에이피티씨  60.8  45.2  25.1  31.3  51.1    42.70"
      ]
     },
     "execution_count": 10,
     "metadata": {},
     "output_type": "execute_result"
    }
   ],
   "source": [
    "# '평균' 열 추가\n",
    "df_ROE_11_upper[\"average\"] = df_ROE_11_upper.mean(axis=1)\n",
    "df_ROE_11_upper.head()"
   ]
  },
  {
   "cell_type": "markdown",
   "metadata": {},
   "source": [
    "- 한글깨짐방지"
   ]
  },
  {
   "cell_type": "code",
   "execution_count": 13,
   "metadata": {},
   "outputs": [
    {
     "data": {
      "text/plain": [
       "['STIXSizeFourSym',\n",
       " 'STIXSizeOneSym',\n",
       " 'cmsy10',\n",
       " 'DejaVu Serif Display',\n",
       " 'STIXNonUnicode']"
      ]
     },
     "execution_count": 13,
     "metadata": {},
     "output_type": "execute_result"
    }
   ],
   "source": [
    "import matplotlib.font_manager as fm\n",
    "\n",
    "font_list = [font.name for font in fm.fontManager.ttflist]\n",
    "font_list[:5]"
   ]
  },
  {
   "cell_type": "code",
   "execution_count": 14,
   "metadata": {},
   "outputs": [
    {
     "data": {
      "image/png": "[encoded data removed]",
      "text/plain": [
       "<Figure size 432x288 with 1 Axes>"
      ]
     },
     "metadata": {
      "needs_background": "light"
     },
     "output_type": "display_data"
    }
   ],
   "source": [
    "sns.barplot(\n",
    "    data = df_ROE_11_upper,\n",
    "    x = \"종목명\",\n",
    "    y = \"average\"\n",
    ")\n",
    "plt.rcParams['font.family'] = 'Malgun Gothic'\n",
    "plt.rcParams['font.size'] = 10\n",
    "plt.xticks(rotation=90)\n",
    "plt.show()"
   ]
  },
  {
   "cell_type": "code",
   "execution_count": null,
   "metadata": {},
   "outputs": [],
   "source": []
  }
 ],
 "metadata": {
  "interpreter": {
   "hash": "237dfbe96289c26a34bb3817ed9a5dda5a1f28f78dcc25894f58473fa7732fcf"
  },
  "kernelspec": {
   "display_name": "Python 3.8.8 64-bit",
   "language": "python",
   "name": "python3"
  },
  "language_info": {
   "codemirror_mode": {
    "name": "ipython",
    "version": 3
   },
   "file_extension": ".py",
   "mimetype": "text/x-python",
   "name": "python",
   "nbconvert_exporter": "python",
   "pygments_lexer": "ipython3",
   "version": "3.8.8"
  },
  "orig_nbformat": 4
 },
 "nbformat": 4,
 "nbformat_minor": 2
}
