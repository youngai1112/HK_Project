{
 "cells": [
  {
   "cell_type": "markdown",
   "metadata": {},
   "source": [
    "# TF-IDF\n",
    "1. 장점\n",
    "    - 직관적인 해석이 가능함\n",
    "2. 단점\n",
    "    - 대규모 말뭉치를 다룰 때 메모리상의 문제가 발생\n",
    "    - 높은 차원을 가짐\n",
    "    - 매우 sparse한 형태의 데이터임\n",
    "3. Represent Items\n",
    "    - Items을 벡터 형태로 표현. 도메인에 따라 다른 방법이 적용"
   ]
  },
  {
   "cell_type": "markdown",
   "metadata": {},
   "source": []
  }
 ],
 "metadata": {
  "interpreter": {
   "hash": "b3ba2566441a7c06988d0923437866b63cedc61552a5af99d1f4fb67d367b25f"
  },
  "kernelspec": {
   "display_name": "Python 3.8.8 ('base')",
   "language": "python",
   "name": "python3"
  },
  "language_info": {
   "name": "python",
   "version": "3.8.8"
  },
  "orig_nbformat": 4
 },
 "nbformat": 4,
 "nbformat_minor": 2
}
