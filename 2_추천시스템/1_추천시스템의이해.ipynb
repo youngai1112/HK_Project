{
 "cells": [
  {
   "cell_type": "markdown",
   "metadata": {},
   "source": [
    "- 링크 : https://root-decimal-c5d.notion.site/Recommender-System-KR-5b773a06e99145e6855bae391c94dc44\n",
    "    - https://www.facebook.com/groups/2611614312273351/hashtags"
   ]
  },
  {
   "cell_type": "markdown",
   "metadata": {},
   "source": [
    "# 1. 추천시스템의 개요\n",
    "1. 정의 \n",
    "    - 추천시스템은 **사용자**에게 **상품**을 **제안**하는 소프트웨어 도구이자 기술. \n",
    "    - 이러한 제안은 어떤 상품을 구매할 지, 어떤 음악을 들을지 등과 같은 다양한 의사결정과 연관이 있다.\n",
    "2. 목표\n",
    "    - **어떤 사용자**에게 **어떤 상품**을 **어떻게 추천**할지에 대한 이해"
   ]
  },
  {
   "cell_type": "markdown",
   "metadata": {},
   "source": [
    "# 2. 기업에서의 추천 시스템\n",
    "1. 당근마켓\n",
    "    - 다른 사람들이 **같이 본 상품** 추천\n",
    "2. 카카오 (브런치)\n",
    "    - 해당 글과 **유사한 글**을 추천 "
   ]
  },
  {
   "cell_type": "markdown",
   "metadata": {},
   "source": [
    "# 3. 파레토와 롱테일의 법칙\n",
    "1. 파레토의 법칙\n",
    "    - 상위 20%가 80%의 가치를 창출한다.\n",
    "    - 매출의 80퍼센트는 20퍼센트의 핵심 고객/주력 상품에서 나오며, 그 **핵심 고객 20퍼센트**를 찾아내 이들에게 오는 역량을 집중\n",
    "2. 롱테일의 법칙\n",
    "    - 하위 80%가 상위 20%의 가치보다 크다.\n",
    "    - 80:20 법칙에서 소외된 **80 퍼센트의 고객에서도 상당한 영업기회가 존재**한다는 현상\n",
    "    - 오프라인보다 온라인에서 더 찾기 쉬움.\n",
    "    - 예시 : 아마존이 서점에서 팔지 않는 책을 온라인에서 많이 판매"
   ]
  },
  {
   "cell_type": "markdown",
   "metadata": {},
   "source": [
    "# 4. 추천시스템의 역사\n",
    "- 참고 : http://hoondongkim.blogspot.com/\n",
    "1. Apriori 알고리즘\n",
    "    - 연관상품 추천\n",
    "    - 같이 구매하는 상품을 추천\n",
    "2. 협업 필터링\n",
    "    - SVD : 넷플릭스 추천 알고리즘 경연대회 우승 알고리즘\n",
    "3. Spark를 이용한 빅데이터 : 데이터의 중요성을 인지, 데이터 -> 빅데이터로 변하면서 일반적인 추천 시스템에 대한 효율성 문제 제기\n",
    "    - FP-Growth\n",
    "    - Matrix Factorization\n",
    "4. 딥러닝을 이용한 추천 시스템\n",
    "    - 협업필터링 + 딥러닝\n",
    "    - Item2Vec Doc2Vec\n",
    "    - Youtube Recommendation\n",
    "    - Wide & Deep Model\n",
    "5. 개인화 추천시스템\n",
    "    - Factorization Machine\n",
    "    - Hierarchical RNN\n",
    "    - 강화학습 + Re-Ranking\n",
    "    - 딥러닝"
   ]
  },
  {
   "cell_type": "markdown",
   "metadata": {},
   "source": [
    "# 5-1. 연관분석 (Association Analysis)\n",
    "1. 정의\n",
    "    - 룰기반의 모델로서 상품과 상품사이에 어떤 **연관**이 있는지 찾아내는 알고리즘. \n",
    "    - **연관**이란?\n",
    "        1. **얼마나(frequent)** 같이 구매가 되는가?\n",
    "        2. A 아이템을 구매하는 사람이 B 아이템을 구매하는가?\n",
    "        - 어떤 상품들이 한 장바구니 안에 담기는지 살피는 모습과 비슷하기 때문에 장바구니 분석이라고도 한다.\n",
    "2. 예시\n",
    "    - 월마트에서 맥주를 구매할 때 기저귀를 같이 구매하는 경향이 크다는 것을 밝혀서 둘을 함께 진열하는 전략을 세우기도 함"
   ]
  },
  {
   "cell_type": "markdown",
   "metadata": {},
   "source": [
    "# 5-2. 연관분석 - 규칙평가지표\n",
    "- 참고 : https://ratsgo.github.io/machine%20learning/2017/04/08/apriori/\n",
    "1. support(지지도)\n",
    "    - A라는 상품을 구매했을 때, B로 이어지는 규칙에 대해서\n",
    "    - 조건절 A에 대해서 얼마만큼 구매를 할지에 대해서 구할 확률\n",
    "2. confidence(신뢰도)\n",
    "    - A라는 상품을 구매했을 때, B라는 상품의 구매까지 이어질 확률\n",
    "3. lift(향상도)\n",
    "    - 두 사건이 동시에 얼마나 발생하는지 비율, 독립성을 측정\n",
    "4. 실제로 모델을 만들때에는 지지도와 신뢰도를 많이 사용"
   ]
  },
  {
   "cell_type": "markdown",
   "metadata": {},
   "source": [
    "# 5-3. 연관분석 - 규칙 생성\n",
    "1. 가능한 모든 경우의 수를 탐색해서 지지도, 신뢰도, 향상도가 높은 규칙들을 찾아내는 방식\n",
    "    - 예를 들어, 4개의 상품을 통해서 1가지 상품만 구매하는 경우의 수 : 4 (4C1)\n",
    "    -   2가지 상품을 구매하는 경우의 수 : 6 (4C2)\n",
    "    -   3가지 상품을 구매하는 경우의 수 : 4 (4C3)\n",
    "    -   4가지 상품을 구매하는 경우의 수 : 1 (4C4)\n",
    "    - 전체 경우의 수 : 4 + 6 + 4 + 1 = 15가지 (구매를 하나도 하지 않은 경우는 제외)"
   ]
  },
  {
   "cell_type": "markdown",
   "metadata": {},
   "source": [
    "# 5-4. 연관분석 - 문제점\n",
    "1. 아이템의 증가에 따른 규칙의 수의 증가가 기하급수적으로 증가\n",
    "    - 아이템이 100개인 경우에는 규칙의 수가 `1.26 * 10^30`\n",
    "    - 아이템이 10개일 경우 : `2^10 - 1 = 1023`"
   ]
  },
  {
   "cell_type": "markdown",
   "metadata": {},
   "source": [
    "# 6-1. Apriori 알고리즘\n",
    "1. 아이템셋의 증가를 줄이기 위한 방법\n",
    "2. 기본적인 아이디어 : \"빈번한 아이템셋은 하위 아이템셋 또한 빈번할 것이다.\"\n",
    "    - 즉, 빈번하지 않은 아이템셋은 하위 아이템셋 또한 빈번하지 않다.\n",
    "3. 설명\n",
    "    - 아이템이 4개가 있을 때, 아이템을 묶어서 만들 수 있는 아이템셋이 있다.\n",
    "    - 2와 3이 묶인 아이템셋이 빈번하지 않다면,\n",
    "        - 0, 2, 3 과 1, 2, 3 아이템셋은 빈번하지 않을 것이다\n",
    "        - 이 데이터셋을 제거할 것 \n",
    "4. 아이디어\n",
    "    - {2,3}의 지지도 > {0,2,3}, {1,2,3}의 지지도\n",
    "        - P(item2, item3) > P(item0, item2, item3)\n",
    "        - P(item2, item3) > P(item1, item2, item3)"
   ]
  },
  {
   "cell_type": "markdown",
   "metadata": {},
   "source": [
    "# 6-2. Apriori 알고리즘\n",
    "1. k개의 item을 가지고 단일항목집단 생성 (one-item frequent set)\n",
    "    - 단일항목집단 : item을 1개씩만 구매하는 경우\n",
    "2. 단일항목집단에서 최소 지지도 (support) 이상의 항목만 선택\n",
    "    - 최소 지지도 : 사용자의 hyper parameter 값\n",
    "3. 2에서 선택된 항목만을 대상으로 2개항목집단 생성\n",
    "4. 2개항목집단에서 최소 지지도 혹은 신뢰도 이상의 항목만 선택\n",
    "5. 위의 과정을 k개의 k-item frequent set을 반복할 때까지 반복"
   ]
  },
  {
   "cell_type": "markdown",
   "metadata": {},
   "source": [
    "# 6-3. Apriori 알고리즘 - 데이터"
   ]
  },
  {
   "cell_type": "code",
   "execution_count": 14,
   "metadata": {},
   "outputs": [
    {
     "data": {
      "text/html": [
       "<div>\n",
       "<style scoped>\n",
       "    .dataframe tbody tr th:only-of-type {\n",
       "        vertical-align: middle;\n",
       "    }\n",
       "\n",
       "    .dataframe tbody tr th {\n",
       "        vertical-align: top;\n",
       "    }\n",
       "\n",
       "    .dataframe thead th {\n",
       "        text-align: right;\n",
       "    }\n",
       "</style>\n",
       "<table border=\"1\" class=\"dataframe\">\n",
       "  <thead>\n",
       "    <tr style=\"text-align: right;\">\n",
       "      <th></th>\n",
       "      <th>상품목록</th>\n",
       "    </tr>\n",
       "    <tr>\n",
       "      <th>거래번호</th>\n",
       "      <th></th>\n",
       "    </tr>\n",
       "  </thead>\n",
       "  <tbody>\n",
       "    <tr>\n",
       "      <th>0</th>\n",
       "      <td>[우유, 기저귀, 주스]</td>\n",
       "    </tr>\n",
       "    <tr>\n",
       "      <th>1</th>\n",
       "      <td>[양상추, 기저귀, 맥주]</td>\n",
       "    </tr>\n",
       "    <tr>\n",
       "      <th>2</th>\n",
       "      <td>[우유, 양상추, 기저귀, 맥주]</td>\n",
       "    </tr>\n",
       "    <tr>\n",
       "      <th>3</th>\n",
       "      <td>[양상추, 맥주]</td>\n",
       "    </tr>\n",
       "  </tbody>\n",
       "</table>\n",
       "</div>"
      ],
      "text/plain": [
       "                    상품목록\n",
       "거래번호                    \n",
       "0          [우유, 기저귀, 주스]\n",
       "1         [양상추, 기저귀, 맥주]\n",
       "2     [우유, 양상추, 기저귀, 맥주]\n",
       "3              [양상추, 맥주]"
      ]
     },
     "execution_count": 14,
     "metadata": {},
     "output_type": "execute_result"
    }
   ],
   "source": [
    "# 데이터 (Implicit Feedback)\n",
    "#   Implicit Data : 고객이 구매를 했지만, 만족했는지 아닌지는 알 수 없다.\n",
    "import pandas as pd\n",
    "df = pd.DataFrame({\"거래번호\": [0,1,2,3],\n",
    "                    \"상품목록\": [[\"우유\", \"기저귀\", \"주스\"], \n",
    "                                [\"양상추\", \"기저귀\", \"맥주\"],\n",
    "                                [\"우유\", \"양상추\", \"기저귀\", \"맥주\"],\n",
    "                                [\"양상추\", \"맥주\"]] })\n",
    "df.set_index(\"거래번호\")"
   ]
  },
  {
   "cell_type": "code",
   "execution_count": 15,
   "metadata": {},
   "outputs": [
    {
     "data": {
      "text/html": [
       "<div>\n",
       "<style scoped>\n",
       "    .dataframe tbody tr th:only-of-type {\n",
       "        vertical-align: middle;\n",
       "    }\n",
       "\n",
       "    .dataframe tbody tr th {\n",
       "        vertical-align: top;\n",
       "    }\n",
       "\n",
       "    .dataframe thead th {\n",
       "        text-align: right;\n",
       "    }\n",
       "</style>\n",
       "<table border=\"1\" class=\"dataframe\">\n",
       "  <thead>\n",
       "    <tr style=\"text-align: right;\">\n",
       "      <th></th>\n",
       "      <th>우유</th>\n",
       "      <th>양상추</th>\n",
       "      <th>기저귀</th>\n",
       "      <th>주스</th>\n",
       "      <th>맥주</th>\n",
       "    </tr>\n",
       "    <tr>\n",
       "      <th>거래번호</th>\n",
       "      <th></th>\n",
       "      <th></th>\n",
       "      <th></th>\n",
       "      <th></th>\n",
       "      <th></th>\n",
       "    </tr>\n",
       "  </thead>\n",
       "  <tbody>\n",
       "    <tr>\n",
       "      <th>0</th>\n",
       "      <td>1</td>\n",
       "      <td>0</td>\n",
       "      <td>1</td>\n",
       "      <td>1</td>\n",
       "      <td>0</td>\n",
       "    </tr>\n",
       "    <tr>\n",
       "      <th>1</th>\n",
       "      <td>0</td>\n",
       "      <td>1</td>\n",
       "      <td>1</td>\n",
       "      <td>0</td>\n",
       "      <td>1</td>\n",
       "    </tr>\n",
       "    <tr>\n",
       "      <th>2</th>\n",
       "      <td>1</td>\n",
       "      <td>1</td>\n",
       "      <td>1</td>\n",
       "      <td>0</td>\n",
       "      <td>1</td>\n",
       "    </tr>\n",
       "    <tr>\n",
       "      <th>3</th>\n",
       "      <td>0</td>\n",
       "      <td>1</td>\n",
       "      <td>0</td>\n",
       "      <td>0</td>\n",
       "      <td>1</td>\n",
       "    </tr>\n",
       "  </tbody>\n",
       "</table>\n",
       "</div>"
      ],
      "text/plain": [
       "      우유  양상추  기저귀  주스  맥주\n",
       "거래번호                      \n",
       "0      1    0    1   1   0\n",
       "1      0    1    1   0   1\n",
       "2      1    1    1   0   1\n",
       "3      0    1    0   0   1"
      ]
     },
     "execution_count": 15,
     "metadata": {},
     "output_type": "execute_result"
    }
   ],
   "source": [
    "# Matrix로 변형 : Sparse Matrix (희소행렬)\n",
    "#   희소행렬 : Matrix 안에 무의미한 0이라는 값이 많음\n",
    "# 상품목록에 있는 구매한 상품의 갯수가 많아도 1로 표현됨\n",
    "df1 = pd.DataFrame( {\"거래번호\": [0,1,2,3],\n",
    "                    \"우유\" : [1,0,1,0],\n",
    "                    \"양상추\" : [0,1,1,1],\n",
    "                    \"기저귀\" : [1,1,1,0],\n",
    "                    \"주스\" : [1,0,0,0],\n",
    "                    \"맥주\": [0,1,1,1]})\n",
    "df1.set_index(\"거래번호\")"
   ]
  },
  {
   "cell_type": "markdown",
   "metadata": {},
   "source": [
    "# 6-4. Apriori 알고리즘 - 예시\n",
    "1. 5개의 item을 가지고 단일항목집단 생성(one-item frequent set) : 우유, 양상추, 기저귀, 맥주, 주스\n",
    "2. 단일항목집단에서 최소 지지도(support) 이상의 항목만 선택(예 : 최소지지도 0.5)\n",
    "    - P(우유) : 0.5\n",
    "        - 전체 4개의 거래에서 몇 번만큼의 거래가 일어났는지에 대한 확률값 계산\n",
    "        - 4번 중에 2번을 구매 => 확률값 0.5\n",
    "    - P(양상추) : 0.75\n",
    "    - P(기저귀) : 0.75\n",
    "    - P(주스) : 0.25    (제거)\n",
    "    - P(맥주) : 0.75\n",
    "3. 2에서 선택된 항목만을 대상으로 2개 항목 집단 생성 {우유, 양상추, 기저귀, 맥주} : 4C2 (6가지)\n",
    "    - {우유, 양상추}, {우유, 기저귀}, {우유, 맥주}, {양상추, 기저귀}, {양상추, 맥주}, {기저귀, 맥주}\n",
    "4. 2개항목집단에서 최소 지지도 이상의 항목만 선택\n",
    "    - {우유, 양상추} : 0.25     (제거)\n",
    "    - {우유, 기저귀} : 0.5\n",
    "    - {우유, 맥주} : 0.25       (제거)\n",
    "    - {양상추, 기저귀} : 0.5\n",
    "    - {양상추, 맥주} : 0.75\n",
    "    - {기저귀, 맥주} : 0.5\n",
    "5. 위의 과정을 k개의 k-item frequent set을 생성할 때까지 반복\n",
    "    - {우유}, {양상추}, {기저귀}, {맥주}\n",
    "    - {우유, 기저귀}, {양상추, 기저귀}, {양상추, 맥주}, {기저귀, 맥주}\n",
    "    - {양상추, 기저귀, 맥주}"
   ]
  },
  {
   "cell_type": "markdown",
   "metadata": {},
   "source": [
    "# 6-5. Apriori 알고리즘 - 장단점\n",
    "1. 장점\n",
    "    - 원리가 간단하여 사용자가 쉽게 이해할 수 있고 의미를 파악할 수 있음\n",
    "    - 유의한 연관성을 갖는 구매패턴을 찾아줌\n",
    "2. 단점\n",
    "    - 데이터가 클 경우 (item이 많은 경우)에 속도가 느리고 연산량이 많음\n",
    "    - 실제 사용시에 많은 연관상품들이 나타나는 단점이 있음\n",
    "3. 연관상품들이 상관관계를 의미할 수는 있어도, 인과관계는 의미하지 않는다.\n",
    "    - 인과관계에 대해서 파악하기 어렵다."
   ]
  },
  {
   "cell_type": "markdown",
   "metadata": {},
   "source": [
    "# 7-1. FP-Growth 알고리즘\n",
    "1. APriori의 속도측면의 단점을 개선한 알고리즘\n",
    "2. Apriori와 비슷한 성능을 내지만 FP Tree라는 구조를 사용해서 따른 속도를 가진다는 것이 장점\n",
    "3. 동일하게 발생하는 아이템셋 (frequent itemsets)을 찾는데는 좋지만 아이템간의 연관성을 찾는 것은 어렵다는 단점"
   ]
  },
  {
   "cell_type": "markdown",
   "metadata": {},
   "source": [
    "# 7-2. FP-Growth 알고리즘 - 원리\n",
    "1. 모든 거래를 확인하여, 각 아이템마다의 지지도(support)를 계산하고 최소 지지도 이상의 아이템만 선택\n",
    "2. 모든 거래에서 빈도가 높은 아이템 순서대로 순서를 정렬\n",
    "3. 부모 노드를 중심으로 거래를 자식노드로 추가해주면서 tree를 생성\n",
    "4. 새로운 아이템이 나올 경우에는 부모 노드부터 시작하고, 그렇지 않으면 기존의 노드에서 확장\n",
    "5. 위의 과정을 모든 거래에 대해 반복하여 FP TREE를 만들고 최소 지지도 이상의 패턴만을 추출"
   ]
  },
  {
   "cell_type": "markdown",
   "metadata": {},
   "source": [
    "# 7-3. FP-Growth 알고리즘\n",
    "1. 예시\n",
    "    - 모든 거래를 확인하여, 각 아이템마다의 지지도를 계산하고 회소 지지도 이상의 아이템만 선택\n",
    "    - 모든 거래에서 빈도가 높은 아이템 순서대로 순서를 정렬\n",
    "    - 부모 노드를 중심으로 거래를 자식노드로 추가해주면서 tree를 생성\n",
    "    - 새로운 아이템이 나올 경우에는 부모노드부터 시작하고, 그렇지 않으면 기존의 노드에서 확장\n",
    "    - 지지도가 낮은 순서부터 시작하여, 조건부 패턴을 생성\n",
    "    - 모든 아이템에 대해서 반복\n",
    "    - Conditional Pattern bases를 기반으로 패턴 생성\n",
    "        - \"맥주를 구매했을 경우\" - \"기저귀를 구매했을 경우\" - \"양상추를 구매했을 경우\"\n",
    "                                 - \"양상추를 구매했을 경우\""
   ]
  },
  {
   "cell_type": "markdown",
   "metadata": {},
   "source": [
    "# 7-4. FP-Growth 알고리즘 - 장단점\n",
    "1. 장점\n",
    "    - Apriori 알고리즘보다 빠르고 2번의 탐색만 필요함\n",
    "    - 후보 Itemsets을 생성할 필요없이 진행 가능\n",
    "2. 단점\n",
    "    - 대용량의 데이터셋에서 메모리를 효율적으로 사용하지 않음\n",
    "    - Apriori 알고리즘에 비해서 설계하기 어려움\n",
    "    - 지지도의 계산이 FP-Tree가 만들어지고 나서야 가능함"
   ]
  },
  {
   "cell_type": "markdown",
   "metadata": {},
   "source": []
  }
 ],
 "metadata": {
  "interpreter": {
   "hash": "b3ba2566441a7c06988d0923437866b63cedc61552a5af99d1f4fb67d367b25f"
  },
  "kernelspec": {
   "display_name": "Python 3.8.8 ('base')",
   "language": "python",
   "name": "python3"
  },
  "language_info": {
   "codemirror_mode": {
    "name": "ipython",
    "version": 3
   },
   "file_extension": ".py",
   "mimetype": "text/x-python",
   "name": "python",
   "nbconvert_exporter": "python",
   "pygments_lexer": "ipython3",
   "version": "3.8.8"
  },
  "orig_nbformat": 4
 },
 "nbformat": 4,
 "nbformat_minor": 2
}
