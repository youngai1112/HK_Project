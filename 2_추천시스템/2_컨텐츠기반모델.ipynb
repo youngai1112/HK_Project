{
 "cells": [
  {
   "cell_type": "markdown",
   "metadata": {},
   "source": [
    "# 1. 컨텐츠 기반 모델\n",
    "1. 정의\n",
    "    - 참고 : recommendation systems handbook(Francesco Ricci)\n",
    "    - 컨텐츠 기반 추천시스템은 사용자가 이전에 구매한 상품중에서 좋아하는 상품들과 유사한 상품들을 추천하는 방법\n",
    "2. Represented Items\n",
    "    - Items을 벡터 형태로 표현. 도메인에 따라 다른 방법이 적용\n",
    "    - `텍스트` -> TF-IDF, BERT, Word2Vec, CounterVectorizer(빈도수 기반) 자연어처리 모델을 통해 벡터화 가능\n",
    "    - `이미지` -> CNN, VGG (딥러닝 기반 모델) 벡터화 가능\n",
    "    - 아이템 > 벡터화 > 벡터들간의 유사도를 계산 > 벡터1부터 N까지 자신과 유사한 벡터를 추출"
   ]
  },
  {
   "cell_type": "markdown",
   "metadata": {},
   "source": [
    "# 2-1. 유사도 함수\n",
    "1. 유클리디안 유사도\n",
    "    - 참고 : https://cmry.github.io/notes/euclidean-v-cosine\n",
    "    - 참고 : https://bab2min.tistory.com/566\n",
    "    - 문서간의 유사도를 계산\n",
    "    - 유클리디안 유사도 = 1 / (유클리디안 거리 + 1e-05)\n",
    "    - 장점 : 계산하기가 쉬움\n",
    "        - 각각의 요소 (컬럼 하나하나)가 크기에 민감하거나 중요한 경우 효과를 볼 수 있다. \n",
    "    - 단점 : p와 q의 분포가 다르거나 범위가 다른 경우에 상관성을 놓침\n",
    "2. "
   ]
  },
  {
   "cell_type": "markdown",
   "metadata": {},
   "source": []
  }
 ],
 "metadata": {
  "interpreter": {
   "hash": "b3ba2566441a7c06988d0923437866b63cedc61552a5af99d1f4fb67d367b25f"
  },
  "kernelspec": {
   "display_name": "Python 3.8.8 ('base')",
   "language": "python",
   "name": "python3"
  },
  "language_info": {
   "name": "python",
   "version": "3.8.8"
  },
  "orig_nbformat": 4
 },
 "nbformat": 4,
 "nbformat_minor": 2
}
