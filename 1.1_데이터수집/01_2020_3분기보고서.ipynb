{
 "cells": [
  {
   "cell_type": "markdown",
   "metadata": {},
   "source": [
    "- 참고 : https://opendart.fss.or.kr/"
   ]
  },
  {
   "cell_type": "code",
   "execution_count": 61,
   "metadata": {},
   "outputs": [],
   "source": [
    "import pandas as pd"
   ]
  },
  {
   "cell_type": "code",
   "execution_count": 62,
   "metadata": {},
   "outputs": [],
   "source": [
    "import warnings\n",
    "warnings.filterwarnings(\"ignore\")"
   ]
  },
  {
   "cell_type": "code",
   "execution_count": 63,
   "metadata": {},
   "outputs": [
    {
     "data": {
      "text/html": [
       "<div>\n",
       "<style scoped>\n",
       "    .dataframe tbody tr th:only-of-type {\n",
       "        vertical-align: middle;\n",
       "    }\n",
       "\n",
       "    .dataframe tbody tr th {\n",
       "        vertical-align: top;\n",
       "    }\n",
       "\n",
       "    .dataframe thead th {\n",
       "        text-align: right;\n",
       "    }\n",
       "</style>\n",
       "<table border=\"1\" class=\"dataframe\">\n",
       "  <thead>\n",
       "    <tr style=\"text-align: right;\">\n",
       "      <th></th>\n",
       "      <th>재무제표종류</th>\n",
       "      <th>종목코드</th>\n",
       "      <th>회사명</th>\n",
       "      <th>시장구분</th>\n",
       "      <th>업종</th>\n",
       "      <th>업종명</th>\n",
       "      <th>결산월</th>\n",
       "      <th>결산기준일</th>\n",
       "      <th>보고서종류</th>\n",
       "      <th>통화</th>\n",
       "      <th>항목코드</th>\n",
       "      <th>항목명</th>\n",
       "      <th>당기 3분기말</th>\n",
       "      <th>전기말</th>\n",
       "      <th>전전기말</th>\n",
       "      <th>Unnamed: 15</th>\n",
       "    </tr>\n",
       "  </thead>\n",
       "  <tbody>\n",
       "    <tr>\n",
       "      <th>0</th>\n",
       "      <td>재무상태표, 유동/비유동법-별도재무제표</td>\n",
       "      <td>[060310]</td>\n",
       "      <td>3S</td>\n",
       "      <td>코스닥시장상장법인</td>\n",
       "      <td>292</td>\n",
       "      <td>특수 목적용 기계 제조업</td>\n",
       "      <td>3</td>\n",
       "      <td>2020-12-31</td>\n",
       "      <td>3분기보고서</td>\n",
       "      <td>KRW</td>\n",
       "      <td>ifrs-full_AssetsAbstract</td>\n",
       "      <td>자산 [abstract]</td>\n",
       "      <td>NaN</td>\n",
       "      <td>NaN</td>\n",
       "      <td>NaN</td>\n",
       "      <td>NaN</td>\n",
       "    </tr>\n",
       "    <tr>\n",
       "      <th>1</th>\n",
       "      <td>재무상태표, 유동/비유동법-별도재무제표</td>\n",
       "      <td>[060310]</td>\n",
       "      <td>3S</td>\n",
       "      <td>코스닥시장상장법인</td>\n",
       "      <td>292</td>\n",
       "      <td>특수 목적용 기계 제조업</td>\n",
       "      <td>3</td>\n",
       "      <td>2020-12-31</td>\n",
       "      <td>3분기보고서</td>\n",
       "      <td>KRW</td>\n",
       "      <td>ifrs-full_CurrentAssets</td>\n",
       "      <td>유동자산</td>\n",
       "      <td>16,991,946,452</td>\n",
       "      <td>18,023,023,716</td>\n",
       "      <td>NaN</td>\n",
       "      <td>NaN</td>\n",
       "    </tr>\n",
       "  </tbody>\n",
       "</table>\n",
       "</div>"
      ],
      "text/plain": [
       "                  재무제표종류      종목코드 회사명       시장구분   업종            업종명  결산월  \\\n",
       "0  재무상태표, 유동/비유동법-별도재무제표  [060310]  3S  코스닥시장상장법인  292  특수 목적용 기계 제조업    3   \n",
       "1  재무상태표, 유동/비유동법-별도재무제표  [060310]  3S  코스닥시장상장법인  292  특수 목적용 기계 제조업    3   \n",
       "\n",
       "        결산기준일   보고서종류   통화                      항목코드            항목명  \\\n",
       "0  2020-12-31  3분기보고서  KRW  ifrs-full_AssetsAbstract  자산 [abstract]   \n",
       "1  2020-12-31  3분기보고서  KRW   ifrs-full_CurrentAssets           유동자산   \n",
       "\n",
       "          당기 3분기말             전기말  전전기말  Unnamed: 15  \n",
       "0             NaN             NaN   NaN          NaN  \n",
       "1  16,991,946,452  18,023,023,716   NaN          NaN  "
      ]
     },
     "execution_count": 63,
     "metadata": {},
     "output_type": "execute_result"
    }
   ],
   "source": [
    "df = pd.read_csv('../data/2020_3분기보고서_01_재무상태표_20211102.txt', sep='\\t', encoding='euc-kr')\n",
    "df.head(2)"
   ]
  },
  {
   "cell_type": "code",
   "execution_count": 64,
   "metadata": {},
   "outputs": [
    {
     "data": {
      "text/html": [
       "<div>\n",
       "<style scoped>\n",
       "    .dataframe tbody tr th:only-of-type {\n",
       "        vertical-align: middle;\n",
       "    }\n",
       "\n",
       "    .dataframe tbody tr th {\n",
       "        vertical-align: top;\n",
       "    }\n",
       "\n",
       "    .dataframe thead th {\n",
       "        text-align: right;\n",
       "    }\n",
       "</style>\n",
       "<table border=\"1\" class=\"dataframe\">\n",
       "  <thead>\n",
       "    <tr style=\"text-align: right;\">\n",
       "      <th></th>\n",
       "      <th>재무제표종류</th>\n",
       "      <th>종목코드</th>\n",
       "      <th>회사명</th>\n",
       "      <th>시장구분</th>\n",
       "      <th>업종</th>\n",
       "      <th>업종명</th>\n",
       "      <th>결산월</th>\n",
       "      <th>결산기준일</th>\n",
       "      <th>보고서종류</th>\n",
       "      <th>통화</th>\n",
       "      <th>항목코드</th>\n",
       "      <th>항목명</th>\n",
       "      <th>당기 3분기말</th>\n",
       "      <th>전기말</th>\n",
       "      <th>전전기말</th>\n",
       "      <th>Unnamed: 15</th>\n",
       "    </tr>\n",
       "  </thead>\n",
       "  <tbody>\n",
       "    <tr>\n",
       "      <th>0</th>\n",
       "      <td>재무상태표, 유동/비유동법-별도재무제표</td>\n",
       "      <td>[060310]</td>\n",
       "      <td>3S</td>\n",
       "      <td>코스닥시장상장법인</td>\n",
       "      <td>292</td>\n",
       "      <td>특수 목적용 기계 제조업</td>\n",
       "      <td>3</td>\n",
       "      <td>2020-12-31</td>\n",
       "      <td>3분기보고서</td>\n",
       "      <td>KRW</td>\n",
       "      <td>ifrs-full_AssetsAbstract</td>\n",
       "      <td>자산 [abstract]</td>\n",
       "      <td>NaN</td>\n",
       "      <td>NaN</td>\n",
       "      <td>NaN</td>\n",
       "      <td>NaN</td>\n",
       "    </tr>\n",
       "    <tr>\n",
       "      <th>1</th>\n",
       "      <td>재무상태표, 유동/비유동법-별도재무제표</td>\n",
       "      <td>[060310]</td>\n",
       "      <td>3S</td>\n",
       "      <td>코스닥시장상장법인</td>\n",
       "      <td>292</td>\n",
       "      <td>특수 목적용 기계 제조업</td>\n",
       "      <td>3</td>\n",
       "      <td>2020-12-31</td>\n",
       "      <td>3분기보고서</td>\n",
       "      <td>KRW</td>\n",
       "      <td>ifrs-full_CurrentAssets</td>\n",
       "      <td>유동자산</td>\n",
       "      <td>16,991,946,452</td>\n",
       "      <td>18,023,023,716</td>\n",
       "      <td>NaN</td>\n",
       "      <td>NaN</td>\n",
       "    </tr>\n",
       "  </tbody>\n",
       "</table>\n",
       "</div>"
      ],
      "text/plain": [
       "                  재무제표종류      종목코드 회사명       시장구분   업종            업종명  결산월  \\\n",
       "0  재무상태표, 유동/비유동법-별도재무제표  [060310]  3S  코스닥시장상장법인  292  특수 목적용 기계 제조업    3   \n",
       "1  재무상태표, 유동/비유동법-별도재무제표  [060310]  3S  코스닥시장상장법인  292  특수 목적용 기계 제조업    3   \n",
       "\n",
       "        결산기준일   보고서종류   통화                      항목코드            항목명  \\\n",
       "0  2020-12-31  3분기보고서  KRW  ifrs-full_AssetsAbstract  자산 [abstract]   \n",
       "1  2020-12-31  3분기보고서  KRW   ifrs-full_CurrentAssets           유동자산   \n",
       "\n",
       "          당기 3분기말             전기말  전전기말  Unnamed: 15  \n",
       "0             NaN             NaN   NaN          NaN  \n",
       "1  16,991,946,452  18,023,023,716   NaN          NaN  "
      ]
     },
     "execution_count": 64,
     "metadata": {},
     "output_type": "execute_result"
    }
   ],
   "source": [
    "df1 = df.copy()\n",
    "df1.head(2)"
   ]
  },
  {
   "cell_type": "code",
   "execution_count": 65,
   "metadata": {},
   "outputs": [
    {
     "data": {
      "text/html": [
       "<div>\n",
       "<style scoped>\n",
       "    .dataframe tbody tr th:only-of-type {\n",
       "        vertical-align: middle;\n",
       "    }\n",
       "\n",
       "    .dataframe tbody tr th {\n",
       "        vertical-align: top;\n",
       "    }\n",
       "\n",
       "    .dataframe thead th {\n",
       "        text-align: right;\n",
       "    }\n",
       "</style>\n",
       "<table border=\"1\" class=\"dataframe\">\n",
       "  <thead>\n",
       "    <tr style=\"text-align: right;\">\n",
       "      <th></th>\n",
       "      <th>종목코드</th>\n",
       "      <th>회사명</th>\n",
       "      <th>업종</th>\n",
       "      <th>업종명</th>\n",
       "      <th>항목명</th>\n",
       "      <th>당기 3분기말</th>\n",
       "    </tr>\n",
       "  </thead>\n",
       "  <tbody>\n",
       "    <tr>\n",
       "      <th>90749</th>\n",
       "      <td>[238490]</td>\n",
       "      <td>힘스</td>\n",
       "      <td>292</td>\n",
       "      <td>특수 목적용 기계 제조업</td>\n",
       "      <td>자본총계</td>\n",
       "      <td>81,756,065,092</td>\n",
       "    </tr>\n",
       "    <tr>\n",
       "      <th>90750</th>\n",
       "      <td>[238490]</td>\n",
       "      <td>힘스</td>\n",
       "      <td>292</td>\n",
       "      <td>특수 목적용 기계 제조업</td>\n",
       "      <td>자본과부채총계</td>\n",
       "      <td>104,382,409,753</td>\n",
       "    </tr>\n",
       "  </tbody>\n",
       "</table>\n",
       "</div>"
      ],
      "text/plain": [
       "           종목코드 회사명   업종            업종명      항목명          당기 3분기말\n",
       "90749  [238490]  힘스  292  특수 목적용 기계 제조업     자본총계   81,756,065,092\n",
       "90750  [238490]  힘스  292  특수 목적용 기계 제조업  자본과부채총계  104,382,409,753"
      ]
     },
     "execution_count": 65,
     "metadata": {},
     "output_type": "execute_result"
    }
   ],
   "source": [
    "df1 = df[[\"종목코드\", \"회사명\", \"업종\", \"업종명\",  \"항목명\", \"당기 3분기말\"]]\n",
    "df1.tail(2)"
   ]
  },
  {
   "cell_type": "code",
   "execution_count": 66,
   "metadata": {},
   "outputs": [
    {
     "name": "stdout",
     "output_type": "stream",
     "text": [
      "<class 'pandas.core.frame.DataFrame'>\n",
      "RangeIndex: 90751 entries, 0 to 90750\n",
      "Data columns (total 6 columns):\n",
      " #   Column   Non-Null Count  Dtype \n",
      "---  ------   --------------  ----- \n",
      " 0   종목코드     90751 non-null  object\n",
      " 1   회사명      90751 non-null  object\n",
      " 2   업종       90751 non-null  int64 \n",
      " 3   업종명      90751 non-null  object\n",
      " 4   항목명      90751 non-null  object\n",
      " 5   당기 3분기말  82850 non-null  object\n",
      "dtypes: int64(1), object(5)\n",
      "memory usage: 4.2+ MB\n"
     ]
    }
   ],
   "source": [
    "df1.info()"
   ]
  },
  {
   "cell_type": "code",
   "execution_count": 67,
   "metadata": {},
   "outputs": [
    {
     "data": {
      "text/plain": [
       "종목코드          0\n",
       "회사명           0\n",
       "업종            0\n",
       "업종명           0\n",
       "항목명           0\n",
       "당기 3분기말    7901\n",
       "dtype: int64"
      ]
     },
     "execution_count": 67,
     "metadata": {},
     "output_type": "execute_result"
    }
   ],
   "source": [
    "df1.isna().sum()"
   ]
  },
  {
   "cell_type": "code",
   "execution_count": 68,
   "metadata": {},
   "outputs": [
    {
     "data": {
      "text/plain": [
       "(82850, 6)"
      ]
     },
     "execution_count": 68,
     "metadata": {},
     "output_type": "execute_result"
    }
   ],
   "source": [
    "df1.dropna(inplace=True)\n",
    "df1.shape"
   ]
  },
  {
   "cell_type": "markdown",
   "metadata": {},
   "source": [
    "- 전처리"
   ]
  },
  {
   "cell_type": "code",
   "execution_count": 69,
   "metadata": {},
   "outputs": [
    {
     "data": {
      "text/plain": [
       "1        060310\n",
       "2        060310\n",
       "3        060310\n",
       "4        060310\n",
       "5        060310\n",
       "          ...  \n",
       "90746    238490\n",
       "90747    238490\n",
       "90748    238490\n",
       "90749    238490\n",
       "90750    238490\n",
       "Name: 종목코드, Length: 82850, dtype: object"
      ]
     },
     "execution_count": 69,
     "metadata": {},
     "output_type": "execute_result"
    }
   ],
   "source": [
    "# 종목코드\n",
    "df1[\"종목코드\"] = df1[\"종목코드\"].str.replace(\"[\", \"\")\n",
    "df1[\"종목코드\"] = df1[\"종목코드\"].str.replace(\"]\", \"\")\n",
    "df1[\"종목코드\"]"
   ]
  },
  {
   "cell_type": "code",
   "execution_count": 70,
   "metadata": {},
   "outputs": [
    {
     "data": {
      "text/plain": [
       "1         16991946452\n",
       "2          1439377941\n",
       "3            55366850\n",
       "4          6609815861\n",
       "5          2933775293\n",
       "             ...     \n",
       "90746     18979117110\n",
       "90747     -1002349479\n",
       "90748     58123179461\n",
       "90749     81756065092\n",
       "90750    104382409753\n",
       "Name: 당기 3분기말, Length: 82850, dtype: int64"
      ]
     },
     "execution_count": 70,
     "metadata": {},
     "output_type": "execute_result"
    }
   ],
   "source": [
    "# 당기 3분기말\n",
    "df1[\"당기 3분기말\"] = df1[\"당기 3분기말\"].apply(lambda x: int(x.replace(\",\",\"\")))\n",
    "df1[\"당기 3분기말\"]"
   ]
  },
  {
   "cell_type": "code",
   "execution_count": 71,
   "metadata": {},
   "outputs": [],
   "source": [
    "# 항목명: 이익잉여금\n",
    "df1[\"항목명\"] = df1[\"항목명\"].apply(lambda x: x.replace(\"(결손금)\", \"\"))\n",
    "df1[\"항목명\"] = df1[\"항목명\"].apply(lambda x: x.replace(\"결손금\", \"이익잉여금\"))"
   ]
  },
  {
   "cell_type": "code",
   "execution_count": 72,
   "metadata": {},
   "outputs": [],
   "source": [
    "# 항목명: 자본총계, 자산총계, 부채총계\n",
    "df1[\"항목명\"] = df1[\"항목명\"].apply(lambda x: x.replace(\" \",\"\"))"
   ]
  },
  {
   "cell_type": "code",
   "execution_count": 73,
   "metadata": {},
   "outputs": [
    {
     "data": {
      "text/plain": [
       "(16308, 6)"
      ]
     },
     "execution_count": 73,
     "metadata": {},
     "output_type": "execute_result"
    }
   ],
   "source": [
    "df1 = df1[df1[\"항목명\"].isin([\"유동자산\", \"재고자산\", \"자산총계\", \"유동부채\", \"부채총계\", \"자본금\", \"이익잉여금\", \"자본총계\"])]\n",
    "df1.shape"
   ]
  },
  {
   "cell_type": "code",
   "execution_count": 74,
   "metadata": {},
   "outputs": [
    {
     "name": "stdout",
     "output_type": "stream",
     "text": [
      "<class 'pandas.core.frame.DataFrame'>\n",
      "Int64Index: 16308 entries, 1 to 90749\n",
      "Data columns (total 6 columns):\n",
      " #   Column   Non-Null Count  Dtype \n",
      "---  ------   --------------  ----- \n",
      " 0   종목코드     16308 non-null  object\n",
      " 1   회사명      16308 non-null  object\n",
      " 2   업종       16308 non-null  int64 \n",
      " 3   업종명      16308 non-null  object\n",
      " 4   항목명      16308 non-null  object\n",
      " 5   당기 3분기말  16308 non-null  int64 \n",
      "dtypes: int64(2), object(4)\n",
      "memory usage: 891.8+ KB\n"
     ]
    }
   ],
   "source": [
    "df1.info()"
   ]
  },
  {
   "cell_type": "code",
   "execution_count": 75,
   "metadata": {},
   "outputs": [
    {
     "data": {
      "text/html": [
       "<div>\n",
       "<style scoped>\n",
       "    .dataframe tbody tr th:only-of-type {\n",
       "        vertical-align: middle;\n",
       "    }\n",
       "\n",
       "    .dataframe tbody tr th {\n",
       "        vertical-align: top;\n",
       "    }\n",
       "\n",
       "    .dataframe thead th {\n",
       "        text-align: right;\n",
       "    }\n",
       "</style>\n",
       "<table border=\"1\" class=\"dataframe\">\n",
       "  <thead>\n",
       "    <tr style=\"text-align: right;\">\n",
       "      <th></th>\n",
       "      <th>종목코드</th>\n",
       "      <th>회사명</th>\n",
       "      <th>업종</th>\n",
       "      <th>업종명</th>\n",
       "      <th>항목명</th>\n",
       "      <th>당기 3분기말</th>\n",
       "    </tr>\n",
       "  </thead>\n",
       "  <tbody>\n",
       "    <tr>\n",
       "      <th>1</th>\n",
       "      <td>060310</td>\n",
       "      <td>3S</td>\n",
       "      <td>292</td>\n",
       "      <td>특수 목적용 기계 제조업</td>\n",
       "      <td>유동자산</td>\n",
       "      <td>16991946452</td>\n",
       "    </tr>\n",
       "    <tr>\n",
       "      <th>6</th>\n",
       "      <td>060310</td>\n",
       "      <td>3S</td>\n",
       "      <td>292</td>\n",
       "      <td>특수 목적용 기계 제조업</td>\n",
       "      <td>재고자산</td>\n",
       "      <td>1295337163</td>\n",
       "    </tr>\n",
       "    <tr>\n",
       "      <th>19</th>\n",
       "      <td>060310</td>\n",
       "      <td>3S</td>\n",
       "      <td>292</td>\n",
       "      <td>특수 목적용 기계 제조업</td>\n",
       "      <td>자산총계</td>\n",
       "      <td>50319737982</td>\n",
       "    </tr>\n",
       "    <tr>\n",
       "      <th>21</th>\n",
       "      <td>060310</td>\n",
       "      <td>3S</td>\n",
       "      <td>292</td>\n",
       "      <td>특수 목적용 기계 제조업</td>\n",
       "      <td>유동부채</td>\n",
       "      <td>16292930635</td>\n",
       "    </tr>\n",
       "    <tr>\n",
       "      <th>32</th>\n",
       "      <td>060310</td>\n",
       "      <td>3S</td>\n",
       "      <td>292</td>\n",
       "      <td>특수 목적용 기계 제조업</td>\n",
       "      <td>부채총계</td>\n",
       "      <td>18963710964</td>\n",
       "    </tr>\n",
       "  </tbody>\n",
       "</table>\n",
       "</div>"
      ],
      "text/plain": [
       "      종목코드 회사명   업종            업종명   항목명      당기 3분기말\n",
       "1   060310  3S  292  특수 목적용 기계 제조업  유동자산  16991946452\n",
       "6   060310  3S  292  특수 목적용 기계 제조업  재고자산   1295337163\n",
       "19  060310  3S  292  특수 목적용 기계 제조업  자산총계  50319737982\n",
       "21  060310  3S  292  특수 목적용 기계 제조업  유동부채  16292930635\n",
       "32  060310  3S  292  특수 목적용 기계 제조업  부채총계  18963710964"
      ]
     },
     "execution_count": 75,
     "metadata": {},
     "output_type": "execute_result"
    }
   ],
   "source": [
    "df1.head()"
   ]
  },
  {
   "cell_type": "code",
   "execution_count": 77,
   "metadata": {},
   "outputs": [],
   "source": [
    "df1.to_excel(\"2020_3분기보고서_01_재무상태표_20211102.xlsx\")"
   ]
  },
  {
   "cell_type": "code",
   "execution_count": null,
   "metadata": {},
   "outputs": [],
   "source": []
  }
 ],
 "metadata": {
  "interpreter": {
   "hash": "b3ba2566441a7c06988d0923437866b63cedc61552a5af99d1f4fb67d367b25f"
  },
  "kernelspec": {
   "display_name": "Python 3.8.8 ('base')",
   "language": "python",
   "name": "python3"
  },
  "language_info": {
   "codemirror_mode": {
    "name": "ipython",
    "version": 3
   },
   "file_extension": ".py",
   "mimetype": "text/x-python",
   "name": "python",
   "nbconvert_exporter": "python",
   "pygments_lexer": "ipython3",
   "version": "3.8.8"
  },
  "orig_nbformat": 4
 },
 "nbformat": 4,
 "nbformat_minor": 2
}
